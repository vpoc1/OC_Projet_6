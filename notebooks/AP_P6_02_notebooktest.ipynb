{
  "nbformat": 4,
  "nbformat_minor": 0,
  "metadata": {
    "colab": {
      "name": "P6_02_notebooktest.ipynb",
      "provenance": [],
      "collapsed_sections": [],
      "toc_visible": true,
      "machine_shape": "hm"
    },
    "kernelspec": {
      "name": "python3",
      "display_name": "Python 3"
    },
    "accelerator": "TPU"
  },
  "cells": [
    {
      "cell_type": "markdown",
      "metadata": {
        "id": "VKZHksROrGHi"
      },
      "source": [
        "Installation du package pyLDAvis"
      ]
    },
    {
      "cell_type": "code",
      "metadata": {
        "colab": {
          "base_uri": "https://localhost:8080/"
        },
        "id": "Rg4PMajHnwVj",
        "outputId": "2ec0e314-7cfe-4b14-fa0a-f62b5528ddcd"
      },
      "source": [
        "# import os, sys\n",
        "# from google.colab import drive\n",
        "# drive.mount('/content/drive')\n",
        "# nb_path = '/content/notebooks'\n",
        "# os.symlink('/content/drive/My Drive/Colab Notebooks/pyldavis', nb_path)\n",
        "# sys.path.insert(0,nb_path)"
      ],
      "execution_count": null,
      "outputs": [
        {
          "output_type": "stream",
          "text": [
            "Mounted at /content/drive\n"
          ],
          "name": "stdout"
        }
      ]
    },
    {
      "cell_type": "code",
      "metadata": {
        "colab": {
          "base_uri": "https://localhost:8080/",
          "height": 1000
        },
        "id": "zwcCEfYmsq-H",
        "outputId": "2b4db898-6215-45f7-b005-ea6fe0b2976b"
      },
      "source": [
        "# !pip install --target=$nb_path pyldavis"
      ],
      "execution_count": null,
      "outputs": [
        {
          "output_type": "stream",
          "text": [
            "Collecting pyldavis\n",
            "\u001b[?25l  Downloading https://files.pythonhosted.org/packages/03/a5/15a0da6b0150b8b68610cc78af80364a80a9a4c8b6dd5ee549b8989d4b60/pyLDAvis-3.3.1.tar.gz (1.7MB)\n",
            "\u001b[K     |████████████████████████████████| 1.7MB 6.2MB/s \n",
            "\u001b[?25h  Installing build dependencies ... \u001b[?25l\u001b[?25hdone\n",
            "  Getting requirements to build wheel ... \u001b[?25l\u001b[?25hdone\n",
            "  Installing backend dependencies ... \u001b[?25l\u001b[?25hdone\n",
            "    Preparing wheel metadata ... \u001b[?25l\u001b[?25hdone\n",
            "Collecting numexpr\n",
            "\u001b[?25l  Downloading https://files.pythonhosted.org/packages/8d/37/851139d750ed1d88754ff0f69b7bcf83e8a6464207007a9b4a54942302d4/numexpr-2.7.3-cp37-cp37m-manylinux2010_x86_64.whl (471kB)\n",
            "\u001b[K     |████████████████████████████████| 481kB 39.9MB/s \n",
            "\u001b[?25hCollecting gensim\n",
            "\u001b[?25l  Downloading https://files.pythonhosted.org/packages/44/52/f1417772965652d4ca6f901515debcd9d6c5430969e8c02ee7737e6de61c/gensim-4.0.1-cp37-cp37m-manylinux1_x86_64.whl (23.9MB)\n",
            "\u001b[K     |████████████████████████████████| 23.9MB 1.7MB/s \n",
            "\u001b[?25hCollecting scipy\n",
            "\u001b[?25l  Downloading https://files.pythonhosted.org/packages/7d/e8/43ffca541d2f208d516296950b25fe1084b35c2881f4d444c1346ca75815/scipy-1.6.3-cp37-cp37m-manylinux1_x86_64.whl (27.4MB)\n",
            "\u001b[K     |████████████████████████████████| 27.4MB 146kB/s \n",
            "\u001b[?25hCollecting jinja2\n",
            "\u001b[?25l  Downloading https://files.pythonhosted.org/packages/7e/c2/1eece8c95ddbc9b1aeb64f5783a9e07a286de42191b7204d67b7496ddf35/Jinja2-2.11.3-py2.py3-none-any.whl (125kB)\n",
            "\u001b[K     |████████████████████████████████| 133kB 47.4MB/s \n",
            "\u001b[?25hCollecting numpy>=1.20.0\n",
            "\u001b[?25l  Downloading https://files.pythonhosted.org/packages/73/ef/8967d406f3f85018ceb5efab50431e901683188f1741ceb053efcab26c87/numpy-1.20.2-cp37-cp37m-manylinux2010_x86_64.whl (15.3MB)\n",
            "\u001b[K     |████████████████████████████████| 15.3MB 46.9MB/s \n",
            "\u001b[?25hCollecting future\n",
            "\u001b[?25l  Downloading https://files.pythonhosted.org/packages/45/0b/38b06fd9b92dc2b68d58b75f900e97884c45bedd2ff83203d933cf5851c9/future-0.18.2.tar.gz (829kB)\n",
            "\u001b[K     |████████████████████████████████| 829kB 38.1MB/s \n",
            "\u001b[?25hCollecting sklearn\n",
            "  Downloading https://files.pythonhosted.org/packages/1e/7a/dbb3be0ce9bd5c8b7e3d87328e79063f8b263b2b1bfa4774cb1147bfcd3f/sklearn-0.0.tar.gz\n",
            "Collecting joblib\n",
            "\u001b[?25l  Downloading https://files.pythonhosted.org/packages/55/85/70c6602b078bd9e6f3da4f467047e906525c355a4dacd4f71b97a35d9897/joblib-1.0.1-py3-none-any.whl (303kB)\n",
            "\u001b[K     |████████████████████████████████| 307kB 41.6MB/s \n",
            "\u001b[?25hCollecting pandas>=1.2.0\n",
            "\u001b[?25l  Downloading https://files.pythonhosted.org/packages/51/51/48f3fc47c4e2144da2806dfb6629c4dd1fa3d5a143f9652b141e979a8ca9/pandas-1.2.4-cp37-cp37m-manylinux1_x86_64.whl (9.9MB)\n",
            "\u001b[K     |████████████████████████████████| 9.9MB 37.1MB/s \n",
            "\u001b[?25hCollecting setuptools\n",
            "  Using cached https://files.pythonhosted.org/packages/ae/42/2876a3a136f8bfa9bd703518441c8db78ff1eeaddf174baa85c083c1fd15/setuptools-56.0.0-py3-none-any.whl\n",
            "Collecting scikit-learn\n",
            "\u001b[?25l  Downloading https://files.pythonhosted.org/packages/a8/eb/a48f25c967526b66d5f1fa7a984594f0bf0a5afafa94a8c4dbc317744620/scikit_learn-0.24.2-cp37-cp37m-manylinux2010_x86_64.whl (22.3MB)\n",
            "\u001b[K     |████████████████████████████████| 22.3MB 1.5MB/s \n",
            "\u001b[?25hCollecting funcy\n",
            "  Downloading https://files.pythonhosted.org/packages/66/89/479de0afbbfb98d1c4b887936808764627300208bb771fcd823403645a36/funcy-1.15-py2.py3-none-any.whl\n",
            "Collecting smart-open>=1.8.1\n",
            "\u001b[?25l  Downloading https://files.pythonhosted.org/packages/2f/36/5f7cdd039b2a49636aa098145a3f233601d4580805ccf19819743bd7dad1/smart_open-5.0.0-py3-none-any.whl (56kB)\n",
            "\u001b[K     |████████████████████████████████| 61kB 5.2MB/s \n",
            "\u001b[?25hCollecting MarkupSafe>=0.23\n",
            "  Downloading https://files.pythonhosted.org/packages/c2/37/2e4def8ce3739a258998215df907f5815ecd1af71e62147f5eea2d12d4e8/MarkupSafe-1.1.1-cp37-cp37m-manylinux2010_x86_64.whl\n",
            "Collecting python-dateutil>=2.7.3\n",
            "\u001b[?25l  Downloading https://files.pythonhosted.org/packages/d4/70/d60450c3dd48ef87586924207ae8907090de0b306af2bce5d134d78615cb/python_dateutil-2.8.1-py2.py3-none-any.whl (227kB)\n",
            "\u001b[K     |████████████████████████████████| 235kB 42.4MB/s \n",
            "\u001b[?25hCollecting pytz>=2017.3\n",
            "\u001b[?25l  Downloading https://files.pythonhosted.org/packages/70/94/784178ca5dd892a98f113cdd923372024dc04b8d40abe77ca76b5fb90ca6/pytz-2021.1-py2.py3-none-any.whl (510kB)\n",
            "\u001b[K     |████████████████████████████████| 512kB 41.1MB/s \n",
            "\u001b[?25hCollecting threadpoolctl>=2.0.0\n",
            "  Downloading https://files.pythonhosted.org/packages/f7/12/ec3f2e203afa394a149911729357aa48affc59c20e2c1c8297a60f33f133/threadpoolctl-2.1.0-py3-none-any.whl\n",
            "Collecting six>=1.5\n",
            "  Downloading https://files.pythonhosted.org/packages/ee/ff/48bde5c0f013094d729fe4b0316ba2a24774b3ff1c52d924a8a4cb04078a/six-1.15.0-py2.py3-none-any.whl\n",
            "Building wheels for collected packages: pyldavis\n",
            "  Building wheel for pyldavis (PEP 517) ... \u001b[?25l\u001b[?25hdone\n",
            "  Created wheel for pyldavis: filename=pyLDAvis-3.3.1-cp37-none-any.whl size=136870 sha256=e7784387548e7cfca9d49e04e27af63da4fb170c908b1774e355e2fe152daf2c\n",
            "  Stored in directory: /root/.cache/pip/wheels/a0/9c/fc/c6e00689d35c82cf96a8adc70edfe7ba7904374fdac3240ac2\n",
            "Successfully built pyldavis\n",
            "Building wheels for collected packages: future, sklearn\n",
            "  Building wheel for future (setup.py) ... \u001b[?25l\u001b[?25hdone\n",
            "  Created wheel for future: filename=future-0.18.2-cp37-none-any.whl size=491058 sha256=97fe9bfa47532ca7ed353e94f9061728a81ab5b974eac3bf27d610761811b23c\n",
            "  Stored in directory: /root/.cache/pip/wheels/8b/99/a0/81daf51dcd359a9377b110a8a886b3895921802d2fc1b2397e\n",
            "  Building wheel for sklearn (setup.py) ... \u001b[?25l\u001b[?25hdone\n",
            "  Created wheel for sklearn: filename=sklearn-0.0-py2.py3-none-any.whl size=1316 sha256=d8df2ab92186d818249b08e58d0e847adce93f1b7f63b57d26a21c946a5b6ae5\n",
            "  Stored in directory: /root/.cache/pip/wheels/76/03/bb/589d421d27431bcd2c6da284d5f2286c8e3b2ea3cf1594c074\n",
            "Successfully built future sklearn\n",
            "\u001b[31mERROR: tensorflow 2.4.1 has requirement numpy~=1.19.2, but you'll have numpy 1.20.2 which is incompatible.\u001b[0m\n",
            "\u001b[31mERROR: google-colab 1.0.0 has requirement pandas~=1.1.0; python_version >= \"3.0\", but you'll have pandas 1.2.4 which is incompatible.\u001b[0m\n",
            "\u001b[31mERROR: datascience 0.10.6 has requirement folium==0.2.1, but you'll have folium 0.8.3 which is incompatible.\u001b[0m\n",
            "\u001b[31mERROR: albumentations 0.1.12 has requirement imgaug<0.2.7,>=0.2.5, but you'll have imgaug 0.2.9 which is incompatible.\u001b[0m\n",
            "Installing collected packages: numpy, numexpr, smart-open, scipy, gensim, MarkupSafe, jinja2, future, joblib, threadpoolctl, scikit-learn, sklearn, six, python-dateutil, pytz, pandas, setuptools, funcy, pyldavis\n",
            "Successfully installed MarkupSafe-1.1.1 funcy-1.15 future-0.18.2 gensim-4.0.1 jinja2-2.11.3 joblib-1.0.1 numexpr-2.7.3 numpy-1.20.2 pandas-1.2.4 pyldavis-3.3.1 python-dateutil-2.8.1 pytz-2021.1 scikit-learn-0.24.2 scipy-1.6.3 setuptools-56.0.0 six-1.15.0 sklearn-0.0 smart-open-5.0.0 threadpoolctl-2.1.0\n"
          ],
          "name": "stdout"
        },
        {
          "output_type": "display_data",
          "data": {
            "application/vnd.colab-display-data+json": {
              "pip_warning": {
                "packages": [
                  "dateutil",
                  "pkg_resources",
                  "six"
                ]
              }
            }
          },
          "metadata": {
            "tags": []
          }
        }
      ]
    },
    {
      "cell_type": "markdown",
      "metadata": {
        "id": "VHO0AajsuGSS"
      },
      "source": [
        "#Import des modules"
      ]
    },
    {
      "cell_type": "code",
      "metadata": {
        "id": "fYG2zpzvuAiV",
        "colab": {
          "base_uri": "https://localhost:8080/"
        },
        "outputId": "2eed8f84-8b01-4daa-8377-77218fc0f92d"
      },
      "source": [
        "from google.colab import drive\n",
        "drive.mount('/content/drive')"
      ],
      "execution_count": 3,
      "outputs": [
        {
          "output_type": "stream",
          "text": [
            "Mounted at /content/drive\n"
          ],
          "name": "stdout"
        }
      ]
    },
    {
      "cell_type": "code",
      "metadata": {
        "id": "UgTTYDPPqnFc"
      },
      "source": [
        "import sys\n",
        "sys.path.append('/content/drive/My Drive/Colab Notebooks/pyldavis/')"
      ],
      "execution_count": 4,
      "outputs": []
    },
    {
      "cell_type": "code",
      "metadata": {
        "id": "eRevUWd4fr8s",
        "colab": {
          "base_uri": "https://localhost:8080/"
        },
        "outputId": "e584731d-db45-4eb4-9ba9-04d653eaa7ee"
      },
      "source": [
        "import pandas as pd\n",
        "import numpy as np\n",
        "import matplotlib.pyplot as plt\n",
        "%matplotlib inline\n",
        "import seaborn as sns\n",
        "import missingno as msno\n",
        "\n",
        "import re\n",
        "from bs4 import BeautifulSoup\n",
        "from nltk.corpus import stopwords\n",
        "from nltk.stem import WordNetLemmatizer \n",
        "\n",
        "import spacy\n",
        "from sklearn.feature_extraction.text import TfidfVectorizer\n",
        "from sklearn.feature_extraction.text import CountVectorizer\n",
        "from sklearn.feature_extraction.text import TfidfTransformer\n",
        "\n",
        "from sklearn.model_selection import train_test_split\n",
        "\n",
        "import gensim\n",
        "import gensim.corpora as corpora\n",
        "from gensim.models import CoherenceModel\n",
        "import pyLDAvis\n",
        "import pyLDAvis.gensim_models as gensimvis\n",
        "from pprint import pprint\n",
        "\n",
        "from sklearn.decomposition import PCA\n",
        "from sklearn.decomposition import LatentDirichletAllocation\n",
        "from sklearn.ensemble import RandomForestClassifier\n",
        "from sklearn.linear_model import LogisticRegression\n",
        "import xgboost as xgb\n",
        "\n",
        "from sklearn.model_selection import GridSearchCV\n",
        "from sklearn.model_selection import RandomizedSearchCV\n",
        "\n",
        "from sklearn import metrics\n",
        "from sklearn.model_selection import cross_validate\n",
        "from sklearn.metrics import jaccard_score\n",
        "from sklearn.metrics import hamming_loss\n",
        "from sklearn.metrics import f1_score\n",
        "\n",
        "from sklearn.preprocessing import MultiLabelBinarizer\n",
        "from sklearn.multiclass import OneVsRestClassifier\n",
        "from sklearn.metrics import classification_report, confusion_matrix\n",
        "from sklearn import model_selection\n",
        "\n",
        "import warnings\n",
        "warnings.filterwarnings('ignore')\n",
        "\n",
        "import pickle"
      ],
      "execution_count": 5,
      "outputs": [
        {
          "output_type": "stream",
          "text": [
            "/usr/local/lib/python3.7/dist-packages/past/types/oldstr.py:5: DeprecationWarning: Using or importing the ABCs from 'collections' instead of from 'collections.abc' is deprecated since Python 3.3,and in 3.9 it will stop working\n",
            "  from collections import Iterable\n"
          ],
          "name": "stderr"
        }
      ]
    },
    {
      "cell_type": "markdown",
      "metadata": {
        "id": "tukD466G_kjp"
      },
      "source": [
        "\n",
        "# Import de la base de données"
      ]
    },
    {
      "cell_type": "code",
      "metadata": {
        "id": "OSq94tmrgg7j"
      },
      "source": [
        "df = pd.read_csv('/content/drive/My Drive/Colab Notebooks/Projet 6/df_clean.csv', sep = ',', error_bad_lines = False, low_memory = True)"
      ],
      "execution_count": null,
      "outputs": []
    },
    {
      "cell_type": "code",
      "metadata": {
        "colab": {
          "base_uri": "https://localhost:8080/"
        },
        "id": "HU6m6vaIiD_N",
        "outputId": "9255018d-1ab7-4fe1-8521-4bfa0924041f"
      },
      "source": [
        "df.shape"
      ],
      "execution_count": null,
      "outputs": [
        {
          "output_type": "execute_result",
          "data": {
            "text/plain": [
              "(168931, 4)"
            ]
          },
          "metadata": {
            "tags": []
          },
          "execution_count": 5
        }
      ]
    },
    {
      "cell_type": "markdown",
      "metadata": {
        "id": "v0OCJIKcj_x_"
      },
      "source": [
        "# Feature Engineering"
      ]
    },
    {
      "cell_type": "markdown",
      "metadata": {
        "id": "ivz_W8VFkCVO"
      },
      "source": [
        "## Variable Body + Title"
      ]
    },
    {
      "cell_type": "code",
      "metadata": {
        "id": "Lwy7z89mkFi0"
      },
      "source": [
        "df['Body_Title'] = df['Body_2'] + df['Title_2']"
      ],
      "execution_count": null,
      "outputs": []
    },
    {
      "cell_type": "code",
      "metadata": {
        "id": "GHQI0offePgp"
      },
      "source": [
        "X = df[['Body_2','Title_2', 'Body_Title']]"
      ],
      "execution_count": null,
      "outputs": []
    },
    {
      "cell_type": "code",
      "metadata": {
        "id": "hgxqkowpePgt"
      },
      "source": [
        "y = df['Tags_2']"
      ],
      "execution_count": null,
      "outputs": []
    },
    {
      "cell_type": "markdown",
      "metadata": {
        "id": "yB-sAXeqkO75"
      },
      "source": [
        "# Train Test Split"
      ]
    },
    {
      "cell_type": "code",
      "metadata": {
        "id": "CdARFAJKiNwP"
      },
      "source": [
        "X_train, X_test, y_train, y_test = train_test_split(X, y, test_size = 0.2, train_size = 0.8, random_state = 42)"
      ],
      "execution_count": null,
      "outputs": []
    },
    {
      "cell_type": "code",
      "metadata": {
        "colab": {
          "base_uri": "https://localhost:8080/"
        },
        "id": "_uyN3NBxynml",
        "outputId": "6801cf24-5ece-47dd-f17a-1ff9d1dce8bb"
      },
      "source": [
        "X_train.shape, X_test.shape, y_train.shape, y_test.shape"
      ],
      "execution_count": null,
      "outputs": [
        {
          "output_type": "execute_result",
          "data": {
            "text/plain": [
              "((135144, 3), (33787, 3), (135144,), (33787,))"
            ]
          },
          "metadata": {
            "tags": []
          },
          "execution_count": 10
        }
      ]
    },
    {
      "cell_type": "code",
      "metadata": {
        "id": "TYkNuJgH3B8Z"
      },
      "source": [
        "X_train_5, X_test_5, y_train_5, y_test_5 = train_test_split(X_train, y_train, test_size = 0.95, random_state = 42)"
      ],
      "execution_count": null,
      "outputs": []
    },
    {
      "cell_type": "code",
      "metadata": {
        "colab": {
          "base_uri": "https://localhost:8080/"
        },
        "id": "46B6eCq42EA8",
        "outputId": "38a89184-ea31-4560-e23d-61b6aa9687c1"
      },
      "source": [
        "X_train_5.shape"
      ],
      "execution_count": null,
      "outputs": [
        {
          "output_type": "execute_result",
          "data": {
            "text/plain": [
              "(6757, 3)"
            ]
          },
          "metadata": {
            "tags": []
          },
          "execution_count": 12
        }
      ]
    },
    {
      "cell_type": "code",
      "metadata": {
        "id": "Rzv6_DBxRmuu"
      },
      "source": [
        "# X_train_5.to_csv('X_train_5_LDA.csv', index = False)\n",
        "# !cp X_train_5_LDA.csv \"/content/drive/My Drive/Colab Notebooks/Projet 6/files/LDA/\""
      ],
      "execution_count": null,
      "outputs": []
    },
    {
      "cell_type": "markdown",
      "metadata": {
        "id": "dy76gUipxBGX"
      },
      "source": [
        "#1/ Approche non supervisée :\n",
        "\n"
      ]
    },
    {
      "cell_type": "markdown",
      "metadata": {
        "id": "YzPSwvs_kVFn"
      },
      "source": [
        "#-LDA"
      ]
    },
    {
      "cell_type": "markdown",
      "metadata": {
        "id": "AzDtfrbXmtc4"
      },
      "source": [
        "##Création des corpus et dictionnaires pour la modélisation"
      ]
    },
    {
      "cell_type": "code",
      "metadata": {
        "id": "LQX4nQvpaoVt"
      },
      "source": [
        "X_train_5 = pd.read_csv('/content/drive/My Drive/Colab Notebooks/Projet 6/files/LDA/X_train_5_LDA.csv', sep = ',', error_bad_lines = False, low_memory = True)"
      ],
      "execution_count": null,
      "outputs": []
    },
    {
      "cell_type": "code",
      "metadata": {
        "id": "BQ2T7OjtaB7R"
      },
      "source": [
        "corpus_title = X_train_5.Title_2.apply(lambda x: x.split())\n",
        "corpus_body = X_train_5.Body_2.apply(lambda x: x.split())\n",
        "corpus_merged = X_train_5.Body_Title.apply(lambda x: x.split())\n",
        "text_title = X_train_5.Title_2.apply(lambda x: x.split())\n",
        "text_body = X_train_5.Body_2.apply(lambda x: x.split())\n",
        "text_merged = X_train_5.Body_Title.apply(lambda x: x.split())"
      ],
      "execution_count": null,
      "outputs": []
    },
    {
      "cell_type": "code",
      "metadata": {
        "colab": {
          "base_uri": "https://localhost:8080/"
        },
        "id": "aYdpuRD6lmyX",
        "outputId": "0db3a206-f20f-4148-9369-998c55565298"
      },
      "source": [
        "%%time\n",
        "# Create Dictionary\n",
        "id2word_title = corpora.Dictionary(corpus_title)\n",
        "id2word_body = corpora.Dictionary(corpus_body)\n",
        "id2word_merged = corpora.Dictionary(corpus_merged)\n",
        "\n",
        "# Create Corpus\n",
        "texts_title = corpus_title\n",
        "texts_body = corpus_body\n",
        "texts_merged = corpus_merged\n",
        "\n",
        "# Term Document Frequency\n",
        "corpus_title = [id2word_title.doc2bow(text) for text in texts_title]\n",
        "corpus_body = [id2word_body.doc2bow(text) for text in texts_body]\n",
        "corpus_merged = [id2word_merged.doc2bow(text) for text in texts_merged]\n",
        "\n",
        "# View\n",
        "print(corpus_title[:1], corpus_body[:1], corpus_merged[:1])"
      ],
      "execution_count": null,
      "outputs": [
        {
          "output_type": "stream",
          "text": [
            "[[(0, 1), (1, 1), (2, 1), (3, 2), (4, 1), (5, 1)]] [[(0, 1), (1, 3), (2, 2), (3, 1), (4, 2), (5, 1), (6, 1), (7, 1), (8, 3), (9, 4), (10, 2), (11, 2), (12, 1), (13, 1), (14, 1), (15, 1), (16, 1), (17, 2), (18, 1), (19, 1), (20, 3), (21, 4), (22, 2), (23, 1), (24, 1), (25, 2)]] [[(0, 2), (1, 3), (2, 2), (3, 1), (4, 2), (5, 1), (6, 2), (7, 1), (8, 2), (9, 1), (10, 4), (11, 4), (12, 2), (13, 1), (14, 1), (15, 1), (16, 1), (17, 1), (18, 2), (19, 1), (20, 1), (21, 3), (22, 5), (23, 3), (24, 1), (25, 1), (26, 2)]]\n",
            "CPU times: user 890 ms, sys: 15.7 ms, total: 905 ms\n",
            "Wall time: 899 ms\n"
          ],
          "name": "stdout"
        }
      ]
    },
    {
      "cell_type": "code",
      "metadata": {
        "colab": {
          "base_uri": "https://localhost:8080/"
        },
        "id": "2sDZPMYelyci",
        "outputId": "82460160-1072-419c-eceb-dd18134c2fe8"
      },
      "source": [
        "[[(id2word_title[id], freq) for id, freq in cp] for cp in corpus_title[:2]]"
      ],
      "execution_count": null,
      "outputs": [
        {
          "output_type": "execute_result",
          "data": {
            "text/plain": [
              "[[('app', 1),\n",
              "  ('django', 1),\n",
              "  ('field', 1),\n",
              "  ('many', 2),\n",
              "  ('table', 1),\n",
              "  ('three', 1)],\n",
              " [('chrome', 1),\n",
              "  ('devtoolsactiveport', 1),\n",
              "  ('doesnt', 1),\n",
              "  ('error', 1),\n",
              "  ('exist', 1),\n",
              "  ('python', 1),\n",
              "  ('rasberrypie', 1)]]"
            ]
          },
          "metadata": {
            "tags": []
          },
          "execution_count": 90
        }
      ]
    },
    {
      "cell_type": "markdown",
      "metadata": {
        "id": "uG7ua2_woLNx"
      },
      "source": [
        "##Détermination du meilleur nombre de topics (via le coherence score)"
      ]
    },
    {
      "cell_type": "code",
      "metadata": {
        "id": "XrlI-VOqn5Xr"
      },
      "source": [
        "def compute_coherence_values(dictionary, corpus, texts, id2word, limit, start = 2, step = 4):\n",
        "    coherence_values = []\n",
        "    model_list = []\n",
        "    nb_topics = []\n",
        "    for num_topics in range(start, limit, step):\n",
        "        model = gensim.models.ldamodel.LdaModel(corpus = corpus, num_topics = num_topics, id2word = id2word)\n",
        "        model_list.append(model)\n",
        "        coherencemodel = CoherenceModel(model = model, texts = texts, dictionary = dictionary, coherence = 'c_v')\n",
        "        coherence_values.append(coherencemodel.get_coherence())\n",
        "        nb_topics.append(num_topics)\n",
        "\n",
        "    return model_list, coherence_values, nb_topics"
      ],
      "execution_count": null,
      "outputs": []
    },
    {
      "cell_type": "code",
      "metadata": {
        "colab": {
          "base_uri": "https://localhost:8080/"
        },
        "id": "bv-Y7M_In5Zg",
        "outputId": "914487aa-af54-46f8-e57a-8995a8f1777f"
      },
      "source": [
        "%%time\n",
        "model_list_title, coherence_values_title, nb_topics = compute_coherence_values(dictionary = id2word_title, corpus = corpus_title, texts = text_title, start = 2, limit = 51, step = 4, id2word = id2word_title)\n",
        "score_title = pd.DataFrame(list(zip(nb_topics, coherence_values_title)), columns = ['Nb of topics', 'Coherence Score'])\n",
        "print(score_title.to_string(index = False))"
      ],
      "execution_count": null,
      "outputs": [
        {
          "output_type": "stream",
          "text": [
            " Nb of topics  Coherence Score\n",
            "            2         0.254716\n",
            "            6         0.327479\n",
            "           10         0.410840\n",
            "           14         0.455801\n",
            "           18         0.467207\n",
            "           22         0.495825\n",
            "           26         0.503325\n",
            "           30         0.518068\n",
            "           34         0.525172\n",
            "           38         0.529520\n",
            "           42         0.547862\n",
            "           46         0.540709\n",
            "           50         0.549014\n",
            "CPU times: user 48 s, sys: 1.04 s, total: 49.1 s\n",
            "Wall time: 47.7 s\n"
          ],
          "name": "stdout"
        }
      ]
    },
    {
      "cell_type": "code",
      "metadata": {
        "colab": {
          "base_uri": "https://localhost:8080/"
        },
        "id": "dEH2ZKg67mG4",
        "outputId": "9f2a2f73-84ed-43a2-92c8-0b9b0c55225d"
      },
      "source": [
        "%%time\n",
        "model_list_body, coherence_values_body, nb_topics = compute_coherence_values(dictionary = id2word_body, corpus = corpus_body, texts = text_body, start = 2, limit = 51, step = 4, id2word = id2word_body)\n",
        "score_body = pd.DataFrame(list(zip(nb_topics, coherence_values_body)), columns = ['Nb of topics', 'Coherence Score'])\n",
        "print(score_body.to_string(index = False))"
      ],
      "execution_count": null,
      "outputs": [
        {
          "output_type": "stream",
          "text": [
            " Nb of topics  Coherence Score\n",
            "            2         0.531028\n",
            "            6         0.449495\n",
            "           10         0.449009\n",
            "           14         0.456443\n",
            "           18         0.451757\n",
            "           22         0.432469\n",
            "           26         0.432469\n",
            "           30         0.402734\n",
            "           34         0.419954\n",
            "           38         0.414642\n",
            "           42         0.409962\n",
            "           46         0.406521\n",
            "           50         0.402129\n",
            "CPU times: user 1min 26s, sys: 1.53 s, total: 1min 27s\n",
            "Wall time: 1min 26s\n"
          ],
          "name": "stdout"
        }
      ]
    },
    {
      "cell_type": "code",
      "metadata": {
        "id": "xYGmt_1t7mrR",
        "colab": {
          "base_uri": "https://localhost:8080/"
        },
        "outputId": "a9202b10-0e2b-45a7-dd79-3c1669eab2f9"
      },
      "source": [
        "%%time\n",
        "model_list_merged, coherence_values_merged, nb_topics = compute_coherence_values(dictionary = id2word_merged, corpus = corpus_merged, texts = text_merged, start = 2, limit = 51, step = 4, id2word = id2word_merged)\n",
        "score_merged = pd.DataFrame(list(zip(nb_topics, coherence_values_merged)), columns = ['Nb of topics', 'Coherence Score'])\n",
        "print(score_merged.to_string(index = False))"
      ],
      "execution_count": null,
      "outputs": [
        {
          "output_type": "stream",
          "text": [
            " Nb of topics  Coherence Score\n",
            "            2         0.442685\n",
            "            6         0.480178\n",
            "           10         0.461215\n",
            "           14         0.464700\n",
            "           18         0.422783\n",
            "           22         0.424764\n",
            "           26         0.412756\n",
            "           30         0.404309\n",
            "           34         0.403433\n",
            "           38         0.397884\n",
            "           42         0.398847\n",
            "           46         0.401283\n",
            "           50         0.405257\n",
            "CPU times: user 1min 33s, sys: 1.74 s, total: 1min 35s\n",
            "Wall time: 1min 33s\n"
          ],
          "name": "stdout"
        }
      ]
    },
    {
      "cell_type": "code",
      "metadata": {
        "id": "Z1EPnKbCCuX6",
        "colab": {
          "base_uri": "https://localhost:8080/",
          "height": 638
        },
        "outputId": "760e36a9-6705-45f8-d05e-b83db3b742ef"
      },
      "source": [
        "limit = 51; start = 2; step = 4;\n",
        "x = range(start, limit, step)\n",
        "fig = plt.figure(figsize = (15, 10))\n",
        "plt.plot(x, coherence_values_merged, label = 'Body + Title')\n",
        "plt.plot(x, coherence_values_body, label = 'Body')\n",
        "plt.plot(x, coherence_values_title, label = 'Title')\n",
        "plt.title('Evolution du score de cohérence')\n",
        "plt.xlabel(\"Num Topics\")\n",
        "plt.ylabel(\"Coherence score\")\n",
        "plt.legend()\n",
        "plt.show()\n",
        "plt.savefig('/content/drive/My Drive/Slides/Projet 6/coherence_score.png')"
      ],
      "execution_count": null,
      "outputs": [
        {
          "output_type": "display_data",
          "data": {
            "image/png": "[encoded data removed]",
            "text/plain": [
              "<Figure size 1080x720 with 1 Axes>"
            ]
          },
          "metadata": {
            "tags": [],
            "needs_background": "light"
          }
        },
        {
          "output_type": "display_data",
          "data": {
            "text/plain": [
              "<Figure size 432x288 with 0 Axes>"
            ]
          },
          "metadata": {
            "tags": []
          }
        }
      ]
    },
    {
      "cell_type": "markdown",
      "metadata": {
        "id": "nlvGjwWP5SSe"
      },
      "source": [
        "Le meilleur coherence score (0.549014) est obtenu avec la variable 'Title' en utilisant 50 topics"
      ]
    },
    {
      "cell_type": "markdown",
      "metadata": {
        "id": "cXUX_aGm0hoa"
      },
      "source": [
        "##Optimisation des hyperparamètres"
      ]
    },
    {
      "cell_type": "code",
      "metadata": {
        "id": "f4K3EaxJUKty"
      },
      "source": [
        "# Initialisation du modèle avec la variable 'Title'\n",
        "def compute_coherence_values(corpus, dictionary, k, a, b):\n",
        "    \n",
        "    lda_model = gensim.models.ldamodel.LdaModel(corpus = corpus,\n",
        "                                           id2word = dictionary,\n",
        "                                           num_topics = k,\n",
        "                                           alpha = a,\n",
        "                                           eta = b)\n",
        "    \n",
        "    coherence_model_lda = CoherenceModel(model = lda_model, texts = text_title, dictionary = id2word_title, coherence = 'c_v')\n",
        "    \n",
        "    return coherence_model_lda.get_coherence()"
      ],
      "execution_count": null,
      "outputs": []
    },
    {
      "cell_type": "code",
      "metadata": {
        "colab": {
          "base_uri": "https://localhost:8080/"
        },
        "id": "WfGPnYnnS0n_",
        "outputId": "b98c311c-573d-4a31-f901-4b258936741d"
      },
      "source": [
        "%%time\n",
        "# Alpha\n",
        "alpha = list(np.arange(0.01, 1, 0.3))\n",
        "alpha.append('symmetric')\n",
        "alpha.append('asymmetric')\n",
        "# Beta\n",
        "beta = list(np.arange(0.01, 1, 0.3))\n",
        "beta.append('symmetric')\n",
        "\n",
        "model_results = {'Topics': [],\n",
        "                 'Alpha': [],\n",
        "                 'Beta': [],\n",
        "                 'Coherence': []\n",
        "                }\n",
        "\n",
        "if 1 == 1:\n",
        "  for k in [50] :\n",
        "    for a in alpha:\n",
        "      for b in beta:\n",
        "        cv = compute_coherence_values(corpus = corpus_title, dictionary = id2word_title, \n",
        "                                                  k = k, a = a, b = b)\n",
        "        # Sauvegarde des résultats\n",
        "        model_results['Topics'].append(k)\n",
        "        model_results['Alpha'].append(a)\n",
        "        model_results['Beta'].append(b)\n",
        "        model_results['Coherence'].append(cv)\n",
        "\n",
        "    results_df = pd.DataFrame(model_results)\n",
        "    pd.DataFrame(model_results).to_csv('lda_title_tuning.csv', index = False)\n",
        "    !cp lda_title_tuning.csv \"/content/drive/My Drive/Colab Notebooks/Projet 6/files/LDA/\""
      ],
      "execution_count": null,
      "outputs": [
        {
          "output_type": "stream",
          "text": [
            "CPU times: user 2min 20s, sys: 3.65 s, total: 2min 23s\n",
            "Wall time: 2min 18s\n"
          ],
          "name": "stdout"
        }
      ]
    },
    {
      "cell_type": "code",
      "metadata": {
        "id": "1Dz4XVOUvUUs"
      },
      "source": [
        "# results_df = pd.read_csv('/content/drive/My Drive/Colab Notebooks/Projet 6/lda_title_tuning.csv', sep = ',', error_bad_lines = False, low_memory = True)"
      ],
      "execution_count": null,
      "outputs": []
    },
    {
      "cell_type": "code",
      "metadata": {
        "colab": {
          "base_uri": "https://localhost:8080/",
          "height": 979
        },
        "id": "CMEagXXKcveA",
        "outputId": "c4727eba-4a79-4720-8c3f-3c526cc1f25a"
      },
      "source": [
        "results_df.sort_values(by = 'Coherence', ascending = False)"
      ],
      "execution_count": null,
      "outputs": [
        {
          "output_type": "execute_result",
          "data": {
            "text/html": [
              "<div>\n",
              "<style scoped>\n",
              "    .dataframe tbody tr th:only-of-type {\n",
              "        vertical-align: middle;\n",
              "    }\n",
              "\n",
              "    .dataframe tbody tr th {\n",
              "        vertical-align: top;\n",
              "    }\n",
              "\n",
              "    .dataframe thead th {\n",
              "        text-align: right;\n",
              "    }\n",
              "</style>\n",
              "<table border=\"1\" class=\"dataframe\">\n",
              "  <thead>\n",
              "    <tr style=\"text-align: right;\">\n",
              "      <th></th>\n",
              "      <th>Topics</th>\n",
              "      <th>Alpha</th>\n",
              "      <th>Beta</th>\n",
              "      <th>Coherence</th>\n",
              "    </tr>\n",
              "  </thead>\n",
              "  <tbody>\n",
              "    <tr>\n",
              "      <th>1</th>\n",
              "      <td>50</td>\n",
              "      <td>0.01</td>\n",
              "      <td>0.31</td>\n",
              "      <td>0.560761</td>\n",
              "    </tr>\n",
              "    <tr>\n",
              "      <th>10</th>\n",
              "      <td>50</td>\n",
              "      <td>0.61</td>\n",
              "      <td>0.01</td>\n",
              "      <td>0.560370</td>\n",
              "    </tr>\n",
              "    <tr>\n",
              "      <th>15</th>\n",
              "      <td>50</td>\n",
              "      <td>0.91</td>\n",
              "      <td>0.01</td>\n",
              "      <td>0.559906</td>\n",
              "    </tr>\n",
              "    <tr>\n",
              "      <th>14</th>\n",
              "      <td>50</td>\n",
              "      <td>0.61</td>\n",
              "      <td>symmetric</td>\n",
              "      <td>0.557705</td>\n",
              "    </tr>\n",
              "    <tr>\n",
              "      <th>21</th>\n",
              "      <td>50</td>\n",
              "      <td>symmetric</td>\n",
              "      <td>0.31</td>\n",
              "      <td>0.556696</td>\n",
              "    </tr>\n",
              "    <tr>\n",
              "      <th>9</th>\n",
              "      <td>50</td>\n",
              "      <td>0.31</td>\n",
              "      <td>symmetric</td>\n",
              "      <td>0.553878</td>\n",
              "    </tr>\n",
              "    <tr>\n",
              "      <th>20</th>\n",
              "      <td>50</td>\n",
              "      <td>symmetric</td>\n",
              "      <td>0.01</td>\n",
              "      <td>0.548920</td>\n",
              "    </tr>\n",
              "    <tr>\n",
              "      <th>24</th>\n",
              "      <td>50</td>\n",
              "      <td>symmetric</td>\n",
              "      <td>symmetric</td>\n",
              "      <td>0.544034</td>\n",
              "    </tr>\n",
              "    <tr>\n",
              "      <th>19</th>\n",
              "      <td>50</td>\n",
              "      <td>0.91</td>\n",
              "      <td>symmetric</td>\n",
              "      <td>0.540175</td>\n",
              "    </tr>\n",
              "    <tr>\n",
              "      <th>4</th>\n",
              "      <td>50</td>\n",
              "      <td>0.01</td>\n",
              "      <td>symmetric</td>\n",
              "      <td>0.539500</td>\n",
              "    </tr>\n",
              "    <tr>\n",
              "      <th>0</th>\n",
              "      <td>50</td>\n",
              "      <td>0.01</td>\n",
              "      <td>0.01</td>\n",
              "      <td>0.538390</td>\n",
              "    </tr>\n",
              "    <tr>\n",
              "      <th>5</th>\n",
              "      <td>50</td>\n",
              "      <td>0.31</td>\n",
              "      <td>0.01</td>\n",
              "      <td>0.536576</td>\n",
              "    </tr>\n",
              "    <tr>\n",
              "      <th>29</th>\n",
              "      <td>50</td>\n",
              "      <td>asymmetric</td>\n",
              "      <td>symmetric</td>\n",
              "      <td>0.530812</td>\n",
              "    </tr>\n",
              "    <tr>\n",
              "      <th>25</th>\n",
              "      <td>50</td>\n",
              "      <td>asymmetric</td>\n",
              "      <td>0.01</td>\n",
              "      <td>0.529359</td>\n",
              "    </tr>\n",
              "    <tr>\n",
              "      <th>22</th>\n",
              "      <td>50</td>\n",
              "      <td>symmetric</td>\n",
              "      <td>0.61</td>\n",
              "      <td>0.519801</td>\n",
              "    </tr>\n",
              "    <tr>\n",
              "      <th>2</th>\n",
              "      <td>50</td>\n",
              "      <td>0.01</td>\n",
              "      <td>0.61</td>\n",
              "      <td>0.515568</td>\n",
              "    </tr>\n",
              "    <tr>\n",
              "      <th>26</th>\n",
              "      <td>50</td>\n",
              "      <td>asymmetric</td>\n",
              "      <td>0.31</td>\n",
              "      <td>0.510056</td>\n",
              "    </tr>\n",
              "    <tr>\n",
              "      <th>23</th>\n",
              "      <td>50</td>\n",
              "      <td>symmetric</td>\n",
              "      <td>0.91</td>\n",
              "      <td>0.508297</td>\n",
              "    </tr>\n",
              "    <tr>\n",
              "      <th>27</th>\n",
              "      <td>50</td>\n",
              "      <td>asymmetric</td>\n",
              "      <td>0.61</td>\n",
              "      <td>0.493238</td>\n",
              "    </tr>\n",
              "    <tr>\n",
              "      <th>3</th>\n",
              "      <td>50</td>\n",
              "      <td>0.01</td>\n",
              "      <td>0.91</td>\n",
              "      <td>0.489768</td>\n",
              "    </tr>\n",
              "    <tr>\n",
              "      <th>6</th>\n",
              "      <td>50</td>\n",
              "      <td>0.31</td>\n",
              "      <td>0.31</td>\n",
              "      <td>0.484965</td>\n",
              "    </tr>\n",
              "    <tr>\n",
              "      <th>7</th>\n",
              "      <td>50</td>\n",
              "      <td>0.31</td>\n",
              "      <td>0.61</td>\n",
              "      <td>0.484357</td>\n",
              "    </tr>\n",
              "    <tr>\n",
              "      <th>28</th>\n",
              "      <td>50</td>\n",
              "      <td>asymmetric</td>\n",
              "      <td>0.91</td>\n",
              "      <td>0.457659</td>\n",
              "    </tr>\n",
              "    <tr>\n",
              "      <th>8</th>\n",
              "      <td>50</td>\n",
              "      <td>0.31</td>\n",
              "      <td>0.91</td>\n",
              "      <td>0.454483</td>\n",
              "    </tr>\n",
              "    <tr>\n",
              "      <th>13</th>\n",
              "      <td>50</td>\n",
              "      <td>0.61</td>\n",
              "      <td>0.91</td>\n",
              "      <td>0.271108</td>\n",
              "    </tr>\n",
              "    <tr>\n",
              "      <th>18</th>\n",
              "      <td>50</td>\n",
              "      <td>0.91</td>\n",
              "      <td>0.91</td>\n",
              "      <td>0.263238</td>\n",
              "    </tr>\n",
              "    <tr>\n",
              "      <th>17</th>\n",
              "      <td>50</td>\n",
              "      <td>0.91</td>\n",
              "      <td>0.61</td>\n",
              "      <td>0.262407</td>\n",
              "    </tr>\n",
              "    <tr>\n",
              "      <th>12</th>\n",
              "      <td>50</td>\n",
              "      <td>0.61</td>\n",
              "      <td>0.61</td>\n",
              "      <td>0.257850</td>\n",
              "    </tr>\n",
              "    <tr>\n",
              "      <th>16</th>\n",
              "      <td>50</td>\n",
              "      <td>0.91</td>\n",
              "      <td>0.31</td>\n",
              "      <td>0.257702</td>\n",
              "    </tr>\n",
              "    <tr>\n",
              "      <th>11</th>\n",
              "      <td>50</td>\n",
              "      <td>0.61</td>\n",
              "      <td>0.31</td>\n",
              "      <td>0.249020</td>\n",
              "    </tr>\n",
              "  </tbody>\n",
              "</table>\n",
              "</div>"
            ],
            "text/plain": [
              "    Topics       Alpha       Beta  Coherence\n",
              "1       50        0.01       0.31   0.560761\n",
              "10      50        0.61       0.01   0.560370\n",
              "15      50        0.91       0.01   0.559906\n",
              "14      50        0.61  symmetric   0.557705\n",
              "21      50   symmetric       0.31   0.556696\n",
              "9       50        0.31  symmetric   0.553878\n",
              "20      50   symmetric       0.01   0.548920\n",
              "24      50   symmetric  symmetric   0.544034\n",
              "19      50        0.91  symmetric   0.540175\n",
              "4       50        0.01  symmetric   0.539500\n",
              "0       50        0.01       0.01   0.538390\n",
              "5       50        0.31       0.01   0.536576\n",
              "29      50  asymmetric  symmetric   0.530812\n",
              "25      50  asymmetric       0.01   0.529359\n",
              "22      50   symmetric       0.61   0.519801\n",
              "2       50        0.01       0.61   0.515568\n",
              "26      50  asymmetric       0.31   0.510056\n",
              "23      50   symmetric       0.91   0.508297\n",
              "27      50  asymmetric       0.61   0.493238\n",
              "3       50        0.01       0.91   0.489768\n",
              "6       50        0.31       0.31   0.484965\n",
              "7       50        0.31       0.61   0.484357\n",
              "28      50  asymmetric       0.91   0.457659\n",
              "8       50        0.31       0.91   0.454483\n",
              "13      50        0.61       0.91   0.271108\n",
              "18      50        0.91       0.91   0.263238\n",
              "17      50        0.91       0.61   0.262407\n",
              "12      50        0.61       0.61   0.257850\n",
              "16      50        0.91       0.31   0.257702\n",
              "11      50        0.61       0.31   0.249020"
            ]
          },
          "metadata": {
            "tags": []
          },
          "execution_count": 104
        }
      ]
    },
    {
      "cell_type": "code",
      "metadata": {
        "id": "WAOoQ2wJs05F"
      },
      "source": [
        "results_df_2 = results_df.round(2)\n",
        "results_df_2 = results_df_2.replace('symmetric', 1.21)\n",
        "results_df_2 = results_df_2.replace('asymmetric', 1.51)"
      ],
      "execution_count": null,
      "outputs": []
    },
    {
      "cell_type": "code",
      "metadata": {
        "id": "Hkp24Qpr0yIC"
      },
      "source": [
        "from plotly.figure_factory import create_trisurf\n",
        "from scipy.spatial import Delaunay\n",
        "\n",
        "x = results_df_2['Alpha'].to_numpy().flatten()\n",
        "y = results_df_2['Beta'].to_numpy().flatten()\n",
        "z = results_df_2['Coherence'].to_numpy().flatten()\n",
        "\n",
        "points2D = np.vstack([x,y]).T\n",
        "tri = Delaunay(points2D)\n",
        "\n",
        "\n",
        "simplices = tri.simplices\n",
        "fig1 = create_trisurf(x = x, y = y, z = z, colormap = \"RdBu\",\n",
        "                      simplices = simplices, title = 'x = Alpha ; y = Beta ; z = Coherence Score')"
      ],
      "execution_count": null,
      "outputs": []
    },
    {
      "cell_type": "code",
      "metadata": {
        "colab": {
          "base_uri": "https://localhost:8080/",
          "height": 817
        },
        "id": "teCtSoSL1dVr",
        "outputId": "0ef04735-a295-492a-c6bf-6090798711d1"
      },
      "source": [
        "fig1"
      ],
      "execution_count": null,
      "outputs": [
        {
          "output_type": "display_data",
          "data": {
            "text/html": [
              "<html>\n",
              "<head><meta charset=\"utf-8\" /></head>\n",
              "<body>\n",
              "    <div>\n",
              "            <script src=\"https://cdnjs.cloudflare.com/ajax/libs/mathjax/2.7.5/MathJax.js?config=TeX-AMS-MML_SVG\"></script><script type=\"text/javascript\">if (window.MathJax) {MathJax.Hub.Config({SVG: {font: \"STIX-Web\"}});}</script>\n",
              "                <script type=\"text/javascript\">window.PlotlyConfig = {MathJaxConfig: 'local'};</script>\n",
              "        <script src=\"https://cdn.plot.ly/plotly-latest.min.js\"></script>    \n",
              "            <div id=\"e2de3901-b3c6-4324-8d03-f5e8da331893\" class=\"plotly-graph-div\" style=\"height:800px; width:800px;\"></div>\n",
              "            <script type=\"text/javascript\">\n",
              "                \n",
              "                    window.PLOTLYENV=window.PLOTLYENV || {};\n",
              "                    \n",
              "                if (document.getElementById(\"e2de3901-b3c6-4324-8d03-f5e8da331893\")) {\n",
              "                    Plotly.newPlot(\n",
              "                        'e2de3901-b3c6-4324-8d03-f5e8da331893',\n",
              "                        [{\"facecolor\": [\"rgb(184, 26, 35)\", \"rgb(178, 10, 28)\", \"rgb(229, 142, 89)\", \"rgb(229, 142, 89)\", \"rgb(227, 137, 86)\", \"rgb(108, 138, 246)\", \"rgb(5, 10, 172)\", \"rgb(8, 14, 175)\", \"rgb(80, 104, 227)\", \"rgb(199, 184, 173)\", \"rgb(190, 42, 43)\", \"rgb(207, 84, 62)\", \"rgb(190, 42, 43)\", \"rgb(186, 31, 38)\", \"rgb(221, 167, 127)\", \"rgb(186, 31, 38)\", \"rgb(196, 58, 50)\", \"rgb(200, 68, 55)\", \"rgb(97, 125, 240)\", \"rgb(227, 152, 102)\", \"rgb(184, 26, 35)\", \"rgb(198, 63, 52)\", \"rgb(205, 79, 60)\", \"rgb(209, 89, 64)\", \"rgb(8, 14, 175)\", \"rgb(12, 19, 177)\", \"rgb(97, 125, 240)\", \"rgb(221, 167, 127)\", \"rgb(76, 100, 225)\", \"rgb(187, 188, 192)\", \"rgb(190, 42, 43)\", \"rgb(220, 170, 132)\", \"rgb(194, 52, 47)\", \"rgb(207, 84, 62)\", \"rgb(211, 95, 67)\", \"rgb(213, 100, 69)\", \"rgb(108, 138, 246)\", \"rgb(229, 142, 89)\", \"rgb(184, 26, 35)\", \"rgb(224, 161, 117)\"], \"i\": [26, 20, 16, 20, 16, 10, 16, 12, 12, 6, 1, 2, 5, 6, 6, 10, 24, 23, 16, 22, 26, 22, 22, 28, 18, 12, 22, 18, 8, 12, 9, 8, 8, 3, 8, 8, 18, 13, 19, 19], \"j\": [20, 26, 20, 16, 10, 16, 12, 16, 6, 12, 6, 6, 6, 1, 10, 6, 28, 28, 22, 16, 22, 26, 28, 22, 12, 18, 18, 22, 12, 8, 8, 13, 9, 8, 3, 2, 19, 19, 23, 18], \"k\": [25, 21, 21, 15, 15, 11, 11, 17, 11, 7, 2, 7, 0, 0, 11, 5, 29, 24, 17, 21, 21, 27, 23, 27, 17, 13, 17, 23, 13, 7, 14, 14, 4, 4, 2, 7, 13, 14, 24, 23], \"name\": \"\", \"type\": \"mesh3d\", \"x\": [0.01, 0.01, 0.01, 0.01, 0.01, 0.31, 0.31, 0.31, 0.31, 0.31, 0.61, 0.61, 0.61, 0.61, 0.61, 0.9099999999999999, 0.9099999999999999, 0.9099999999999999, 0.9099999999999999, 0.9099999999999999, 1.21, 1.21, 1.21, 1.21, 1.21, 1.51, 1.51, 1.51, 1.51, 1.51], \"y\": [0.01, 0.31, 0.61, 0.9099999999999999, 1.21, 0.01, 0.31, 0.61, 0.9099999999999999, 1.21, 0.01, 0.31, 0.61, 0.9099999999999999, 1.21, 0.01, 0.31, 0.61, 0.9099999999999999, 1.21, 0.01, 0.31, 0.61, 0.9099999999999999, 1.21, 0.01, 0.31, 0.61, 0.9099999999999999, 1.21], \"z\": [0.54, 0.56, 0.52, 0.49, 0.54, 0.54, 0.48, 0.48, 0.45, 0.55, 0.56, 0.25, 0.26, 0.27, 0.56, 0.56, 0.26, 0.26, 0.26, 0.54, 0.55, 0.56, 0.52, 0.51, 0.54, 0.53, 0.51, 0.49, 0.46, 0.53]}, {\"line\": {\"color\": \"rgb(50, 50, 50)\", \"width\": 1.5}, \"mode\": \"lines\", \"showlegend\": false, \"type\": \"scatter3d\", \"x\": [1.51, 1.21, 1.51, 1.51, null, 1.21, 1.51, 1.21, 1.21, null, 0.9099999999999999, 1.21, 1.21, 0.9099999999999999, null, 1.21, 0.9099999999999999, 0.9099999999999999, 1.21, null, 0.9099999999999999, 0.61, 0.9099999999999999, 0.9099999999999999, null, 0.61, 0.9099999999999999, 0.61, 0.61, null, 0.9099999999999999, 0.61, 0.61, 0.9099999999999999, null, 0.61, 0.9099999999999999, 0.9099999999999999, 0.61, null, 0.61, 0.31, 0.61, 0.61, null, 0.31, 0.61, 0.31, 0.31, null, 0.01, 0.31, 0.01, 0.01, null, 0.01, 0.31, 0.31, 0.01, null, 0.31, 0.31, 0.01, 0.31, null, 0.31, 0.01, 0.01, 0.31, null, 0.31, 0.61, 0.61, 0.31, null, 0.61, 0.31, 0.31, 0.61, null, 1.21, 1.51, 1.51, 1.21, null, 1.21, 1.51, 1.21, 1.21, null, 0.9099999999999999, 1.21, 0.9099999999999999, 0.9099999999999999, null, 1.21, 0.9099999999999999, 1.21, 1.21, null, 1.51, 1.21, 1.21, 1.51, null, 1.21, 1.51, 1.51, 1.21, null, 1.21, 1.51, 1.21, 1.21, null, 1.51, 1.21, 1.51, 1.51, null, 0.9099999999999999, 0.61, 0.9099999999999999, 0.9099999999999999, null, 0.61, 0.9099999999999999, 0.61, 0.61, null, 1.21, 0.9099999999999999, 0.9099999999999999, 1.21, null, 0.9099999999999999, 1.21, 1.21, 0.9099999999999999, null, 0.31, 0.61, 0.61, 0.31, null, 0.61, 0.31, 0.31, 0.61, null, 0.31, 0.31, 0.61, 0.31, null, 0.31, 0.61, 0.61, 0.31, null, 0.31, 0.31, 0.01, 0.31, null, 0.01, 0.31, 0.01, 0.01, null, 0.31, 0.01, 0.01, 0.31, null, 0.31, 0.01, 0.31, 0.31, null, 0.9099999999999999, 0.9099999999999999, 0.61, 0.9099999999999999, null, 0.61, 0.9099999999999999, 0.61, 0.61, null, 0.9099999999999999, 1.21, 1.21, 0.9099999999999999, null, 0.9099999999999999, 0.9099999999999999, 1.21, 0.9099999999999999, null], \"y\": [0.31, 0.01, 0.01, 0.31, null, 0.01, 0.31, 0.31, 0.01, null, 0.31, 0.01, 0.31, 0.31, null, 0.01, 0.31, 0.01, 0.01, null, 0.31, 0.01, 0.01, 0.31, null, 0.01, 0.31, 0.31, 0.01, null, 0.31, 0.61, 0.31, 0.31, null, 0.61, 0.31, 0.61, 0.61, null, 0.61, 0.31, 0.31, 0.61, null, 0.31, 0.61, 0.61, 0.31, null, 0.31, 0.31, 0.61, 0.31, null, 0.61, 0.31, 0.61, 0.61, null, 0.01, 0.31, 0.01, 0.01, null, 0.31, 0.31, 0.01, 0.31, null, 0.31, 0.01, 0.31, 0.31, null, 0.01, 0.31, 0.01, 0.01, null, 1.21, 0.9099999999999999, 1.21, 1.21, null, 0.9099999999999999, 0.9099999999999999, 1.21, 0.9099999999999999, null, 0.31, 0.61, 0.61, 0.31, null, 0.61, 0.31, 0.31, 0.61, null, 0.31, 0.61, 0.31, 0.31, null, 0.61, 0.31, 0.61, 0.61, null, 0.61, 0.9099999999999999, 0.9099999999999999, 0.61, null, 0.9099999999999999, 0.61, 0.61, 0.9099999999999999, null, 0.9099999999999999, 0.61, 0.61, 0.9099999999999999, null, 0.61, 0.9099999999999999, 0.9099999999999999, 0.61, null, 0.61, 0.9099999999999999, 0.61, 0.61, null, 0.9099999999999999, 0.61, 0.9099999999999999, 0.9099999999999999, null, 0.9099999999999999, 0.61, 0.9099999999999999, 0.9099999999999999, null, 0.61, 0.9099999999999999, 0.61, 0.61, null, 1.21, 0.9099999999999999, 1.21, 1.21, null, 0.9099999999999999, 0.9099999999999999, 1.21, 0.9099999999999999, null, 0.9099999999999999, 1.21, 1.21, 0.9099999999999999, null, 0.9099999999999999, 0.9099999999999999, 1.21, 0.9099999999999999, null, 0.9099999999999999, 0.9099999999999999, 0.61, 0.9099999999999999, null, 0.9099999999999999, 0.61, 0.61, 0.9099999999999999, null, 0.9099999999999999, 1.21, 0.9099999999999999, 0.9099999999999999, null, 0.9099999999999999, 1.21, 1.21, 0.9099999999999999, null, 1.21, 0.9099999999999999, 1.21, 1.21, null, 1.21, 0.9099999999999999, 0.9099999999999999, 1.21, null], \"z\": [0.51, 0.55, 0.53, 0.51, null, 0.55, 0.51, 0.56, 0.55, null, 0.26, 0.55, 0.56, 0.26, null, 0.55, 0.26, 0.56, 0.55, null, 0.26, 0.56, 0.56, 0.26, null, 0.56, 0.26, 0.25, 0.56, null, 0.26, 0.26, 0.25, 0.26, null, 0.26, 0.26, 0.26, 0.26, null, 0.26, 0.48, 0.25, 0.26, null, 0.48, 0.26, 0.48, 0.48, null, 0.56, 0.48, 0.52, 0.56, null, 0.52, 0.48, 0.48, 0.52, null, 0.54, 0.48, 0.54, 0.54, null, 0.48, 0.56, 0.54, 0.48, null, 0.48, 0.56, 0.25, 0.48, null, 0.56, 0.48, 0.54, 0.56, null, 0.54, 0.46, 0.53, 0.54, null, 0.51, 0.46, 0.54, 0.51, null, 0.26, 0.52, 0.26, 0.26, null, 0.52, 0.26, 0.56, 0.52, null, 0.51, 0.52, 0.56, 0.51, null, 0.52, 0.51, 0.49, 0.52, null, 0.52, 0.46, 0.51, 0.52, null, 0.46, 0.52, 0.49, 0.46, null, 0.26, 0.26, 0.26, 0.26, null, 0.26, 0.26, 0.27, 0.26, null, 0.52, 0.26, 0.26, 0.52, null, 0.26, 0.52, 0.51, 0.26, null, 0.45, 0.26, 0.27, 0.45, null, 0.26, 0.45, 0.48, 0.26, null, 0.55, 0.45, 0.56, 0.55, null, 0.45, 0.27, 0.56, 0.45, null, 0.45, 0.55, 0.54, 0.45, null, 0.49, 0.45, 0.54, 0.49, null, 0.45, 0.49, 0.52, 0.45, null, 0.45, 0.52, 0.48, 0.45, null, 0.26, 0.54, 0.27, 0.26, null, 0.27, 0.54, 0.56, 0.27, null, 0.54, 0.51, 0.54, 0.54, null, 0.54, 0.26, 0.51, 0.54, null]}, {\"hoverinfo\": \"none\", \"marker\": {\"color\": [0.25666666666666665, 0.54], \"colorscale\": [[0, \"rgb(5, 10, 172)\"], [0.35, \"rgb(106, 137, 247)\"], [0.5, \"rgb(190, 190, 190)\"], [0.6, \"rgb(220, 170, 132)\"], [0.7, \"rgb(230, 145, 90)\"], [1, \"rgb(178, 10, 28)\"]], \"showscale\": true, \"size\": 0.1}, \"mode\": \"markers\", \"showlegend\": false, \"type\": \"scatter3d\", \"x\": [0.01], \"y\": [0.01], \"z\": [0.54]}],\n",
              "                        {\"height\": 800, \"scene\": {\"aspectratio\": {\"x\": 1, \"y\": 1, \"z\": 1}, \"xaxis\": {\"backgroundcolor\": \"rgb(230, 230, 230)\", \"gridcolor\": \"rgb(255, 255, 255)\", \"showbackground\": true, \"zerolinecolor\": \"rgb(255, 255, 255)\"}, \"yaxis\": {\"backgroundcolor\": \"rgb(230, 230, 230)\", \"gridcolor\": \"rgb(255, 255, 255)\", \"showbackground\": true, \"zerolinecolor\": \"rgb(255, 255, 255)\"}, \"zaxis\": {\"backgroundcolor\": \"rgb(230, 230, 230)\", \"gridcolor\": \"rgb(255, 255, 255)\", \"showbackground\": true, \"zerolinecolor\": \"rgb(255, 255, 255)\"}}, \"template\": {\"data\": {\"bar\": [{\"error_x\": {\"color\": \"#2a3f5f\"}, \"error_y\": {\"color\": \"#2a3f5f\"}, \"marker\": {\"line\": {\"color\": \"#E5ECF6\", \"width\": 0.5}}, \"type\": \"bar\"}], \"barpolar\": [{\"marker\": {\"line\": {\"color\": \"#E5ECF6\", \"width\": 0.5}}, \"type\": \"barpolar\"}], \"carpet\": [{\"aaxis\": {\"endlinecolor\": \"#2a3f5f\", \"gridcolor\": \"white\", \"linecolor\": \"white\", \"minorgridcolor\": \"white\", \"startlinecolor\": \"#2a3f5f\"}, \"baxis\": {\"endlinecolor\": \"#2a3f5f\", \"gridcolor\": \"white\", \"linecolor\": \"white\", \"minorgridcolor\": \"white\", \"startlinecolor\": \"#2a3f5f\"}, \"type\": \"carpet\"}], \"choropleth\": [{\"colorbar\": {\"outlinewidth\": 0, \"ticks\": \"\"}, \"type\": \"choropleth\"}], \"contour\": [{\"colorbar\": {\"outlinewidth\": 0, \"ticks\": \"\"}, \"colorscale\": [[0.0, \"#0d0887\"], [0.1111111111111111, \"#46039f\"], [0.2222222222222222, \"#7201a8\"], [0.3333333333333333, \"#9c179e\"], [0.4444444444444444, \"#bd3786\"], [0.5555555555555556, \"#d8576b\"], [0.6666666666666666, \"#ed7953\"], [0.7777777777777778, \"#fb9f3a\"], [0.8888888888888888, \"#fdca26\"], [1.0, \"#f0f921\"]], \"type\": \"contour\"}], \"contourcarpet\": [{\"colorbar\": {\"outlinewidth\": 0, \"ticks\": \"\"}, \"type\": \"contourcarpet\"}], \"heatmap\": [{\"colorbar\": {\"outlinewidth\": 0, \"ticks\": \"\"}, \"colorscale\": [[0.0, \"#0d0887\"], [0.1111111111111111, \"#46039f\"], [0.2222222222222222, \"#7201a8\"], [0.3333333333333333, \"#9c179e\"], [0.4444444444444444, \"#bd3786\"], [0.5555555555555556, \"#d8576b\"], [0.6666666666666666, \"#ed7953\"], [0.7777777777777778, \"#fb9f3a\"], [0.8888888888888888, \"#fdca26\"], [1.0, \"#f0f921\"]], \"type\": \"heatmap\"}], \"heatmapgl\": [{\"colorbar\": {\"outlinewidth\": 0, \"ticks\": \"\"}, \"colorscale\": [[0.0, \"#0d0887\"], [0.1111111111111111, \"#46039f\"], [0.2222222222222222, \"#7201a8\"], [0.3333333333333333, \"#9c179e\"], [0.4444444444444444, \"#bd3786\"], [0.5555555555555556, \"#d8576b\"], [0.6666666666666666, \"#ed7953\"], [0.7777777777777778, \"#fb9f3a\"], [0.8888888888888888, \"#fdca26\"], [1.0, \"#f0f921\"]], \"type\": \"heatmapgl\"}], \"histogram\": [{\"marker\": {\"colorbar\": {\"outlinewidth\": 0, \"ticks\": \"\"}}, \"type\": \"histogram\"}], \"histogram2d\": [{\"colorbar\": {\"outlinewidth\": 0, \"ticks\": \"\"}, \"colorscale\": [[0.0, \"#0d0887\"], [0.1111111111111111, \"#46039f\"], [0.2222222222222222, \"#7201a8\"], [0.3333333333333333, \"#9c179e\"], [0.4444444444444444, \"#bd3786\"], [0.5555555555555556, \"#d8576b\"], [0.6666666666666666, \"#ed7953\"], [0.7777777777777778, \"#fb9f3a\"], [0.8888888888888888, \"#fdca26\"], [1.0, \"#f0f921\"]], \"type\": \"histogram2d\"}], \"histogram2dcontour\": [{\"colorbar\": {\"outlinewidth\": 0, \"ticks\": \"\"}, \"colorscale\": [[0.0, \"#0d0887\"], [0.1111111111111111, \"#46039f\"], [0.2222222222222222, \"#7201a8\"], [0.3333333333333333, \"#9c179e\"], [0.4444444444444444, \"#bd3786\"], [0.5555555555555556, \"#d8576b\"], [0.6666666666666666, \"#ed7953\"], [0.7777777777777778, \"#fb9f3a\"], [0.8888888888888888, \"#fdca26\"], [1.0, \"#f0f921\"]], \"type\": \"histogram2dcontour\"}], \"mesh3d\": [{\"colorbar\": {\"outlinewidth\": 0, \"ticks\": \"\"}, \"type\": \"mesh3d\"}], \"parcoords\": [{\"line\": {\"colorbar\": {\"outlinewidth\": 0, \"ticks\": \"\"}}, \"type\": \"parcoords\"}], \"pie\": [{\"automargin\": true, \"type\": \"pie\"}], \"scatter\": [{\"marker\": {\"colorbar\": {\"outlinewidth\": 0, \"ticks\": \"\"}}, \"type\": \"scatter\"}], \"scatter3d\": [{\"line\": {\"colorbar\": {\"outlinewidth\": 0, \"ticks\": \"\"}}, \"marker\": {\"colorbar\": {\"outlinewidth\": 0, \"ticks\": \"\"}}, \"type\": \"scatter3d\"}], \"scattercarpet\": [{\"marker\": {\"colorbar\": {\"outlinewidth\": 0, \"ticks\": \"\"}}, \"type\": \"scattercarpet\"}], \"scattergeo\": [{\"marker\": {\"colorbar\": {\"outlinewidth\": 0, \"ticks\": \"\"}}, \"type\": \"scattergeo\"}], \"scattergl\": [{\"marker\": {\"colorbar\": {\"outlinewidth\": 0, \"ticks\": \"\"}}, \"type\": \"scattergl\"}], \"scattermapbox\": [{\"marker\": {\"colorbar\": {\"outlinewidth\": 0, \"ticks\": \"\"}}, \"type\": \"scattermapbox\"}], \"scatterpolar\": [{\"marker\": {\"colorbar\": {\"outlinewidth\": 0, \"ticks\": \"\"}}, \"type\": \"scatterpolar\"}], \"scatterpolargl\": [{\"marker\": {\"colorbar\": {\"outlinewidth\": 0, \"ticks\": \"\"}}, \"type\": \"scatterpolargl\"}], \"scatterternary\": [{\"marker\": {\"colorbar\": {\"outlinewidth\": 0, \"ticks\": \"\"}}, \"type\": \"scatterternary\"}], \"surface\": [{\"colorbar\": {\"outlinewidth\": 0, \"ticks\": \"\"}, \"colorscale\": [[0.0, \"#0d0887\"], [0.1111111111111111, \"#46039f\"], [0.2222222222222222, \"#7201a8\"], [0.3333333333333333, \"#9c179e\"], [0.4444444444444444, \"#bd3786\"], [0.5555555555555556, \"#d8576b\"], [0.6666666666666666, \"#ed7953\"], [0.7777777777777778, \"#fb9f3a\"], [0.8888888888888888, \"#fdca26\"], [1.0, \"#f0f921\"]], \"type\": \"surface\"}], \"table\": [{\"cells\": {\"fill\": {\"color\": \"#EBF0F8\"}, \"line\": {\"color\": \"white\"}}, \"header\": {\"fill\": {\"color\": \"#C8D4E3\"}, \"line\": {\"color\": \"white\"}}, \"type\": \"table\"}]}, \"layout\": {\"annotationdefaults\": {\"arrowcolor\": \"#2a3f5f\", \"arrowhead\": 0, \"arrowwidth\": 1}, \"coloraxis\": {\"colorbar\": {\"outlinewidth\": 0, \"ticks\": \"\"}}, \"colorscale\": {\"diverging\": [[0, \"#8e0152\"], [0.1, \"#c51b7d\"], [0.2, \"#de77ae\"], [0.3, \"#f1b6da\"], [0.4, \"#fde0ef\"], [0.5, \"#f7f7f7\"], [0.6, \"#e6f5d0\"], [0.7, \"#b8e186\"], [0.8, \"#7fbc41\"], [0.9, \"#4d9221\"], [1, \"#276419\"]], \"sequential\": [[0.0, \"#0d0887\"], [0.1111111111111111, \"#46039f\"], [0.2222222222222222, \"#7201a8\"], [0.3333333333333333, \"#9c179e\"], [0.4444444444444444, \"#bd3786\"], [0.5555555555555556, \"#d8576b\"], [0.6666666666666666, \"#ed7953\"], [0.7777777777777778, \"#fb9f3a\"], [0.8888888888888888, \"#fdca26\"], [1.0, \"#f0f921\"]], \"sequentialminus\": [[0.0, \"#0d0887\"], [0.1111111111111111, \"#46039f\"], [0.2222222222222222, \"#7201a8\"], [0.3333333333333333, \"#9c179e\"], [0.4444444444444444, \"#bd3786\"], [0.5555555555555556, \"#d8576b\"], [0.6666666666666666, \"#ed7953\"], [0.7777777777777778, \"#fb9f3a\"], [0.8888888888888888, \"#fdca26\"], [1.0, \"#f0f921\"]]}, \"colorway\": [\"#636efa\", \"#EF553B\", \"#00cc96\", \"#ab63fa\", \"#FFA15A\", \"#19d3f3\", \"#FF6692\", \"#B6E880\", \"#FF97FF\", \"#FECB52\"], \"font\": {\"color\": \"#2a3f5f\"}, \"geo\": {\"bgcolor\": \"white\", \"lakecolor\": \"white\", \"landcolor\": \"#E5ECF6\", \"showlakes\": true, \"showland\": true, \"subunitcolor\": \"white\"}, \"hoverlabel\": {\"align\": \"left\"}, \"hovermode\": \"closest\", \"mapbox\": {\"style\": \"light\"}, \"paper_bgcolor\": \"white\", \"plot_bgcolor\": \"#E5ECF6\", \"polar\": {\"angularaxis\": {\"gridcolor\": \"white\", \"linecolor\": \"white\", \"ticks\": \"\"}, \"bgcolor\": \"#E5ECF6\", \"radialaxis\": {\"gridcolor\": \"white\", \"linecolor\": \"white\", \"ticks\": \"\"}}, \"scene\": {\"xaxis\": {\"backgroundcolor\": \"#E5ECF6\", \"gridcolor\": \"white\", \"gridwidth\": 2, \"linecolor\": \"white\", \"showbackground\": true, \"ticks\": \"\", \"zerolinecolor\": \"white\"}, \"yaxis\": {\"backgroundcolor\": \"#E5ECF6\", \"gridcolor\": \"white\", \"gridwidth\": 2, \"linecolor\": \"white\", \"showbackground\": true, \"ticks\": \"\", \"zerolinecolor\": \"white\"}, \"zaxis\": {\"backgroundcolor\": \"#E5ECF6\", \"gridcolor\": \"white\", \"gridwidth\": 2, \"linecolor\": \"white\", \"showbackground\": true, \"ticks\": \"\", \"zerolinecolor\": \"white\"}}, \"shapedefaults\": {\"line\": {\"color\": \"#2a3f5f\"}}, \"ternary\": {\"aaxis\": {\"gridcolor\": \"white\", \"linecolor\": \"white\", \"ticks\": \"\"}, \"baxis\": {\"gridcolor\": \"white\", \"linecolor\": \"white\", \"ticks\": \"\"}, \"bgcolor\": \"#E5ECF6\", \"caxis\": {\"gridcolor\": \"white\", \"linecolor\": \"white\", \"ticks\": \"\"}}, \"title\": {\"x\": 0.05}, \"xaxis\": {\"automargin\": true, \"gridcolor\": \"white\", \"linecolor\": \"white\", \"ticks\": \"\", \"title\": {\"standoff\": 15}, \"zerolinecolor\": \"white\", \"zerolinewidth\": 2}, \"yaxis\": {\"automargin\": true, \"gridcolor\": \"white\", \"linecolor\": \"white\", \"ticks\": \"\", \"title\": {\"standoff\": 15}, \"zerolinecolor\": \"white\", \"zerolinewidth\": 2}}}, \"title\": {\"text\": \"x = Alpha ; y = Beta ; z = Coherence Score\"}, \"width\": 800},\n",
              "                        {\"responsive\": true}\n",
              "                    ).then(function(){\n",
              "                            \n",
              "var gd = document.getElementById('e2de3901-b3c6-4324-8d03-f5e8da331893');\n",
              "var x = new MutationObserver(function (mutations, observer) {{\n",
              "        var display = window.getComputedStyle(gd).display;\n",
              "        if (!display || display === 'none') {{\n",
              "            console.log([gd, 'removed!']);\n",
              "            Plotly.purge(gd);\n",
              "            observer.disconnect();\n",
              "        }}\n",
              "}});\n",
              "\n",
              "// Listen for the removal of the full notebook cells\n",
              "var notebookContainer = gd.closest('#notebook-container');\n",
              "if (notebookContainer) {{\n",
              "    x.observe(notebookContainer, {childList: true});\n",
              "}}\n",
              "\n",
              "// Listen for the clearing of the current output cell\n",
              "var outputEl = gd.closest('.output');\n",
              "if (outputEl) {{\n",
              "    x.observe(outputEl, {childList: true});\n",
              "}}\n",
              "\n",
              "                        })\n",
              "                };\n",
              "                \n",
              "            </script>\n",
              "        </div>\n",
              "</body>\n",
              "</html>"
            ]
          },
          "metadata": {
            "tags": []
          }
        }
      ]
    },
    {
      "cell_type": "markdown",
      "metadata": {
        "id": "nBiN7jSKuMYl"
      },
      "source": [
        "##Création du modèle final"
      ]
    },
    {
      "cell_type": "code",
      "metadata": {
        "id": "FdBd1G6xS2fN"
      },
      "source": [
        "data_words = X_train_5['Title_2'].apply(lambda x: x.split())\n",
        "id2word = corpora.Dictionary(data_words)\n",
        "texts = data_words\n",
        "corpus = [id2word.doc2bow(text) for text in texts]"
      ],
      "execution_count": null,
      "outputs": []
    },
    {
      "cell_type": "code",
      "metadata": {
        "colab": {
          "base_uri": "https://localhost:8080/"
        },
        "id": "IYX-GtDtVa-c",
        "outputId": "d8e18355-0501-44a5-c31b-b6f20bc78343"
      },
      "source": [
        "%%time\n",
        "# Réglage des hyperparamètres\n",
        "num_topics = 50\n",
        "alpha = 0.01\n",
        "eta = 0.31\n",
        "# Setup du modèle\n",
        "lda_model = gensim.models.ldamodel.LdaModel(corpus = corpus,\n",
        "                                       id2word = id2word,\n",
        "                                       num_topics = num_topics,\n",
        "                                       alpha = alpha,\n",
        "                                       eta = eta)"
      ],
      "execution_count": null,
      "outputs": [
        {
          "output_type": "stream",
          "text": [
            "CPU times: user 2.3 s, sys: 0 ns, total: 2.3 s\n",
            "Wall time: 2.28 s\n"
          ],
          "name": "stdout"
        }
      ]
    },
    {
      "cell_type": "markdown",
      "metadata": {
        "id": "qfKLy0wanOBp"
      },
      "source": [
        "Score perplexity et coherence"
      ]
    },
    {
      "cell_type": "code",
      "metadata": {
        "id": "94bPL_SnnWuW",
        "colab": {
          "base_uri": "https://localhost:8080/"
        },
        "outputId": "91878c2b-1e37-4586-c97a-f463b3271e8c"
      },
      "source": [
        "# Perplexity\n",
        "print('\\nPerplexity: ', lda_model.log_perplexity(corpus))\n",
        "\n",
        "# Coherence Score\n",
        "coherence_model_lda = CoherenceModel(model = lda_model, texts = text_title, dictionary = id2word_title, coherence='c_v')\n",
        "coherence_lda = coherence_model_lda.get_coherence()\n",
        "print('\\nCoherence Score: ', coherence_lda)"
      ],
      "execution_count": null,
      "outputs": [
        {
          "output_type": "stream",
          "text": [
            "\n",
            "Perplexity:  -9.032840550488473\n",
            "\n",
            "Coherence Score:  0.5437257171189543\n"
          ],
          "name": "stdout"
        }
      ]
    },
    {
      "cell_type": "markdown",
      "metadata": {
        "id": "WlUyAi3-nZAJ"
      },
      "source": [
        "##Visualisation des topics"
      ]
    },
    {
      "cell_type": "code",
      "metadata": {
        "id": "oE3YweMwnlU1",
        "colab": {
          "base_uri": "https://localhost:8080/"
        },
        "outputId": "53f27d84-afed-45ad-af11-16a9a600c2bb"
      },
      "source": [
        "%%time\n",
        "pyLDAvis.enable_notebook()\n",
        "visual = gensimvis.prepare(lda_model, corpus = corpus, dictionary = lda_model.id2word)"
      ],
      "execution_count": null,
      "outputs": [
        {
          "output_type": "stream",
          "text": [
            "CPU times: user 2.14 s, sys: 195 ms, total: 2.33 s\n",
            "Wall time: 6.13 s\n"
          ],
          "name": "stdout"
        }
      ]
    },
    {
      "cell_type": "code",
      "metadata": {
        "id": "l8yMzZ8fs9jw",
        "colab": {
          "base_uri": "https://localhost:8080/",
          "height": 861
        },
        "outputId": "3ef4581f-4bae-4243-8f12-c4b97773937a"
      },
      "source": [
        "visual"
      ],
      "execution_count": null,
      "outputs": [
        {
          "output_type": "execute_result",
          "data": {
            "text/html": [
              "\n",
              "<link rel=\"stylesheet\" type=\"text/css\" href=\"https://cdn.jsdelivr.net/gh/bmabey/pyLDAvis@3.3.1/pyLDAvis/js/ldavis.v1.0.0.css\">\n",
              "\n",
              "\n",
              "<div id=\"ldavis_el601399886665218088437794469\"></div>\n",
              "<script type=\"text/javascript\">\n",
              "\n",
              "var ldavis_el601399886665218088437794469_data = {\"mdsDat\": {\"x\": [0.07222774037304928, 0.14687432647627247, 0.12348524508683448, 0.09023435845820318, 0.041610325474383945, 0.030029793636676738, 0.012601815124241422, 0.007270834286716359, -0.025578467455039274, 0.0031399915284595773, 0.002261144229736517, -0.0005506674850092039, -0.0008746411436285253, -0.020608689766826664, 0.007734245464324432, 0.0013886923569485451, 0.007710687911653349, -0.004510313234301977, -0.026424096905840033, -0.022206407479742667, -0.0027748833845011854, -0.003934034321584621, -0.020713045670613515, -0.033773315199151506, 0.004580870475389395, -0.013010186300966637, -0.023793960132485158, -0.014790396220695314, -0.025524143052495812, -0.012095546120142277, -0.008929690732176358, -0.017803692994385677, -0.007909780173135943, -0.013914513605190344, -0.016110984021055697, 0.0005837709377785927, -0.023617872818942693, -0.012591698537127978, -0.005321740951449659, -0.0297369814937736, -0.01286096250880379, -0.026440771590671593, -0.0038417680973576963, -0.008279428694128862, -0.016546310502461484, -0.020698715320348088, -0.015491255268500051, -0.028437542921790914, -0.016905260804968944, -0.015132076911374566], \"y\": [-0.16503542053267375, 0.03515710751870722, 0.015318779906105704, 0.041521267320736674, 0.018006980055734628, 0.0031615565868446313, -0.03243748519882726, -0.01800626020067673, -0.01066199153384164, 0.014407320741186697, 0.028994837738004587, -0.019152863686975604, 0.051757023997855804, -0.00010639800483025704, 0.005955758084828398, -0.006071747583116252, 0.001913437611634291, 0.03518814435738112, -0.014226997206228087, 0.008927187410883166, -0.005079897355309419, 2.3805869972471676e-05, 0.011174141975551385, -0.004409728902595034, 0.00257992451287046, 0.005061548372152012, -0.0028715324863622504, 0.036988873754213704, 0.006094021604576717, 0.0018837707910596734, -0.019075414164431613, -0.016535916882332632, 0.0003431979534931266, 0.0008238386015250766, -0.011956662605186527, 0.010101337570722228, -0.003654604577339616, -0.005063530212671302, 0.002389595200451743, -0.00957379154467308, 0.0029508758827197887, 0.006568331075200402, 0.0149380635974683, -0.00457992075544419, -0.00565056946129283, 0.0001467409800444628, -0.0025493542565427655, -0.009139908072843414, 0.003722633513397325, -0.0002601073611286165], \"topics\": [1, 2, 3, 4, 5, 6, 7, 8, 9, 10, 11, 12, 13, 14, 15, 16, 17, 18, 19, 20, 21, 22, 23, 24, 25, 26, 27, 28, 29, 30, 31, 32, 33, 34, 35, 36, 37, 38, 39, 40, 41, 42, 43, 44, 45, 46, 47, 48, 49, 50], \"cluster\": [1, 1, 1, 1, 1, 1, 1, 1, 1, 1, 1, 1, 1, 1, 1, 1, 1, 1, 1, 1, 1, 1, 1, 1, 1, 1, 1, 1, 1, 1, 1, 1, 1, 1, 1, 1, 1, 1, 1, 1, 1, 1, 1, 1, 1, 1, 1, 1, 1, 1], \"Freq\": [6.345638443232262, 5.984332651136216, 5.846706835544058, 4.436254616647443, 4.254793109402299, 4.126423692317821, 3.3773812103182457, 2.6742430194856373, 2.597923050941806, 2.567081863389445, 2.4812956868012557, 2.3859476776667465, 2.325241121880088, 2.1695842002471672, 2.0080080542585543, 1.9124902333098253, 1.8740072862521848, 1.8698799010819174, 1.7894431062023815, 1.6835383976696678, 1.5933801591745276, 1.5692213932236718, 1.5569682555802484, 1.5493524882005154, 1.5460914460145248, 1.5279054134489491, 1.4722686500872262, 1.4624705787680077, 1.4546217648660726, 1.450824639548125, 1.4231265891238347, 1.3803347200811233, 1.3548455449214476, 1.310070330991735, 1.2541136703561333, 1.2472520886192149, 1.2121080641068949, 1.19199803886689, 1.1759688032940934, 1.1678465326857668, 1.0600162337188974, 1.0280408184258616, 1.0262713714366427, 0.9883209565816666, 0.9764538912407736, 0.9719461455182454, 0.9630535716987619, 0.8963800567325172, 0.839543726199562, 0.6389898987030478]}, \"tinfo\": {\"Term\": [\"c\", \"value\", \"javascript\", \"error\", \"array\", \"function\", \"file\", \"object\", \"java\", \"class\", \"android\", \"column\", \"two\", \"date\", \"json\", \"data\", \"number\", \"line\", \"list\", \"code\", \"loop\", \"script\", \"python\", \"html\", \"method\", \"r\", \"angular\", \"specific\", \"one\", \"string\", \"android\", \"lang\", \"loop\", \"main\", \"thread\", \"nullpointerexception\", \"nested\", \"rust\", \"hashmap\", \"inside\", \"application\", \"add\", \"infinite\", \"curl\", \"reference\", \"install\", \"correct\", \"show\", \"date\", \"java\", \"attempt\", \"send\", \"virtual\", \"studio\", \"widget\", \"exception\", \"wav\", \"limitation\", \"classcastexception\", \"slower\", \"app\", \"current\", \"local\", \"method\", \"different\", \"time\", \"null\", \"variable\", \"error\", \"string\", \"python\", \"object\", \"list\", \"user\", \"best\", \"practice\", \"lambda\", \"query\", \"way\", \"random\", \"return\", \"class\", \"input\", \"view\", \"behavior\", \"instance\", \"redirect\", \"arrow\", \"function\", \"math\", \"laravel\", \"reflection\", \"recyclerview\", \"sqlalchemy\", \"repository\", \"another\", \"valid\", \"aws\", \"assign\", \"site\", \"target\", \"self\", \"page\", \"ienumerable\", \"delete\", \"method\", \"component\", \"item\", \"multiple\", \"swift\", \"parameter\", \"without\", \"value\", \"property\", \"python\", \"java\", \"array\", \"list\", \"color\", \"javascript\", \"attribute\", \"session\", \"common\", \"object\", \"checkbox\", \"parameter\", \"client\", \"key\", \"background\", \"attributeerror\", \"primary\", \"warning\", \"array\", \"unicode\", \"initializer\", \"mongo\", \"ionic\", \"unknown\", \"behind\", \"change\", \"emojis\", \"lower\", \"regex\", \"play\", \"respect\", \"qtablewidget\", \"glow\", \"dusk\", \"work\", \"without\", \"list\", \"constructor\", \"argument\", \"create\", \"cs\", \"php\", \"one\", \"string\", \"variable\", \"python\", \"function\", \"image\", \"number\", \"element\", \"value\", \"text\", \"cant\", \"vector\", \"width\", \"value\", \"new\", \"dplyr\", \"full\", \"override\", \"df\", \"checkboxes\", \"split\", \"column\", \"default\", \"access\", \"occurrence\", \"exact\", \"audio\", \"percentage\", \"constructor\", \"mutate\", \"viewcontroller\", \"memory\", \"modifier\", \"underline\", \"partial\", \"sqlstate\", \"keypress\", \"largest\", \"dictionnary\", \"cumsum\", \"count\", \"property\", \"convert\", \"multiple\", \"string\", \"panda\", \"method\", \"list\", \"type\", \"null\", \"jquery\", \"r\", \"array\", \"c\", \"java\", \"cs\", \"another\", \"variable\", \"connect\", \"sql\", \"first\", \"context\", \"screen\", \"position\", \"server\", \"marker\", \"activity\", \"alert\", \"product\", \"calculation\", \"opencv\", \"table\", \"beginner\", \"cpp\", \"special\", \"day\", \"timestamp\", \"user\", \"via\", \"django\", \"file\", \"turn\", \"high\", \"dimensional\", \"cin\", \"save\", \"spark\", \"priority\", \"many\", \"folder\", \"convert\", \"character\", \"multiple\", \"csv\", \"data\", \"integer\", \"php\", \"order\", \"python\", \"java\", \"query\", \"array\", \"time\", \"c\", \"number\", \"string\", \"row\", \"datetime\", \"wrong\", \"assembly\", \"native\", \"program\", \"length\", \"c\", \"operator\", \"unsigned\", \"template\", \"foo\", \"char\", \"update\", \"div\", \"container\", \"concurrentmodificationexception\", \"representation\", \"understanding\", \"display\", \"naked\", \"regcopytree\", \"overloading\", \"private\", \"strcmp\", \"game\", \"bootstrap\", \"peek\", \"accelerated\", \"escaped\", \"difference\", \"subtracting\", \"byte\", \"bar\", \"window\", \"list\", \"return\", \"string\", \"text\", \"code\", \"local\", \"file\", \"variable\", \"without\", \"java\", \"array\", \"item\", \"syntax\", \"fatal\", \"parse\", \"assignment\", \"id\", \"call\", \"error\", \"range\", \"include\", \"localdatetime\", \"invalid\", \"im\", \"outside\", \"datatable\", \"compiler\", \"htdocs\", \"contains\", \"unexpected\", \"period\", \"run\", \"xampp\", \"num\", \"form\", \"uncaught\", \"pycharm\", \"weird\", \"setstate\", \"mbstring\", \"strtolower\", \"mb\", \"non\", \"member\", \"index\", \"group\", \"validation\", \"php\", \"python\", \"string\", \"function\", \"variable\", \"inside\", \"character\", \"dictionary\", \"specific\", \"certain\", \"search\", \"generic\", \"matlab\", \"break\", \"punctuation\", \"tag\", \"alternative\", \"optional\", \"order\", \"series\", \"textbox\", \"hierarchical\", \"bundle\", \"permutation\", \"rubbish\", \"detection\", \"extract\", \"distribution\", \"map\", \"binding\", \"alias\", \"type\", \"ptr\", \"pygame\", \"li\", \"trigger\", \"wpf\", \"check\", \"line\", \"name\", \"string\", \"key\", \"python\", \"character\", \"list\", \"file\", \"id\", \"java\", \"text\", \"json\", \"bash\", \"script\", \"version\", \"linux\", \"prevent\", \"browser\", \"shell\", \"command\", \"code\", \"platform\", \"source\", \"spinner\", \"process\", \"interpolation\", \"mac\", \"cpu\", \"filesystem\", \"awk\", \"rmarkdown\", \"argparse\", \"rmd\", \"exit\", \"mapbox\", \"virtualbox\", \"executes\", \"ssa\", \"substitute\", \"bitwise\", \"variable\", \"static\", \"name\", \"python\", \"file\", \"c\", \"read\", \"permission\", \"line\", \"txt\", \"word\", \"unix\", \"content\", \"json\", \"reactjs\", \"fetch\", \"instantiate\", \"several\", \"modern\", \"hex\", \"failed\", \"text\", \"sentence\", \"tag\", \"processing\", \"change\", \"decoder\", \"style\", \"blog\", \"configuration\", \"ruby\", \"formatting\", \"terminator\", \"amazonhttpclient\", \"mlines\", \"placement\", \"response\", \"file\", \"regex\", \"r\", \"c\", \"column\", \"new\", \"multiple\", \"name\", \"python\", \"swift\", \"string\", \"html\", \"java\", \"message\", \"present\", \"frame\", \"though\", \"constant\", \"inline\", \"print\", \"r\", \"escape\", \"allow\", \"primitive\", \"distinct\", \"dont\", \"data\", \"fails\", \"closure\", \"rest\", \"base\", \"real\", \"jsonarray\", \"bubble\", \"accent\", \"numeric\", \"second\", \"factor\", \"fetch\", \"dict\", \"api\", \"use\", \"reload\", \"mean\", \"json\", \"property\", \"class\", \"table\", \"result\", \"python\", \"type\", \"string\", \"c\", \"empty\", \"test\", \"space\", \"matplotlib\", \"unit\", \"xcode\", \"io\", \"printf\", \"slow\", \"image\", \"powershell\", \"axis\", \"cast\", \"junit\", \"manager\", \"bound\", \"term\", \"mongoose\", \"ax\", \"postgres\", \"double\", \"ie\", \"figure\", \"servletresponse\", \"actionsheet\", \"uialertcontroller\", \"nsphotolibraryusagedescription\", \"errorbars\", \"purpose\", \"letter\", \"plot\", \"free\", \"swift\", \"simple\", \"edge\", \"string\", \"python\", \"use\", \"c\", \"command\", \"variable\", \"java\", \"function\", \"database\", \"negative\", \"arraylist\", \"positive\", \"compare\", \"pointer\", \"url\", \"origin\", \"comparison\", \"dataframe\", \"sqlite\", \"underscore\", \"mysql\", \"identity\", \"dice\", \"fortran\", \"enum\", \"smart\", \"storage\", \"getfiles\", \"onto\", \"cross\", \"variant\", \"request\", \"asset\", \"would\", \"name\", \"column\", \"delete\", \"matching\", \"data\", \"array\", \"use\", \"table\", \"c\", \"value\", \"row\", \"index\", \"custom\", \"multiple\", \"global\", \"child\", \"height\", \"load\", \"system\", \"firebase\", \"tensorflow\", \"safe\", \"since\", \"parent\", \"link\", \"chrome\", \"external\", \"custom\", \"declaration\", \"nth\", \"cover\", \"box\", \"selector\", \"setimageuri\", \"maven\", \"webview\", \"div\", \"shape\", \"unresolved\", \"authentication\", \"epoch\", \"recognition\", \"drawable\", \"panel\", \"could\", \"cs\", \"container\", \"image\", \"variable\", \"size\", \"within\", \"element\", \"user\", \"use\", \"background\", \"one\", \"collection\", \"option\", \"jquery\", \"void\", \"callback\", \"document\", \"mean\", \"openqa\", \"tableview\", \"maximum\", \"equivalent\", \"four\", \"stylesheet\", \"geom\", \"click\", \"comma\", \"country\", \"pure\", \"element\", \"minimum\", \"consumption\", \"five\", \"mode\", \"refreshes\", \"getelementbyid\", \"final\", \"qr\", \"sys\", \"func\", \"boxplot\", \"condition\", \"elementnotinteractableexception\", \"panda\", \"function\", \"page\", \"type\", \"list\", \"class\", \"code\", \"convert\", \"javascript\", \"window\", \"swift\", \"c\", \"dataframe\", \"import\", \"working\", \"ng\", \"resource\", \"html\", \"ssh\", \"year\", \"event\", \"module\", \"click\", \"pygame\", \"clause\", \"compile\", \"socket\", \"versus\", \"long\", \"editor\", \"concurrent\", \"ctrl\", \"microservices\", \"modulenotfounderror\", \"cmake\", \"codeblocks\", \"animated\", \"responsiveness\", \"modularity\", \"library\", \"onchange\", \"candlestick\", \"typescript\", \"controller\", \"django\", \"time\", \"code\", \"cs\", \"view\", \"java\", \"regex\", \"nested\", \"convert\", \"dynamic\", \"integration\", \"minus\", \"header\", \"point\", \"sign\", \"mouse\", \"radio\", \"wpf\", \"response\", \"status\", \"xmlhttprequest\", \"segment\", \"increment\", \"sibling\", \"horizontal\", \"incomplete\", \"literal\", \"bokeh\", \"gmapplot\", \"iterate\", \"group\", \"nonetype\", \"foreach\", \"config\", \"set\", \"json\", \"placeholder\", \"network\", \"launchscreen\", \"template\", \"object\", \"output\", \"io\", \"file\", \"use\", \"value\", \"data\", \"python\", \"type\", \"c\", \"match\", \"category\", \"language\", \"find\", \"join\", \"csv\", \"cell\", \"machine\", \"panda\", \"unity\", \"right\", \"info\", \"classnotfoundexception\", \"player\", \"hyperlink\", \"row\", \"delphi\", \"os\", \"ie\", \"preg\", \"merge\", \"regexp\", \"scene\", \"dummy\", \"implement\", \"foreign\", \"tab\", \"item\", \"server\", \"listbox\", \"mysql\", \"second\", \"r\", \"python\", \"column\", \"file\", \"table\", \"array\", \"key\", \"value\", \"difference\", \"angular\", \"issue\", \"eclipse\", \"three\", \"tkinter\", \"websocket\", \"border\", \"stored\", \"promise\", \"crash\", \"top\", \"bot\", \"bool\", \"procedure\", \"colour\", \"recursion\", \"original\", \"host\", \"standalone\", \"inner\", \"gui\", \"vuejs\", \"layout\", \"absolute\", \"cyordereddict\", \"european\", \"market\", \"following\", \"node\", \"stack\", \"module\", \"project\", \"box\", \"python\", \"command\", \"error\", \"function\", \"doesnt\", \"ggplot\", \"whats\", \"side\", \"device\", \"else\", \"bootstrap\", \"react\", \"work\", \"legend\", \"uilabel\", \"tutorial\", \"similarity\", \"adb\", \"graph\", \"opacity\", \"synonym\", \"backreference\", \"selector\", \"state\", \"divs\", \"difference\", \"left\", \"minmaxscaler\", \"jsoup\", \"egrep\", \"area\", \"bluetooth\", \"component\", \"tick\", \"plot\", \"break\", \"form\", \"regex\", \"client\", \"r\", \"object\", \"linq\", \"fault\", \"segmentation\", \"controller\", \"design\", \"environment\", \"onclick\", \"someone\", \"typeerror\", \"listener\", \"singleton\", \"efficient\", \"prefix\", \"rgb\", \"nodejs\", \"argument\", \"mobile\", \"condition\", \"dumped\", \"create\", \"project\", \"grep\", \"web\", \"directory\", \"system\", \"decode\", \"gameobject\", \"realtime\", \"keyword\", \"mismatch\", \"validation\", \"gnu\", \"pointer\", \"event\", \"current\", \"function\", \"command\", \"variable\", \"c\", \"line\", \"error\", \"file\", \"auto\", \"label\", \"button\", \"oracle\", \"calculate\", \"job\", \"similar\", \"pdf\", \"focus\", \"picture\", \"pdo\", \"standard\", \"everything\", \"openjdk\", \"enable\", \"cursor\", \"append\", \"encoding\", \"sublime\", \"automatic\", \"descriptor\", \"coordinate\", \"corner\", \"configuration\", \"library\", \"feature\", \"le\", \"parallel\", \"discord\", \"press\", \"swift\", \"event\", \"text\", \"output\", \"java\", \"mysql\", \"image\", \"id\", \"variable\", \"multiple\", \"php\", \"python\", \"two\", \"excel\", \"vba\", \"combination\", \"body\", \"software\", \"dataframes\", \"trouble\", \"stream\", \"grid\", \"domain\", \"remote\", \"outlook\", \"handler\", \"different\", \"macro\", \"backbone\", \"std\", \"buffer\", \"ampersand\", \"cooky\", \"actual\", \"unmodifiable\", \"fseek\", \"deterministic\", \"concatenation\", \"fwrite\", \"joining\", \"panda\", \"playground\", \"map\", \"column\", \"possible\", \"name\", \"item\", \"dataframe\", \"python\", \"convert\", \"data\", \"array\", \"variable\", \"http\", \"decimal\", \"format\", \"bad\", \"mapping\", \"int\", \"datatype\", \"helloweb\", \"correlation\", \"next\", \"notebook\", \"jupyter\", \"schema\", \"com\", \"dispatcherservlet\", \"uri\", \"log\", \"wrap\", \"carriage\", \"today\", \"date\", \"pivot\", \"billion\", \"dollar\", \"simpledateformat\", \"place\", \"folder\", \"utc\", \"convert\", \"digit\", \"request\", \"regex\", \"name\", \"return\", \"matrix\", \"entry\", \"edit\", \"block\", \"dropdown\", \"repeat\", \"sub\", \"pyqt\", \"index\", \"dom\", \"router\", \"illegal\", \"queue\", \"convention\", \"namedtuples\", \"focusable\", \"app\", \"generic\", \"internal\", \"divs\", \"multidimensional\", \"javadoc\", \"params\", \"bug\", \"shift\", \"clicked\", \"center\", \"link\", \"intended\", \"start\", \"element\", \"expression\", \"folder\", \"array\", \"without\", \"python\", \"one\", \"c\", \"php\", \"try\", \"called\", \"classname\", \"post\", \"number\", \"large\", \"facebook\", \"rectangle\", \"email\", \"request\", \"canvas\", \"render\", \"preventdefault\", \"limit\", \"combobox\", \"mail\", \"pycurl\", \"setting\", \"uiview\", \"longest\", \"np\", \"prime\", \"azure\", \"selection\", \"vm\", \"typeorm\", \"manual\", \"scipy\", \"vanilla\", \"regular\", \"cs\", \"send\", \"expression\", \"react\", \"php\", \"python\", \"javascript\", \"random\", \"c\", \"result\", \"cant\", \"chart\", \"white\", \"icon\", \"jar\", \"initialized\", \"model\", \"ajax\", \"phone\", \"entity\", \"listview\", \"db\", \"footer\", \"download\", \"area\", \"visible\", \"open\", \"framework\", \"padding\", \"fade\", \"effect\", \"audio\", \"webpage\", \"disable\", \"success\", \"service\", \"volume\", \"near\", \"livecharts\", \"ii\", \"pre\", \"video\", \"file\", \"custom\", \"view\", \"sql\", \"android\", \"use\", \"window\", \"database\", \"io\", \"need\", \"sum\", \"field\", \"select\", \"navigation\", \"square\", \"task\", \"make\", \"apk\", \"angularjs\", \"debug\", \"ef\", \"submit\", \"force\", \"golang\", \"store\", \"kafka\", \"autocomplete\", \"help\", \"count\", \"ui\", \"emoji\", \"cmake\", \"fastlane\", \"mysql\", \"unique\", \"numeric\", \"generates\", \"display\", \"trigger\", \"performance\", \"outside\", \"column\", \"one\", \"form\", \"value\", \"array\", \"r\", \"google\", \"structure\", \"map\", \"zoom\", \"plugin\", \"package\", \"firefox\", \"dimension\", \"website\", \"social\", \"medium\", \"dependency\", \"itextsharp\", \"delimiter\", \"wont\", \"heroku\", \"street\", \"webapp\", \"kotlin\", \"classpath\", \"internet\", \"video\", \"account\", \"definition\", \"driver\", \"buton\", \"panorama\", \"producer\", \"org\", \"selenium\", \"work\", \"custom\", \"graph\", \"data\", \"python\", \"control\", \"camera\", \"tab\", \"bar\", \"directive\", \"keyboard\", \"better\", \"member\", \"anchor\", \"ide\", \"game\", \"plot\", \"overload\", \"installation\", \"generator\", \"tuples\", \"nan\", \"anaconda\", \"dynamically\", \"movement\", \"possible\", \"scala\", \"scatter\", \"completion\", \"false\", \"dialog\", \"implementation\", \"wordlist\", \"findall\", \"arduino\", \"prominent\", \"python\", \"index\", \"c\", \"variable\", \"class\", \"user\", \"function\", \"spring\", \"boot\", \"util\", \"separate\", \"connection\", \"drop\", \"console\", \"py\", \"flexbox\", \"zip\", \"concatenate\", \"executor\", \"ol\", \"jasper\", \"newsinglethreadscheduledexecutor\", \"fgets\", \"report\", \"dataframe\", \"oracle\", \"drag\", \"groupby\", \"str\", \"dataset\", \"replace\", \"mutable\", \"scala\", \"security\", \"jvm\", \"massive\", \"spark\", \"within\", \"item\", \"list\", \"java\", \"use\", \"application\", \"memory\", \"method\", \"python\", \"core\", \"insert\", \"dot\", \"exception\", \"define\", \"net\", \"nullpointer\", \"style\", \"handling\", \"notation\", \"reactive\", \"prompt\", \"get\", \"architecture\", \"statement\", \"customization\", \"null\", \"asp\", \"relationship\", \"metric\", \"pagesize\", \"processtree\", \"procfsmetricsgetter\", \"warn\", \"reporting\", \"parseexact\", \"proxy\", \"loadnibnamed\", \"owner\", \"azure\", \"pointer\", \"difference\", \"call\", \"command\", \"error\", \"java\", \"list\", \"non\", \"remove\", \"static\", \"xml\", \"sequence\", \"backslash\", \"init\", \"directory\", \"price\", \"inherited\", \"usage\", \"def\", \"woocommerce\", \"old\", \"help\", \"log\", \"typedef\", \"pyspark\", \"pypi\", \"package\", \"keywords\", \"sudo\", \"yaml\", \"check\", \"diagram\", \"arraylists\", \"execution\", \"picker\", \"observable\", \"blade\", \"sort\", \"admin\", \"file\", \"class\", \"method\", \"type\", \"without\", \"python\", \"script\", \"default\", \"new\", \"use\", \"float\", \"struct\", \"mvc\", \"asp\", \"shiny\", \"docker\", \"net\", \"apache\", \"facet\", \"official\", \"uitableview\", \"spark\", \"driver\", \"org\", \"ref\", \"necessary\", \"defined\", \"possible\", \"coding\", \"boost\", \"upload\", \"localhost\", \"furniture\", \"bin\", \"workbook\", \"trait\", \"initialization\", \"classmethod\", \"default\", \"email\", \"path\", \"void\", \"widget\", \"parameter\", \"unable\", \"value\", \"file\", \"dataframe\", \"c\", \"method\", \"java\", \"json\", \"max\", \"like\", \"cmd\", \"solution\", \"heap\", \"exe\", \"keyword\", \"share\", \"aggregate\", \"mm\", \"innerhtml\", \"logical\", \"executable\", \"calendar\", \"optimization\", \"proper\", \"dd\", \"yyyy\", \"opengl\", \"format\", \"chef\", \"dog\", \"navbar\", \"project\", \"hh\", \"jops\", \"related\", \"tensor\", \"strptime\", \"makefile\", \"profile\", \"name\", \"java\", \"swift\", \"python\", \"time\", \"different\", \"code\", \"c\", \"date\", \"file\", \"utf\", \"least\", \"true\", \"statement\", \"copy\", \"referenceerror\", \"hour\", \"installer\", \"meta\", \"one\", \"encode\", \"speed\", \"org\", \"sheet\", \"component\", \"thing\", \"amount\", \"xmlunit\", \"openmp\", \"del\", \"second\", \"capital\", \"letter\", \"vue\", \"another\", \"emoji\", \"sftp\", \"portrait\", \"datepicker\", \"systemfolder\", \"search\", \"web\", \"list\", \"element\", \"python\", \"value\", \"regex\", \"every\", \"substring\", \"address\", \"const\", \"symbol\", \"build\", \"ip\", \"path\", \"svg\", \"minute\", \"qt\", \"admin\", \"email\", \"progress\", \"dirname\", \"within\", \"animation\", \"place\", \"electron\", \"sort\", \"overlap\", \"division\", \"construction\", \"eval\", \"apostrophe\", \"finish\", \"second\", \"zipfile\", \"project\", \"temperature\", \"execution\", \"name\", \"html\", \"static\", \"end\", \"order\", \"string\", \"javascript\", \"bit\", \"available\", \"month\", \"identifier\", \"integer\", \"tree\", \"last\", \"exclude\", \"day\", \"normal\", \"upload\", \"constraint\", \"textfield\", \"scanf\", \"ascii\", \"revert\", \"wow\", \"require\", \"newtonsoft\", \"date\", \"previous\", \"range\", \"jtable\", \"subtraction\", \"systemfolder\", \"syswow\", \"wix\", \"gradle\", \"coefficient\", \"codelite\", \"insertionsort\", \"offline\", \"number\", \"character\", \"regex\", \"data\", \"file\", \"multiple\", \"input\", \"argument\", \"variable\", \"r\", \"java\", \"php\", \"error\", \"location\", \"binary\", \"dash\", \"window\", \"collector\", \"reverse\", \"offset\", \"undefined\", \"action\", \"dll\", \"cd\", \"mongodb\", \"operation\", \"href\", \"whether\", \"mail\", \"reaction\", \"openssl\", \"signature\", \"foreach\", \"chrome\", \"relevant\", \"locale\", \"exist\", \"xaml\", \"edition\", \"observation\", \"digital\", \"bypass\", \"islower\", \"php\", \"offsetof\", \"number\", \"style\", \"property\", \"url\", \"c\", \"create\", \"convert\", \"error\", \"string\", \"column\", \"python\", \"data\", \"size\", \"must\", \"interface\", \"programming\", \"visual\", \"write\", \"pattern\", \"multi\", \"scanner\", \"transaction\", \"studio\", \"switch\", \"qt\", \"telegram\", \"implicitly\", \"typed\", \"stylecop\", \"illegalstateexception\", \"branchless\", \"hebrew\", \"emulator\", \"migration\", \"overlap\", \"frequency\", \"birthday\", \"communication\", \"viewholder\", \"bson\", \"textarea\", \"meaning\", \"sort\", \"window\", \"statement\", \"format\", \"cpu\", \"variable\", \"c\", \"regex\", \"android\", \"error\", \"method\", \"expression\", \"record\", \"boolean\", \"mysqli\", \"regular\", \"precision\", \"token\", \"undeclared\", \"unrecognized\", \"engine\", \"attached\", \"curve\", \"interval\", \"recall\", \"suspicious\", \"hy\", \"confidence\", \"deserialize\", \"longpressgesturerecognizer\", \"codelite\", \"insertionsort\", \"layout\", \"gpu\", \"invalid\", \"ignore\", \"launch\", \"postgresql\", \"jrexception\", \"jrruntimeexception\", \"sf\", \"result\", \"instance\", \"use\", \"row\", \"swift\", \"error\", \"type\", \"member\", \"number\", \"javafx\", \"rule\", \"etc\", \"algorithm\", \"api\", \"menu\", \"title\", \"equal\", \"incorrect\", \"terminal\", \"distance\", \"kotlin\", \"sec\", \"backtracking\", \"properly\", \"win\", \"macos\", \"extract\", \"ssl\", \"rxjava\", \"delay\", \"na\", \"cryptocompare\", \"generate\", \"insertion\", \"second\", \"percent\", \"ultimate\", \"analytics\", \"installing\", \"webpage\", \"page\", \"content\", \"vector\", \"file\", \"multiple\", \"duplicate\", \"numpy\", \"min\", \"support\", \"zero\", \"particular\", \"transform\", \"consecutive\", \"keyerror\", \"energy\", \"swipe\", \"node\", \"jersey\", \"check\", \"th\", \"incompatible\", \"wait\", \"beginning\", \"realm\", \"flutter\", \"linspace\", \"inverse\", \"latest\", \"viewpager\", \"rd\", \"analysis\", \"currency\", \"release\", \"plain\", \"picturebox\", \"svd\", \"property\", \"array\", \"number\", \"specific\", \"position\", \"io\", \"file\", \"row\", \"type\", \"java\", \"event\", \"cs\", \"element\", \"value\", \"login\", \"lock\", \"different\", \"perl\", \"bottom\", \"margin\", \"tac\", \"tic\", \"toe\", \"username\", \"cloud\", \"iteration\", \"speech\", \"nullreferenceexception\", \"reentrant\", \"apps\", \"cors\", \"rootlocalhost\", \"align\", \"effect\", \"sound\", \"combine\", \"mutex\", \"delimiters\", \"egl\", \"swapinterval\", \"vendor\", \"flask\", \"access\", \"property\", \"screen\", \"notification\", \"library\", \"regex\", \"object\", \"text\", \"reference\", \"pas\", \"xamarin\", \"example\", \"popup\", \"set\", \"webdriver\", \"appcompat\", \"anyone\", \"star\", \"material\", \"toggle\", \"headless\", \"selenium\", \"com\", \"step\", \"unable\", \"post\", \"display\", \"javax\", \"theme\", \"source\", \"activity\", \"complete\", \"screen\", \"explicit\", \"state\", \"mat\", \"reactiveui\", \"unmodifiable\", \"cat\", \"form\", \"python\", \"size\", \"command\", \"class\", \"empty\", \"variable\", \"conditional\", \"objective\", \"fragment\", \"doc\", \"filter\", \"angularjs\", \"password\", \"winform\", \"letter\", \"root\", \"route\", \"average\", \"jinja\", \"real\", \"strcpy\", \"draw\", \"graphic\", \"content\", \"previous\", \"pymongo\", \"richtextbox\", \"cchmaccontext\", \"ldap\", \"would\", \"pattern\", \"webapi\", \"histogram\", \"unique\", \"migrate\", \"intent\", \"local\", \"program\", \"text\", \"c\", \"database\", \"user\", \"change\", \"android\", \"java\", \"color\", \"line\", \"complexity\", \"level\", \"exists\", \"iterator\", \"jsf\", \"responsive\", \"validate\", \"triangle\", \"microsoft\", \"strange\", \"jsp\", \"throw\", \"raw\", \"subset\", \"shortest\", \"executorservice\", \"plus\", \"exceeded\", \"springboot\", \"servlet\", \"tool\", \"gc\", \"msbuild\", \"webapplication\", \"limit\", \"required\", \"annotation\", \"memory\", \"simulator\", \"arraylist\", \"path\", \"time\", \"background\", \"java\", \"c\", \"case\", \"bean\", \"ubuntu\", \"except\", \"sdk\", \"single\", \"quote\", \"oop\", \"push\", \"notification\", \"pip\", \"wheel\", \"bdist\", \"setuptools\", \"hql\", \"memory\", \"home\", \"registration\", \"slider\", \"fcm\", \"flickering\", \"upgrade\", \"receipt\", \"package\", \"criterion\", \"command\", \"nosuchbeandefinitionexception\", \"springframework\", \"big\", \"testing\", \"sensitive\", \"unable\", \"pointer\", \"id\", \"studio\", \"window\", \"java\", \"name\", \"bracket\", \"syntaxerror\", \"conversion\", \"bind\", \"isnt\", \"level\", \"scroll\", \"setup\", \"param\", \"parenthesis\", \"top\", \"digit\", \"violation\", \"layer\", \"vertical\", \"complex\", \"fastest\", \"basic\", \"signify\", \"egrep\", \"passing\", \"day\", \"hackerrank\", \"dotnet\", \"setinterval\", \"tostring\", \"financial\", \"yahoo\", \"breaking\", \"pricing\", \"service\", \"core\", \"number\", \"javascript\", \"code\", \"c\", \"python\", \"string\", \"php\", \"intellij\", \"batch\", \"ui\", \"idea\", \"kera\", \"logo\", \"able\", \"cache\", \"wise\", \"downloaded\", \"blue\", \"around\", \"adaptive\", \"mac\", \"nosuchmethoderror\", \"realloc\", \"sequential\", \"weight\", \"impact\", \"ramda\", \"plugins\", \"segue\", \"bluetoothsocket\", \"connectasync\", \"ifstream\", \"amd\", \"apt\", \"numpy\", \"cast\", \"approach\", \"window\", \"type\", \"file\", \"update\", \"second\", \"program\", \"net\", \"python\", \"code\", \"thread\", \"value\", \"variable\"], \"Freq\": [254.0, 199.0, 142.0, 136.0, 171.0, 175.0, 159.0, 123.0, 221.0, 110.0, 98.0, 88.0, 43.0, 65.0, 60.0, 78.0, 55.0, 57.0, 127.0, 64.0, 70.0, 37.0, 171.0, 40.0, 88.0, 52.0, 28.0, 35.0, 48.0, 131.0, 81.82078812522124, 24.451823480220504, 57.602109529341654, 18.1743105301105, 20.891235826012732, 10.894406255872052, 16.694975110752086, 10.741086636982672, 10.016163968586232, 36.72592347054, 16.572268443303482, 8.660655315315951, 7.558125048966245, 6.643888627369199, 14.567259559130118, 5.975075698200306, 6.391291147859017, 6.369694851954662, 35.395578715065106, 119.8328618575116, 5.266363987484205, 5.634182957549322, 4.957266165511093, 10.207365637424529, 4.563064393937335, 13.030933927293711, 3.4985096729918213, 3.4384987493229313, 3.483201119594649, 3.3399249902789165, 14.828987735546864, 8.074207496040495, 8.134954148143883, 28.861538244381578, 10.867788907739802, 16.60931388206739, 9.162113226360905, 17.770825698666023, 19.412714855953627, 18.755640800614092, 18.288146902809466, 14.215981666501012, 14.053107504641138, 10.575926107248542, 25.018007763445816, 18.67608574558886, 12.011211958181086, 35.33684683431271, 38.11899395235686, 18.625485007502554, 38.46856453512979, 75.42018327972147, 33.88007922511071, 21.83431514692394, 8.364930922697623, 20.586565352671773, 7.984409993448852, 7.899955545021018, 107.15290881305269, 6.596373471463848, 15.005685193312356, 5.874968973911911, 6.924839803605989, 5.3173855197707445, 4.6913679331451, 18.099134921209863, 4.943586130413192, 4.535806759640166, 4.048467468515821, 3.603283340009748, 3.5473450365443884, 3.393672268721142, 13.771499524906607, 3.6118127333458285, 5.7406731555114145, 29.808939567559733, 6.726808007506676, 10.97047096255056, 20.501113798177286, 13.432473883060384, 10.460459482391059, 11.888877929240431, 21.357250837878563, 9.609334098072818, 18.11827239100962, 15.305703523330202, 13.558278189446982, 9.090939960273506, 23.92967557892165, 112.31170737793383, 21.117452908414073, 12.117755177184165, 8.545515256760075, 77.86531057675766, 7.667748759582379, 25.66148124531748, 9.462433376525095, 22.911370947527917, 12.76776893406152, 7.113414721007259, 4.840049469767268, 4.926263951281274, 84.52307900847315, 4.353968083811349, 5.6794015693173705, 3.807335132048694, 3.793608198984307, 5.149976630737668, 3.47273688456526, 12.048474748741128, 3.1013882068114085, 3.1085711516729484, 15.240821328664023, 3.2495804207088934, 2.839391941426854, 2.839391941426854, 2.839391941426854, 2.839391516022953, 10.441936918145593, 21.197792987464766, 45.42298134158907, 8.423872713000648, 6.717348375013258, 5.1852051785537085, 11.722209525564491, 17.009140262655688, 10.54499952114265, 18.638530790791165, 15.409548426949062, 16.999971957790073, 14.6377636543343, 7.595833379379059, 8.293797813123637, 8.15289468236089, 9.677061555684292, 7.41123701398624, 30.282607377663865, 17.328543583794414, 10.142203287841074, 132.67653341088624, 28.689362727601356, 7.948097216771075, 6.1962391214808825, 4.938371926695018, 5.306666486120068, 4.807148300937986, 5.2241784438505405, 40.34172322077999, 11.847992285203382, 12.468162405663294, 3.708029796198773, 3.4890997439521, 5.1688420094134875, 3.087743797719745, 9.825564502541209, 3.517740335913194, 2.81987513336712, 5.853052972503924, 2.8968894724384837, 2.8859375471221917, 2.7322971733164962, 2.744115440146167, 2.594829691287188, 2.3428337333132445, 2.3428337333132445, 2.342833410533247, 5.211574853286872, 11.4198710987956, 9.112246530393245, 18.884673698620592, 22.571426805721988, 6.825946745307899, 12.634148791594628, 15.430433226062057, 9.453573466584412, 6.140070882990187, 5.909349677433637, 7.32924081090112, 8.234922750378809, 8.587101550087034, 7.382307779175518, 5.603361340932368, 5.404026616775924, 5.359107261199251, 12.785653743879909, 34.32743354059998, 13.052615556753825, 7.594926495595862, 9.509671605637863, 7.835616371414807, 19.94271957512389, 6.0556975891714835, 7.444538973556929, 4.938441858768705, 4.5818154206019255, 4.546046901473304, 4.176271492547747, 22.74841162671182, 3.574837805319763, 3.440471818424187, 3.3110894010364227, 5.480868943781077, 7.279556137316523, 20.626581217200297, 8.311621867452274, 5.166336919843094, 65.16716341930223, 2.9983235135155146, 3.0405792173277115, 2.847575024769778, 2.6558521711479135, 2.7100649745171808, 4.807114369495143, 2.5543651122649256, 4.213928430982969, 5.716291058465414, 9.164578146626507, 11.71285697633934, 17.09728032163218, 5.927137717701364, 12.690107156812388, 5.483475581578057, 11.461475551475683, 5.4372210724899, 10.569908836904862, 10.84963884090688, 6.6359933632429655, 8.486548934015074, 6.469785221491819, 8.374583624595939, 6.144089853259409, 5.956846577894348, 5.660144947133898, 14.033005847745235, 14.480020059331821, 10.532942144437055, 9.47346401202511, 25.332300102344256, 9.811135572470903, 154.14177176627243, 17.770825896863244, 5.8119605625978545, 8.233804750006689, 3.9474237877244978, 6.134958948621224, 8.43105434347621, 7.715496300444406, 4.696187724068329, 2.959370796546725, 2.8617406844342725, 2.6799325714386324, 4.873010104242339, 2.378894558090135, 2.378894558090135, 2.3788942578533034, 2.8581831782194405, 2.3924166245011067, 3.708961885360964, 4.683946167743124, 2.076666105705279, 1.9729980807956808, 1.9669829859977188, 6.942447707995698, 2.0324927110619404, 2.487598455372201, 4.189336011754066, 6.32457111757451, 13.31693259831081, 7.775457198509774, 11.924019847617284, 7.083524791738004, 7.666985834653599, 4.162015661047268, 9.6658551730895, 8.03375394690054, 6.141227893660105, 9.881920608780606, 7.974903925111218, 4.206847625180203, 22.381711460232335, 9.179125361907735, 11.985427059057974, 7.943011658827578, 21.94818256376867, 14.498412374053716, 78.40071620604782, 8.594040739559814, 6.304726060363195, 4.54346196219501, 6.490646114520475, 4.354948401647707, 6.710229164068734, 3.7881945173293223, 3.458349602734952, 3.7192299534368223, 3.4711345522283854, 5.332546970910963, 2.8400873152140074, 2.950414546254031, 2.616234834168662, 2.579206964512137, 8.499236457652946, 2.556577306567209, 1.9030495738571676, 1.7309645026218377, 1.6926139545358738, 1.692317718800307, 1.692317718800307, 1.692317718800307, 4.01963436840483, 3.662406262834586, 5.068493420662536, 4.035148471012493, 2.8464617283045115, 9.499297829560883, 13.308226391011688, 7.770693137613991, 7.875962367704059, 4.480731249932421, 3.6842166342242426, 3.5250366777869435, 21.241953709150152, 24.834919870983608, 7.493997184010031, 5.934698532649622, 7.2996359913299695, 4.22681132037359, 5.917580834675431, 3.6522634366832363, 9.36369094727583, 3.1433793802071754, 4.2527845969301055, 8.093762218875222, 2.4907392718168673, 2.1114836307168487, 1.9512718310467496, 1.9654377992113552, 2.0114756391320534, 1.7896034295734498, 1.8730336737589786, 2.194414785452042, 1.7896034295734498, 6.396828901217544, 1.7135063952141345, 1.5301679773338774, 13.954492776333392, 1.4431090707080743, 3.039221649555206, 1.32043025702907, 1.461347239091527, 2.404754623614184, 2.2159921833099316, 9.708255299023124, 7.6489682525864335, 17.293668547577617, 6.56957611560437, 14.18714590174959, 5.443058259903626, 8.864180432780453, 8.770706524170983, 3.877314447158069, 7.756970042178295, 4.224302447323835, 2.939442285691324, 23.762845672893874, 28.54859951903193, 15.595701460875068, 14.208561827026026, 5.175509151399045, 5.419001639783459, 6.2593544670142665, 12.963937046636268, 29.235046164006835, 3.0068165051355678, 5.001736570355722, 3.498454680181748, 3.6254608889701245, 2.2546311715756238, 2.431475577991871, 2.315258279228132, 2.2065597791757834, 1.9106184858023858, 1.8197727142588398, 1.8197727142588398, 1.8197727142588398, 1.8723358786319, 1.665709642269408, 1.819772903282615, 1.5339568574586637, 1.1555433567651627, 1.026533874005815, 1.0278225435941426, 19.302660328627233, 3.247081412556183, 4.639277054347812, 9.453610539221003, 8.91983008053583, 5.061531595349218, 6.468915337572355, 6.758354520156605, 30.558896956764396, 5.215481036618138, 10.584014657796343, 4.289637556857347, 7.770949738233353, 24.384217306620528, 2.350974723279421, 3.892937842152358, 2.172160910618438, 2.194138540641875, 2.1122257061810426, 2.535387446735218, 2.1275041057041597, 14.269072951254394, 1.8030310126594882, 5.663170885141547, 1.499927768222243, 6.727530626019745, 1.8820678120116154, 2.818531403491192, 1.2453128357912633, 1.6461511235525665, 1.0644942223224292, 1.022073731757841, 1.1901004515734521, 1.1642835630970065, 1.0850250561416819, 1.0850250561416819, 2.3389541367427977, 19.96912126332103, 4.180575346943481, 5.055787683630036, 10.68772151775328, 4.409962961285119, 3.0924028646674446, 3.495889969930638, 2.9605781760792276, 3.9067838275146323, 2.865786315196098, 3.4615781501138225, 2.639961898787228, 2.9864561415449282, 11.369884298997105, 6.78896607048338, 8.586568672289284, 5.547576548847864, 5.325906193177582, 6.387004672859699, 5.465889956164755, 22.479426998876473, 3.2927671937698437, 3.3747119558186385, 2.8631414140397964, 3.1334669460888476, 2.6228592135597966, 29.15504408016261, 2.577758469678663, 2.5626485208033536, 2.1761966026887314, 3.9906600110681403, 2.8756725578665367, 1.7737571403934873, 1.6928609431530157, 1.7705094419883696, 2.7735784892470603, 3.201030049626792, 1.3165136476347163, 2.671299188621155, 1.7388939853589052, 4.657512926938235, 6.20890969535679, 1.046349697111741, 2.6338913502233985, 10.045862526540395, 6.115019093735487, 9.525650171455768, 5.2128543695579035, 2.8980520505731024, 5.236687915461135, 3.1024999820199026, 2.8407456729116136, 2.7551289481154906, 15.074829040576972, 13.160322038761, 11.778221497881406, 8.018199125422411, 4.811321534098074, 5.334065389122545, 12.965326971127332, 4.382770205859339, 3.6440221461645694, 16.31410216971495, 3.5272695351410337, 3.4241699119821734, 3.293924719990524, 2.8124606423532006, 2.6283836597179455, 2.6327781837217903, 2.4679481190679793, 2.30712492841799, 2.1911542142149223, 1.9757340017524503, 3.199992246809819, 2.468497564768863, 1.7092278383464916, 1.6043349216362477, 1.6043349216362477, 1.6043349216362477, 1.6043349216362477, 1.6043347480357104, 1.8645725432370854, 3.288169514974507, 4.015269673011618, 1.8068279700809309, 5.538456759443741, 2.638172646821082, 1.7792944040470446, 5.294693481641468, 4.946550797518592, 2.7856384913215955, 4.874591291558185, 2.32545193715173, 2.6480861055095377, 2.821480926276712, 2.637663302844339, 21.350302699760338, 5.786722482916388, 6.699163904409249, 4.150876207533033, 4.171247937666883, 9.783709667874517, 10.749196900965618, 3.388596356547932, 3.212379165217879, 7.818860593726996, 2.4635221682430877, 2.3968205368803415, 9.86695203696877, 1.997376981021042, 1.9768908828045222, 1.9755829247466477, 2.338183885548494, 1.8394385500752637, 2.1263053387367323, 1.6109845829033749, 1.643458520223092, 1.9522288269185524, 1.484979378637944, 4.94069169707297, 1.3986558386537653, 1.495114488638595, 9.975689014219437, 18.37553608423989, 2.7598569761508163, 1.2824293592319667, 8.665042968035019, 12.460232069894015, 3.97875765698814, 4.853243763187273, 11.939319966776388, 7.093764919395371, 3.1587895976762934, 2.3961822073301717, 2.158823771331216, 2.4367676501582056, 11.01070570262457, 10.803131242578642, 8.34476973481597, 7.781288576371061, 10.647994692007108, 9.562492206248097, 4.037869941798151, 3.9494265115997154, 3.2903648460256463, 5.69134243674086, 5.025812065104965, 4.890598144169792, 3.573385969529752, 5.475646497133489, 2.6672645009292113, 2.234482997539003, 1.7760948706823725, 2.63362795555462, 2.292749498792419, 1.5699543929163422, 1.561455159106132, 1.6319996995216057, 4.346679067636975, 1.2694308400537524, 1.3171574768351102, 1.2771327329903648, 1.2165213297359871, 1.4775765093554933, 1.2163722328333713, 1.0283347552738948, 2.5668060230348466, 7.152302652749341, 1.8950396280628587, 4.238863616586004, 5.89115343922125, 2.315335666848938, 2.134172274754059, 3.5490935141038573, 3.322739000791217, 2.098162965437467, 1.9346941948439362, 1.931141284322839, 11.030317406400968, 8.842282654870058, 17.174571807949267, 6.540407709617307, 4.694071199054433, 4.730958399959629, 6.030777124725684, 2.9697223958213406, 2.6866936748025125, 3.958661595691152, 2.7766958969956046, 1.9589843674028427, 1.8405057333764272, 1.7459572611216776, 4.6081770675909635, 1.9418450178195572, 1.3976768413517713, 1.384082067811995, 12.38751089686465, 1.2193419023631047, 1.2504124979575488, 1.2796747914337572, 1.0717743977104723, 1.1214585832149413, 1.1896333409043358, 1.0690276836583736, 0.7837603176361795, 0.773606607006619, 0.7617753553799201, 0.7505515950845313, 1.3908800389891283, 0.8298999270971394, 2.848793926623351, 9.767443738857379, 2.4571767875910213, 2.959683448164542, 4.081858441611104, 3.1718790890377018, 2.375405064834681, 1.9018820815832547, 2.398975962252405, 1.7331413563378448, 1.8457668596006866, 1.9475863806975002, 1.480293324780943, 7.369732405542923, 6.122944065547039, 4.977321438017545, 4.907681440464631, 19.845487354439882, 4.275013069617658, 4.14780256024046, 7.987101851618771, 7.606531218146777, 6.50883642716197, 4.657015020307471, 2.4530503370126766, 2.682305721036137, 2.23500837576587, 2.0351556649689075, 2.5655463599149613, 2.0202716913880923, 1.8018868596741744, 1.7307584925935744, 1.7070017716124348, 1.624914351566009, 2.0641669036889185, 1.5444575143660144, 1.5438363399483264, 1.4786244365530454, 1.3536015353793585, 3.1516171871010052, 1.1329952815319342, 0.991922313224514, 1.6405249767617809, 2.2316880704835094, 1.8657453709577987, 4.018769438290931, 4.506216859599109, 3.5699762092863123, 2.9199202425191317, 5.122517061896839, 1.949008625195413, 1.7749659619269482, 1.7629052427727627, 15.936123689326175, 4.403262241951864, 3.90437055487986, 5.6180099654607725, 4.228212216211574, 3.054991031317654, 2.86462867907217, 2.4925928676730713, 3.812355607909185, 4.845294611107818, 2.4364881215725136, 1.9963522720012503, 1.8174928448548868, 1.7361678925236357, 1.6866725355832413, 1.649193059862293, 1.5787307237675765, 1.552623820660095, 1.3543932778448664, 1.3543932778448664, 1.3960507143533987, 4.498633356372217, 1.325674416353293, 1.5740432156589783, 1.1192785038443835, 2.0653743222110656, 11.631499555054367, 0.9755568436442557, 1.0713209244491857, 0.9450628158234645, 2.3709145490977197, 11.317584590020347, 1.9908150184003959, 2.418906080134055, 6.021684343137337, 2.4381750681755614, 4.512711697526815, 2.4068539292899396, 2.4667795303622566, 1.9882612823085366, 1.7366325800457167, 11.760912225314138, 4.4152928685542685, 3.7659623491295946, 2.91192958197593, 4.188080328536237, 7.414582313459662, 3.054486421971028, 2.601136422196959, 10.033560006883762, 3.7265076381933993, 3.3024114675681546, 2.1699712791276875, 1.6557695869084252, 1.569914183297759, 1.4663745120821141, 9.201112108589363, 1.4650734500034694, 1.4871173571826497, 2.133412291843262, 1.4390467663639472, 1.457562989904397, 1.2966840720957364, 1.144652866207857, 1.192112312944444, 1.0799658773078906, 1.0199708341754852, 1.900662993239794, 5.4880422934125646, 5.635189788710144, 0.8101561730062311, 3.7129291377545135, 1.6683230740982773, 3.3267745114400653, 5.906379941237358, 3.860357171586671, 3.982036339280571, 2.542656790542435, 3.5808267798515647, 2.2313141180858898, 2.7937858528657027, 1.80473337194248, 20.111795369629498, 10.76809415524085, 5.3675633483968435, 4.646919559149647, 4.3179681005832675, 3.6930039980915574, 2.963397561911461, 2.8356495718225365, 5.205261814196784, 3.4962887536338427, 3.422997065736633, 2.4286322840745465, 2.4211830716973863, 2.3694687629454423, 1.874648574724928, 1.8835383101513576, 1.8668289458550735, 2.024491225057703, 1.6993211394956558, 1.6681406639526168, 1.8935094794576888, 1.571832115453821, 1.7247788429754638, 1.3990058052947283, 1.310817906028216, 1.310817906028216, 1.310817906028216, 1.4284809327810672, 2.885516875876638, 2.1048109311830867, 3.403656767848828, 2.9730447958104724, 1.7597464202840578, 6.678925747139452, 2.2727292553637577, 2.873725262492678, 1.741891564141473, 13.110667515189784, 6.403685778611573, 6.304851623146786, 4.094609841513356, 5.596297556783166, 3.437205401472074, 5.215183904513644, 7.3737699165290875, 8.270546082208723, 1.7751399603043823, 1.7057764024573963, 1.711717094023794, 1.5873792941429434, 1.6056841158721828, 1.9994176648101885, 1.4659895462215238, 1.3180555712856532, 1.2871769104579114, 1.813807985161718, 1.7166468464278042, 1.6051589860782707, 4.38391875244299, 1.0501713924773612, 0.9015709302056674, 0.7511875132534771, 0.7985405748843032, 1.3269782455212826, 0.7454834179541521, 2.4612114403595315, 0.8147360579032171, 1.910448281375521, 1.6307284095238035, 2.6350616179447055, 3.0899335286947993, 1.5862496587430233, 1.70341558451523, 1.3893344380800638, 5.820530197046378, 5.5702104073879415, 5.307434705070298, 6.218300910486345, 3.1730762765414444, 2.9533952032432986, 2.6421882135710066, 2.648970100938265, 2.7657579622904556, 2.184098606928945, 1.819154278053656, 2.0489605336675543, 1.6158141703663422, 1.4065849804438302, 1.5432837526648098, 4.281064255809159, 1.1519559365640348, 1.7918644214576407, 0.9977974388926725, 2.456177058163193, 3.347473661411761, 0.7743593034058921, 1.3572715538540374, 1.1874310575073876, 2.447354970209778, 0.6476726202132574, 0.6349814201867591, 0.6367404816422518, 0.9690896556419808, 0.6171620685164502, 1.4634753674557663, 0.7340469083770119, 1.7688828916136863, 1.5582120666025923, 1.4709581897442603, 3.474853685870762, 1.6047538671318522, 2.5794938396318754, 3.1364971193336313, 1.7560739609532952, 1.693022743202129, 1.4581054361595844, 5.279813781643409, 4.790977512802987, 12.495032962860058, 4.3316470317314275, 2.9073257563893224, 2.2701396241230536, 1.8913968772743464, 2.4248881322496345, 1.7791252220083742, 1.6269335685520092, 1.5088592666820486, 1.579764886229795, 1.4840865258676887, 1.383445054151665, 1.48865447449884, 1.3298454153545058, 1.3672319649302063, 1.3073276481820486, 1.1833537643854677, 1.2429976459499705, 1.1477425355772581, 1.14154780899928, 0.9924390184950675, 1.392025714106597, 2.3935913816176386, 0.9359094553378232, 1.43926621305771, 0.9222947808071198, 1.3729970476694764, 0.8113802771459312, 4.726207362551186, 1.8996386632156497, 2.9574042110286953, 1.628690507002723, 3.592487223574263, 1.8803376873032918, 1.9467391825371438, 1.802739991041662, 2.115510543967583, 1.765479149110505, 1.6957948689575653, 1.400765535239089, 29.591856314907847, 5.030990952548287, 3.796670530763424, 3.4664099536038124, 2.407172756603474, 2.380040249096815, 2.188067687508705, 2.247885221531541, 4.242351545103443, 1.7105762018153912, 1.6295698501474116, 1.5815869053416614, 1.044720487571286, 1.0436488176437138, 5.505196059319944, 0.9000543933076899, 0.7343597787506957, 1.0732126338169226, 0.5813735722254094, 0.5350312113404945, 0.5351185535724351, 0.5298419952334853, 0.5848344656844263, 0.4896414585339046, 0.39535860615247365, 0.4091885292246643, 0.4896414585339046, 0.5099622348661494, 2.084581076633814, 0.347048354545641, 1.5402462749686041, 4.957321235078973, 0.79709194910879, 1.552621117239029, 1.288722510858686, 0.9371850374737312, 2.3261488458616286, 0.9887690084763849, 1.1868552997316433, 1.3395254429273389, 0.7321099516088789, 8.126474096191036, 5.277630187984149, 11.610243053868432, 4.11149325113415, 2.9552542537218054, 10.811102078270242, 3.184363109867106, 2.360705113464619, 2.457448616508321, 2.2217279070578875, 2.0189226203627912, 1.979308091106211, 1.7505705683303967, 2.2621022380480245, 1.59795458261563, 1.59795458261563, 2.1071752826688774, 1.3417161826430073, 1.2199702424352605, 1.2596953600450482, 13.816549465800112, 1.1459297053744306, 1.0404422822323058, 1.0404422822323058, 0.9391432943289723, 0.9700442842834494, 2.2452472653485374, 0.6232567945397114, 3.4770558726279392, 0.7455735442545601, 2.366531462544318, 1.7599558106932416, 1.8044688065267154, 1.7063527002325987, 4.868789607664636, 3.661314746905517, 3.466267486114723, 5.3854963005650305, 2.731748333021142, 2.474358376241756, 2.6606377110957937, 2.242839324379916, 8.216885043925014, 2.1239173964842775, 1.85154765276601, 1.7554560576939933, 1.5745652479008543, 1.4617510125305582, 1.2137421807883018, 1.2137421807883018, 7.091633309206308, 3.1662224504728598, 1.1230239242281925, 1.43407977035336, 0.8809728881480889, 0.9509012653577208, 0.8551844968133949, 1.0941763432154417, 0.7519436369411593, 0.747858905234383, 0.838317865532089, 1.6911357355478975, 0.8180486598260946, 1.3729620101570925, 6.648780491443827, 1.5753334622938915, 1.702095361736454, 8.966750486006461, 2.443541606043163, 2.853577303872538, 1.4737072138117955, 1.4718232942862142, 1.2912938118661073, 4.247014306355288, 2.799845887475669, 2.7989845442720296, 4.909804338846355, 20.244685153311956, 3.1061656778143334, 2.4505194132976915, 2.243003959445642, 2.8421886655829045, 6.221782118203236, 1.9226641075706148, 1.5161228999739376, 1.3609611711613516, 1.7809659245384006, 1.2484148086768745, 1.3576309702052067, 1.085659407921726, 0.8973484723656301, 0.8083202367196466, 0.7118165025726945, 0.6914089052692834, 0.6569068182835577, 0.7223327160073152, 0.6458944542658392, 0.7223327160073152, 0.6866898606576062, 0.5748535393504189, 0.5245008141811026, 0.5221275068265739, 0.9423201370768998, 3.8555651701701272, 0.8789250883004937, 0.9888117701608792, 1.28882812464648, 2.372496704729955, 1.9023867456264012, 1.3626302737503342, 0.8384176671396285, 1.0188399418281677, 0.7795143764261334, 0.7966211215867397, 5.1053278221390785, 4.0721953048741115, 3.892339784787222, 3.606109476494582, 2.6013667648236574, 3.7665481280639934, 5.24889610082379, 1.9230421160134907, 2.550046072424333, 1.8674699799546624, 1.7682218873552193, 1.65574245111309, 1.9190486212637856, 2.4379297785427587, 1.565196063597018, 1.5388346062617113, 2.024917795327406, 1.3824167654602773, 1.328808597554375, 1.573017443040553, 2.6261446429506785, 1.294678036135991, 1.4498881875648881, 1.185063461041558, 1.8823249662991, 0.9793673090344119, 0.8324486403674264, 0.8402045149279291, 0.728506745294936, 1.2181973627187603, 1.1524111782590625, 5.647356894666545, 1.426439153385563, 1.8363734247539794, 2.020372195643688, 2.4041980309911435, 1.704744388486875, 1.6256804767142488, 1.5465639682162442, 1.385599992122891, 5.874017225773711, 5.8019989414488515, 10.251512192665256, 9.58897734665641, 3.7987165657796016, 3.0969879769338737, 3.287623485230699, 1.9721937863131558, 1.884723463685041, 2.8634916679131397, 1.6897485006934543, 1.5112755110109648, 1.6582127818253964, 1.5296165465178884, 1.3397948522399823, 2.3279482006436347, 1.263613858132159, 1.2252728749118595, 1.6512176842867332, 2.743643933309011, 1.4101840188046881, 1.1495626330555657, 1.300501404416735, 0.8500339035846145, 4.069886888058478, 0.9915767302834464, 1.3136429898182143, 0.8500339035846145, 1.5950547273775393, 0.7096855149561757, 0.7514726515259406, 1.4153394156931043, 5.706024645394486, 2.1253174482666974, 1.6259857253944572, 3.5992189122485128, 1.6903698213075322, 1.492908086137319, 8.723327939899328, 7.582514805296779, 10.314762271136896, 2.281675589554855, 2.226153787921952, 3.5478117328924066, 2.0422075107529576, 1.7978283528320274, 2.2914283182876822, 1.5128546310668516, 1.6971908141768515, 1.6920014878485616, 1.3816630298989527, 1.3745715891375079, 1.4499109634966578, 1.3130240261459778, 1.3186510970377847, 1.3256406161322405, 1.5785076369062607, 1.2564469172009791, 1.230524416546107, 1.7058976551493603, 1.0759404698334518, 1.1686628332160964, 1.0971045092756235, 0.8722699687547046, 0.8722699687547046, 0.822845157225895, 1.4179513768534928, 1.7304250037645124, 1.9163813497802955, 1.456267361706452, 0.9688137067046482, 1.8501595723537632, 1.7490038525131473, 5.424853530231002, 4.297168719432854, 4.78437419399484, 6.739518374605579, 2.944607971856694, 2.6039383758790353, 2.7040793931773393, 5.1630427210840875, 2.2061146801937697, 2.025849406202883, 3.359501787696953, 3.975441691425443, 1.6067535083814621, 1.5628793473649438, 1.432516000494234, 1.1869176252637883, 1.2375789609747274, 1.158236808570296, 1.1702913907251642, 1.158236808570296, 2.315822514528996, 1.1054770181226643, 1.192123490437828, 0.8783909954452221, 0.8321733717215969, 0.7066968835248875, 0.8363270538085605, 0.7378862609288158, 0.6017855473196393, 0.5631975836897781, 0.6220760285920063, 9.234520780983368, 1.1596891220804033, 2.883351967920585, 1.9234092619784176, 1.5148780529493373, 1.2058718049861883, 1.3646871114716057, 11.094567030841684, 4.571694669971876, 4.131239446316525, 3.9643099036486023, 3.5548381536847113, 2.4625837273494673, 2.5430228820842773, 2.078469792287444, 2.1232478824940357, 1.9882262729630638, 1.509259257517645, 1.3231070054748812, 1.1523326931306037, 1.152332486038434, 1.152332486038434, 1.1483915220492589, 1.152332486038434, 3.8520381973266087, 1.9262338532432715, 1.0385954990698083, 0.9056658310909461, 0.8947131404204521, 1.3335059316836277, 0.8746002453542043, 0.7131780600739397, 0.8578585519452758, 0.6971583417415883, 0.5859329686069465, 0.6712728559913538, 1.3750231485863018, 1.5679575656402844, 2.139078836313716, 3.8440875147479217, 5.143478635588312, 1.6163718837083547, 1.299641184635289, 1.1003671585367123, 1.495398475054298, 1.6730484545244086, 6.452840616047105, 5.703637370790011, 3.1892170723527475, 9.955670630593627, 1.9524488673211418, 5.339928865207402, 1.6390611953744039, 3.2834087593279415, 1.4032090718163817, 1.389483354660141, 1.3487165706588244, 1.388389141846294, 2.282053687105452, 1.181041889792533, 3.975134647546107, 1.029773571719416, 4.567225202810543, 2.2983771930311256, 0.8623972760086951, 0.8183619643414538, 0.8183619643414538, 0.8183619643414538, 0.8183619643414538, 0.8183619643414538, 0.8183619643414538, 0.7228589795595602, 0.5844131383543558, 0.6019715631197783, 0.6019715631197783, 0.553814699781618, 1.779278415974214, 1.2924171871943444, 1.2398410398413782, 1.2432484155307213, 1.9289516640235107, 1.498915583194628, 0.8691717539281476, 7.984904333045113, 3.604341569878267, 8.07245735632107, 4.999043802076522, 3.367737055833052, 1.970935506863399, 2.1283050080181996, 2.1036660321020513, 1.5472787731378914, 1.1962445396380441, 1.4330226495150786, 1.0998699696284797, 1.4425864884767376, 1.3236002973932757, 1.5229643159488018, 1.5066312253260268, 1.0902062711678806, 0.8326663561079741, 0.7934406478646792, 1.510620774962355, 0.8084694531661559, 0.6759871472940691, 0.6711819141197556, 1.249097027789258, 0.9132753489551758, 0.6300643464747756, 0.5708266664925248, 0.45855353761865286, 0.4553801151212428, 0.45019634248401763, 1.01790138921032, 0.5397536533537062, 6.397971481029529, 3.97996115287035, 3.420232198788158, 2.1150594784677836, 1.7668039612128725, 2.6139112035189886, 1.4245291703159968, 1.256483969105219, 1.4231159563211262, 1.256355226256635, 5.092983199803444, 4.914376097500493, 5.250846347687697, 5.358357193169872, 2.4250487598884445, 2.1648353999642294, 4.1689552915875225, 1.3522394273169052, 1.1454951483742575, 1.1878958430602407, 1.0218531769582224, 2.3818910324947025, 1.201962143696258, 1.5838959159385848, 0.8985626509707324, 0.8263265556811351, 0.8442117631924544, 1.506633683952008, 0.5765415071806081, 0.5724293954942934, 0.6923195654274044, 0.5763989558818858, 0.6096951931811624, 0.4632099838108821, 0.481321767341635, 0.4624304555454513, 0.540948959575834, 0.4137479240396406, 2.23248430789193, 0.8062817746333034, 1.2685161089503219, 0.7863439428045733, 0.6668912447440711, 1.1463002224424683, 0.7919072562611316, 1.6025903916051383, 1.0586506667008433, 0.7127312814297208, 0.9384267808888777, 0.8073272461440939, 0.8326473307861704, 0.7649286485016226, 8.311183869321761, 7.773551186239909, 2.8912518030275396, 2.9692873919674323, 2.5400786954717143, 2.775898566827379, 2.2836203582728434, 1.6251031206376605, 1.6437195135865739, 1.4807149798978048, 1.478446535306102, 1.3977975813981336, 1.3813884051116778, 1.2820949536315358, 1.2121836082868827, 1.4045926040614611, 0.9021438980915358, 0.9021438980915358, 0.8240635972510023, 3.339999782600911, 0.6070492775585956, 0.6070492775585956, 0.5361325075665702, 2.0754667510533764, 0.5083584330005616, 0.48093927055198793, 0.42906986148178866, 0.4247982324925942, 0.38838609246908246, 0.3870699201122555, 0.4317583241931859, 2.0087173583230307, 3.607820052494088, 1.2496528197654457, 1.3344464756140544, 0.8593112660091474, 0.6618024217225832, 0.7202662430202749, 0.7843715655691457, 0.6850951776102687, 0.6754048768828854, 2.7852003914791714, 2.1868429954905437, 2.3459271049235335, 5.282349066465361, 1.82546729139921, 1.4371711926689943, 1.4788058977716885, 1.370746891916516, 1.3173042208314767, 10.585238744787127, 1.0757980295645297, 0.9836956045037388, 1.596566300744899, 0.7750155151079363, 2.5111896239295968, 0.6853212649779032, 0.663618469252083, 0.6316655593687196, 0.6502629968914759, 0.5095158738271235, 1.3785461788637068, 0.6239150956692348, 1.2133453695387588, 0.6538215128778474, 3.3641417438001895, 0.6561109420472239, 0.44527187593293194, 0.5268387795610218, 0.37313144371855855, 0.4298712721405399, 0.9432801193507264, 0.6792062439522695, 3.11139377287513, 1.8698605099972878, 2.3189988150754504, 1.7575944466320819, 0.6681067141840809, 7.255785443921816, 2.9000083678860595, 2.9563051471355504, 2.666628876263218, 3.335258828522371, 2.600247112051578, 2.2293401113345004, 5.0457051562543604, 1.7190833687744107, 1.6481134796705892, 1.2345038629196652, 1.0023573901749878, 1.6112354469132941, 0.8557656357292077, 0.8545545767752741, 2.6919902075525273, 0.7523350981445714, 0.8555471829889737, 0.7083320400917023, 1.299552245225936, 0.5549059868171149, 0.4836456799201601, 0.5591963739414205, 0.5591963739414205, 0.4359257062582747, 0.4323872481058041, 1.1451316455033798, 0.4709110845820646, 1.5133622694308406, 0.42048602748262237, 0.43747361633910536, 1.8582466717426325, 0.9306754350943193, 0.6824391728050613, 0.6715122143624873, 0.6186458574936513, 0.8193275951887183, 0.7906160966635309, 4.840084060865373, 4.31273783651319, 3.6413193774030734, 2.945253500535261, 6.797726386885173, 2.411464679096949, 3.3336681074157233, 1.3421114278774209, 2.5298317459213417, 1.1019279844349728, 1.1613735269715728, 0.952027629468236, 0.9156465220549018, 0.8353750268514597, 0.7388592261228063, 0.6373706292452197, 0.6373706292452197, 0.5040064671615824, 0.49797214811356366, 5.2595432364522265, 0.4236626831116687, 1.1833484690062066, 0.32687583173222345, 0.37321673336137207, 0.3362284776940203, 0.3362284776940203, 0.3362284776940203, 0.41007342072626757, 0.2792577331920362, 0.31308930362240794, 0.31308930362240794, 0.3471131311618567, 1.792784554434803, 1.455764151777218, 1.120521612423555, 1.6444976240762355, 2.124215255646572, 1.3500283358227803, 1.0725660502941408, 0.5936358771299685, 1.0256204505128497, 0.7169551419016905, 0.8153421266286911, 0.6350924247831764, 0.6466374782767563, 7.328454996271412, 6.391859923976741, 1.6341117504354723, 8.414260970286767, 1.3894662003662268, 1.4106439814738931, 1.2149938527354016, 3.813461672989548, 1.3120119297686625, 0.9980600159081754, 0.9015399154741227, 1.2023256531909057, 0.711970919529261, 0.6657248937418673, 0.5948712516290136, 0.8226683795175748, 0.6365923214953033, 0.5206931879014975, 0.5484061845883599, 0.7249274663485561, 1.0553047361878742, 0.47301744734014006, 0.36963147315375716, 0.31591851500315904, 0.3196072638273453, 0.31136677786632444, 0.30585626465003496, 0.29374300526504327, 0.2691327364869071, 0.2691327364869071, 3.759123356339042, 0.32053893782985865, 1.3997256306287797, 0.5195405260877117, 0.9841768219120032, 0.68219700989449, 1.7676740369965018, 0.4948899143600006, 0.6493478380706398, 0.9937881125286794, 0.8767785852379278, 0.6393003901147086, 0.582740772692374, 0.564073366916747, 9.612292153240995, 4.292854596264943, 4.232623032016353, 2.9770816130172606, 3.3553008960051813, 3.00498608338149, 2.767480119999416, 1.8970369785643248, 1.6105662305030666, 1.3001276806347615, 4.526922931743342, 1.2450608854993108, 1.310434276416558, 0.7986715276117012, 0.7792118311734889, 0.7792118311734889, 0.7683648983381166, 0.7063538501178345, 0.747030039437518, 0.6906372984689918, 0.5165171455638139, 0.5151911147587219, 0.5341665981603244, 0.4781837621998891, 0.4407888947593401, 0.39735969707374874, 0.3677190784662953, 0.44141131478095413, 0.3626103059120969, 0.3634785499777423, 0.8108708750633207, 1.8851164242991787, 1.2347641464714403, 0.8987242077769032, 0.4738083831209878, 1.3430987092068316, 1.424116807932884, 0.7926232194699279, 0.7368408749826665, 0.5868027687608577, 0.5778482052212337, 4.748093698100581, 2.2420093487241983, 2.4476212030005335, 2.8067557935897227, 2.45437993754669, 1.4287445924626738, 2.013446858192056, 1.1096083335960643, 1.1716552320193583, 1.019832514271257, 0.9606442261412206, 0.9238084595782305, 0.9238084595782305, 0.9238084595782305, 0.9238084595782305, 0.9537881581666676, 0.9238084595782305, 0.9027244347598677, 0.8024637536363717, 0.7008974779994863, 0.7008974779994863, 0.8207041306694873, 0.6855623726892478, 1.4984655607159678, 0.5597927749455118, 0.44217114976615224, 0.3861380997943601, 0.36502264599654266, 0.36502264599654266, 0.36502264599654266, 1.1925207579449735, 1.3194488702908844, 1.2462839800263446, 1.2945642141852578, 1.330802483070127, 1.6291707808185079, 0.9918462999330311, 0.7508424839903651, 0.8069453332907618, 2.6116973822339262, 2.4019636452090816, 2.284921087642747, 2.619469381935713, 6.26325277969608, 2.4288125890510712, 1.7796749839925028, 1.48412102867144, 1.5741542715981194, 1.37537855748204, 1.1151746194756702, 1.4131780442515607, 1.1926668510649494, 0.9101499046369397, 0.9101499046369397, 0.834531258747252, 0.8308652451444622, 1.1115499701691067, 0.605918161286511, 0.6258898607819725, 0.6258898607819725, 0.5423290082175096, 0.512476440510942, 0.46949938553078496, 0.3755997403040462, 1.0169513206960137, 0.36173667968337253, 0.3529359955623256, 0.32600174253435754, 0.35972774372334465, 0.37693372015738835, 0.6500927986622009, 0.5197000079886227, 0.5090757044426301, 0.566358186133663, 0.49134564312339846, 4.595506934347517, 3.201720969980227, 2.4351818345213854, 2.6672499563858225, 2.1208816015055927, 1.506167265988519, 1.2448882702963835, 1.1525145586842422, 1.1652176754663042, 1.1224260757927624, 1.0412586994019326, 2.451027035179467, 0.9576749672462793, 1.565344684853434, 0.718921918007126, 0.6378634867047039, 0.5525651948180867, 0.5423448163804196, 0.44415247379052153, 0.5586799339165299, 0.44618136138279646, 0.3668052692454384, 0.3663623951403343, 0.40325759391865723, 0.3269325616252634, 0.3108624703777285, 0.2880252949127628, 0.26889981289931186, 0.243980752051463, 0.23954235976486601, 0.28190691559974806, 1.6110984857998603, 4.480550824954884, 1.373796370085623, 0.9034045576238046, 0.5044569030867864, 0.6602240367417689, 1.3748307137214184, 0.6810560700141264, 0.7578569810247395, 0.9763669277059099, 0.5527094966572561, 0.6149687771817408, 0.6284165511907711, 0.6866754412465672, 3.05496381942999, 2.491110065908388, 6.822540070123457, 1.2303335953869612, 1.1465569384506915, 1.148970519384139, 1.0669307001396093, 1.0669307001396093, 1.0669307001396093, 1.152727735156744, 0.969238775463158, 0.9560153520252256, 0.9709682064442513, 0.955458626259919, 0.8588129174397637, 1.0451558337561204, 0.8835162390113628, 0.7366379309461868, 0.706778460117318, 0.7879569436324699, 0.5321387938110222, 0.5302496151823406, 0.44716221379508453, 0.43200513550968445, 0.4183396824567508, 0.4183396824567508, 0.4183396824567508, 0.8315058853915149, 1.7661215245229964, 2.3852089170821813, 0.9653498209147792, 0.6369346169153834, 0.7484424299716894, 1.1214375467062605, 1.7950332959381508, 0.7876460056049337, 0.6490916178398184, 2.8869240383656654, 2.155776898195097, 1.6319123721381994, 1.360157593297168, 2.2589123551012285, 1.202398987772075, 1.138186355432428, 1.1280866166861307, 1.0453539719820484, 0.9990302471067378, 0.9041116580629208, 0.9037934413740158, 1.8744356906272677, 1.1547573527428938, 0.714094590567761, 2.487904892522658, 1.6382082172161194, 1.5629641440408026, 0.4543926862164264, 0.4226037341790741, 0.9972477647428314, 1.0705515615676247, 0.35286163394909764, 1.1065581458060263, 0.3271165255171166, 0.5330183179167413, 0.3229971504450594, 0.3458282209864115, 0.3539009002418643, 0.2621730569362119, 1.1306430071527926, 1.787294476604156, 0.4601262348030898, 0.49769697591198303, 0.6620028951397737, 0.41405575471179407, 0.430099232728864, 3.593738179182384, 2.4426445142995186, 2.1063337447530626, 2.0121988014832994, 2.745437738191137, 2.898988007919645, 1.9751050269563564, 1.4880713088264732, 2.36862159765248, 1.104349588435489, 1.303839725105074, 1.0256975875584673, 0.9505774044059988, 1.4881413200304159, 0.8140279058280329, 0.5658616309966096, 0.5251299611633818, 1.7204683378720622, 0.5228511318342398, 0.5543322000749981, 0.5425066712635801, 0.5039946041096943, 0.5011823459812189, 0.5196910099560732, 0.5646807399975816, 0.36803486152696113, 0.3178644438304662, 0.4448835081553551, 0.2770716379509672, 0.24605814201088408, 0.961225472060198, 1.2140188863659394, 1.1495423156092375, 1.5474385467815, 0.6618959640856615, 0.6450813237318641, 0.5767890009235076, 0.6355776917477712, 0.6688189406613927, 0.564234719125595, 0.5709031095051706, 2.5863986561439867, 4.0292746304074845, 2.073778110311932, 1.7112710355790888, 1.6367481737817806, 1.4147682464436808, 1.2692124974004413, 1.2695056760038819, 1.3283353542384393, 1.4233180744736533, 1.0669458881462663, 1.1010129755948619, 1.0828188748391385, 1.0005503240302815, 0.9538679378554856, 0.8361511228646638, 0.9247059162337168, 0.8361511228646638, 0.8361511228646638, 0.6799191600600925, 1.1526047019499286, 0.8855133184347705, 0.6731912576678013, 0.6731912576678013, 0.9432577313227489, 0.5113302166272137, 0.5001178868298104, 1.2566243162936317, 0.37621016137486823, 0.8343448231420321, 1.2141558820437184, 2.1365474811372738, 0.8178649483314737, 0.9233031575190235, 0.8500576967591725, 6.825534614199162, 2.242596872911662, 2.0523452839193035, 1.798588103442579, 1.8718713815730232, 2.8116786105137117, 1.635966935028389, 1.1377318477129124, 1.2559891712275644, 2.141769264908454, 1.070309781334958, 1.0120452224230136, 0.8068939411344, 0.8068939411344, 0.7086933388304233, 1.5732752920314836, 0.4139755051268912, 0.43967726563319043, 0.36799507896257483, 0.43967726563319043, 0.38890256548131696, 0.33460952733823474, 0.2939470283991212, 0.5693043342517051, 0.24963164213148875, 1.3088337332522166, 0.2638835344796908, 0.2638835344796908, 0.25487927825233575, 0.1724014312594076, 0.18626216526998607, 0.5848653596940214, 0.4565411630274096, 0.5440302880227108, 0.4137766486414532, 0.4762967624298634, 0.8819437744516508, 0.435703070834842, 2.986864158408744, 2.610169317911066, 2.2681020095262547, 1.860811114459978, 1.6001402160940172, 2.7515807321203254, 1.4539151939959807, 1.0119118588834664, 1.0297301857525865, 1.017047628240295, 1.720200889066601, 1.1649318368751573, 0.9030636144789955, 0.7839965475813699, 0.9224559756121951, 0.5807455248869137, 0.39230064376923174, 0.3139946076432404, 0.3631541325523333, 0.3496885895077159, 0.2800997271511183, 0.6869580193511188, 0.2336761924115428, 0.2297296533430656, 0.20510742165062326, 0.19962375883514463, 0.22034314239388866, 0.22034314239388866, 0.2644361376169982, 0.1627367594219806, 0.3400483626583583, 0.35056680631207293, 0.5602436797294019, 0.607978492275942, 0.45091310939551565, 0.6591758381283299, 0.3972651923079053, 0.3771827556903334, 0.3455632551004091, 2.3227446085950625, 1.0909962197069285, 1.4866811646350075, 1.0039511313954734, 0.9265199757128435, 0.7871865757212329, 0.684491323249182, 0.6605201865843724, 0.5614533121793809, 0.5060768668279942, 0.48606671652695266, 0.3163469403942875, 0.28754487046273747, 0.37414934809095124, 0.28980676030604574, 0.2245111349436644, 0.19709319719010085, 0.19420121593763057, 0.18194831496529354, 0.1764903123105382, 0.1809682502609855, 0.1634883917737441, 0.1634883917737441, 0.1634883917737441, 0.1634883917737441, 0.19934499813204126, 0.19934499813204126, 0.25068104770244176, 0.24855770590556792, 0.17498837942360765, 0.8383806367903546, 0.580073518723307, 0.9157502362268505, 0.3158251070811398, 0.23085863465358208, 0.2752232533787796, 0.23263030617420422, 0.33354768035912313, 0.2825333830556185, 0.22466769888539861, 0.2359626656467507, 0.20724021434926743], \"Total\": [254.0, 199.0, 142.0, 136.0, 171.0, 175.0, 159.0, 123.0, 221.0, 110.0, 98.0, 88.0, 43.0, 65.0, 60.0, 78.0, 55.0, 57.0, 127.0, 64.0, 70.0, 37.0, 171.0, 40.0, 88.0, 52.0, 28.0, 35.0, 48.0, 131.0, 98.42428213600493, 29.83833927863952, 70.86588794693256, 23.915216523056774, 29.155181501481913, 15.315791353311871, 23.708136935707177, 15.62598070583231, 14.59924730336616, 54.11905581009707, 25.30891747882186, 13.5375717348671, 11.894725649228963, 11.104400677065493, 24.537022800308844, 10.552902312809755, 11.619555448645466, 11.624677657430473, 65.30584885622562, 221.49845659410983, 9.845959683766573, 10.895290799284865, 9.60741253617427, 20.191075777763174, 9.707123167906648, 28.95549628838272, 7.814269021723371, 7.810072156125122, 7.939280587210993, 7.648625106969566, 34.113565600173345, 18.90661130102084, 20.329475691248255, 88.31815143957978, 29.01879816755112, 49.00986203594593, 27.039965062845607, 104.43504315098662, 136.51206190392696, 131.0227254458471, 171.76573450752036, 123.46166181181346, 127.99148785653063, 50.26981702352438, 30.737890152134455, 23.768099413935186, 16.65870372266087, 49.493733405512096, 54.406984171820156, 26.766924137790042, 55.83964398891394, 110.00625519106713, 50.985453639752315, 32.93088512156877, 12.826357331288406, 31.91330500945783, 12.646369210010157, 12.613215185623421, 175.35396821179614, 10.98328594477091, 25.954181846903847, 10.347298912754338, 12.50746943374719, 9.677037613623371, 9.049419999273805, 35.350618605958545, 9.739888213051664, 9.350549631985489, 8.707474718771742, 7.943069245843662, 8.00233228285366, 7.8625752209200535, 32.074607655811896, 8.58286839151341, 13.7839821246768, 88.31815143957978, 17.184899604250358, 33.90453237847068, 78.41944740963385, 55.011041922246974, 43.48302233800537, 56.70214142954151, 199.41760063727563, 38.71395788249823, 171.76573450752036, 221.49845659410983, 171.2117366242503, 127.99148785653063, 29.925081923578777, 142.43708890541404, 28.234410639681876, 16.78251935408848, 12.915558444249456, 123.46166181181346, 12.527496934691968, 43.48302233800537, 16.136026819026064, 39.41957262972088, 22.19652376329481, 12.476321914323949, 9.25558127828279, 9.58126899457618, 171.2117366242503, 9.092919147381874, 11.86284694579234, 8.12442349567364, 8.109882956097403, 11.331937571348139, 7.817207925947423, 28.19234359635127, 7.407626592555994, 7.658647409611658, 37.61332674166134, 8.03023339333755, 7.13182948331151, 7.13182948331151, 7.13182948331151, 7.131829057907608, 26.866058221878017, 56.70214142954151, 127.99148785653063, 24.57135185217835, 19.710168549580736, 14.369374879399224, 43.342812723737545, 74.01975070530861, 48.09301876785945, 131.0227254458471, 104.43504315098662, 171.76573450752036, 175.35396821179614, 36.829030765644504, 55.82424293285825, 56.74377268261167, 199.41760063727563, 50.518799199526754, 39.23893426324747, 24.469552472363535, 14.932193142724174, 199.41760063727563, 44.8499847956602, 12.732157415029851, 10.715025655227835, 9.408228847743835, 10.129408179505246, 9.409831617852719, 10.984997481815828, 88.84701394551688, 26.388016295793488, 28.08126006093064, 8.460751378279905, 8.115535577606517, 12.195575494267125, 7.519786620254683, 24.57135185217835, 8.906348849333588, 7.210839982264566, 14.96862538900616, 7.493610590159253, 7.496168583230651, 7.338097643023871, 7.41688283928683, 7.051244107282677, 6.667522010066036, 6.667522010066036, 6.667521687286039, 14.95668049019203, 38.71395788249823, 31.435559460290985, 78.41944740963385, 131.0227254458471, 28.769332495928083, 88.31815143957978, 127.99148785653063, 56.045135109208914, 27.039965062845607, 30.732441407244895, 52.491718461533964, 171.2117366242503, 254.66715897930425, 221.49845659410983, 43.342812723737545, 35.350618605958545, 104.43504315098662, 17.35932328086188, 49.47440971802051, 20.752262861685413, 12.56214965647565, 16.341969889181037, 13.583798774588757, 35.268587784829656, 11.224157478085116, 14.275059087267518, 9.645656145961045, 9.16309696365402, 9.14593227240222, 8.539876741767111, 48.02948243053117, 7.947269558927497, 7.873757462568028, 7.846642685516583, 13.085847540925942, 17.559289891860672, 50.26981702352438, 20.29048542242041, 12.635016170983093, 159.42589303482183, 7.337933872394112, 7.701431971913772, 7.293854587523066, 6.976710002898237, 7.285859551681763, 13.056356607281227, 6.998187302526489, 11.724955135496842, 16.315868668938105, 31.435559460290985, 43.04740394855014, 78.41944740963385, 20.121484763420103, 78.55356718116128, 18.608453125239322, 74.01975070530861, 21.016818436652137, 171.76573450752036, 221.49845659410983, 49.493733405512096, 171.2117366242503, 49.00986203594593, 254.66715897930425, 55.82424293285825, 131.0227254458471, 36.78114788240041, 19.49866036953069, 20.47049775274691, 15.347016531039692, 14.030117365611144, 38.88467573385231, 15.579782205134306, 254.66715897930425, 30.190126304466336, 10.276295650665643, 15.662628691571767, 8.450769135100337, 13.632946422458215, 19.49730305481872, 18.342272083556207, 11.428323823240085, 7.321997786580743, 7.241388803157986, 7.129511156352952, 13.684695806634393, 6.701240734059175, 6.701240734059175, 6.923666454472539, 8.319811500177613, 7.2179859523036125, 11.337722033738771, 14.750387615936415, 6.603680976156145, 6.452968012138409, 6.437193805911439, 22.86741692969115, 6.69598973664662, 8.563013646864471, 16.727281925544844, 31.57314629342751, 127.99148785653063, 55.83964398891394, 131.0227254458471, 50.518799199526754, 64.98961246761681, 20.329475691248255, 159.42589303482183, 104.43504315098662, 56.70214142954151, 221.49845659410983, 171.2117366242503, 33.90453237847068, 29.320083419381422, 14.03585026767836, 18.7215053276331, 12.731118348755285, 35.3257102587725, 24.011098514681194, 136.51206190392696, 15.267035054793649, 11.479786113652722, 8.983336824334136, 13.247177562957987, 9.089400099379183, 14.312649120137554, 8.381866269677724, 7.831516193017216, 8.505493328850607, 8.290707928231416, 12.836536355957987, 7.195295283897561, 7.47590346322717, 7.208047638261332, 7.3295813122461935, 26.017978161311106, 7.875543663928441, 6.496177474042489, 6.087053570705102, 6.0753806022675585, 6.231263680446215, 6.231263680446215, 6.404424268947772, 17.574759359457666, 16.0541282652781, 24.505552971602945, 19.55755361215043, 12.317684445582456, 74.01975070530861, 171.76573450752036, 131.0227254458471, 175.35396821179614, 104.43504315098662, 54.11905581009707, 43.04740394855014, 28.674285344078328, 35.198926230490926, 12.89128991410058, 12.395432453263117, 15.471663101144719, 9.206921979865962, 12.939830788011653, 8.10618884644072, 21.99970413557777, 7.693424827201187, 10.905826997088743, 21.016818436652137, 7.533593564987564, 6.8516092505100135, 6.451452368605207, 6.5319238632912375, 6.708158984866707, 6.150223167169062, 6.44331339466703, 7.704892220939617, 6.3312944839149905, 23.271395105949917, 6.683923999151884, 6.076129594239959, 56.045135109208914, 5.8350225979446515, 12.90616476368204, 5.864817407710517, 6.495506451992542, 11.018640352762972, 10.428353389458383, 57.44281405760825, 47.398676607901805, 131.0227254458471, 39.41957262972088, 171.76573450752036, 43.04740394855014, 127.99148785653063, 159.42589303482183, 35.3257102587725, 221.49845659410983, 50.518799199526754, 60.540141469112676, 30.550000277009808, 37.203854311423356, 22.95648378869549, 21.9855810385059, 9.818196849562067, 10.807648622169035, 12.535042209707788, 28.79951012029485, 64.98961246761681, 7.405084716017307, 12.524487404312497, 9.16278441474172, 10.23822343985983, 6.63343265513259, 7.157035636392756, 7.110994911808256, 7.339579459227199, 6.372470669538837, 6.1784330014157645, 6.237771453850751, 6.314093335464723, 6.502221037760462, 6.33293680246252, 7.3775523702775025, 6.294011242355489, 6.05631653068107, 5.4042570480371195, 5.41326322882015, 104.43504315098662, 18.318187039888727, 47.398676607901805, 171.76573450752036, 159.42589303482183, 254.66715897930425, 11.748961488992341, 12.378327211004583, 57.44281405760825, 10.32309754608331, 21.202257099416716, 8.931617746522528, 16.637168546979595, 60.540141469112676, 6.790432291290473, 11.560903739590694, 6.55715649305264, 6.666097771879557, 6.57184646652414, 8.211516565320087, 7.441525612177111, 50.518799199526754, 6.867744652292976, 21.99970413557777, 5.952606206805813, 28.19234359635127, 8.247164823335671, 12.60025089777684, 5.633476512260694, 7.725051866114812, 5.605427454888436, 5.502472526401072, 6.463329024988897, 6.445343330128709, 6.196178157569509, 6.338955555889033, 14.039468364769387, 159.42589303482183, 37.61332674166134, 52.491718461533964, 254.66715897930425, 88.84701394551688, 44.8499847956602, 78.41944740963385, 47.398676607901805, 171.76573450752036, 55.011041922246974, 131.0227254458471, 40.712544093808674, 221.49845659410983, 16.983480064161864, 11.440391667251282, 14.766226648228567, 10.162376695193247, 10.242272633368557, 12.641945648080359, 11.56722048943487, 52.491718461533964, 7.699310371065343, 8.001790781770088, 7.27664091535381, 8.37131825864522, 7.015968632779445, 78.55356718116128, 7.035538177702269, 7.007820625793503, 6.757874251178882, 12.924731024563343, 9.833984537420584, 6.140241478691652, 6.103259270916645, 6.392867982799377, 10.684926799228487, 13.484023179569208, 5.688555766678115, 11.560903739590694, 7.728776516865561, 20.89796448919655, 31.504865562546136, 5.427480349845581, 14.088324891114961, 60.540141469112676, 38.71395788249823, 110.00625519106713, 48.02948243053117, 24.795559555777213, 171.76573450752036, 56.045135109208914, 131.0227254458471, 254.66715897930425, 21.345118514077864, 18.7319237818674, 17.54283687221262, 12.944545954351918, 9.20476657928807, 10.472677990194855, 25.49513160720007, 8.993518507748476, 8.055242426382751, 36.829030765644504, 8.36387769100243, 8.576236269997228, 8.35527182530375, 7.243523015827953, 7.147536080167645, 7.288948708559433, 6.9214812010014795, 6.815422012777206, 6.606607043990157, 6.5779502888522, 11.323608013333287, 8.98479951948892, 6.319082873385451, 5.976987577187753, 5.976987577187753, 5.976987577187753, 5.976987577187753, 5.9769874035872155, 6.952837622535098, 12.387540475617675, 15.14974346979204, 7.033494333926636, 55.011041922246974, 14.654829813512498, 7.734478177841776, 131.0227254458471, 171.76573450752036, 31.504865562546136, 254.66715897930425, 28.79951012029485, 104.43504315098662, 221.49845659410983, 175.35396821179614, 33.58398017305609, 10.232888628561003, 11.915543410607999, 8.565299398455156, 8.722019841988185, 20.566683534661138, 23.38251097581829, 8.101287895311394, 8.096329184158659, 21.095701306495148, 6.890005212095571, 7.489705054843509, 31.31543065622272, 6.388870987767528, 6.385922695683238, 6.500330373987796, 7.958868599072329, 6.2836985994780195, 7.296367655772499, 5.983205353018821, 6.135527341727464, 7.310019738756762, 6.432147725130118, 22.17299434426534, 6.416173968036545, 6.9198582650988465, 47.398676607901805, 88.84701394551688, 13.7839821246768, 6.588881364932499, 78.55356718116128, 171.2117366242503, 31.504865562546136, 48.02948243053117, 254.66715897930425, 199.41760063727563, 36.78114788240041, 24.505552971602945, 16.605189350036365, 78.41944740963385, 15.631633817773729, 16.467357095971195, 13.065294658866156, 12.677784947553743, 18.833050349424873, 18.702646899327508, 8.453993218871096, 8.459283482304409, 7.77059785771713, 13.449695385109788, 12.635972371598218, 12.309513910429313, 9.604005403829584, 16.605189350036365, 8.195723426690245, 6.87256942177634, 6.200645421964399, 9.282040241354567, 8.56079638281579, 6.003685543345789, 6.046869859756261, 6.499558954020206, 18.342272083556207, 5.670440498722495, 6.438415057034613, 6.293574229938739, 6.044910502232307, 7.346750449555573, 6.1234426250087255, 5.437342325109169, 13.61969385328132, 43.342812723737545, 11.428323823240085, 36.829030765644504, 104.43504315098662, 18.611088384779695, 17.223392709580878, 56.74377268261167, 50.26981702352438, 31.504865562546136, 22.19652376329481, 48.09301876785945, 18.34689645597926, 15.709970904098466, 30.732441407244895, 11.806278829291047, 9.597923465997889, 10.045694455868086, 14.088324891114961, 7.615179282462305, 7.176961134332902, 10.910752556244013, 7.881315444901276, 6.473041652054613, 6.254485025250661, 6.240116883674603, 17.675868594717176, 7.887177941056285, 5.800239183487847, 6.208105245355437, 56.74377268261167, 5.626129668423683, 6.026969618806895, 6.281484542794241, 5.473333197199347, 5.817468205583863, 6.281891800003673, 5.928571710545803, 5.1662119327118035, 5.229675538618878, 5.152765098060935, 5.1556690332858635, 9.846075725521876, 5.733159395442447, 28.769332495928083, 175.35396821179614, 32.074607655811896, 56.045135109208914, 127.99148785653063, 110.00625519106713, 64.98961246761681, 31.435559460290985, 142.43708890541404, 31.57314629342751, 55.011041922246974, 254.66715897930425, 21.095701306495148, 12.548202647598838, 10.57905925704888, 9.450030960958589, 9.578799658583055, 40.712544093808674, 8.857561153750126, 9.79335598104026, 20.03104417317616, 19.421201841518826, 17.675868594717176, 12.90616476368204, 6.962218697136953, 7.867749503134083, 7.126189903663242, 6.585055625880332, 8.312805821658365, 6.648447881088628, 6.342793675360408, 6.204114513886027, 6.15186029904791, 6.01844460878722, 7.906375377513074, 6.045243820266261, 6.051295913373813, 6.0928344318884955, 5.742538947481873, 13.628708147457376, 5.719744989086315, 5.6918410509953885, 9.41824031470158, 13.004924998390424, 12.635016170983093, 49.00986203594593, 64.98961246761681, 43.342812723737545, 32.93088512156877, 221.49845659410983, 37.61332674166134, 23.708136935707177, 31.435559460290985, 21.937363972192312, 8.904904439572134, 8.579146662137873, 13.368805732239885, 10.110193615834389, 7.496990403357893, 7.434687914103946, 6.924218772505959, 11.018640352762972, 14.039468364769387, 7.146398554931099, 6.436504787044047, 6.223854124929595, 6.170298073586985, 6.241639723377225, 6.257781935019599, 6.096665596503909, 6.191129633625222, 5.743279277205963, 5.743279277205963, 5.982201241771311, 19.55755361215043, 5.895491701493809, 7.421771709973329, 5.555387078447005, 10.642608803748589, 60.540141469112676, 5.376936329140219, 5.994455294439051, 5.683996042407683, 15.662628691571767, 123.46166181181346, 16.491737170826493, 25.49513160720007, 159.42589303482183, 31.504865562546136, 199.41760063727563, 78.55356718116128, 171.76573450752036, 56.045135109208914, 254.66715897930425, 17.62658531382783, 9.11310563933891, 8.285647599475487, 7.471503697177672, 11.271033326618115, 20.121484763420103, 8.468023463453106, 7.404628093036098, 28.769332495928083, 10.818824959518501, 9.777361186299695, 6.585815156006094, 6.242188080432436, 5.990013896844164, 5.851984941755392, 36.78114788240041, 6.040632557298597, 6.139042503817459, 8.98479951948892, 6.090144918032971, 6.763443041967202, 6.285316175583113, 5.5608408414022845, 5.835026304387324, 5.605649467498159, 5.410555653280605, 11.040526310272218, 33.90453237847068, 35.268587784829656, 5.199644715372878, 31.31543065622272, 13.484023179569208, 52.491718461533964, 171.76573450752036, 88.84701394551688, 159.42589303482183, 48.02948243053117, 171.2117366242503, 39.41957262972088, 199.41760063727563, 22.86741692969115, 28.695104536256228, 18.539373565551482, 9.840785778593316, 9.26940370957922, 8.841158737180299, 8.459216248440264, 7.676868723817151, 7.45471898239249, 14.004776340580205, 9.455364516475303, 9.655741499638102, 6.861871304032312, 6.850354693275055, 6.897840831598437, 6.437100264113936, 6.48397101841423, 6.608240549433649, 7.24407425929758, 6.107505664098365, 6.32668190387379, 7.270858142675945, 6.0619710614592055, 6.923008715029213, 5.987576128578324, 5.702534045128254, 5.702534045128254, 5.702534045128254, 6.680296912313047, 13.905837819540807, 10.681189845878523, 19.421201841518826, 19.723479387865783, 9.282040241354567, 171.76573450752036, 28.79951012029485, 136.51206190392696, 175.35396821179614, 20.964754105729387, 11.41757527000551, 11.252658352027138, 8.767610272359198, 12.148719008155703, 8.046152960113604, 14.750387615936415, 22.650790537460672, 26.866058221878017, 6.393927550076071, 6.1758365924300875, 6.250424744198501, 5.9786253660742945, 6.202125579966648, 8.029136740122306, 6.3500789754974525, 5.786039662055546, 5.729637962672596, 8.56079638281579, 8.270317845238704, 8.110243627137933, 22.86741692969115, 6.157397607609076, 5.6883443340020925, 5.153919273542761, 5.490005190426838, 9.132798097114936, 5.155147749017465, 17.184899604250358, 5.941595982956643, 15.14974346979204, 12.939830788011653, 26.017978161311106, 37.61332674166134, 16.136026819026064, 52.491718461533964, 123.46166181181346, 10.631267816415393, 10.21776026285057, 9.964238420094658, 13.004924998390424, 7.672450323196091, 7.948265635209696, 7.311510887432948, 7.385022678902349, 7.799669004017318, 6.831072830628806, 6.317982933478787, 7.116443036616352, 6.396129293505993, 5.953622114488406, 7.053956637461932, 19.710168549580736, 5.573481492246074, 9.846075725521876, 5.623549245437433, 14.369374879399224, 19.723479387865783, 5.191985404747683, 10.176479660185581, 8.963080872091219, 18.833050349424873, 5.056162215533617, 5.046957988724564, 5.150027226322445, 7.912883955695162, 5.049426678335987, 12.317684445582456, 6.113451551241721, 20.566683534661138, 20.03104417317616, 18.90661130102084, 175.35396821179614, 28.79951012029485, 104.43504315098662, 254.66715897930425, 57.44281405760825, 136.51206190392696, 159.42589303482183, 10.733260630679553, 10.32888550172786, 28.87386894652613, 10.705040367095531, 8.185411117180276, 6.997008937578216, 6.441808604618184, 8.343016900541686, 6.322264817714611, 6.060029213685135, 5.918812877182107, 6.2001086879575285, 5.929654800276681, 5.863838023163434, 6.415418587030185, 5.790330750524104, 6.125608842263173, 5.898423426293647, 5.6786928795420675, 6.017011649375872, 5.756685132363013, 5.879274810474126, 5.409608882232968, 7.725051866114812, 13.628708147457376, 5.347027590232329, 8.449875607898747, 5.762621689416604, 8.694262870301506, 5.213192930826723, 55.011041922246974, 20.03104417317616, 50.518799199526754, 16.491737170826493, 221.49845659410983, 31.31543065622272, 36.829030765644504, 35.3257102587725, 104.43504315098662, 78.41944740963385, 74.01975070530861, 171.76573450752036, 43.229301412783194, 10.28069128166144, 8.769334600244026, 8.532331809114982, 6.930882758213682, 7.125289641197024, 6.728148041225938, 7.000747480276148, 13.52447999295665, 6.5218434244117525, 6.3546938153012595, 6.35482989423321, 5.459039922464414, 5.475404984539639, 29.01879816755112, 5.974839241482613, 5.875899471007572, 9.083973018912253, 5.086217338564162, 4.933604650586912, 5.006075271700433, 5.136904692241422, 5.893467830700557, 5.927577844474903, 4.798697911283748, 4.971146301136562, 5.962929345838397, 6.340696072396468, 28.769332495928083, 4.988204116273055, 23.271395105949917, 88.84701394551688, 13.015490221278082, 47.398676607901805, 33.90453237847068, 21.095701306495148, 171.76573450752036, 31.435559460290985, 78.55356718116128, 171.2117366242503, 104.43504315098662, 12.891478981607557, 10.192131555986677, 23.625989662104764, 8.613186929353025, 7.419599288367796, 28.319309492279395, 8.386641966148211, 6.758321689994371, 7.147047358779836, 6.9668399086147, 6.468666526015574, 6.758402675403287, 6.194236612618944, 8.135396370629286, 5.995887259455892, 5.995887259455892, 7.987719785497081, 5.922041748597082, 5.617586818965013, 5.941847380211506, 65.30584885622562, 5.831403707356779, 5.782824925045066, 5.782824925045066, 5.357563362699864, 6.6278062971380285, 16.315868668938105, 5.033519077303386, 31.435559460290985, 6.792597295403431, 22.17299434426534, 37.61332674166134, 47.398676607901805, 55.83964398891394, 11.264235930948477, 8.77570910763059, 8.378060367232987, 13.61919530182662, 7.343353954990913, 6.936594668613632, 7.650600757665266, 6.6709173786197296, 24.505552971602945, 6.58478912611169, 6.470425591524113, 6.270358500616634, 6.130673767321048, 5.85977208735489, 5.611763255612633, 5.611763255612633, 34.113565600173345, 15.471663101144719, 5.644558952502695, 8.110243627137933, 5.286695588572317, 5.736468423757024, 5.320731263198307, 7.303890099783979, 5.154028122904375, 5.155513669675038, 6.074949095897993, 12.635972371598218, 6.176926135620917, 10.433436583251495, 56.74377268261167, 13.336089089700023, 16.315868668938105, 171.2117366242503, 56.70214142954151, 171.76573450752036, 48.09301876785945, 254.66715897930425, 74.01975070530861, 8.887036212036033, 7.315387766452752, 7.32894463895028, 13.30668446929605, 55.82424293285825, 8.892796872165977, 7.214295824191876, 6.67808194806076, 9.784706085987661, 22.17299434426534, 6.996224259857725, 5.97257335076507, 5.938361949111297, 8.108088001213272, 5.862314501044309, 7.082222844295422, 5.8730075059026925, 5.35144961828751, 5.3431337649981625, 5.13125578028615, 5.234110801534177, 5.052435460833171, 5.651153473510552, 5.054563387840053, 5.700621037144636, 6.043363855496382, 5.076289409826956, 4.927948368619043, 5.053569111641075, 9.518612415237161, 43.342812723737545, 10.895290799284865, 13.336089089700023, 22.650790537460672, 74.01975070530861, 171.76573450752036, 142.43708890541404, 26.766924137790042, 254.66715897930425, 24.795559555777213, 39.23893426324747, 10.153434103630813, 8.54824312489524, 8.443241187428436, 9.161117166661162, 7.069026116250418, 11.892488440330604, 16.674328505458053, 6.3656142693081295, 8.698184778707413, 6.494253461869262, 6.441402934293379, 6.096113712633871, 7.151310110714204, 9.132798097114936, 6.096866224462066, 6.146223826149865, 8.550563259639066, 5.849660781359768, 5.750931513907921, 7.000795244057229, 12.195575494267125, 6.1761135792903605, 6.946935519042238, 5.960082886163146, 10.76021992074068, 5.830726791457098, 5.3134761828789205, 5.494568110777488, 5.238137977810161, 8.81897884155598, 8.391738394954887, 159.42589303482183, 16.605189350036365, 32.93088512156877, 49.47440971802051, 98.42428213600493, 31.504865562546136, 31.57314629342751, 33.58398017305609, 25.49513160720007, 10.341364369395528, 10.386162096177824, 18.828551175534272, 21.067954825614173, 8.870099065981405, 7.6825891442284835, 8.921745673515591, 6.435937984106966, 6.447044320018439, 10.72640411406376, 6.405799471028029, 5.981774371689998, 6.583331316400408, 6.285955002857642, 5.786606953065695, 10.31490571412961, 5.764788535647145, 5.725936419383821, 8.019428893815451, 14.95668049019203, 8.0572026736904, 6.945474343423618, 7.906375377513074, 5.865300390464223, 31.31543065622272, 7.735718195437712, 10.684926799228487, 6.959232901284247, 13.684695806634393, 6.495506451992542, 6.924346161836134, 14.312649120137554, 88.84701394551688, 48.09301876785945, 26.017978161311106, 199.41760063727563, 171.2117366242503, 52.491718461533964, 14.23201555455354, 12.644213732696539, 23.271395105949917, 6.9991014795889654, 6.832171361881457, 11.163058347435639, 6.480970764159727, 6.339061472158513, 8.830861204829796, 6.067651331773959, 6.973760724934829, 7.043737230702905, 5.826614709670087, 5.895807437705695, 6.3400322150928545, 5.79749727980454, 5.9444101914681795, 6.043759241509001, 7.381188632768955, 5.88928639998025, 5.939964280507616, 8.391738394954887, 5.515083593142433, 6.163130489393492, 6.73390442409207, 5.59787893376207, 5.59787893376207, 5.368605030566824, 9.356077722259831, 12.507146662156002, 26.866058221878017, 16.605189350036365, 8.029136740122306, 78.55356718116128, 171.76573450752036, 10.587216563231237, 8.74797685788993, 11.040526310272218, 16.727281925544844, 7.430737347014915, 7.058044020368757, 7.752746337810888, 16.0541282652781, 6.916647628845549, 6.593711990010601, 11.337722033738771, 15.14974346979204, 6.159430237619567, 6.409439327079366, 6.131924560013815, 5.616153027840472, 5.8875320543963685, 5.559862876405946, 5.632705378190186, 5.70438433539027, 13.015490221278082, 6.311772124968678, 7.240876060125861, 5.7196989111567245, 5.618406314972486, 5.165258816820891, 6.320113954714334, 5.789000110842184, 5.108183937040608, 5.015632252599368, 5.589121594558569, 171.76573450752036, 24.505552971602945, 254.66715897930425, 104.43504315098662, 110.00625519106713, 50.26981702352438, 175.35396821179614, 18.025395482719347, 9.392703353727498, 8.706877355789546, 9.18826959381937, 9.146571467767584, 7.054050314641217, 7.347324347022404, 6.59960943729965, 6.807793313061278, 6.572656148534447, 6.032648376544085, 5.805875728587133, 5.554342232487947, 5.554342025395777, 5.554342025395777, 5.6870791322230385, 5.777953976170762, 21.095701306495148, 10.705040367095531, 5.9731385771963454, 5.437638817517509, 5.53131398858491, 8.272018234928797, 5.897436246980347, 5.135607743409628, 6.311772124968678, 5.548779928690748, 5.023016735325083, 5.86743650030608, 13.056356607281227, 17.223392709580878, 33.90453237847068, 127.99148785653063, 221.49845659410983, 31.504865562546136, 25.30891747882186, 14.96862538900616, 88.31815143957978, 171.76573450752036, 13.276373883208432, 12.59415679683947, 8.45002930635923, 28.95549628838272, 6.431822792711855, 19.03506323523655, 6.123199433136546, 12.60025089777684, 5.885082732410405, 5.835384370411586, 5.853499491927861, 6.231839345130964, 11.723113085771951, 6.117510977893462, 21.12263845771169, 5.849771936132101, 27.039965062845607, 13.681707503871147, 5.525955490932591, 5.695286786726417, 5.695286786726417, 5.695286786726417, 5.695286786726417, 5.695286786726417, 5.7390742402242605, 5.9894715933933265, 5.067849647635639, 5.811497883101805, 5.811497883101805, 5.651153473510552, 20.566683534661138, 22.86741692969115, 24.011098514681194, 28.79951012029485, 136.51206190392696, 221.49845659410983, 127.99148785653063, 17.574759359457666, 8.10941826047696, 18.318187039888727, 11.469843015684281, 8.122744799795038, 6.514631524414496, 8.973694825720406, 8.963080872091219, 6.688077738508692, 5.601661447996804, 6.726210441600476, 5.505286877987239, 7.345098375760317, 6.950561559934645, 8.019428893815451, 7.987719785497081, 5.824206077476813, 5.835524262612145, 5.666314906083599, 11.163058347435639, 6.062899902215626, 5.092353968217633, 5.122256079596384, 10.428353389458383, 8.370335576620041, 6.2944149029825915, 5.768698978645126, 4.914707979023989, 4.912733519574452, 4.870427930793851, 12.20537580428962, 6.028739274257635, 159.42589303482183, 110.00625519106713, 88.31815143957978, 56.045135109208914, 56.70214142954151, 171.76573450752036, 37.203854311423356, 26.388016295793488, 44.8499847956602, 31.504865562546136, 9.947707168965257, 9.599391368352919, 12.75300562500784, 13.681707503871147, 6.947099397209016, 6.617854290734621, 19.03506323523655, 6.5119488983298295, 5.76350524098065, 6.176743727863349, 5.451319737362399, 13.056356607281227, 6.73390442409207, 9.356077722259831, 5.391205078691108, 5.278681383783672, 5.494647736993813, 13.015490221278082, 4.992745552801617, 4.998672457614549, 6.226790468628768, 5.309736071997785, 5.734124712061702, 4.870806951286078, 5.09838107641199, 5.127999010521363, 6.138536911904455, 4.828209708336446, 26.388016295793488, 9.784706085987661, 18.103924155409967, 11.806278829291047, 9.707123167906648, 43.48302233800537, 18.394699680082045, 199.41760063727563, 159.42589303482183, 21.095701306495148, 254.66715897930425, 88.31815143957978, 221.49845659410983, 60.540141469112676, 12.842055517285932, 15.973667121851152, 7.351667625830568, 7.629993393400958, 7.009599387877107, 7.731508719708521, 7.912883955695162, 6.103981876041311, 6.2004855084152295, 5.896140431922982, 5.935385823224551, 5.8262481232897665, 5.822082190434428, 6.05076056197987, 5.797131982374189, 7.074394856460959, 5.316988063536853, 5.316988063536853, 5.428892662146836, 23.625989662104764, 5.560857444829608, 5.560857444829608, 4.963869472954984, 19.723479387865783, 5.047740026919208, 5.393414853410903, 4.851007277279525, 4.854168835125212, 4.800111511509629, 4.801811171211849, 5.5036954299958705, 47.398676607901805, 221.49845659410983, 55.011041922246974, 171.76573450752036, 49.00986203594593, 29.01879816755112, 64.98961246761681, 254.66715897930425, 65.30584885622562, 159.42589303482183, 7.380439401446295, 6.726378030470898, 8.678787224055522, 21.12263845771169, 7.415561783717538, 5.921233220049214, 6.195392103212989, 5.816567491849901, 5.7879206725008325, 48.09301876785945, 5.482778372270736, 5.531337976880421, 9.356077722259831, 5.19496138704986, 17.184899604250358, 5.236687914001087, 5.078646779462133, 5.132907559521443, 5.999525670228419, 4.9164962165333295, 13.484023179569208, 6.223566016401443, 12.387540475617675, 6.764601754096188, 35.350618605958545, 6.945474343423618, 4.869018334700047, 5.9676281597486085, 4.841195747962108, 5.640411500840474, 12.395432453263117, 10.176479660185581, 127.99148785653063, 56.74377268261167, 171.76573450752036, 199.41760063727563, 37.61332674166134, 12.678539461910939, 7.4358295345796686, 7.881776426640726, 7.4489174512621, 9.386773471607707, 7.6309246236088155, 6.853093353326989, 18.103924155409967, 6.172268195121309, 6.246827832645144, 7.074420411235529, 6.028739274257635, 9.784706085987661, 5.327649289825517, 5.449523788508266, 17.223392709580878, 5.771942255686714, 6.6278062971380285, 6.07675460396034, 12.20537580428962, 5.433056726588251, 5.048023703861372, 6.003935454839987, 6.109163141509, 4.850269072585311, 4.855307092287058, 13.484023179569208, 5.971382389121575, 19.723479387865783, 5.529974787725776, 5.768698978645126, 47.398676607901805, 40.712544093808674, 18.318187039888727, 17.95661442691756, 21.016818436652137, 131.0227254458471, 142.43708890541404, 9.767313516620911, 9.762098670251186, 9.02014260348239, 7.394384516321373, 18.608453125239322, 6.870941419048264, 13.455404000084172, 5.796161269695311, 13.085847540925942, 5.733629418654832, 6.226790468628768, 5.374226109426932, 5.420659146457516, 5.326796029220419, 5.161335937531017, 5.630092718919616, 5.630092718919616, 4.9575562619135916, 4.96417973356869, 65.30584885622562, 5.327568013872767, 15.267035054793649, 4.795879113019243, 5.7953582802047166, 5.640411500840474, 5.640411500840474, 5.640411500840474, 6.917524235194431, 4.729842871309484, 5.364438390651689, 5.364438390651689, 6.023955683058893, 55.82424293285825, 43.04740394855014, 37.61332674166134, 78.55356718116128, 159.42589303482183, 78.41944740963385, 50.985453639752315, 19.710168549580736, 104.43504315098662, 52.491718461533964, 221.49845659410983, 74.01975070530861, 136.51206190392696, 12.44720275897575, 10.874608923503692, 6.088560119301061, 31.57314629342751, 5.877940112994255, 6.322319829360873, 5.992564909086285, 19.643193936820143, 7.034080630902253, 5.4611540771691365, 5.574928601238693, 9.345801813124563, 5.6524723007430815, 5.338214715606427, 5.051216862572789, 7.082222844295422, 5.491980548307677, 5.021827815962404, 5.373344080759675, 7.421771709973329, 12.309513910429313, 5.915272267573808, 5.395137759032134, 4.732792065259595, 4.808464215111228, 4.760761632564006, 4.727368393836092, 4.746478899564286, 4.681072190227717, 4.681072190227717, 74.01975070530861, 5.715446765552178, 55.82424293285825, 12.60025089777684, 38.71395788249823, 23.38251097581829, 254.66715897930425, 14.369374879399224, 31.435559460290985, 136.51206190392696, 131.0227254458471, 88.84701394551688, 171.76573450752036, 78.55356718116128, 18.611088384779695, 9.754041541057374, 9.679192686146019, 7.429691931731269, 8.653963738775486, 8.568022101291636, 8.52406597173585, 6.652509630778972, 6.116849282086886, 5.788285569070178, 20.191075777763174, 5.981985207038595, 7.074420411235529, 5.256981522051276, 5.444144048274559, 5.444144048274559, 5.444966667188216, 5.207299466504162, 5.894522621795092, 5.831102334435115, 5.053508646993184, 5.0882761535935295, 5.433056726588251, 5.36571358695311, 4.978151851518845, 4.839890696362359, 4.788135120503057, 5.947899152602817, 4.908627299421242, 5.197303045860014, 12.20537580428962, 31.57314629342751, 21.12263845771169, 23.625989662104764, 7.110994911808256, 104.43504315098662, 254.66715897930425, 37.61332674166134, 98.42428213600493, 136.51206190392696, 88.31815143957978, 13.336089089700023, 7.141975927927338, 7.993716868605822, 9.56763156899252, 9.518612415237161, 5.872129307386664, 8.534047624316628, 5.582513565162829, 6.324675726553162, 5.558636447948206, 5.529621746082216, 5.340660295784368, 5.340660295784368, 5.340660295784368, 5.340660295784368, 5.601439195606331, 5.443304123175467, 5.549344337751014, 5.392445773383648, 5.364438390651689, 5.364438390651689, 6.923008715029213, 5.865630764426615, 13.247177562957987, 5.001458472697946, 5.008042986194656, 4.805400733823436, 5.748514905410833, 5.748514905410833, 5.748514905410833, 24.795559555777213, 31.91330500945783, 31.504865562546136, 36.78114788240041, 55.011041922246974, 136.51206190392696, 56.045135109208914, 16.0541282652781, 55.82424293285825, 7.152204671134717, 6.96997088811094, 6.742916160843959, 7.763841908816475, 20.89796448919655, 8.426627908511819, 7.18201043615205, 6.15562743117689, 6.751892654261531, 6.258498354137133, 5.577994163980009, 7.381188632768955, 6.339198836092314, 5.327888845902115, 5.327888845902115, 5.276546125988987, 5.277668583079125, 7.704892220939617, 5.073870953471554, 5.408025323895668, 5.6414573538548085, 5.001864036048451, 5.6955176450683815, 5.587673876421021, 4.802684156262636, 13.484023179569208, 4.813098527832388, 4.8650864679689905, 4.910496132546237, 5.730865688549759, 6.1761135792903605, 32.074607655811896, 16.637168546979595, 24.469552472363535, 159.42589303482183, 78.41944740963385, 9.90216576559642, 8.41704932187141, 6.937276939348745, 7.688190633656278, 6.930362658611993, 7.01137539469031, 5.81292751898802, 5.595420524684745, 5.658166698619414, 5.619343518785032, 5.576590261519924, 13.905837819540807, 5.624484353386775, 10.428353389458383, 5.255477247062773, 5.273187220904662, 5.126630792742127, 5.033079770952596, 4.892653542864668, 6.226106172950791, 5.725466698755603, 4.792695696334797, 4.798333701671098, 5.811499090068101, 4.888989746823996, 4.758456203503603, 5.053053340593692, 5.013970020226192, 4.723711300317235, 4.658618739319969, 5.523732616975042, 38.71395788249823, 171.2117366242503, 55.82424293285825, 35.198926230490926, 13.583798774588757, 25.49513160720007, 159.42589303482183, 36.78114788240041, 56.045135109208914, 221.49845659410983, 20.03104417317616, 43.342812723737545, 56.74377268261167, 199.41760063727563, 7.694797460346054, 6.925354942128613, 29.01879816755112, 5.701173109099255, 5.5935332944922775, 5.778226714865693, 5.559789483113901, 5.559789483113901, 5.559789483113901, 6.028545534836718, 5.4166432551753765, 5.413824580648987, 5.503734459159281, 5.439756039321463, 5.279886117522212, 6.5282218622355, 5.757404896709893, 5.665744590415109, 5.6243150573850835, 7.000795244057229, 4.997876749251951, 5.083290148590997, 4.878316396334577, 4.872628466937016, 6.117803991105593, 6.117803991105593, 6.117803991105593, 12.356368584114277, 28.08126006093064, 38.71395788249823, 16.341969889181037, 10.708656067459003, 13.628708147457376, 37.61332674166134, 123.46166181181346, 50.518799199526754, 24.537022800308844, 7.426001230038888, 6.8151623193744335, 6.359962470078643, 5.868399055998891, 10.642608803748589, 5.802412390463657, 5.602684929583139, 5.60326127869711, 5.632299101091169, 5.440018495309134, 5.645159933864515, 5.697684471565764, 12.507146662156002, 8.135396370629286, 5.159849357482683, 18.394699680082045, 13.30668446929605, 13.684695806634393, 4.9381758592183385, 4.844280715124397, 12.524487404312497, 14.275059087267518, 4.860111070509438, 16.341969889181037, 4.932214249043843, 8.270317845238704, 5.09743701416197, 5.740773236424295, 5.893467830700557, 4.704809091546495, 26.017978161311106, 171.76573450752036, 18.611088384779695, 28.79951012029485, 110.00625519106713, 21.345118514077864, 104.43504315098662, 8.586226605456806, 6.943691414324373, 7.073771773725985, 6.861329175606375, 9.828103755491455, 10.72640411406376, 7.632335654246118, 5.946423746640009, 12.387540475617675, 5.895527623627736, 7.235576399464924, 5.989152369702259, 6.186133702504024, 9.833984537420584, 5.426890565944882, 5.371398203095049, 5.057275665385678, 16.637168546979595, 5.327568013872767, 6.005725667377104, 5.919380281903224, 5.582859869016416, 6.053622878425288, 6.9198582650988465, 8.52406597173585, 5.595529429180319, 5.167404718959352, 7.735718195437712, 4.824292387413611, 4.790889644008448, 20.329475691248255, 38.88467573385231, 50.518799199526754, 254.66715897930425, 33.58398017305609, 50.26981702352438, 28.19234359635127, 98.42428213600493, 221.49845659410983, 29.925081923578777, 57.44281405760825, 7.039999901311487, 11.942730038493059, 6.657864077489051, 6.619096869039745, 6.381491056727606, 6.398863081448787, 5.852729880510722, 6.184137938955666, 6.55421044586666, 7.2474906783943664, 5.558099077900168, 5.737630484360198, 5.6636419776486715, 5.73099917491665, 5.484459923927861, 5.308686521170242, 5.87274984457163, 5.362919882458791, 5.436628589916424, 5.394670736508978, 9.525896465590389, 7.38668974421716, 5.629338016437212, 5.629338016437212, 8.108088001213272, 4.948090608228649, 5.212696803315436, 14.96862538900616, 4.918547954841966, 11.915543410607999, 18.103924155409967, 49.00986203594593, 22.19652376329481, 221.49845659410983, 254.66715897930425, 12.398834284620413, 6.733500747305959, 6.798736215001716, 6.295953821426243, 6.868514770832874, 11.33252140061659, 7.280352356512099, 5.641630987077295, 6.261076393784662, 10.708656067459003, 5.664370960078461, 5.438200402385215, 5.231339202992699, 5.231339202992699, 5.5208982992765385, 14.96862538900616, 4.851704019378831, 5.46395607488016, 4.8001390869956255, 5.8757118340282215, 5.479238896688397, 4.815634407249066, 4.740189392758629, 11.163058347435639, 5.142699148209636, 28.79951012029485, 6.294696766836065, 6.294696766836065, 6.128981827145186, 4.598431433008134, 4.971210706071923, 18.394699680082045, 20.566683534661138, 35.3257102587725, 20.191075777763174, 31.57314629342751, 221.49845659410983, 47.398676607901805, 7.734135542772612, 7.338292790678126, 7.548431065663219, 6.740256273890723, 6.494919055548919, 11.942730038493059, 6.791534663382729, 5.464634594272577, 5.641908982851056, 5.670305712260333, 9.655741499638102, 6.792597295403431, 5.515179523727488, 5.221322842825969, 6.821212750590122, 5.435242820669467, 4.834931102745362, 4.886208231506447, 5.671793319546372, 5.490005190426838, 4.872296062996974, 13.085847540925942, 4.668951742305102, 4.681451829799723, 4.6324891968682405, 4.717496957461875, 5.852987570135912, 5.852987570135912, 7.264206156624193, 4.591151920326277, 10.76021992074068, 13.276373883208432, 55.82424293285825, 142.43708890541404, 64.98961246761681, 254.66715897930425, 171.76573450752036, 131.0227254458471, 74.01975070530861, 6.829534478131454, 5.800188217972184, 8.0572026736904, 5.7746003590533554, 5.514394156301611, 5.344965299443421, 5.4998256259456575, 5.631685601596194, 5.302264557850915, 5.333433723030147, 5.679197125722672, 5.056508623438999, 4.962781488239827, 7.157035636392756, 5.735241394659759, 4.673051770575447, 4.696832123817894, 4.714990300572767, 4.648444501307006, 4.678040619523474, 5.0191481004909555, 4.600908299803142, 4.600908299803142, 4.600908299803142, 4.638072952500521, 5.843233005573016, 5.891121942728409, 8.41704932187141, 8.35527182530375, 6.095356219632868, 31.57314629342751, 56.045135109208914, 159.42589303482183, 19.49730305481872, 13.484023179569208, 38.88467573385231, 19.03506323523655, 171.76573450752036, 64.98961246761681, 29.155181501481913, 199.41760063727563, 104.43504315098662], \"Category\": [\"Default\", \"Default\", \"Default\", \"Default\", \"Default\", \"Default\", \"Default\", \"Default\", \"Default\", \"Default\", \"Default\", \"Default\", \"Default\", \"Default\", \"Default\", \"Default\", \"Default\", \"Default\", \"Default\", \"Default\", \"Default\", \"Default\", \"Default\", \"Default\", \"Default\", \"Default\", \"Default\", \"Default\", \"Default\", \"Default\", \"Topic1\", \"Topic1\", \"Topic1\", \"Topic1\", \"Topic1\", \"Topic1\", \"Topic1\", \"Topic1\", \"Topic1\", \"Topic1\", \"Topic1\", \"Topic1\", \"Topic1\", \"Topic1\", \"Topic1\", \"Topic1\", \"Topic1\", \"Topic1\", \"Topic1\", \"Topic1\", \"Topic1\", \"Topic1\", \"Topic1\", \"Topic1\", \"Topic1\", \"Topic1\", \"Topic1\", \"Topic1\", \"Topic1\", \"Topic1\", \"Topic1\", \"Topic1\", \"Topic1\", \"Topic1\", \"Topic1\", \"Topic1\", \"Topic1\", \"Topic1\", \"Topic1\", \"Topic1\", \"Topic1\", \"Topic1\", \"Topic1\", \"Topic1\", \"Topic2\", \"Topic2\", \"Topic2\", \"Topic2\", \"Topic2\", \"Topic2\", \"Topic2\", \"Topic2\", \"Topic2\", \"Topic2\", \"Topic2\", \"Topic2\", \"Topic2\", \"Topic2\", \"Topic2\", \"Topic2\", \"Topic2\", \"Topic2\", \"Topic2\", \"Topic2\", \"Topic2\", \"Topic2\", \"Topic2\", \"Topic2\", \"Topic2\", \"Topic2\", \"Topic2\", \"Topic2\", \"Topic2\", \"Topic2\", \"Topic2\", \"Topic2\", \"Topic2\", \"Topic2\", \"Topic2\", \"Topic2\", \"Topic2\", \"Topic2\", \"Topic2\", \"Topic2\", \"Topic2\", \"Topic2\", \"Topic2\", \"Topic2\", \"Topic3\", \"Topic3\", \"Topic3\", \"Topic3\", \"Topic3\", \"Topic3\", \"Topic3\", \"Topic3\", \"Topic3\", \"Topic3\", \"Topic3\", \"Topic3\", \"Topic3\", \"Topic3\", \"Topic3\", \"Topic3\", \"Topic3\", \"Topic3\", \"Topic3\", \"Topic3\", \"Topic3\", \"Topic3\", \"Topic3\", \"Topic3\", \"Topic3\", \"Topic3\", \"Topic3\", \"Topic3\", \"Topic3\", \"Topic3\", \"Topic3\", \"Topic3\", \"Topic3\", \"Topic3\", \"Topic3\", \"Topic3\", \"Topic3\", \"Topic3\", \"Topic3\", \"Topic3\", \"Topic3\", \"Topic3\", \"Topic3\", \"Topic3\", \"Topic3\", \"Topic3\", \"Topic3\", \"Topic3\", \"Topic4\", \"Topic4\", \"Topic4\", \"Topic4\", \"Topic4\", \"Topic4\", \"Topic4\", \"Topic4\", \"Topic4\", \"Topic4\", \"Topic4\", \"Topic4\", \"Topic4\", \"Topic4\", \"Topic4\", \"Topic4\", \"Topic4\", \"Topic4\", \"Topic4\", \"Topic4\", \"Topic4\", \"Topic4\", \"Topic4\", \"Topic4\", \"Topic4\", \"Topic4\", \"Topic4\", \"Topic4\", \"Topic4\", \"Topic4\", \"Topic4\", \"Topic4\", \"Topic4\", \"Topic4\", \"Topic4\", \"Topic4\", \"Topic4\", \"Topic4\", \"Topic4\", \"Topic4\", \"Topic4\", \"Topic4\", \"Topic4\", \"Topic4\", \"Topic4\", \"Topic4\", \"Topic4\", \"Topic4\", \"Topic5\", \"Topic5\", \"Topic5\", \"Topic5\", \"Topic5\", \"Topic5\", \"Topic5\", \"Topic5\", \"Topic5\", \"Topic5\", \"Topic5\", \"Topic5\", \"Topic5\", \"Topic5\", \"Topic5\", \"Topic5\", \"Topic5\", \"Topic5\", \"Topic5\", \"Topic5\", \"Topic5\", \"Topic5\", \"Topic5\", \"Topic5\", \"Topic5\", \"Topic5\", \"Topic5\", \"Topic5\", \"Topic5\", \"Topic5\", \"Topic5\", \"Topic5\", \"Topic5\", \"Topic5\", \"Topic5\", \"Topic5\", \"Topic5\", \"Topic5\", \"Topic5\", \"Topic5\", \"Topic5\", \"Topic5\", \"Topic5\", \"Topic5\", \"Topic5\", \"Topic5\", \"Topic5\", \"Topic5\", \"Topic5\", \"Topic6\", \"Topic6\", \"Topic6\", \"Topic6\", \"Topic6\", \"Topic6\", \"Topic6\", \"Topic6\", \"Topic6\", \"Topic6\", \"Topic6\", \"Topic6\", \"Topic6\", \"Topic6\", \"Topic6\", \"Topic6\", \"Topic6\", \"Topic6\", \"Topic6\", \"Topic6\", \"Topic6\", \"Topic6\", \"Topic6\", \"Topic6\", \"Topic6\", \"Topic6\", \"Topic6\", \"Topic6\", \"Topic6\", \"Topic6\", \"Topic6\", \"Topic6\", \"Topic6\", \"Topic6\", \"Topic6\", \"Topic6\", \"Topic6\", \"Topic6\", \"Topic6\", \"Topic6\", \"Topic6\", \"Topic6\", \"Topic6\", \"Topic6\", \"Topic6\", \"Topic6\", \"Topic7\", \"Topic7\", \"Topic7\", \"Topic7\", \"Topic7\", \"Topic7\", \"Topic7\", \"Topic7\", \"Topic7\", \"Topic7\", \"Topic7\", \"Topic7\", \"Topic7\", \"Topic7\", \"Topic7\", \"Topic7\", \"Topic7\", \"Topic7\", \"Topic7\", \"Topic7\", \"Topic7\", \"Topic7\", \"Topic7\", \"Topic7\", \"Topic7\", \"Topic7\", \"Topic7\", \"Topic7\", \"Topic7\", \"Topic7\", \"Topic7\", \"Topic7\", \"Topic7\", \"Topic7\", \"Topic7\", \"Topic7\", \"Topic7\", \"Topic7\", \"Topic7\", \"Topic7\", \"Topic7\", \"Topic7\", \"Topic8\", \"Topic8\", \"Topic8\", \"Topic8\", \"Topic8\", \"Topic8\", \"Topic8\", \"Topic8\", \"Topic8\", \"Topic8\", \"Topic8\", \"Topic8\", \"Topic8\", \"Topic8\", \"Topic8\", \"Topic8\", \"Topic8\", \"Topic8\", \"Topic8\", \"Topic8\", \"Topic8\", \"Topic8\", \"Topic8\", \"Topic8\", \"Topic8\", \"Topic8\", \"Topic8\", \"Topic8\", \"Topic8\", \"Topic8\", \"Topic8\", \"Topic8\", \"Topic8\", \"Topic8\", \"Topic8\", \"Topic8\", \"Topic8\", \"Topic8\", \"Topic8\", \"Topic8\", \"Topic8\", \"Topic8\", \"Topic8\", \"Topic9\", \"Topic9\", \"Topic9\", \"Topic9\", \"Topic9\", \"Topic9\", \"Topic9\", \"Topic9\", \"Topic9\", \"Topic9\", \"Topic9\", \"Topic9\", \"Topic9\", \"Topic9\", \"Topic9\", \"Topic9\", \"Topic9\", \"Topic9\", \"Topic9\", \"Topic9\", \"Topic9\", \"Topic9\", \"Topic9\", \"Topic9\", \"Topic9\", \"Topic9\", \"Topic9\", \"Topic9\", \"Topic9\", \"Topic9\", \"Topic9\", \"Topic9\", \"Topic9\", \"Topic9\", \"Topic10\", \"Topic10\", \"Topic10\", \"Topic10\", \"Topic10\", \"Topic10\", \"Topic10\", \"Topic10\", \"Topic10\", \"Topic10\", \"Topic10\", \"Topic10\", \"Topic10\", \"Topic10\", \"Topic10\", \"Topic10\", \"Topic10\", \"Topic10\", \"Topic10\", \"Topic10\", \"Topic10\", \"Topic10\", \"Topic10\", \"Topic10\", \"Topic10\", \"Topic10\", \"Topic10\", \"Topic10\", \"Topic10\", \"Topic10\", \"Topic10\", \"Topic10\", \"Topic10\", \"Topic10\", \"Topic10\", \"Topic10\", \"Topic10\", \"Topic10\", \"Topic10\", \"Topic10\", \"Topic10\", \"Topic10\", \"Topic10\", \"Topic10\", \"Topic11\", \"Topic11\", \"Topic11\", \"Topic11\", \"Topic11\", \"Topic11\", \"Topic11\", \"Topic11\", \"Topic11\", \"Topic11\", \"Topic11\", \"Topic11\", \"Topic11\", \"Topic11\", \"Topic11\", \"Topic11\", \"Topic11\", \"Topic11\", \"Topic11\", \"Topic11\", \"Topic11\", \"Topic11\", \"Topic11\", \"Topic11\", \"Topic11\", \"Topic11\", \"Topic11\", \"Topic11\", \"Topic11\", \"Topic11\", \"Topic11\", \"Topic11\", \"Topic11\", \"Topic11\", \"Topic11\", \"Topic11\", \"Topic11\", \"Topic11\", \"Topic11\", \"Topic11\", \"Topic12\", \"Topic12\", \"Topic12\", \"Topic12\", \"Topic12\", \"Topic12\", \"Topic12\", \"Topic12\", \"Topic12\", \"Topic12\", \"Topic12\", \"Topic12\", \"Topic12\", \"Topic12\", \"Topic12\", \"Topic12\", \"Topic12\", \"Topic12\", \"Topic12\", \"Topic12\", \"Topic12\", \"Topic12\", \"Topic12\", \"Topic12\", \"Topic12\", \"Topic12\", \"Topic12\", \"Topic12\", \"Topic12\", \"Topic12\", \"Topic12\", \"Topic12\", \"Topic12\", \"Topic12\", \"Topic12\", \"Topic12\", \"Topic12\", \"Topic12\", \"Topic12\", \"Topic12\", \"Topic12\", \"Topic12\", \"Topic12\", \"Topic13\", \"Topic13\", \"Topic13\", \"Topic13\", \"Topic13\", \"Topic13\", \"Topic13\", \"Topic13\", \"Topic13\", \"Topic13\", \"Topic13\", \"Topic13\", \"Topic13\", \"Topic13\", \"Topic13\", \"Topic13\", \"Topic13\", \"Topic13\", \"Topic13\", \"Topic13\", \"Topic13\", \"Topic13\", \"Topic13\", \"Topic13\", \"Topic13\", \"Topic13\", \"Topic13\", \"Topic13\", \"Topic13\", \"Topic13\", \"Topic13\", \"Topic13\", \"Topic13\", \"Topic13\", \"Topic13\", \"Topic13\", \"Topic13\", \"Topic13\", \"Topic13\", \"Topic13\", \"Topic14\", \"Topic14\", \"Topic14\", \"Topic14\", \"Topic14\", \"Topic14\", \"Topic14\", \"Topic14\", \"Topic14\", \"Topic14\", \"Topic14\", \"Topic14\", \"Topic14\", \"Topic14\", \"Topic14\", \"Topic14\", \"Topic14\", \"Topic14\", \"Topic14\", \"Topic14\", \"Topic14\", \"Topic14\", \"Topic14\", \"Topic14\", \"Topic14\", \"Topic14\", \"Topic14\", \"Topic14\", \"Topic14\", \"Topic14\", \"Topic14\", \"Topic14\", \"Topic14\", \"Topic14\", \"Topic14\", \"Topic14\", \"Topic14\", \"Topic14\", \"Topic14\", \"Topic14\", \"Topic14\", \"Topic14\", \"Topic15\", \"Topic15\", \"Topic15\", \"Topic15\", \"Topic15\", \"Topic15\", \"Topic15\", \"Topic15\", \"Topic15\", \"Topic15\", \"Topic15\", \"Topic15\", \"Topic15\", \"Topic15\", \"Topic15\", \"Topic15\", \"Topic15\", \"Topic15\", \"Topic15\", \"Topic15\", \"Topic15\", \"Topic15\", \"Topic15\", \"Topic15\", \"Topic15\", \"Topic15\", \"Topic15\", \"Topic15\", \"Topic15\", \"Topic15\", \"Topic15\", \"Topic15\", \"Topic15\", \"Topic15\", \"Topic15\", \"Topic15\", \"Topic15\", \"Topic15\", \"Topic15\", \"Topic15\", \"Topic15\", \"Topic15\", \"Topic15\", \"Topic15\", \"Topic15\", \"Topic16\", \"Topic16\", \"Topic16\", \"Topic16\", \"Topic16\", \"Topic16\", \"Topic16\", \"Topic16\", \"Topic16\", \"Topic16\", \"Topic16\", \"Topic16\", \"Topic16\", \"Topic16\", \"Topic16\", \"Topic16\", \"Topic16\", \"Topic16\", \"Topic16\", \"Topic16\", \"Topic16\", \"Topic16\", \"Topic16\", \"Topic16\", \"Topic16\", \"Topic16\", \"Topic16\", \"Topic16\", \"Topic16\", \"Topic16\", \"Topic16\", \"Topic16\", \"Topic16\", \"Topic16\", \"Topic16\", \"Topic16\", \"Topic16\", \"Topic16\", \"Topic16\", \"Topic16\", \"Topic17\", \"Topic17\", \"Topic17\", \"Topic17\", \"Topic17\", \"Topic17\", \"Topic17\", \"Topic17\", \"Topic17\", \"Topic17\", \"Topic17\", \"Topic17\", \"Topic17\", \"Topic17\", \"Topic17\", \"Topic17\", \"Topic17\", \"Topic17\", \"Topic17\", \"Topic17\", \"Topic17\", \"Topic17\", \"Topic17\", \"Topic17\", \"Topic17\", \"Topic17\", \"Topic17\", \"Topic17\", \"Topic17\", \"Topic17\", \"Topic17\", \"Topic17\", \"Topic17\", \"Topic17\", \"Topic17\", \"Topic17\", \"Topic17\", \"Topic17\", \"Topic17\", \"Topic17\", \"Topic17\", \"Topic18\", \"Topic18\", \"Topic18\", \"Topic18\", \"Topic18\", \"Topic18\", \"Topic18\", \"Topic18\", \"Topic18\", \"Topic18\", \"Topic18\", \"Topic18\", \"Topic18\", \"Topic18\", \"Topic18\", \"Topic18\", \"Topic18\", \"Topic18\", \"Topic18\", \"Topic18\", \"Topic18\", \"Topic18\", \"Topic18\", \"Topic18\", \"Topic18\", \"Topic18\", \"Topic18\", \"Topic18\", \"Topic18\", \"Topic18\", \"Topic18\", \"Topic18\", \"Topic18\", \"Topic18\", \"Topic18\", \"Topic18\", \"Topic18\", \"Topic18\", \"Topic18\", \"Topic18\", \"Topic18\", \"Topic19\", \"Topic19\", \"Topic19\", \"Topic19\", \"Topic19\", \"Topic19\", \"Topic19\", \"Topic19\", \"Topic19\", \"Topic19\", \"Topic19\", \"Topic19\", \"Topic19\", \"Topic19\", \"Topic19\", \"Topic19\", \"Topic19\", \"Topic19\", \"Topic19\", \"Topic19\", \"Topic19\", \"Topic19\", \"Topic19\", \"Topic19\", \"Topic19\", \"Topic19\", \"Topic19\", \"Topic19\", \"Topic19\", \"Topic19\", \"Topic19\", \"Topic19\", \"Topic19\", \"Topic19\", \"Topic19\", \"Topic19\", \"Topic19\", \"Topic20\", \"Topic20\", \"Topic20\", \"Topic20\", \"Topic20\", \"Topic20\", \"Topic20\", \"Topic20\", \"Topic20\", \"Topic20\", \"Topic20\", \"Topic20\", \"Topic20\", \"Topic20\", \"Topic20\", \"Topic20\", \"Topic20\", \"Topic20\", \"Topic20\", \"Topic20\", \"Topic20\", \"Topic20\", \"Topic20\", \"Topic20\", \"Topic20\", \"Topic20\", \"Topic20\", \"Topic20\", \"Topic20\", \"Topic20\", \"Topic20\", \"Topic20\", \"Topic20\", \"Topic20\", \"Topic20\", \"Topic20\", \"Topic20\", \"Topic21\", \"Topic21\", \"Topic21\", \"Topic21\", \"Topic21\", \"Topic21\", \"Topic21\", \"Topic21\", \"Topic21\", \"Topic21\", \"Topic21\", \"Topic21\", \"Topic21\", \"Topic21\", \"Topic21\", \"Topic21\", \"Topic21\", \"Topic21\", \"Topic21\", \"Topic21\", \"Topic21\", \"Topic21\", \"Topic21\", \"Topic21\", \"Topic21\", \"Topic21\", \"Topic21\", \"Topic21\", \"Topic21\", \"Topic21\", \"Topic21\", \"Topic21\", \"Topic21\", \"Topic21\", \"Topic21\", \"Topic21\", \"Topic21\", \"Topic21\", \"Topic21\", \"Topic21\", \"Topic21\", \"Topic21\", \"Topic22\", \"Topic22\", \"Topic22\", \"Topic22\", \"Topic22\", \"Topic22\", \"Topic22\", \"Topic22\", \"Topic22\", \"Topic22\", \"Topic22\", \"Topic22\", \"Topic22\", \"Topic22\", \"Topic22\", \"Topic22\", \"Topic22\", \"Topic22\", \"Topic22\", \"Topic22\", \"Topic22\", \"Topic22\", \"Topic22\", \"Topic22\", \"Topic22\", \"Topic22\", \"Topic22\", \"Topic22\", \"Topic22\", \"Topic22\", \"Topic22\", \"Topic22\", \"Topic22\", \"Topic22\", \"Topic22\", \"Topic22\", \"Topic22\", \"Topic22\", \"Topic22\", \"Topic22\", \"Topic22\", \"Topic22\", \"Topic23\", \"Topic23\", \"Topic23\", \"Topic23\", \"Topic23\", \"Topic23\", \"Topic23\", \"Topic23\", \"Topic23\", \"Topic23\", \"Topic23\", \"Topic23\", \"Topic23\", \"Topic23\", \"Topic23\", \"Topic23\", \"Topic23\", \"Topic23\", \"Topic23\", \"Topic23\", \"Topic23\", \"Topic23\", \"Topic23\", \"Topic23\", \"Topic23\", \"Topic23\", \"Topic23\", \"Topic23\", \"Topic23\", \"Topic23\", \"Topic23\", \"Topic23\", \"Topic23\", \"Topic23\", \"Topic23\", \"Topic23\", \"Topic23\", \"Topic23\", \"Topic23\", \"Topic23\", \"Topic23\", \"Topic24\", \"Topic24\", \"Topic24\", \"Topic24\", \"Topic24\", \"Topic24\", \"Topic24\", \"Topic24\", \"Topic24\", \"Topic24\", \"Topic24\", \"Topic24\", \"Topic24\", \"Topic24\", \"Topic24\", \"Topic24\", \"Topic24\", \"Topic24\", \"Topic24\", \"Topic24\", \"Topic24\", \"Topic24\", \"Topic24\", \"Topic24\", \"Topic24\", \"Topic24\", \"Topic24\", \"Topic24\", \"Topic24\", \"Topic24\", \"Topic24\", \"Topic24\", \"Topic24\", \"Topic24\", \"Topic25\", \"Topic25\", \"Topic25\", \"Topic25\", \"Topic25\", \"Topic25\", \"Topic25\", \"Topic25\", \"Topic25\", \"Topic25\", \"Topic25\", \"Topic25\", \"Topic25\", \"Topic25\", \"Topic25\", \"Topic25\", \"Topic25\", \"Topic25\", \"Topic25\", \"Topic25\", \"Topic25\", \"Topic25\", \"Topic25\", \"Topic25\", \"Topic25\", \"Topic25\", \"Topic25\", \"Topic25\", \"Topic25\", \"Topic25\", \"Topic25\", \"Topic25\", \"Topic25\", \"Topic25\", \"Topic25\", \"Topic25\", \"Topic25\", \"Topic25\", \"Topic25\", \"Topic26\", \"Topic26\", \"Topic26\", \"Topic26\", \"Topic26\", \"Topic26\", \"Topic26\", \"Topic26\", \"Topic26\", \"Topic26\", \"Topic26\", \"Topic26\", \"Topic26\", \"Topic26\", \"Topic26\", \"Topic26\", \"Topic26\", \"Topic26\", \"Topic26\", \"Topic26\", \"Topic26\", \"Topic26\", \"Topic26\", \"Topic26\", \"Topic26\", \"Topic26\", \"Topic26\", \"Topic26\", \"Topic26\", \"Topic26\", \"Topic26\", \"Topic26\", \"Topic26\", \"Topic26\", \"Topic26\", \"Topic26\", \"Topic26\", \"Topic26\", \"Topic26\", \"Topic26\", \"Topic26\", \"Topic27\", \"Topic27\", \"Topic27\", \"Topic27\", \"Topic27\", \"Topic27\", \"Topic27\", \"Topic27\", \"Topic27\", \"Topic27\", \"Topic27\", \"Topic27\", \"Topic27\", \"Topic27\", \"Topic27\", \"Topic27\", \"Topic27\", \"Topic27\", \"Topic27\", \"Topic27\", \"Topic27\", \"Topic27\", \"Topic27\", \"Topic27\", \"Topic27\", \"Topic27\", \"Topic27\", \"Topic27\", \"Topic27\", \"Topic27\", \"Topic27\", \"Topic27\", \"Topic27\", \"Topic27\", \"Topic27\", \"Topic27\", \"Topic27\", \"Topic27\", \"Topic27\", \"Topic27\", \"Topic28\", \"Topic28\", \"Topic28\", \"Topic28\", \"Topic28\", \"Topic28\", \"Topic28\", \"Topic28\", \"Topic28\", \"Topic28\", \"Topic28\", \"Topic28\", \"Topic28\", \"Topic28\", \"Topic28\", \"Topic28\", \"Topic28\", \"Topic28\", \"Topic28\", \"Topic28\", \"Topic28\", \"Topic28\", \"Topic28\", \"Topic28\", \"Topic28\", \"Topic28\", \"Topic28\", \"Topic28\", \"Topic28\", \"Topic28\", \"Topic28\", \"Topic28\", \"Topic28\", \"Topic28\", \"Topic28\", \"Topic28\", \"Topic28\", \"Topic28\", \"Topic29\", \"Topic29\", \"Topic29\", \"Topic29\", \"Topic29\", \"Topic29\", \"Topic29\", \"Topic29\", \"Topic29\", \"Topic29\", \"Topic29\", \"Topic29\", \"Topic29\", \"Topic29\", \"Topic29\", \"Topic29\", \"Topic29\", \"Topic29\", \"Topic29\", \"Topic29\", \"Topic29\", \"Topic29\", \"Topic29\", \"Topic29\", \"Topic29\", \"Topic29\", \"Topic29\", \"Topic29\", \"Topic29\", \"Topic29\", \"Topic29\", \"Topic29\", \"Topic29\", \"Topic29\", \"Topic29\", \"Topic30\", \"Topic30\", \"Topic30\", \"Topic30\", \"Topic30\", \"Topic30\", \"Topic30\", \"Topic30\", \"Topic30\", \"Topic30\", \"Topic30\", \"Topic30\", \"Topic30\", \"Topic30\", \"Topic30\", \"Topic30\", \"Topic30\", \"Topic30\", \"Topic30\", \"Topic30\", \"Topic30\", \"Topic30\", \"Topic30\", \"Topic30\", \"Topic30\", \"Topic30\", \"Topic30\", \"Topic30\", \"Topic30\", \"Topic30\", \"Topic30\", \"Topic30\", \"Topic30\", \"Topic30\", \"Topic30\", \"Topic30\", \"Topic30\", \"Topic30\", \"Topic31\", \"Topic31\", \"Topic31\", \"Topic31\", \"Topic31\", \"Topic31\", \"Topic31\", \"Topic31\", \"Topic31\", \"Topic31\", \"Topic31\", \"Topic31\", \"Topic31\", \"Topic31\", \"Topic31\", \"Topic31\", \"Topic31\", \"Topic31\", \"Topic31\", \"Topic31\", \"Topic31\", \"Topic31\", \"Topic31\", \"Topic31\", \"Topic31\", \"Topic31\", \"Topic31\", \"Topic31\", \"Topic31\", \"Topic31\", \"Topic31\", \"Topic31\", \"Topic31\", \"Topic31\", \"Topic31\", \"Topic31\", \"Topic31\", \"Topic31\", \"Topic31\", \"Topic32\", \"Topic32\", \"Topic32\", \"Topic32\", \"Topic32\", \"Topic32\", \"Topic32\", \"Topic32\", \"Topic32\", \"Topic32\", \"Topic32\", \"Topic32\", \"Topic32\", \"Topic32\", \"Topic32\", \"Topic32\", \"Topic32\", \"Topic32\", \"Topic32\", \"Topic32\", \"Topic32\", \"Topic32\", \"Topic32\", \"Topic32\", \"Topic32\", \"Topic32\", \"Topic32\", \"Topic32\", \"Topic32\", \"Topic32\", \"Topic32\", \"Topic32\", \"Topic32\", \"Topic32\", \"Topic32\", \"Topic32\", \"Topic32\", \"Topic33\", \"Topic33\", \"Topic33\", \"Topic33\", \"Topic33\", \"Topic33\", \"Topic33\", \"Topic33\", \"Topic33\", \"Topic33\", \"Topic33\", \"Topic33\", \"Topic33\", \"Topic33\", \"Topic33\", \"Topic33\", \"Topic33\", \"Topic33\", \"Topic33\", \"Topic33\", \"Topic33\", \"Topic33\", \"Topic33\", \"Topic33\", \"Topic33\", \"Topic33\", \"Topic33\", \"Topic33\", \"Topic33\", \"Topic33\", \"Topic33\", \"Topic33\", \"Topic33\", \"Topic33\", \"Topic33\", \"Topic33\", \"Topic33\", \"Topic33\", \"Topic33\", \"Topic33\", \"Topic33\", \"Topic33\", \"Topic34\", \"Topic34\", \"Topic34\", \"Topic34\", \"Topic34\", \"Topic34\", \"Topic34\", \"Topic34\", \"Topic34\", \"Topic34\", \"Topic34\", \"Topic34\", \"Topic34\", \"Topic34\", \"Topic34\", \"Topic34\", \"Topic34\", \"Topic34\", \"Topic34\", \"Topic34\", \"Topic34\", \"Topic34\", \"Topic34\", \"Topic34\", \"Topic34\", \"Topic34\", \"Topic34\", \"Topic34\", \"Topic34\", \"Topic34\", \"Topic34\", \"Topic34\", \"Topic34\", \"Topic34\", \"Topic34\", \"Topic34\", \"Topic34\", \"Topic34\", \"Topic34\", \"Topic34\", \"Topic34\", \"Topic34\", \"Topic35\", \"Topic35\", \"Topic35\", \"Topic35\", \"Topic35\", \"Topic35\", \"Topic35\", \"Topic35\", \"Topic35\", \"Topic35\", \"Topic35\", \"Topic35\", \"Topic35\", \"Topic35\", \"Topic35\", \"Topic35\", \"Topic35\", \"Topic35\", \"Topic35\", \"Topic35\", \"Topic35\", \"Topic35\", \"Topic35\", \"Topic35\", \"Topic35\", \"Topic35\", \"Topic35\", \"Topic35\", \"Topic35\", \"Topic35\", \"Topic35\", \"Topic35\", \"Topic35\", \"Topic35\", \"Topic35\", \"Topic35\", \"Topic35\", \"Topic35\", \"Topic35\", \"Topic35\", \"Topic35\", \"Topic36\", \"Topic36\", \"Topic36\", \"Topic36\", \"Topic36\", \"Topic36\", \"Topic36\", \"Topic36\", \"Topic36\", \"Topic36\", \"Topic36\", \"Topic36\", \"Topic36\", \"Topic36\", \"Topic36\", \"Topic36\", \"Topic36\", \"Topic36\", \"Topic36\", \"Topic36\", \"Topic36\", \"Topic36\", \"Topic36\", \"Topic36\", \"Topic36\", \"Topic36\", \"Topic36\", \"Topic36\", \"Topic36\", \"Topic36\", \"Topic36\", \"Topic36\", \"Topic36\", \"Topic36\", \"Topic36\", \"Topic36\", \"Topic36\", \"Topic37\", \"Topic37\", \"Topic37\", \"Topic37\", \"Topic37\", \"Topic37\", \"Topic37\", \"Topic37\", \"Topic37\", \"Topic37\", \"Topic37\", \"Topic37\", \"Topic37\", \"Topic37\", \"Topic37\", \"Topic37\", \"Topic37\", \"Topic37\", \"Topic37\", \"Topic37\", \"Topic37\", \"Topic37\", \"Topic37\", \"Topic37\", \"Topic37\", \"Topic37\", \"Topic37\", \"Topic37\", \"Topic37\", \"Topic37\", \"Topic37\", \"Topic37\", \"Topic37\", \"Topic37\", \"Topic37\", \"Topic37\", \"Topic37\", \"Topic37\", \"Topic38\", \"Topic38\", \"Topic38\", \"Topic38\", \"Topic38\", \"Topic38\", \"Topic38\", \"Topic38\", \"Topic38\", \"Topic38\", \"Topic38\", \"Topic38\", \"Topic38\", \"Topic38\", \"Topic38\", \"Topic38\", \"Topic38\", \"Topic38\", \"Topic38\", \"Topic38\", \"Topic38\", \"Topic38\", \"Topic38\", \"Topic38\", \"Topic38\", \"Topic38\", \"Topic38\", \"Topic38\", \"Topic38\", \"Topic38\", \"Topic38\", \"Topic38\", \"Topic38\", \"Topic38\", \"Topic38\", \"Topic38\", \"Topic38\", \"Topic38\", \"Topic38\", \"Topic38\", \"Topic38\", \"Topic38\", \"Topic38\", \"Topic38\", \"Topic38\", \"Topic39\", \"Topic39\", \"Topic39\", \"Topic39\", \"Topic39\", \"Topic39\", \"Topic39\", \"Topic39\", \"Topic39\", \"Topic39\", \"Topic39\", \"Topic39\", \"Topic39\", \"Topic39\", \"Topic39\", \"Topic39\", \"Topic39\", \"Topic39\", \"Topic39\", \"Topic39\", \"Topic39\", \"Topic39\", \"Topic39\", \"Topic39\", \"Topic39\", \"Topic39\", \"Topic39\", \"Topic39\", \"Topic39\", \"Topic39\", \"Topic39\", \"Topic39\", \"Topic39\", \"Topic39\", \"Topic39\", \"Topic39\", \"Topic39\", \"Topic39\", \"Topic39\", \"Topic39\", \"Topic39\", \"Topic39\", \"Topic39\", \"Topic39\", \"Topic40\", \"Topic40\", \"Topic40\", \"Topic40\", \"Topic40\", \"Topic40\", \"Topic40\", \"Topic40\", \"Topic40\", \"Topic40\", \"Topic40\", \"Topic40\", \"Topic40\", \"Topic40\", \"Topic40\", \"Topic40\", \"Topic40\", \"Topic40\", \"Topic40\", \"Topic40\", \"Topic40\", \"Topic40\", \"Topic40\", \"Topic40\", \"Topic40\", \"Topic40\", \"Topic40\", \"Topic40\", \"Topic40\", \"Topic40\", \"Topic40\", \"Topic40\", \"Topic40\", \"Topic40\", \"Topic40\", \"Topic40\", \"Topic40\", \"Topic40\", \"Topic40\", \"Topic40\", \"Topic40\", \"Topic41\", \"Topic41\", \"Topic41\", \"Topic41\", \"Topic41\", \"Topic41\", \"Topic41\", \"Topic41\", \"Topic41\", \"Topic41\", \"Topic41\", \"Topic41\", \"Topic41\", \"Topic41\", \"Topic41\", \"Topic41\", \"Topic41\", \"Topic41\", \"Topic41\", \"Topic41\", \"Topic41\", \"Topic41\", \"Topic41\", \"Topic41\", \"Topic41\", \"Topic41\", \"Topic41\", \"Topic41\", \"Topic41\", \"Topic41\", \"Topic41\", \"Topic41\", \"Topic41\", \"Topic41\", \"Topic41\", \"Topic41\", \"Topic41\", \"Topic41\", \"Topic41\", \"Topic42\", \"Topic42\", \"Topic42\", \"Topic42\", \"Topic42\", \"Topic42\", \"Topic42\", \"Topic42\", \"Topic42\", \"Topic42\", \"Topic42\", \"Topic42\", \"Topic42\", \"Topic42\", \"Topic42\", \"Topic42\", \"Topic42\", \"Topic42\", \"Topic42\", \"Topic42\", \"Topic42\", \"Topic42\", \"Topic42\", \"Topic42\", \"Topic42\", \"Topic42\", \"Topic42\", \"Topic42\", \"Topic42\", \"Topic42\", \"Topic42\", \"Topic42\", \"Topic42\", \"Topic42\", \"Topic42\", \"Topic42\", \"Topic43\", \"Topic43\", \"Topic43\", \"Topic43\", \"Topic43\", \"Topic43\", \"Topic43\", \"Topic43\", \"Topic43\", \"Topic43\", \"Topic43\", \"Topic43\", \"Topic43\", \"Topic43\", \"Topic43\", \"Topic43\", \"Topic43\", \"Topic43\", \"Topic43\", \"Topic43\", \"Topic43\", \"Topic43\", \"Topic43\", \"Topic43\", \"Topic43\", \"Topic43\", \"Topic43\", \"Topic43\", \"Topic43\", \"Topic43\", \"Topic43\", \"Topic43\", \"Topic43\", \"Topic43\", \"Topic43\", \"Topic43\", \"Topic43\", \"Topic43\", \"Topic43\", \"Topic43\", \"Topic43\", \"Topic43\", \"Topic43\", \"Topic43\", \"Topic43\", \"Topic44\", \"Topic44\", \"Topic44\", \"Topic44\", \"Topic44\", \"Topic44\", \"Topic44\", \"Topic44\", \"Topic44\", \"Topic44\", \"Topic44\", \"Topic44\", \"Topic44\", \"Topic44\", \"Topic44\", \"Topic44\", \"Topic44\", \"Topic44\", \"Topic44\", \"Topic44\", \"Topic44\", \"Topic44\", \"Topic44\", \"Topic44\", \"Topic44\", \"Topic44\", \"Topic44\", \"Topic44\", \"Topic44\", \"Topic44\", \"Topic44\", \"Topic44\", \"Topic44\", \"Topic44\", \"Topic44\", \"Topic44\", \"Topic44\", \"Topic45\", \"Topic45\", \"Topic45\", \"Topic45\", \"Topic45\", \"Topic45\", \"Topic45\", \"Topic45\", \"Topic45\", \"Topic45\", \"Topic45\", \"Topic45\", \"Topic45\", \"Topic45\", \"Topic45\", \"Topic45\", \"Topic45\", \"Topic45\", \"Topic45\", \"Topic45\", \"Topic45\", \"Topic45\", \"Topic45\", \"Topic45\", \"Topic45\", \"Topic45\", \"Topic45\", \"Topic45\", \"Topic45\", \"Topic45\", \"Topic45\", \"Topic45\", \"Topic45\", \"Topic45\", \"Topic45\", \"Topic45\", \"Topic45\", \"Topic46\", \"Topic46\", \"Topic46\", \"Topic46\", \"Topic46\", \"Topic46\", \"Topic46\", \"Topic46\", \"Topic46\", \"Topic46\", \"Topic46\", \"Topic46\", \"Topic46\", \"Topic46\", \"Topic46\", \"Topic46\", \"Topic46\", \"Topic46\", \"Topic46\", \"Topic46\", \"Topic46\", \"Topic46\", \"Topic46\", \"Topic46\", \"Topic46\", \"Topic46\", \"Topic46\", \"Topic46\", \"Topic46\", \"Topic46\", \"Topic46\", \"Topic46\", \"Topic46\", \"Topic46\", \"Topic46\", \"Topic46\", \"Topic46\", \"Topic46\", \"Topic46\", \"Topic46\", \"Topic46\", \"Topic47\", \"Topic47\", \"Topic47\", \"Topic47\", \"Topic47\", \"Topic47\", \"Topic47\", \"Topic47\", \"Topic47\", \"Topic47\", \"Topic47\", \"Topic47\", \"Topic47\", \"Topic47\", \"Topic47\", \"Topic47\", \"Topic47\", \"Topic47\", \"Topic47\", \"Topic47\", \"Topic47\", \"Topic47\", \"Topic47\", \"Topic47\", \"Topic47\", \"Topic47\", \"Topic47\", \"Topic47\", \"Topic47\", \"Topic47\", \"Topic47\", \"Topic47\", \"Topic47\", \"Topic47\", \"Topic47\", \"Topic48\", \"Topic48\", \"Topic48\", \"Topic48\", \"Topic48\", \"Topic48\", \"Topic48\", \"Topic48\", \"Topic48\", \"Topic48\", \"Topic48\", \"Topic48\", \"Topic48\", \"Topic48\", \"Topic48\", \"Topic48\", \"Topic48\", \"Topic48\", \"Topic48\", \"Topic48\", \"Topic48\", \"Topic48\", \"Topic48\", \"Topic48\", \"Topic48\", \"Topic48\", \"Topic48\", \"Topic48\", \"Topic48\", \"Topic48\", \"Topic48\", \"Topic48\", \"Topic48\", \"Topic48\", \"Topic48\", \"Topic48\", \"Topic48\", \"Topic48\", \"Topic49\", \"Topic49\", \"Topic49\", \"Topic49\", \"Topic49\", \"Topic49\", \"Topic49\", \"Topic49\", \"Topic49\", \"Topic49\", \"Topic49\", \"Topic49\", \"Topic49\", \"Topic49\", \"Topic49\", \"Topic49\", \"Topic49\", \"Topic49\", \"Topic49\", \"Topic49\", \"Topic49\", \"Topic49\", \"Topic49\", \"Topic49\", \"Topic49\", \"Topic49\", \"Topic49\", \"Topic49\", \"Topic49\", \"Topic49\", \"Topic49\", \"Topic49\", \"Topic49\", \"Topic49\", \"Topic49\", \"Topic49\", \"Topic49\", \"Topic49\", \"Topic49\", \"Topic50\", \"Topic50\", \"Topic50\", \"Topic50\", \"Topic50\", \"Topic50\", \"Topic50\", \"Topic50\", \"Topic50\", \"Topic50\", \"Topic50\", \"Topic50\", \"Topic50\", \"Topic50\", \"Topic50\", \"Topic50\", \"Topic50\", \"Topic50\", \"Topic50\", \"Topic50\", \"Topic50\", \"Topic50\", \"Topic50\", \"Topic50\", \"Topic50\", \"Topic50\", \"Topic50\", \"Topic50\", \"Topic50\", \"Topic50\", \"Topic50\", \"Topic50\", \"Topic50\", \"Topic50\", \"Topic50\", \"Topic50\", \"Topic50\", \"Topic50\", \"Topic50\", \"Topic50\", \"Topic50\", \"Topic50\"], \"logprob\": [30.0, 29.0, 28.0, 27.0, 26.0, 25.0, 24.0, 23.0, 22.0, 21.0, 20.0, 19.0, 18.0, 17.0, 16.0, 15.0, 14.0, 13.0, 12.0, 11.0, 10.0, 9.0, 8.0, 7.0, 6.0, 5.0, 4.0, 3.0, 2.0, 1.0, -3.1878, -4.3957, -3.5388, -4.6924, -4.553, -5.2041, -4.7773, -5.2183, -5.2882, -3.9889, -4.7846, -5.4336, -5.5697, -5.6987, -4.9136, -5.8048, -5.7374, -5.7408, -4.0258, -2.8063, -5.931, -5.8635, -5.9915, -5.2693, -6.0744, -5.025, -6.34, -6.3573, -6.3444, -6.3864, -4.8958, -5.5037, -5.4962, -4.2299, -5.2066, -4.7824, -5.3773, -4.7148, -4.6264, -4.6609, -4.6861, -4.938, -4.9495, -5.2338, -4.3142, -4.6065, -5.0479, -3.9688, -3.893, -4.6092, -3.8839, -3.2107, -4.0109, -4.4503, -5.4097, -4.5091, -5.4563, -5.4669, -2.8595, -5.6472, -4.8253, -5.763, -5.5986, -5.8628, -5.988, -4.6379, -5.9357, -6.0217, -6.1354, -6.2519, -6.2675, -6.3118, -4.9111, -6.2495, -5.7862, -4.1389, -5.6276, -5.1385, -4.5133, -4.9361, -5.1861, -5.0581, -4.4724, -5.271, -4.6368, -4.8055, -4.9268, -5.3265, -4.3354, -2.7892, -4.4604, -5.0158, -5.3651, -3.1555, -5.4735, -4.2655, -5.2632, -4.3788, -4.9636, -5.5485, -5.9336, -5.9159, -3.0735, -6.0394, -5.7736, -6.1736, -6.1772, -5.8715, -6.2655, -5.0215, -6.3786, -6.3763, -4.7865, -6.332, -6.4669, -6.4669, -6.4669, -6.4669, -5.1647, -4.4566, -3.6945, -5.3794, -5.6058, -5.8647, -5.049, -4.6767, -5.1548, -4.5853, -4.7755, -4.6773, -4.8269, -5.4829, -5.395, -5.4121, -5.2407, -5.5075, -3.8238, -4.3821, -4.9177, -2.3465, -3.8779, -5.1615, -5.4105, -5.6374, -5.5655, -5.6643, -5.5811, -3.537, -4.7623, -4.7112, -5.9239, -5.9848, -5.5918, -6.107, -4.9494, -5.9766, -6.1977, -5.4675, -6.1708, -6.1746, -6.2293, -6.225, -6.2809, -6.3831, -6.3831, -6.3831, -5.5835, -4.7991, -5.0248, -4.2961, -4.1177, -5.3137, -4.698, -4.4981, -4.988, -5.4196, -5.4579, -5.2425, -5.126, -5.0842, -5.2353, -5.511, -5.5473, -5.5556, -4.6443, -3.6567, -4.6237, -5.1652, -4.9403, -5.134, -4.1998, -5.3917, -5.1852, -5.5956, -5.6706, -5.6784, -5.7632, -4.0682, -5.9187, -5.957, -5.9954, -5.4914, -5.2076, -4.1661, -5.075, -5.5505, -3.0157, -6.0946, -6.0806, -6.1462, -6.2159, -6.1957, -5.6226, -6.2548, -5.7543, -5.4493, -4.9773, -4.732, -4.3537, -5.4131, -4.6518, -5.4909, -4.7537, -5.4994, -4.8346, -4.8085, -5.3001, -5.0542, -5.3255, -5.0674, -5.3772, -5.4081, -5.4592, -4.5206, -4.4892, -4.8075, -4.9135, -3.9299, -4.8785, -2.1241, -4.2845, -5.4021, -5.0538, -5.789, -5.348, -5.0301, -5.1188, -5.6153, -6.077, -6.1106, -6.1762, -5.5783, -6.2954, -6.2954, -6.2954, -6.1118, -6.2897, -5.8513, -5.6179, -6.4313, -6.4825, -6.4855, -5.2244, -6.4528, -6.2507, -5.7295, -5.3176, -4.573, -5.111, -4.6835, -5.2042, -5.1251, -5.736, -4.8934, -5.0784, -5.347, -4.8713, -5.0857, -5.7253, -3.8535, -4.7448, -4.478, -4.8894, -3.873, -4.2877, -2.5999, -4.8106, -5.1204, -5.448, -5.0913, -5.4904, -5.0581, -5.6298, -5.7209, -5.6482, -5.7172, -5.2879, -5.9179, -5.8798, -6.0, -6.0142, -4.8217, -6.023, -6.3182, -6.413, -6.4354, -6.4356, -6.4356, -6.4356, -5.5705, -5.6636, -5.3387, -5.5667, -5.9156, -4.7105, -4.3733, -4.9113, -4.8979, -5.4619, -5.6576, -5.7018, -3.6723, -3.516, -4.7142, -4.9475, -4.7404, -5.2868, -4.9503, -5.4329, -4.4914, -5.583, -5.2807, -4.6372, -5.8157, -5.9809, -6.0598, -6.0526, -6.0294, -6.1463, -6.1007, -5.9424, -6.1463, -4.8725, -6.1897, -6.3029, -4.0925, -6.3615, -5.6167, -6.4503, -6.3489, -5.8508, -5.9326, -4.4553, -4.6937, -3.8779, -4.8458, -4.0759, -5.0339, -4.5463, -4.5569, -5.3731, -4.6797, -5.2874, -5.6501, -3.5312, -3.3477, -3.9523, -4.0455, -5.0554, -5.0094, -4.8652, -4.1371, -3.3239, -5.5984, -5.0895, -5.447, -5.4113, -5.8863, -5.8108, -5.8598, -5.9079, -6.0519, -6.1006, -6.1006, -6.1006, -6.0721, -6.1891, -6.1006, -6.2715, -6.5547, -6.6731, -6.6719, -3.7391, -5.5216, -5.1648, -4.4529, -4.511, -5.0776, -4.8204, -4.7766, -3.2677, -5.0357, -4.328, -5.2312, -4.637, -3.4934, -5.8325, -5.3282, -5.9117, -5.9016, -5.9396, -5.757, -5.9324, -4.0293, -6.0979, -4.9534, -6.282, -4.7812, -6.055, -5.6512, -6.468, -6.1889, -6.6249, -6.6655, -6.5133, -6.5353, -6.6058, -6.6058, -5.8377, -3.6932, -5.2569, -5.0668, -4.3183, -5.2035, -5.5584, -5.4358, -5.602, -5.3247, -5.6345, -5.4456, -5.7166, -5.5933, -4.2224, -4.7381, -4.5032, -4.94, -4.9808, -4.7991, -4.9549, -3.5408, -5.4617, -5.4371, -5.6015, -5.5112, -5.6891, -3.2808, -5.7065, -5.7123, -5.8758, -5.2694, -5.5971, -6.0803, -6.127, -6.0821, -5.6332, -5.4899, -6.3784, -5.6708, -6.1001, -5.1149, -4.8274, -6.6081, -5.6849, -4.3462, -4.8426, -4.3994, -5.0023, -5.5893, -4.9977, -5.5212, -5.6093, -5.6399, -3.9012, -4.037, -4.1479, -4.5325, -5.0432, -4.9401, -4.0519, -5.1365, -5.3211, -3.8222, -5.3537, -5.3833, -5.4221, -5.5801, -5.6478, -5.6462, -5.7108, -5.7782, -5.8298, -5.9333, -5.4511, -5.7106, -6.0782, -6.1415, -6.1415, -6.1415, -6.1415, -6.1415, -5.9912, -5.4239, -5.2241, -6.0226, -4.9025, -5.6441, -6.038, -4.9475, -5.0155, -5.5897, -5.0302, -5.7703, -5.6404, -5.5769, -5.6443, -3.5274, -4.8329, -4.6864, -5.1651, -5.1602, -4.3077, -4.2136, -5.368, -5.4214, -4.5319, -5.6868, -5.7143, -4.2992, -5.8966, -5.9069, -5.9076, -5.7391, -5.979, -5.834, -6.1116, -6.0916, -5.9195, -6.193, -4.9909, -6.2529, -6.1862, -4.2883, -3.6774, -5.5732, -6.3397, -4.4291, -4.0659, -5.2075, -5.0088, -4.1086, -4.6292, -5.4382, -5.7146, -5.8189, -5.6978, -4.1203, -4.1393, -4.3975, -4.4674, -4.1538, -4.2613, -5.1234, -5.1456, -5.3281, -4.7802, -4.9046, -4.9318, -5.2456, -4.8188, -5.5381, -5.7151, -5.9447, -5.5508, -5.6894, -6.0681, -6.0735, -6.0293, -5.0497, -6.2806, -6.2437, -6.2745, -6.3231, -6.1287, -6.3233, -6.4912, -5.5765, -4.5517, -5.8799, -5.0748, -4.7457, -5.6796, -5.7611, -5.2524, -5.3184, -5.7781, -5.8592, -5.861, -4.0411, -4.2622, -3.5983, -4.5637, -4.8954, -4.8876, -4.6449, -5.3533, -5.4534, -5.0658, -5.4205, -5.7693, -5.8317, -5.8844, -4.9139, -5.7781, -6.1069, -6.1167, -3.9251, -6.2434, -6.2183, -6.1951, -6.3724, -6.3271, -6.2681, -6.375, -6.6854, -6.6984, -6.7139, -6.7287, -6.1118, -6.6282, -5.3949, -4.1627, -5.5427, -5.3567, -5.0352, -5.2874, -5.5766, -5.7989, -5.5667, -5.8918, -5.8289, -5.7752, -6.0495, -4.3956, -4.581, -4.7881, -4.8022, -3.405, -4.9402, -4.9704, -4.3152, -4.364, -4.5198, -4.8546, -5.4957, -5.4063, -5.5888, -5.6824, -5.4508, -5.6898, -5.8042, -5.8445, -5.8583, -5.9076, -5.6683, -5.9583, -5.9587, -6.0019, -6.0902, -5.2451, -6.2681, -6.4011, -5.898, -5.5903, -5.7693, -5.002, -4.8876, -5.1205, -5.3215, -4.7594, -5.7257, -5.8192, -5.826, -3.6041, -4.8903, -5.0106, -4.6467, -4.9309, -5.2559, -5.3202, -5.4594, -5.0344, -4.7947, -5.4821, -5.6814, -5.7752, -5.821, -5.8499, -5.8724, -5.9161, -5.9327, -6.0693, -6.0693, -6.039, -4.8689, -6.0908, -5.919, -6.26, -5.6474, -3.919, -6.3974, -6.3038, -6.4292, -5.5094, -3.9463, -5.6841, -5.4894, -4.5773, -5.4814, -4.8658, -5.4944, -5.4698, -5.6854, -5.8207, -3.9057, -4.8854, -5.0445, -5.3017, -4.9382, -4.367, -5.2539, -5.4145, -4.0645, -5.055, -5.1758, -5.5958, -5.8662, -5.9195, -5.9877, -4.1512, -5.9886, -5.9736, -5.6128, -6.0065, -5.9937, -6.1107, -6.2354, -6.1948, -6.2935, -6.3507, -5.7283, -4.6679, -4.6414, -6.581, -5.0587, -5.8587, -5.1685, -4.5944, -5.0197, -4.9887, -5.4373, -5.0949, -5.5679, -5.3431, -5.7801, -3.3252, -3.9499, -4.6461, -4.7903, -4.8637, -5.0201, -5.2402, -5.2842, -4.6768, -5.0748, -5.096, -5.4392, -5.4423, -5.4638, -5.6981, -5.6934, -5.7023, -5.6212, -5.7963, -5.8148, -5.6881, -5.8743, -5.7814, -5.9907, -6.0559, -6.0559, -6.0559, -5.9699, -5.2668, -5.5823, -5.1017, -5.2369, -5.7613, -4.4276, -5.5055, -5.2709, -5.7715, -3.6921, -4.4086, -4.4242, -4.8558, -4.5434, -5.0308, -4.6139, -4.2676, -4.1528, -5.6916, -5.7315, -5.728, -5.8034, -5.792, -5.5726, -5.883, -5.9893, -6.0131, -5.6701, -5.7251, -5.7923, -4.7876, -6.2165, -6.3691, -6.5516, -6.4905, -5.9826, -6.5592, -5.3648, -6.4704, -5.6182, -5.7765, -5.2966, -5.1374, -5.8041, -5.7329, -5.9367, -4.4491, -4.493, -4.5414, -4.383, -5.0558, -5.1275, -5.2389, -5.2363, -5.1931, -5.4293, -5.6121, -5.4931, -5.7306, -5.8693, -5.7765, -4.7563, -6.069, -5.6272, -6.2127, -5.3119, -5.0023, -6.4662, -5.905, -6.0387, -5.3155, -6.6448, -6.6646, -6.6619, -6.2419, -6.6931, -5.8296, -6.5196, -5.6401, -5.7669, -5.8245, -4.9649, -5.7375, -5.2629, -5.0674, -5.6474, -5.6839, -5.8333, -4.5313, -4.6284, -3.6699, -4.7292, -5.128, -5.3753, -5.5579, -5.3094, -5.6191, -5.7085, -5.7838, -5.7379, -5.8004, -5.8706, -5.7973, -5.9101, -5.8824, -5.9272, -6.0268, -5.9777, -6.0574, -6.0628, -6.2028, -5.8644, -5.3224, -6.2614, -5.8311, -6.2761, -5.8782, -6.4042, -4.6421, -5.5535, -5.1109, -5.7074, -4.9163, -5.5637, -5.529, -5.6059, -5.4459, -5.6268, -5.667, -5.8582, -2.7998, -4.5717, -4.8532, -4.9442, -5.3089, -5.3202, -5.4043, -5.3774, -4.7422, -5.6505, -5.699, -5.7289, -6.1436, -6.1446, -4.4817, -6.2926, -6.4961, -6.1167, -6.7297, -6.8128, -6.8126, -6.8225, -6.7238, -6.9014, -7.1153, -7.0809, -6.9014, -6.8608, -5.4528, -7.2456, -5.7554, -4.5865, -6.4141, -5.7474, -5.9337, -6.2522, -5.3431, -6.1986, -6.016, -5.895, -6.4992, -4.0873, -4.519, -3.7306, -4.7687, -5.0989, -3.8019, -5.0242, -5.3235, -5.2833, -5.3842, -5.4799, -5.4997, -5.6225, -5.3661, -5.7137, -5.7137, -5.4371, -5.8885, -5.9836, -5.9516, -3.5566, -6.0462, -6.1428, -6.1428, -6.2452, -6.2129, -5.3736, -6.6552, -4.9363, -6.476, -5.321, -5.6172, -5.5922, -5.6481, -4.5975, -4.8825, -4.9373, -4.4966, -5.1754, -5.2744, -5.2018, -5.3726, -4.0741, -5.4271, -5.5643, -5.6176, -5.7264, -5.8007, -5.9866, -5.9866, -4.2214, -5.0278, -6.0643, -5.8198, -6.3071, -6.2307, -6.3368, -6.0903, -6.4654, -6.4709, -6.3567, -5.6549, -6.3812, -5.8634, -4.2859, -5.7259, -5.6485, -3.9868, -5.2869, -5.1318, -5.7926, -5.7938, -5.9247, -4.7223, -5.1389, -5.1392, -4.5773, -3.1606, -5.0351, -5.2722, -5.3607, -5.1239, -4.3404, -5.5148, -5.7523, -5.8603, -5.5913, -5.9466, -5.8628, -6.0863, -6.2768, -6.3813, -6.5084, -6.5375, -6.5887, -6.4938, -6.6056, -6.4938, -6.5444, -6.7221, -6.8138, -6.8183, -6.2279, -4.819, -6.2976, -6.1798, -5.9148, -5.3046, -5.5254, -5.8591, -6.3447, -6.1498, -6.4176, -6.3959, -4.5011, -4.7272, -4.7724, -4.8488, -5.1754, -4.8052, -4.4734, -5.4775, -5.1953, -5.5068, -5.5614, -5.6272, -5.4796, -5.2403, -5.6834, -5.7004, -5.4259, -5.8076, -5.8471, -5.6784, -5.1659, -5.8731, -5.7599, -5.9616, -5.4989, -6.1523, -6.3148, -6.3055, -6.4482, -5.934, -5.9896, -4.4002, -5.7762, -5.5236, -5.4281, -5.2542, -5.598, -5.6455, -5.6954, -5.8053, -4.3542, -4.3665, -3.7973, -3.8641, -4.7901, -4.9943, -4.9346, -5.4456, -5.491, -5.0727, -5.6002, -5.7118, -5.619, -5.6997, -5.8322, -5.2797, -5.8908, -5.9216, -5.6232, -5.1154, -5.781, -5.9854, -5.862, -6.2872, -4.7211, -6.1332, -5.8519, -6.2872, -5.6578, -6.4677, -6.4105, -5.7774, -4.3832, -5.3708, -5.6386, -4.844, -5.5998, -5.724, -3.9533, -4.0935, -3.7858, -5.2944, -5.3191, -4.853, -5.4053, -5.5328, -5.2902, -5.7054, -5.5904, -5.5934, -5.7961, -5.8012, -5.7478, -5.847, -5.8427, -5.8375, -5.6629, -5.8911, -5.9119, -5.5853, -6.0462, -5.9635, -6.0267, -6.256, -6.256, -6.3143, -5.7701, -5.571, -5.4689, -5.7435, -6.151, -5.5041, -5.5603, -4.4257, -4.6588, -4.5514, -4.2087, -5.0368, -5.1597, -5.122, -4.4752, -5.3255, -5.4107, -4.9049, -4.7366, -5.6425, -5.6702, -5.7573, -5.9454, -5.9036, -5.9698, -5.9595, -5.9698, -5.277, -6.0165, -5.941, -6.2464, -6.3005, -6.4639, -6.2955, -6.4207, -6.6246, -6.6909, -6.5914, -3.8938, -5.9686, -5.0578, -5.4626, -5.7014, -5.9295, -5.8058, -3.691, -4.5776, -4.6789, -4.7201, -4.8292, -5.1962, -5.1641, -5.3658, -5.3445, -5.4102, -5.6858, -5.8175, -5.9557, -5.9557, -5.9557, -5.9591, -5.9557, -4.7489, -5.4419, -6.0596, -6.1965, -6.2087, -5.8096, -6.2314, -6.4355, -6.2508, -6.4582, -6.632, -6.496, -5.779, -5.6477, -5.3371, -4.7509, -4.4597, -5.6173, -5.8354, -6.0018, -5.6951, -5.5828, -4.2024, -4.3258, -4.9072, -3.7688, -5.3978, -4.3917, -5.5728, -4.878, -5.7282, -5.738, -5.7678, -5.7388, -5.2419, -5.9005, -4.6869, -6.0376, -4.548, -5.2347, -6.215, -6.2674, -6.2674, -6.2674, -6.2674, -6.2674, -6.2674, -6.3915, -6.6041, -6.5745, -6.5745, -6.6579, -5.4907, -5.8104, -5.8519, -5.8492, -5.41, -5.6622, -6.2071, -3.9707, -4.7662, -3.9598, -4.439, -4.8341, -5.3698, -5.293, -5.3046, -5.6118, -5.8691, -5.6885, -5.9531, -5.6819, -5.7679, -5.6276, -5.6384, -5.9619, -6.2314, -6.2797, -5.6358, -6.2609, -6.4399, -6.447, -5.8259, -6.139, -6.5102, -6.609, -6.828, -6.8349, -6.8464, -6.0305, -6.6649, -4.1923, -4.667, -4.8186, -5.2992, -5.4791, -5.0874, -5.6945, -5.82, -5.6954, -5.8201, -4.3868, -4.4225, -4.3563, -4.336, -5.1288, -5.2423, -4.587, -5.7129, -5.8788, -5.8425, -5.9931, -5.1468, -5.8307, -5.5548, -6.1216, -6.2055, -6.184, -5.6048, -6.5654, -6.5726, -6.3824, -6.5656, -6.5095, -6.7843, -6.7459, -6.7859, -6.6291, -6.8972, -5.2116, -6.23, -5.7768, -6.255, -6.4198, -5.8781, -6.248, -5.5431, -5.9577, -6.3533, -6.0782, -6.2287, -6.1978, -6.2827, -3.8534, -3.9203, -4.9093, -4.8827, -5.0388, -4.9501, -5.1453, -5.4855, -5.4741, -5.5785, -5.58, -5.6361, -5.6479, -5.7225, -5.7786, -5.6313, -6.074, -6.074, -6.1645, -4.7651, -6.4702, -6.4702, -6.5944, -5.2408, -6.6476, -6.703, -6.8172, -6.8272, -6.9168, -6.9202, -6.8109, -5.2735, -4.6879, -5.7482, -5.6825, -6.1227, -6.3838, -6.2992, -6.2139, -6.3492, -6.3635, -4.9412, -5.1831, -5.1129, -4.3012, -5.3637, -5.6029, -5.5743, -5.6502, -5.69, -3.6061, -5.8925, -5.982, -5.4977, -6.2204, -5.0448, -6.3434, -6.3756, -6.4249, -6.3959, -6.6398, -5.6445, -6.4373, -5.7722, -6.3905, -4.7524, -6.387, -6.7746, -6.6064, -6.9514, -6.8098, -6.0239, -6.3524, -4.8305, -5.3397, -5.1244, -5.4016, -6.3689, -3.9552, -4.8723, -4.853, -4.9562, -4.7324, -4.9814, -5.1353, -4.3184, -5.3952, -5.4373, -5.7263, -5.9346, -5.46, -6.0927, -6.0941, -4.9467, -6.2215, -6.093, -6.2818, -5.6749, -6.5259, -6.6634, -6.5182, -6.5182, -6.7672, -6.7754, -5.8014, -6.6901, -5.5226, -6.8033, -6.7637, -5.3173, -6.0088, -6.319, -6.3352, -6.4172, -6.1362, -6.1719, -4.3433, -4.4587, -4.6279, -4.84, -4.0036, -5.04, -4.7162, -5.626, -4.9921, -5.8232, -5.7706, -5.9694, -6.0084, -6.1001, -6.2229, -6.3706, -6.3706, -6.6054, -6.6174, -4.2602, -6.7791, -5.7519, -7.0384, -6.9058, -7.0102, -7.0102, -7.0102, -6.8117, -7.1959, -7.0815, -7.0815, -6.9783, -5.3365, -5.5447, -5.8064, -5.4228, -5.1668, -5.6201, -5.8502, -6.4417, -5.8949, -6.253, -6.1244, -6.3742, -6.3562, -3.9149, -4.0517, -5.4156, -3.7768, -5.5778, -5.5627, -5.712, -4.5682, -5.6351, -5.9086, -6.0103, -5.7224, -6.2464, -6.3136, -6.4261, -6.1019, -6.3583, -6.5593, -6.5074, -6.2284, -5.8529, -6.6553, -6.9019, -7.059, -7.0474, -7.0735, -7.0913, -7.1317, -7.2192, -7.2192, -4.5825, -7.0444, -5.5704, -6.5615, -5.9226, -6.2891, -5.337, -6.6101, -6.3385, -5.9129, -6.0382, -6.3541, -6.4467, -6.4793, -3.6367, -4.4428, -4.4569, -4.8088, -4.6892, -4.7995, -4.8818, -5.2595, -5.4232, -5.6373, -4.3897, -5.6806, -5.6294, -6.1246, -6.1492, -6.1492, -6.1633, -6.2474, -6.1914, -6.2699, -6.5604, -6.563, -6.5268, -6.6375, -6.719, -6.8227, -6.9002, -6.7175, -6.9142, -6.9118, -6.1094, -5.2658, -5.6889, -6.0065, -6.6467, -5.6048, -5.5462, -6.1322, -6.2051, -6.4328, -6.4482, -4.2451, -4.9955, -4.9078, -4.7709, -4.905, -5.4461, -5.103, -5.6989, -5.6445, -5.7833, -5.843, -5.8821, -5.8821, -5.8821, -5.8821, -5.8502, -5.8821, -5.9052, -6.023, -6.1583, -6.1583, -6.0005, -6.1804, -5.3984, -6.3831, -6.6189, -6.7544, -6.8107, -6.8107, -6.8107, -5.6268, -5.5257, -5.5827, -5.5447, -5.5171, -5.3148, -5.8111, -6.0894, -6.0174, -4.8123, -4.896, -4.9459, -4.8093, -3.9376, -4.8849, -5.1958, -5.3774, -5.3185, -5.4535, -5.6632, -5.4264, -5.5961, -5.8664, -5.8664, -5.9531, -5.9575, -5.6665, -6.2733, -6.2408, -6.2408, -6.3841, -6.4408, -6.5283, -6.7515, -5.7555, -6.7891, -6.8137, -6.8931, -6.7947, -6.7479, -6.2029, -6.4268, -6.4474, -6.3408, -6.4829, -4.2455, -4.6068, -4.8805, -4.7895, -5.0187, -5.361, -5.5515, -5.6286, -5.6176, -5.655, -5.7301, -4.874, -5.8138, -5.3224, -6.1005, -6.2202, -6.3637, -6.3824, -6.5821, -6.3527, -6.5776, -6.7735, -6.7747, -6.6787, -6.8885, -6.9389, -7.0152, -7.084, -7.1812, -7.1996, -7.0367, -5.2936, -4.2708, -5.453, -5.8721, -6.4548, -6.1857, -5.4522, -6.1546, -6.0478, -5.7945, -6.3635, -6.2567, -6.2351, -6.1464, -4.6161, -4.8201, -3.8126, -5.5256, -5.5961, -5.594, -5.6681, -5.6681, -5.6681, -5.5907, -5.7641, -5.7778, -5.7623, -5.7784, -5.8851, -5.6887, -5.8567, -6.0385, -6.0799, -5.9712, -6.3637, -6.3673, -6.5377, -6.5722, -6.6043, -6.6043, -6.6043, -5.9174, -5.1641, -4.8636, -5.7681, -6.1839, -6.0226, -5.6182, -5.1478, -5.9716, -6.165, -4.6606, -4.9526, -5.231, -5.4132, -4.9059, -5.5365, -5.5913, -5.6003, -5.6764, -5.7217, -5.8216, -5.8219, -5.0925, -5.5769, -6.0575, -4.8093, -5.2272, -5.2742, -6.5096, -6.5821, -5.7235, -5.6526, -6.7625, -5.6195, -6.8382, -6.35, -6.8509, -6.7826, -6.7595, -7.0595, -5.598, -5.1401, -6.497, -6.4185, -6.1333, -6.6025, -6.5645, -4.437, -4.8231, -4.9712, -5.0169, -4.7062, -4.6518, -5.0355, -5.3187, -4.8538, -5.6169, -5.4508, -5.6908, -5.7668, -5.3186, -5.9219, -6.2856, -6.3603, -5.1736, -6.3646, -6.3061, -6.3277, -6.4013, -6.4069, -6.3707, -6.2876, -6.7157, -6.8623, -6.5261, -6.9996, -7.1183, -5.7557, -5.5222, -5.5768, -5.2795, -6.1288, -6.1545, -6.2664, -6.1694, -6.1184, -6.2884, -6.2767, -4.7567, -4.3134, -4.9776, -5.1697, -5.2142, -5.36, -5.4686, -5.4683, -5.423, -5.354, -5.6422, -5.6107, -5.6274, -5.7064, -5.7542, -5.8859, -5.7852, -5.8859, -5.8859, -6.0927, -5.5649, -5.8285, -6.1027, -6.1027, -5.7654, -6.3777, -6.3999, -5.4785, -6.6846, -5.8881, -5.5129, -4.9478, -5.908, -5.7868, -5.8694, -3.7145, -4.8276, -4.9162, -5.0482, -5.0083, -4.6014, -5.143, -5.5062, -5.4073, -4.8736, -5.5673, -5.6232, -5.8498, -5.8498, -5.9795, -5.1821, -6.5172, -6.4569, -6.6349, -6.4569, -6.5796, -6.73, -6.8596, -6.1986, -7.023, -5.3661, -6.9675, -6.9675, -7.0022, -7.3931, -7.3158, -6.1716, -6.4193, -6.244, -6.5176, -6.3769, -5.7608, -6.466, -4.4755, -4.6103, -4.7508, -4.9487, -5.0996, -4.5575, -5.1954, -5.5579, -5.5404, -5.5528, -5.0273, -5.417, -5.6717, -5.8131, -5.6504, -6.1132, -6.5054, -6.7281, -6.5826, -6.6204, -6.8423, -5.9452, -7.0235, -7.0406, -7.1539, -7.181, -7.0823, -7.0823, -6.8999, -7.3853, -6.6484, -6.6179, -6.1491, -6.0673, -6.3662, -5.9865, -6.4929, -6.5447, -6.6323, -4.454, -5.2096, -4.9002, -5.2928, -5.3731, -5.536, -5.6758, -5.7115, -5.874, -5.9778, -6.0181, -6.4477, -6.5431, -6.2798, -6.5353, -6.7906, -6.9208, -6.9356, -7.0008, -7.0312, -7.0062, -7.1078, -7.1078, -7.1078, -7.1078, -6.9095, -6.9095, -6.6803, -6.6888, -7.0398, -5.473, -5.8413, -5.3847, -6.4493, -6.7627, -6.5869, -6.755, -6.3947, -6.5607, -6.7899, -6.7408, -6.8706], \"loglift\": [30.0, 29.0, 28.0, 27.0, 26.0, 25.0, 24.0, 23.0, 22.0, 21.0, 20.0, 19.0, 18.0, 17.0, 16.0, 15.0, 14.0, 13.0, 12.0, 11.0, 10.0, 9.0, 8.0, 7.0, 6.0, 5.0, 4.0, 3.0, 2.0, 1.0, 2.5726, 2.5583, 2.5502, 2.4829, 2.4241, 2.4168, 2.4067, 2.3825, 2.3806, 2.3697, 2.334, 2.3107, 2.3039, 2.2438, 2.236, 2.1886, 2.1596, 2.1558, 2.1449, 2.1431, 2.1317, 2.0979, 2.0957, 2.0753, 2.0025, 1.959, 1.9538, 1.937, 1.9335, 1.9288, 1.9243, 1.9066, 1.8415, 1.639, 1.7753, 1.6753, 1.6752, 0.9864, 0.8069, 0.8135, 0.5175, 0.5958, 0.5483, 1.1986, 2.6101, 2.5749, 2.4889, 2.4791, 2.4602, 2.4534, 2.4434, 2.4386, 2.4073, 2.4051, 2.3886, 2.3776, 2.3561, 2.3481, 2.3235, 2.3062, 2.2681, 2.25, 2.2248, 2.2173, 2.159, 2.1466, 2.1379, 2.0926, 2.0502, 2.0256, 2.0025, 1.9758, 1.9706, 1.9505, 1.9401, 1.7299, 1.8781, 1.6877, 1.4744, 1.4062, 1.3913, 1.2538, 0.582, 1.4226, 0.5668, 0.1438, 0.2801, 0.1713, 2.6157, 2.6017, 2.5489, 2.5136, 2.4263, 2.3783, 2.3484, 2.3119, 2.3056, 2.2967, 2.2863, 2.2774, 2.191, 2.1741, 2.1334, 2.1029, 2.1027, 2.0813, 2.0795, 2.0507, 2.0279, 1.9892, 1.9686, 1.9376, 1.9359, 1.9346, 1.9183, 1.9183, 1.9183, 1.9183, 1.8943, 1.8554, 1.8033, 1.7688, 1.7629, 1.82, 1.5316, 1.3687, 1.3218, 0.8892, 0.9257, 0.5264, 0.3561, 1.2606, 0.9326, 0.8991, -0.1864, 0.9199, 2.8563, 2.7703, 2.7285, 2.7079, 2.6686, 2.6442, 2.5677, 2.4708, 2.4689, 2.4437, 2.3721, 2.3258, 2.3146, 2.3034, 2.2904, 2.2712, 2.2569, 2.2253, 2.1988, 2.1864, 2.1765, 2.1764, 2.1649, 2.1608, 2.1274, 2.1211, 2.1157, 2.0695, 2.0695, 2.0695, 2.0611, 1.8945, 1.877, 1.6916, 1.3567, 1.6768, 1.1708, 0.9997, 1.3356, 1.6329, 1.4666, 1.1466, 0.0808, -0.2743, -0.286, 1.0696, 1.2372, 0.1456, 2.8513, 2.7916, 2.6935, 2.6539, 2.6157, 2.6069, 2.587, 2.5401, 2.5061, 2.4877, 2.464, 2.4581, 2.4418, 2.4098, 2.3582, 2.3292, 2.2943, 2.2869, 2.2766, 2.2663, 2.2646, 2.2628, 2.2625, 2.2621, 2.2278, 2.2166, 2.1913, 2.1682, 2.1579, 2.1493, 2.1338, 2.1083, 1.9245, 1.8555, 1.634, 1.9349, 1.3342, 1.9352, 1.2918, 1.8051, 0.369, 0.1408, 1.1478, 0.1527, 1.1322, -0.2576, 0.9504, 0.0663, 1.2856, 2.8588, 2.8415, 2.8113, 2.795, 2.7592, 2.7253, 2.6857, 2.6578, 2.6178, 2.5447, 2.4266, 2.3893, 2.3494, 2.3218, 2.2984, 2.2819, 2.2594, 2.2093, 2.1552, 2.1521, 2.1521, 2.1194, 2.1193, 2.0835, 2.0704, 2.0406, 2.0309, 2.0028, 2.0022, 1.9957, 1.9955, 1.9516, 1.8033, 1.5799, 0.9248, 1.2162, 0.7909, 1.2232, 1.0505, 1.6017, 0.3848, 0.6228, 0.965, 0.0781, 0.1212, 1.1009, 3.118, 2.9634, 2.9421, 2.9163, 2.9121, 2.8836, 2.8335, 2.8134, 2.7888, 2.7064, 2.6746, 2.6523, 2.6306, 2.5939, 2.5707, 2.5609, 2.5174, 2.5096, 2.4585, 2.4583, 2.3746, 2.3436, 2.2693, 2.263, 2.1603, 2.1306, 2.1101, 2.0846, 2.0846, 2.0572, 1.9128, 1.9102, 1.8122, 1.8098, 1.9231, 1.335, 0.8303, 0.5631, 0.2851, 0.2393, 0.7009, 0.8857, 3.3215, 3.2727, 3.0791, 2.885, 2.8703, 2.843, 2.8391, 2.8242, 2.7673, 2.7264, 2.6798, 2.6673, 2.5147, 2.4444, 2.4257, 2.4205, 2.417, 2.387, 2.386, 2.3656, 2.358, 2.3301, 2.2603, 2.2425, 2.2311, 2.2244, 2.1754, 2.1305, 2.1298, 2.0994, 2.0727, 1.8437, 1.7975, 1.5965, 1.8297, 1.1277, 1.5535, 0.9516, 0.7213, 1.412, 0.2697, 1.14, 0.5964, 3.3992, 3.3857, 3.2639, 3.2139, 3.0102, 2.9601, 2.956, 2.8523, 2.8516, 2.7492, 2.7326, 2.6876, 2.6123, 2.5713, 2.5709, 2.5283, 2.4486, 2.4459, 2.4281, 2.4185, 2.4064, 2.4055, 2.3149, 2.2507, 2.2387, 1.9939, 1.9895, 1.989, 1.9621, 1.9203, 1.3264, 0.7507, 0.7672, -0.2678, 3.0656, 3.0572, 3.0313, 2.9796, 2.9676, 2.929, 2.9012, 2.753, 2.6017, 2.5739, 2.5576, 2.5512, 2.5273, 2.4872, 2.4103, 2.3981, 2.325, 2.3054, 2.284, 2.2296, 2.1849, 2.1649, 2.1531, 2.1164, 2.0012, 1.979, 1.9703, 1.9511, 1.9201, 1.8973, 1.8702, 1.585, 1.4655, 1.3223, 0.4915, 0.6594, 0.988, 0.5519, 0.8892, -0.121, 0.7077, 0.0288, 0.9266, -0.6439, 3.2951, 3.1745, 3.1542, 3.0911, 3.0424, 3.0136, 2.9467, 2.8483, 2.847, 2.833, 2.7636, 2.7137, 2.7125, 2.7052, 2.6923, 2.6904, 2.5633, 2.5212, 2.4668, 2.4546, 2.414, 2.4125, 2.3477, 2.2584, 2.2329, 2.2313, 2.2047, 2.1952, 2.0722, 2.0502, 2.0195, 1.9002, 1.8509, 1.2498, 1.4757, 1.5498, 0.2059, 0.8024, -0.1349, -0.8301, 3.3878, 3.3826, 3.3372, 3.2566, 3.0868, 3.0609, 3.0594, 3.0168, 2.9423, 2.9213, 2.8722, 2.8174, 2.8048, 2.7895, 2.7352, 2.7173, 2.7043, 2.6524, 2.6319, 2.5328, 2.4718, 2.4436, 2.428, 2.4204, 2.4204, 2.4204, 2.4204, 2.4204, 2.4195, 2.4092, 2.4077, 2.3765, 1.4398, 2.0209, 2.2661, 0.5269, 0.1881, 1.3099, -0.2203, 1.2191, 0.0608, -0.6276, -0.4613, 3.3084, 3.1913, 3.1855, 3.0369, 3.0237, 3.0184, 2.9842, 2.8897, 2.8369, 2.7688, 2.7329, 2.622, 2.6064, 2.5986, 2.5888, 2.5704, 2.5364, 2.5328, 2.5284, 2.4492, 2.4441, 2.4411, 2.2954, 2.26, 2.238, 2.2292, 2.2029, 2.1855, 2.153, 2.1247, 1.5569, 1.141, 1.6922, 1.4692, 0.7012, 0.4252, 1.3065, 1.4363, 1.7212, 0.2899, 3.4802, 3.4091, 3.3823, 3.3425, 3.2604, 3.1598, 3.0917, 3.0689, 2.9713, 2.9706, 2.9087, 2.9076, 2.842, 2.7212, 2.7081, 2.7071, 2.5804, 2.5709, 2.5132, 2.4893, 2.4767, 2.4487, 2.3908, 2.3339, 2.2438, 2.2357, 2.2274, 2.2268, 2.2144, 2.1653, 2.1618, 2.0289, 2.0338, 1.6686, 0.9555, 1.7464, 1.7424, 1.0588, 1.114, 1.1216, 1.3906, 0.6156, 3.3992, 3.3333, 3.3261, 3.3174, 3.1928, 3.155, 3.0596, 2.9664, 2.9255, 2.8942, 2.8648, 2.7128, 2.6848, 2.6343, 2.5637, 2.5064, 2.4849, 2.4072, 2.3862, 2.3789, 2.3353, 2.317, 2.2775, 2.2618, 2.244, 2.195, 2.0222, 1.997, 1.9964, 1.981, 1.9509, 1.9753, 1.5956, 1.0203, 1.339, 0.967, 0.4626, 0.3618, 0.599, 1.1029, -0.1758, 1.0057, 0.5134, -0.9653, 1.2512, 3.4246, 3.4099, 3.3156, 3.288, 3.2382, 3.2283, 3.0976, 3.0373, 3.0194, 2.9577, 2.9374, 2.9136, 2.8807, 2.7972, 2.7825, 2.7811, 2.7656, 2.6983, 2.6801, 2.6747, 2.6474, 2.6138, 2.5922, 2.5908, 2.5408, 2.5116, 2.4925, 2.3377, 2.2096, 2.2091, 2.1942, 2.044, 1.4557, 1.288, 1.4602, 1.5339, 0.19, 0.9967, 1.3647, 1.0758, 3.6575, 3.2728, 3.1899, 3.1101, 3.1053, 3.0794, 3.0234, 2.9554, 2.9158, 2.9132, 2.901, 2.8064, 2.7462, 2.709, 2.6686, 2.6436, 2.626, 2.5939, 2.5324, 2.5324, 2.5219, 2.5075, 2.4848, 2.4263, 2.375, 2.3375, 2.3275, 2.2702, 2.2551, 2.1829, 2.0891, 1.5875, 1.8628, 1.6219, 0.7009, 1.4182, 0.1886, 0.4916, -0.2661, 0.6382, -1.0109, 3.5747, 3.2547, 3.1908, 3.037, 2.9893, 2.981, 2.9596, 2.9331, 2.9259, 2.9135, 2.8939, 2.8691, 2.6522, 2.6402, 2.5953, 2.5936, 2.5627, 2.5615, 2.5415, 2.5366, 2.4445, 2.4009, 2.3986, 2.3911, 2.3325, 2.3107, 2.2199, 2.1583, 2.1453, 2.1202, 1.847, 1.8896, 1.2206, 0.6092, 0.8431, 0.2895, 1.0407, 0.112, 1.1076, -0.2887, 1.44, 3.6678, 3.48, 3.4171, 3.3328, 3.3066, 3.1944, 3.0714, 3.0567, 3.0335, 3.0284, 2.9862, 2.9846, 2.9832, 2.9547, 2.7896, 2.7871, 2.7592, 2.7484, 2.744, 2.6902, 2.6778, 2.6735, 2.6335, 2.5693, 2.553, 2.553, 2.553, 2.4807, 2.4507, 2.399, 2.2818, 2.131, 2.3604, 0.7761, 1.4839, 0.1625, -0.5886, 3.6149, 3.506, 3.505, 3.3229, 3.3092, 3.2337, 3.0446, 2.962, 2.9061, 2.8028, 2.7976, 2.7891, 2.7582, 2.7329, 2.6941, 2.6183, 2.605, 2.5911, 2.5325, 2.512, 2.4644, 2.4325, 2.3156, 2.2422, 2.1584, 2.1564, 2.1553, 2.1506, 2.1409, 2.0974, 2.0136, 2.013, 1.7944, 1.5851, 1.7646, 0.6563, -0.4028, 3.5369, 3.5326, 3.5094, 3.4015, 3.2564, 3.1493, 3.1215, 3.114, 3.1025, 2.999, 2.8943, 2.8942, 2.7635, 2.6965, 2.6196, 2.6124, 2.5628, 2.4355, 2.4101, 2.3728, 2.3657, 2.2365, 2.1247, 2.118, 2.0987, 2.0843, 2.0664, 2.0489, 2.0394, 2.0374, 2.0091, 2.0196, 1.686, 1.5856, 1.5857, 0.2181, 1.2519, 0.4383, -0.2575, 0.6516, -0.2506, -0.5551, 3.4451, 3.3864, 3.317, 3.2498, 3.1195, 3.0289, 2.9291, 2.919, 2.8866, 2.8396, 2.7878, 2.7873, 2.7694, 2.7104, 2.6938, 2.6835, 2.6549, 2.6479, 2.5862, 2.5775, 2.542, 2.5155, 2.4588, 2.4409, 2.4152, 2.4118, 2.3846, 2.3223, 2.3089, 2.2944, 1.7002, 1.799, 1.3166, 1.8395, 0.033, 1.3419, 1.2145, 1.1793, 0.2553, 0.3609, 0.3784, -0.6545, 3.7834, 3.4478, 3.3253, 3.2617, 3.1049, 3.0659, 3.0391, 3.0264, 3.003, 2.8241, 2.8016, 2.7716, 2.5089, 2.5049, 2.5002, 2.2696, 2.0828, 2.0266, 1.9935, 1.9409, 1.9265, 1.8908, 1.8522, 1.6687, 1.6661, 1.6652, 1.6628, 1.642, 1.5377, 1.4971, 1.4471, 1.2764, 1.3695, 0.7438, 0.8925, 1.0485, -0.1395, 0.7032, -0.03, -0.6882, -0.798, 3.7059, 3.5092, 3.4569, 3.4278, 3.2468, 3.2044, 3.1989, 3.1155, 3.0998, 3.0245, 3.0029, 2.9393, 2.9037, 2.8874, 2.845, 2.845, 2.8348, 2.6826, 2.6403, 2.6162, 2.6141, 2.5403, 2.4521, 2.4521, 2.426, 2.2456, 2.184, 2.0784, 1.9656, 1.9579, 1.9299, 1.1053, 0.899, 0.6792, 3.3307, 3.2953, 3.2869, 3.2417, 3.1806, 3.1386, 3.1132, 3.0794, 3.0767, 3.0379, 2.9182, 2.8963, 2.8101, 2.781, 2.6383, 2.6383, 2.5987, 2.583, 2.5548, 2.4368, 2.3775, 2.3723, 2.3414, 2.271, 2.2446, 2.2388, 2.1889, 2.1583, 2.1478, 2.1414, 2.0253, 2.0334, 1.9092, 1.2201, 1.0251, 0.0719, 0.6841, -0.984, 0.1208, 3.4429, 3.2209, 3.2187, 3.1842, 3.167, 3.1294, 3.1015, 3.0903, 2.945, 2.9105, 2.8896, 2.8103, 2.708, 2.6656, 2.6346, 2.5294, 2.4931, 2.3956, 2.2927, 2.206, 2.1571, 2.1412, 2.1241, 2.1239, 2.1154, 2.0064, 2.0031, 1.941, 1.9113, 1.8686, 1.7616, 1.6639, 1.5795, 1.3148, 0.7409, -0.3217, -0.4682, 0.7179, -1.34, 0.7215, 0.2842, 3.5308, 3.4768, 3.444, 3.286, 3.2187, 3.0686, 3.0625, 3.0214, 2.9914, 2.972, 2.9256, 2.915, 2.9029, 2.8976, 2.8586, 2.8336, 2.7779, 2.7758, 2.7533, 2.7253, 2.6828, 2.6559, 2.6516, 2.6031, 2.475, 2.4344, 2.3647, 2.3405, 2.2456, 2.2388, 2.233, 0.878, 1.7638, 1.3317, 1.0202, 0.5063, 1.3016, 1.252, 1.1404, 1.306, 3.6594, 3.6428, 3.6171, 3.4379, 3.377, 3.3165, 3.2267, 3.0423, 2.9952, 2.9044, 2.8924, 2.8493, 2.8462, 2.8117, 2.762, 2.7364, 2.7073, 2.6832, 2.6447, 2.5292, 2.4822, 2.4263, 2.4201, 2.2935, 2.1845, 2.1707, 2.129, 2.1225, 2.0757, 2.011, 2.0043, 1.9113, 1.4796, 1.1058, 1.4524, 0.2104, -0.3929, 0.6651, 3.7409, 3.7191, 3.4168, 3.1096, 3.1091, 3.0841, 3.0756, 2.9703, 2.8813, 2.8415, 2.8172, 2.8042, 2.7913, 2.7743, 2.755, 2.7453, 2.7246, 2.7133, 2.688, 2.6856, 2.6562, 2.6373, 2.5961, 2.5677, 2.4159, 2.3714, 2.3714, 2.3549, 2.3436, 2.2525, 1.59, 1.7966, 2.1157, 0.4819, -0.3567, 3.5644, 3.5222, 3.3968, 3.324, 3.3074, 3.2359, 3.1798, 3.0986, 3.0903, 3.0529, 3.0167, 2.8952, 2.8893, 2.8218, 2.779, 2.6788, 2.6734, 2.6644, 2.6617, 2.6387, 2.5067, 2.4909, 2.429, 2.3595, 2.3233, 2.2439, 2.2106, 2.1731, 2.0943, 2.0464, 2.0375, 1.3099, 1.1823, -0.248, 0.2386, -0.0522, 0.5028, -0.6228, 3.767, 3.5323, 3.5068, 3.4117, 3.3072, 3.1999, 3.1913, 3.0969, 3.0872, 3.0566, 2.8667, 2.7734, 2.6795, 2.6795, 2.6795, 2.6525, 2.6401, 2.5518, 2.5372, 2.5029, 2.4599, 2.4306, 2.4272, 2.3438, 2.2781, 2.2566, 2.178, 2.1037, 2.0843, 2.0015, 1.8558, 1.4891, 0.7469, 0.4896, 1.2824, 1.2832, 1.642, 0.1738, -0.3792, 3.5614, 3.4907, 3.3084, 3.2152, 3.0907, 3.0118, 2.9649, 2.938, 2.8492, 2.8478, 2.815, 2.7813, 2.6464, 2.6381, 2.6126, 2.5458, 2.5044, 2.499, 2.4253, 2.3428, 2.3428, 2.3428, 2.3428, 2.3428, 2.3351, 2.1683, 2.1228, 2.0155, 2.0155, 1.9601, 1.8354, 1.4096, 1.3193, 1.1402, 0.0234, -0.7128, -0.7093, 3.5126, 3.4906, 3.482, 3.471, 3.4211, 3.1059, 2.8625, 2.8521, 2.8377, 2.7576, 2.7553, 2.691, 2.6739, 2.643, 2.6403, 2.6335, 2.6258, 2.3544, 2.3356, 2.3014, 2.2867, 2.2822, 2.2692, 2.1794, 2.0861, 1.9999, 1.9884, 1.9296, 1.923, 1.9202, 1.8173, 1.8883, 1.0859, 0.9822, 1.0502, 1.0244, 0.8328, 0.1162, 1.0389, 1.2569, 0.851, 1.0796, 3.6656, 3.6656, 3.4477, 3.3977, 3.2826, 3.2177, 2.8165, 2.7632, 2.7194, 2.6865, 2.6608, 2.6337, 2.6119, 2.559, 2.5434, 2.4806, 2.462, 2.1788, 2.1764, 2.1681, 2.1385, 2.1146, 2.0939, 1.9823, 1.9749, 1.9291, 1.9061, 1.8781, 1.8653, 1.8389, 1.6768, 1.6261, 1.6571, 0.6993, 1.1897, -0.4887, -0.6795, 0.9474, -1.2684, -0.3599, -1.2485, -0.0362, 3.9436, 3.6585, 3.4455, 3.435, 3.3637, 3.3544, 3.136, 3.0554, 3.0511, 2.997, 2.9888, 2.9513, 2.9402, 2.8271, 2.8138, 2.762, 2.6049, 2.6049, 2.4935, 2.4224, 2.1638, 2.1638, 2.1532, 2.1271, 2.0832, 1.9615, 1.9534, 1.9428, 1.8643, 1.8606, 1.8334, 1.2176, 0.2614, 0.5941, -0.4789, 0.3351, 0.598, -0.1236, -1.4041, -0.1785, -1.0853, 3.4097, 3.2606, 3.076, 2.9983, 2.9825, 2.9684, 2.9517, 2.9389, 2.904, 2.8706, 2.7557, 2.6574, 2.6161, 2.4817, 2.461, 2.3507, 2.3491, 2.2892, 2.1622, 2.1173, 2.1038, 2.0841, 2.0609, 2.0476, 2.0321, 2.0247, 1.9923, 1.957, 1.8212, 1.81, 1.8085, 1.6773, 0.6673, 0.9715, 0.0792, -0.3472, 0.3536, 3.8547, 3.4712, 3.4322, 3.3856, 3.3781, 3.3362, 3.2898, 3.1352, 3.1345, 3.0804, 2.667, 2.6186, 2.609, 2.5841, 2.5601, 2.5568, 2.3752, 2.3655, 2.2635, 2.173, 2.1314, 2.0674, 2.0391, 2.0218, 2.0035, 1.9943, 1.9468, 1.8727, 1.8453, 1.8363, 1.8336, 1.1738, 0.6344, 1.1228, 1.1266, 0.8873, -0.6618, -0.781, 3.7274, 3.6126, 3.5224, 3.509, 3.4225, 3.3825, 3.0342, 2.9666, 2.7862, 2.7803, 2.7503, 2.6988, 2.6512, 2.5769, 2.4857, 2.251, 2.251, 2.1435, 2.1301, 1.9105, 1.8978, 1.8722, 1.7436, 1.6869, 1.6096, 1.6096, 1.6096, 1.6041, 1.6, 1.5885, 1.5885, 1.5757, 0.9911, 1.0428, 0.916, 0.5632, 0.1114, 0.3676, 0.5681, 0.9269, -0.1937, 0.1361, -1.175, -0.3288, -0.9228, 3.9133, 3.9117, 3.1278, 3.1207, 3.0008, 2.943, 2.8473, 2.8039, 2.7639, 2.7435, 2.6211, 2.3924, 2.3713, 2.3613, 2.304, 2.2903, 2.2882, 2.1767, 2.1609, 2.117, 1.9865, 1.9169, 1.7623, 1.7363, 1.732, 1.7159, 1.7051, 1.6606, 1.587, 1.587, 1.4629, 1.5622, 0.7571, 1.2546, 0.7709, 0.9087, -0.5272, 1.0746, 0.5634, -0.4796, -0.5638, -0.4912, -1.2431, -0.4933, 3.7893, 3.6293, 3.6229, 3.5355, 3.5025, 3.4022, 3.3251, 3.1953, 3.1155, 2.9566, 2.9548, 2.8804, 2.7639, 2.5656, 2.506, 2.506, 2.4918, 2.4523, 2.3843, 2.3167, 2.1693, 2.1599, 2.1305, 2.0322, 2.0258, 1.9502, 1.8834, 1.8492, 1.8446, 1.7898, 1.7385, 1.6317, 1.6105, 1.1809, 1.7414, 0.0964, -0.7364, 0.5902, -0.4447, -0.9995, -0.5794, 3.5142, 3.3883, 3.3633, 3.3205, 3.1915, 3.1335, 3.1027, 2.9313, 2.8608, 2.8512, 2.7966, 2.7923, 2.7923, 2.7923, 2.7923, 2.7765, 2.7732, 2.7309, 2.6418, 2.5117, 2.5117, 2.4144, 2.4003, 2.3675, 2.357, 2.1198, 2.0256, 1.7901, 1.7901, 1.7901, 1.5123, 1.3611, 1.3169, 1.2001, 0.8251, 0.1185, 0.5125, 1.4844, 0.3102, 3.5701, 3.5122, 3.4954, 3.491, 3.3726, 3.3335, 3.1824, 3.155, 3.1214, 3.0623, 2.9677, 2.9244, 2.907, 2.8104, 2.8104, 2.7334, 2.7287, 2.6414, 2.4524, 2.4211, 2.3788, 2.3558, 2.1693, 2.1009, 2.0291, 1.9928, 1.9893, 1.954, 1.8653, 1.8092, 1.7811, 0.6788, 1.1114, 0.7049, -1.0626, -0.4952, 3.8116, 3.6127, 3.5324, 3.5206, 3.3952, 3.0413, 3.0382, 2.9992, 2.999, 2.9685, 2.9011, 2.8434, 2.8089, 2.6828, 2.59, 2.467, 2.3516, 2.3514, 2.1799, 2.1683, 2.0273, 2.0092, 2.0068, 1.9112, 1.8743, 1.8509, 1.7145, 1.6536, 1.616, 1.6115, 1.604, 1.4, 0.9361, 0.8746, 0.9166, 1.2861, 0.9256, -0.174, 0.5901, 0.2758, -0.8451, 0.989, 0.3239, 0.0761, -1.0921, 3.6931, 3.5945, 3.1692, 3.0835, 3.0321, 3.0017, 2.9661, 2.9661, 2.9661, 2.9625, 2.8962, 2.883, 2.882, 2.8776, 2.8008, 2.7849, 2.7426, 2.5768, 2.5428, 2.4326, 2.3771, 2.3566, 2.2273, 2.194, 1.9343, 1.9343, 1.9343, 1.9182, 1.8506, 1.83, 1.7879, 1.7948, 1.715, 1.1042, 0.386, 0.4559, 0.9846, 3.6842, 3.478, 3.2687, 3.167, 3.079, 3.055, 3.0352, 3.0262, 2.9448, 2.9342, 2.7974, 2.7878, 2.731, 2.6767, 2.6514, 2.6284, 2.5343, 2.4593, 2.2432, 2.1899, 2.0986, 2.0387, 2.0063, 1.9365, 1.9158, 1.8871, 1.8701, 1.8196, 1.8164, 1.7417, 1.493, 0.0636, 0.929, 0.5709, -0.484, 0.6864, -0.8633, 3.7627, 3.5889, 3.4222, 3.407, 3.3583, 3.3253, 3.2819, 3.2483, 2.9792, 2.9587, 2.9199, 2.869, 2.7606, 2.7453, 2.7365, 2.3831, 2.3687, 2.3646, 2.3123, 2.2509, 2.2438, 2.2287, 2.1422, 2.0447, 1.9192, 1.9121, 1.8451, 1.7778, 1.7765, 1.6647, 1.582, 1.167, 0.8506, -0.4697, 0.7069, 0.2778, 0.7443, -0.4089, -1.169, 0.6626, 0.0223, 3.6415, 3.5563, 3.4764, 3.2901, 3.2821, 3.1337, 3.1143, 3.0595, 3.0466, 3.0152, 2.9924, 2.992, 2.9883, 2.8975, 2.8937, 2.7945, 2.7942, 2.7844, 2.7707, 2.5716, 2.5308, 2.5215, 2.5191, 2.5191, 2.4915, 2.3731, 2.2988, 2.1653, 2.0722, 1.9839, 1.9407, 1.51, 1.3418, -0.8374, -1.0596, 4.1176, 3.6151, 3.5168, 3.4617, 3.4146, 3.3207, 3.2216, 3.1134, 3.1081, 3.1051, 3.0483, 3.0331, 2.8453, 2.8453, 2.6617, 2.4618, 2.2533, 2.1947, 2.1462, 2.122, 2.0692, 2.0479, 1.9341, 1.7386, 1.6892, 1.6233, 1.5426, 1.5426, 1.5346, 1.4309, 1.4303, 1.2661, 0.9068, 0.5412, 0.8269, 0.5205, -0.8115, 0.0252, 3.8286, 3.7464, 3.5777, 3.493, 3.3791, 3.3121, 3.2387, 3.0936, 3.0791, 3.0617, 3.055, 3.0169, 2.9706, 2.884, 2.7793, 2.5437, 2.2685, 2.0353, 2.0316, 2.0264, 1.9239, 1.8331, 1.7853, 1.7656, 1.6628, 1.6175, 1.5005, 1.5005, 1.467, 1.4403, 1.3255, 1.1459, 0.1785, -0.6764, -0.1906, -1.1767, -1.2892, -1.0703, -0.5868, 3.9745, 3.3822, 3.363, 3.3035, 3.2694, 3.1376, 2.9692, 2.9099, 2.8077, 2.698, 2.5948, 2.2814, 2.2047, 2.1018, 2.0679, 2.0174, 1.8821, 1.8634, 1.8125, 1.7757, 1.7303, 1.7158, 1.7158, 1.7158, 1.7077, 1.675, 1.6669, 1.5392, 1.5381, 1.5025, 1.4244, 0.4823, -0.1066, 0.9302, 0.9856, 0.1023, 0.6484, -1.1911, -0.3851, 0.1873, -1.6864, -1.1694]}, \"token.table\": {\"Topic\": [50, 19, 6, 11, 4, 5, 6, 7, 16, 20, 22, 25, 44, 29, 1, 15, 39, 12, 1, 5, 18, 45, 23, 20, 1, 37, 33, 37, 35, 2, 4, 27, 5, 14, 42, 8, 16, 44, 11, 8, 2, 10, 36, 23, 30, 30, 1, 3, 5, 6, 8, 17, 18, 20, 25, 27, 34, 40, 46, 3, 13, 19, 36, 28, 46, 16, 4, 37, 47, 2, 4, 18, 28, 36, 45, 14, 34, 2, 10, 11, 13, 16, 21, 42, 28, 1, 5, 10, 12, 13, 17, 25, 27, 45, 22, 1, 7, 21, 31, 2, 1, 44, 3, 32, 30, 20, 27, 9, 1, 3, 4, 6, 21, 33, 38, 1, 2, 3, 4, 5, 6, 8, 10, 11, 12, 13, 16, 17, 18, 22, 23, 25, 28, 36, 43, 13, 47, 1, 33, 2, 38, 7, 27, 32, 34, 6, 13, 2, 7, 41, 1, 1, 3, 11, 1, 3, 4, 27, 8, 14, 8, 22, 28, 22, 18, 38, 46, 9, 2, 12, 12, 34, 26, 32, 15, 23, 3, 9, 10, 14, 47, 20, 33, 42, 24, 1, 6, 30, 3, 10, 11, 29, 5, 9, 33, 50, 48, 48, 5, 43, 2, 3, 2, 29, 13, 30, 5, 6, 24, 39, 49, 8, 11, 38, 9, 2, 25, 10, 11, 20, 23, 17, 19, 7, 41, 34, 31, 6, 20, 19, 19, 44, 12, 6, 14, 19, 15, 49, 1, 40, 1, 8, 20, 1, 4, 27, 9, 18, 5, 15, 11, 23, 14, 25, 3, 37, 8, 29, 1, 3, 4, 13, 14, 17, 22, 27, 5, 6, 19, 1, 2, 3, 4, 5, 6, 7, 8, 9, 10, 11, 12, 13, 15, 16, 17, 18, 19, 20, 21, 24, 25, 26, 30, 34, 35, 39, 40, 46, 47, 49, 3, 50, 2, 22, 5, 35, 3, 7, 19, 21, 32, 15, 26, 30, 16, 1, 2, 4, 26, 26, 3, 36, 24, 48, 1, 12, 18, 12, 46, 39, 18, 23, 4, 25, 8, 2, 3, 6, 10, 46, 4, 5, 6, 12, 1, 3, 5, 7, 8, 9, 13, 15, 21, 26, 38, 27, 8, 10, 33, 43, 3, 4, 19, 35, 6, 14, 1, 14, 39, 5, 1, 2, 4, 5, 8, 10, 11, 15, 17, 21, 30, 32, 33, 45, 1, 26, 18, 29, 16, 14, 15, 16, 25, 3, 16, 20, 11, 44, 16, 28, 35, 1, 2, 3, 6, 7, 9, 12, 15, 16, 18, 21, 25, 26, 32, 35, 39, 16, 41, 34, 7, 15, 39, 3, 46, 19, 1, 4, 10, 13, 14, 18, 20, 23, 28, 29, 33, 39, 43, 24, 45, 22, 23, 44, 26, 15, 18, 3, 9, 12, 19, 21, 22, 32, 35, 48, 3, 13, 13, 2, 16, 7, 9, 30, 49, 47, 2, 6, 20, 36, 31, 16, 6, 1, 15, 21, 46, 41, 17, 10, 22, 5, 1, 31, 43, 31, 37, 11, 24, 38, 4, 7, 37, 3, 4, 16, 15, 6, 14, 7, 10, 11, 27, 42, 46, 5, 30, 16, 21, 25, 2, 49, 4, 5, 15, 16, 23, 24, 39, 23, 22, 4, 36, 3, 32, 22, 1, 14, 24, 44, 1, 4, 14, 28, 4, 5, 7, 28, 15, 14, 5, 9, 9, 19, 3, 5, 21, 4, 13, 10, 42, 2, 3, 4, 12, 14, 16, 17, 21, 26, 43, 3, 5, 17, 18, 16, 4, 1, 1, 2, 5, 21, 22, 41, 13, 14, 27, 29, 32, 19, 39, 2, 3, 5, 6, 7, 9, 11, 13, 15, 16, 17, 18, 20, 21, 23, 28, 29, 32, 33, 38, 39, 11, 13, 14, 18, 21, 26, 27, 38, 46, 10, 13, 15, 23, 24, 31, 34, 23, 4, 31, 7, 5, 24, 1, 10, 13, 24, 35, 38, 6, 13, 5, 38, 49, 27, 35, 28, 6, 24, 1, 14, 21, 1, 10, 11, 33, 3, 4, 14, 16, 33, 34, 32, 34, 29, 36, 42, 2, 13, 29, 18, 13, 29, 22, 41, 21, 8, 3, 20, 4, 2, 33, 30, 13, 1, 11, 4, 8, 4, 6, 18, 19, 20, 28, 32, 33, 44, 1, 23, 31, 35, 44, 24, 49, 29, 5, 30, 21, 33, 44, 37, 27, 3, 5, 19, 22, 24, 6, 10, 28, 45, 42, 4, 11, 8, 6, 7, 14, 25, 20, 25, 5, 10, 16, 39, 46, 34, 3, 15, 3, 11, 20, 31, 19, 35, 24, 25, 23, 11, 2, 32, 6, 12, 17, 5, 27, 4, 50, 4, 31, 46, 14, 29, 34, 31, 25, 18, 21, 43, 3, 14, 17, 30, 19, 2, 3, 12, 25, 16, 28, 27, 44, 5, 21, 1, 20, 1, 37, 1, 2, 3, 4, 6, 7, 8, 11, 13, 14, 15, 16, 17, 25, 36, 43, 15, 20, 26, 34, 37, 10, 28, 36, 3, 12, 40, 22, 36, 22, 2, 3, 7, 10, 19, 37, 43, 41, 5, 12, 27, 19, 25, 4, 13, 21, 14, 42, 15, 1, 2, 3, 4, 5, 6, 7, 10, 12, 13, 14, 16, 17, 19, 20, 21, 27, 32, 34, 38, 39, 40, 41, 12, 11, 6, 42, 19, 4, 7, 37, 4, 14, 16, 21, 22, 43, 37, 22, 4, 45, 47, 23, 48, 1, 12, 32, 38, 3, 35, 35, 9, 33, 31, 47, 47, 9, 8, 25, 26, 41, 1, 14, 16, 8, 42, 26, 34, 11, 27, 1, 10, 11, 30, 5, 28, 7, 21, 1, 22, 10, 11, 31, 7, 8, 11, 28, 30, 12, 1, 2, 3, 4, 5, 6, 7, 8, 9, 10, 16, 17, 18, 21, 22, 27, 29, 33, 34, 35, 36, 38, 42, 43, 50, 4, 9, 4, 5, 21, 46, 8, 15, 11, 18, 30, 2, 13, 14, 21, 29, 5, 11, 18, 36, 15, 1, 2, 10, 44, 31, 34, 2, 43, 22, 25, 5, 6, 13, 16, 24, 25, 19, 6, 27, 28, 17, 39, 18, 2, 3, 4, 6, 7, 13, 20, 28, 44, 45, 7, 13, 17, 24, 35, 40, 10, 13, 15, 46, 5, 11, 13, 5, 12, 27, 12, 4, 15, 1, 2, 3, 4, 5, 6, 7, 8, 10, 11, 12, 15, 16, 17, 19, 21, 22, 30, 31, 35, 34, 6, 30, 21, 1, 18, 47, 5, 27, 28, 30, 8, 10, 25, 15, 1, 13, 19, 32, 15, 13, 20, 14, 3, 17, 6, 21, 28, 14, 29, 6, 41, 2, 2, 20, 29, 46, 21, 23, 4, 7, 10, 17, 20, 28, 31, 6, 19, 23, 32, 1, 10, 12, 17, 45, 35, 6, 40, 14, 24, 28, 33, 29, 6, 10, 35, 8, 5, 17, 4, 19, 36, 48, 39, 7, 3, 6, 10, 12, 14, 16, 22, 37, 24, 41, 18, 27, 5, 7, 8, 22, 48, 30, 50, 38, 13, 12, 18, 2, 8, 41, 27, 25, 40, 7, 3, 12, 13, 14, 19, 22, 18, 30, 40, 16, 4, 7, 43, 17, 27, 42, 17, 1, 7, 13, 25, 30, 1, 18, 33, 12, 33, 6, 34, 27, 3, 7, 8, 4, 11, 19, 35, 2, 3, 4, 5, 22, 28, 30, 38, 2, 9, 12, 32, 41, 1, 3, 4, 7, 8, 10, 12, 14, 15, 25, 1, 1, 30, 36, 1, 2, 4, 41, 44, 10, 1, 3, 4, 24, 5, 12, 38, 17, 50, 1, 25, 33, 40, 25, 29, 9, 41, 7, 17, 41, 1, 3, 12, 17, 21, 27, 43, 3, 37, 5, 49, 3, 19, 22, 1, 2, 3, 4, 6, 14, 18, 23, 31, 17, 44, 4, 47, 29, 14, 27, 30, 31, 1, 2, 3, 4, 5, 6, 7, 8, 9, 10, 11, 12, 14, 15, 16, 17, 19, 20, 22, 27, 29, 31, 32, 33, 34, 35, 36, 38, 43, 46, 47, 48, 8, 25, 42, 2, 3, 4, 5, 7, 10, 11, 15, 16, 26, 28, 30, 37, 41, 49, 43, 6, 46, 2, 22, 5, 18, 6, 23, 4, 4, 6, 10, 15, 27, 2, 2, 47, 4, 6, 8, 10, 11, 14, 17, 18, 22, 34, 11, 20, 47, 12, 24, 31, 28, 50, 3, 8, 12, 18, 22, 29, 30, 43, 4, 21, 35, 33, 29, 42, 5, 22, 2, 1, 4, 18, 2, 3, 27, 5, 26, 4, 7, 11, 18, 24, 38, 17, 49, 19, 41, 2, 46, 7, 22, 36, 10, 20, 20, 6, 8, 20, 2, 12, 36, 46, 11, 47, 49, 8, 1, 16, 22, 31, 44, 3, 7, 26, 35, 2, 26, 47, 1, 6, 7, 8, 10, 12, 17, 19, 21, 23, 46, 14, 22, 25, 21, 6, 9, 10, 12, 18, 1, 2, 3, 4, 6, 7, 8, 12, 13, 14, 15, 29, 30, 31, 32, 36, 18, 21, 27, 17, 27, 14, 15, 32, 1, 3, 6, 15, 46, 7, 13, 34, 19, 39, 44, 24, 33, 35, 44, 50, 4, 16, 26, 41, 1, 3, 7, 17, 25, 3, 9, 18, 42, 23, 4, 26, 39, 1, 28, 12, 26, 4, 5, 25, 8, 23, 29, 9, 24, 44, 5, 9, 19, 12, 31, 2, 18, 13, 45, 2, 6, 8, 12, 1, 25, 14, 35, 4, 6, 15, 7, 7, 6, 11, 15, 1, 2, 29, 2, 7, 30, 41, 4, 28, 31, 47, 48, 6, 42, 13, 18, 11, 24, 36, 1, 2, 4, 9, 12, 16, 26, 29, 31, 33, 34, 40, 11, 32, 16, 1, 47, 40, 43, 15, 20, 17, 37, 21, 6, 10, 35, 21, 15, 5, 27, 31, 10, 4, 16, 1, 3, 16, 19, 16, 3, 1, 2, 5, 15, 39, 12, 1, 38, 17, 30, 2, 47, 40, 25, 2, 3, 4, 5, 6, 8, 10, 11, 13, 18, 22, 25, 27, 30, 38, 4, 40, 31, 4, 11, 3, 27, 34, 4, 6, 7, 13, 17, 18, 22, 28, 34, 4, 5, 11, 41, 42, 6, 1, 2, 4, 8, 9, 10, 11, 12, 13, 21, 23, 24, 27, 29, 35, 37, 41, 25, 30, 6, 35, 28, 27, 34, 28, 13, 1, 16, 2, 7, 22, 32, 34, 35, 12, 17, 1, 3, 4, 8, 10, 24, 33, 31, 24, 16, 3, 10, 15, 16, 19, 31, 43, 18, 21, 7, 19, 23, 33, 17, 38, 1, 1, 32, 24, 1, 44, 48, 26, 12, 14, 1, 2, 4, 7, 32, 32, 1, 44, 7, 3, 5, 7, 10, 11, 13, 14, 21, 26, 38, 39, 41, 43, 49, 1, 11, 28, 43, 1, 2, 3, 4, 5, 6, 7, 17, 20, 21, 44, 46, 4, 1, 34, 11, 39, 1, 31, 5, 33, 16, 21, 2, 3, 5, 11, 14, 23, 25, 28, 29, 30, 36, 44, 13, 48, 3, 20, 27, 5, 35, 22, 1, 36, 15, 39, 39, 1, 3, 6, 8, 12, 35, 3, 15, 2, 3, 8, 22, 31, 3, 5, 8, 33, 37, 29, 34, 36, 13, 19, 18, 23, 2, 3, 12, 16, 17, 19, 22, 6, 7, 28, 37, 40, 30, 6, 4, 15, 32, 18, 29, 33, 48, 27, 1, 2, 5, 6, 7, 11, 15, 21, 42, 11, 32, 4, 14, 15, 18, 23, 29, 41, 14, 29, 19, 22, 49, 2, 3, 4, 34, 25, 4, 5, 14, 49, 3, 7, 6, 32, 4, 17, 43, 45, 14, 46, 1, 4, 7, 19, 34, 37, 47, 2, 40, 46, 5, 18, 22, 22, 6, 4, 3, 26, 28, 7, 44, 10, 14, 8, 27, 1, 2, 3, 4, 5, 6, 7, 8, 9, 10, 11, 12, 13, 17, 18, 20, 22, 23, 25, 26, 37, 38, 39, 22, 48, 24, 24, 37, 17, 6, 10, 9, 3, 18, 12, 20, 24, 29, 30, 29, 47, 5, 17, 6, 12, 13, 21, 32, 34, 45, 4, 12, 36, 5, 11, 43, 13, 7, 12, 13, 14, 23, 30, 34, 7, 17, 26, 45, 12, 12, 2, 2, 27, 41, 21, 18, 11, 22, 9, 26, 46, 2, 33, 3, 26, 11, 11, 17, 31, 12, 5, 2, 6, 19, 1, 5, 9, 10, 11, 32, 11, 32, 29, 5, 11, 3, 6, 7, 9, 16, 17, 19, 41, 46, 40, 37, 1, 16, 19, 21, 35, 37, 22, 30, 3, 19, 5, 32, 6, 35, 42, 2, 4, 11, 27, 28, 39, 43, 44, 32, 8, 8, 15, 10, 12, 13, 48, 31, 7, 1, 26, 8, 16, 18, 46, 33, 25, 33, 1, 2, 3, 4, 5, 7, 8, 9, 10, 11, 12, 17, 18, 19, 21, 22, 23, 25, 26, 29, 30, 31, 32, 33, 35, 36, 39, 45, 15, 37, 40, 3, 2, 5, 12, 22, 25, 17, 48, 1, 3, 4, 5, 10, 11, 18, 20, 28, 29, 34, 38, 17, 1, 2, 3, 26, 2, 7, 38, 47, 2, 6, 7, 16, 20, 25, 26, 22, 39, 32, 12, 10, 10, 14, 2, 11, 46, 21, 41, 3, 14, 41, 26, 19, 1, 2, 2, 44, 34, 1, 3, 6, 20, 32, 44, 36, 2, 15, 6, 3, 10, 12, 16, 20, 22, 24, 36, 38, 40, 44, 18, 8, 26, 41, 32, 8, 11, 23, 33, 26, 25, 9, 31, 31, 11, 32, 2, 6, 5, 10, 11, 13, 24, 26, 34, 38, 47, 16, 3, 2, 10, 16, 17, 40, 21, 47, 16, 11, 1, 2, 4, 5, 6, 11, 14, 24, 26, 41, 2, 6, 15, 18, 24, 27, 5, 39, 14, 38, 21, 6, 46, 9, 17, 18, 9, 9, 46, 44, 1, 46, 25, 4, 5, 6, 7, 11, 13, 15, 18, 28, 41, 43, 8, 10, 42, 7, 1, 42, 14, 5, 30, 31, 38, 40, 2, 12, 30, 18, 24, 26, 5, 44, 45, 5, 9, 19, 26, 33, 1, 49, 1, 48, 8, 21, 36, 42, 11, 18, 36, 37, 42, 31, 17, 21, 2, 7, 14, 28, 26, 14, 20, 1, 15, 29, 35, 45, 2, 1, 26, 10, 1, 31, 33, 8, 26, 3, 5, 10, 18, 25, 34, 2, 27, 47, 12, 3, 1, 14, 17, 45, 14, 7, 26, 49, 48, 10, 2, 14, 35, 36, 9, 33, 25, 34, 47, 1, 6, 17, 20, 17, 39, 2, 22, 20, 2, 7, 10, 12, 16, 24, 14, 6, 10, 25, 48, 21, 2, 2, 10, 12, 14, 40, 12, 1, 13, 29, 16, 22, 23, 35, 21, 1, 33, 37, 40, 44, 2, 9, 23, 26, 45, 3, 12, 5, 31, 34, 5, 1, 5, 8, 10, 13, 19, 43, 44, 36, 1, 9, 4, 21, 3, 31, 47, 1, 1, 2, 3, 5, 12, 13, 18, 27, 28, 34, 35, 2, 13, 4, 28, 9, 16, 42, 6, 11, 19, 19, 22, 45, 1, 3, 25, 2, 20, 45, 2, 5, 12, 16, 32, 36, 40, 9, 22, 33, 37, 17, 3, 4, 8, 23, 45, 1, 13, 5, 28, 19, 31, 7, 47, 6, 46, 1, 2, 5, 23, 32, 29, 1, 2, 3, 4, 5, 6, 7, 8, 9, 10, 11, 12, 16, 17, 21, 24, 26, 37, 38, 39, 41, 7, 34, 26, 29, 1, 40, 4, 10, 23, 32, 39, 40, 15, 25, 22, 6, 28, 47, 9, 37, 6, 8, 27, 33, 28, 43, 41, 37, 1, 1, 2, 3, 5, 10, 12, 15, 21, 22, 23, 35, 41, 43, 40, 2, 3, 37, 20, 6, 7, 27, 49, 15, 3, 14, 21, 18, 30, 2, 3, 5, 7, 10, 11, 13, 18, 35, 15, 44, 6, 8, 10, 14, 2, 16, 24, 28, 40, 3, 6, 17, 14, 12, 42, 3, 10, 12, 3, 5, 6, 7, 8, 10, 12, 15, 20, 22, 44, 46, 8, 38, 43, 36, 11, 1, 4, 28, 31, 33, 19, 47, 44, 12, 20, 1, 2, 4, 5, 6, 10, 11, 14, 16, 33, 35, 47, 1, 5, 2, 42, 19, 24, 44, 45, 2, 41, 1, 47, 19, 49, 40, 43, 38, 47, 8, 28, 23, 3, 15, 36, 26, 30, 5, 20, 2, 5, 8, 13, 23, 28, 35, 44, 10, 1, 4, 5, 6, 8, 11, 12, 13, 15, 17, 19, 21, 25, 33, 35, 41, 43, 50, 40, 33, 21, 2, 26, 3, 16, 48, 28, 50, 12, 20, 34, 26, 1, 7, 12, 22, 31, 34, 45, 48, 7, 41, 2, 3, 4, 10, 20, 25, 39, 41, 4, 13, 6, 2, 3, 7, 19, 3, 7, 11, 28, 12, 3, 6, 10, 18, 21, 10, 1, 3, 11, 1, 23, 7, 41, 1, 14, 6, 2, 6, 34, 38, 24, 3, 5, 13, 39, 1, 33, 1, 11, 12, 13, 14, 17, 27, 31, 33, 41, 1, 2, 5, 14, 17, 30, 46, 1, 44, 24, 36, 31, 2, 47, 4, 7, 21, 2, 3, 4, 6, 7, 8, 9, 13, 16, 17, 18, 28, 34, 36, 43, 26, 1, 2, 3, 4, 5, 6, 7, 9, 10, 11, 12, 14, 15, 21, 22, 23, 30, 38, 40, 13, 23, 4, 7, 42, 1, 3, 9, 16, 7, 10, 49, 2, 5, 14, 27, 29, 2, 3, 15, 16, 27, 4, 1, 22, 49, 1, 9, 27, 40, 47, 26, 32, 15, 34, 3, 27, 2, 16, 36, 19, 43, 11, 32, 3, 1, 2, 3, 4, 6, 10, 17, 18, 21, 33, 2, 7, 21, 27, 36, 29, 2, 47, 45, 27, 4, 9, 15, 29, 19, 14, 7, 20, 48, 39, 27, 1, 34, 4, 42, 1, 5, 6, 7, 15, 25, 27, 39, 40, 50, 46, 50, 1, 14, 17, 31, 37, 2, 3, 5, 6, 10, 11, 16, 18, 25, 28, 33, 41, 29, 5, 33, 1, 2, 8, 10, 8, 30, 2, 3, 20, 29, 31, 16, 13, 46, 14, 38, 8, 17, 24, 40, 1, 3, 6, 45, 7, 12, 16, 7, 33, 17, 36, 11, 33, 3, 16, 35, 43, 31, 5, 12, 29], \"Freq\": [0.1818239464324938, 0.1670124902841841, 0.3099349006903309, 0.3128486315345775, 0.42733125130291283, 0.03561093760857607, 0.10683281282572821, 0.03561093760857607, 0.07122187521715213, 0.03561093760857607, 0.03561093760857607, 0.03561093760857607, 0.07122187521715213, 0.18132091438168232, 0.14216498963727847, 0.14216498963727847, 0.14216498963727847, 0.3346167235872063, 0.0700522494433623, 0.4903657461035361, 0.0700522494433623, 0.0700522494433623, 0.19466975930278801, 0.3224700909733523, 0.6648164217530814, 0.3806248537905589, 0.16587215908804376, 0.16587215908804376, 0.3225553865557177, 0.2998621502726983, 0.059972430054539665, 0.2998621502726983, 0.5183680533847006, 0.12880221052214091, 0.38640663156642274, 0.32915690308777434, 0.17779942798313483, 0.17779942798313483, 0.3749160758907477, 0.38994336948520997, 0.15515077301243327, 0.15515077301243327, 0.19690284507360592, 0.2026915553278145, 0.17986055092179334, 0.2891574223991252, 0.8331277426711684, 0.010160094422819127, 0.010160094422819127, 0.010160094422819127, 0.010160094422819127, 0.010160094422819127, 0.010160094422819127, 0.010160094422819127, 0.010160094422819127, 0.020320188845638253, 0.010160094422819127, 0.010160094422819127, 0.010160094422819127, 0.034849149921600785, 0.034849149921600785, 0.6969829984320157, 0.034849149921600785, 0.2796836636116102, 0.2796836636116102, 0.33050771745930513, 0.17325190649902397, 0.17325190649902397, 0.1918392796918419, 0.5091848660596281, 0.14144024057211893, 0.028288048114423786, 0.028288048114423786, 0.08486414434327136, 0.17846749424337457, 0.15356385862556104, 0.15356385862556104, 0.04785155035156471, 0.04785155035156471, 0.23925775175782354, 0.04785155035156471, 0.04785155035156471, 0.04785155035156471, 0.2871093021093883, 0.3102196759823546, 0.4397077741977162, 0.02931385161318108, 0.02931385161318108, 0.05862770322636216, 0.02931385161318108, 0.02931385161318108, 0.20519696129226755, 0.02931385161318108, 0.17848585322366212, 0.163249078703912, 0.6717000051157999, 0.03951176500681176, 0.03951176500681176, 0.03951176500681176, 0.1640593205658834, 0.15318106845982157, 0.15318106845982157, 0.163465174580585, 0.163465174580585, 0.19937665874162658, 0.10949546780366265, 0.2189909356073253, 0.3206273289742515, 0.0507352333129222, 0.3551466331904554, 0.0507352333129222, 0.0507352333129222, 0.2029409332516888, 0.0507352333129222, 0.0507352333129222, 0.017522163253235072, 0.08177009518176366, 0.4964612921749937, 0.04672576867529352, 0.04672576867529352, 0.04672576867529352, 0.00584072108441169, 0.00584072108441169, 0.00584072108441169, 0.01168144216882338, 0.07008865301294029, 0.00584072108441169, 0.00584072108441169, 0.02336288433764676, 0.00584072108441169, 0.00584072108441169, 0.052566489759705216, 0.01168144216882338, 0.00584072108441169, 0.02336288433764676, 0.5874679617018675, 0.08392399452883822, 0.15887100158048886, 0.15887100158048886, 0.6342554124596577, 0.19374828767266045, 0.0730902922546076, 0.0730902922546076, 0.1461805845092152, 0.365451461273038, 0.7167516877141722, 0.15585612313221248, 0.4593754365288851, 0.6283815593295585, 0.18084419620718334, 0.5078225140657137, 0.03541777488333885, 0.7437732725501159, 0.03541777488333885, 0.08015182734680078, 0.5610627914276054, 0.40998475244980376, 0.24599085146988223, 0.15889222299833491, 0.15889222299833491, 0.09316833294270682, 0.4658416647135341, 0.1746439231519815, 0.16619545686000578, 0.1024369896042312, 0.4097479584169248, 0.16696853549072643, 0.3138500126113152, 0.5347279247517671, 0.3027272526855284, 0.3498037956924162, 0.1166012652308054, 0.17695502425963847, 0.17695502425963847, 0.17018671012567965, 0.17018671012567965, 0.5856772951761662, 0.04505209962893585, 0.04505209962893585, 0.0901041992578717, 0.04505209962893585, 0.17453109716788265, 0.30700124673279205, 0.18769160335789262, 0.4644041784775775, 0.059782575821410854, 0.23913030328564341, 0.418478030749876, 0.15474209840026976, 0.07737104920013488, 0.3094841968005395, 0.07737104920013488, 0.0327332239257799, 0.7855973742187176, 0.0327332239257799, 0.17240819822043846, 0.191155641260641, 0.29702231796739464, 0.5033175193493512, 0.19868550579533792, 0.6237156655915808, 0.38376873538724615, 0.8133284319862139, 0.03253313727944855, 0.12898654959506467, 0.38695964878519395, 0.16315923724410672, 0.16315923724410672, 0.1729258646010638, 0.5517439792277936, 0.29672462273389594, 0.299225425102646, 0.149612712551323, 0.5119114884038036, 0.1847314563747818, 0.29370310883665174, 0.3671288860458147, 0.17751028123106588, 0.176081227304247, 0.1939808612062754, 0.28856353076090213, 0.17411655462565073, 0.2919556854425926, 0.12509825109360037, 0.25019650218720074, 0.20005311579811272, 0.532328107436263, 0.33897414293018086, 0.33897414293018086, 0.39078432990427864, 0.2914656820836496, 0.17877787569167755, 0.41158198801386703, 0.10773493477701901, 0.323204804331057, 0.21546986955403802, 0.19396124800560943, 0.38789079702688134, 0.16964902234872828, 0.16964902234872828, 0.07728076327910474, 0.4636845796746285, 0.15456152655820948, 0.13766129132886806, 0.13766129132886806, 0.13766129132886806, 0.46263532196483714, 0.09252706439296743, 0.16812658963163443, 0.16812658963163443, 0.32769376348313334, 0.19660976585052886, 0.13691334156706111, 0.13691334156706111, 0.13104571848425364, 0.3931371554527609, 0.3061885046210966, 0.17863909023983612, 0.034633391245627025, 0.20780034747376214, 0.034633391245627025, 0.034633391245627025, 0.034633391245627025, 0.034633391245627025, 0.4156006949475243, 0.034633391245627025, 0.11678131569557537, 0.23356263139115074, 0.11678131569557537, 0.01963346989867009, 0.01963346989867009, 0.02356016387840411, 0.03534024581760616, 0.031413551837872145, 0.6047108728790387, 0.011780081939202054, 0.003926693979734018, 0.01963346989867009, 0.0431936337770742, 0.011780081939202054, 0.01963346989867009, 0.04712032775680822, 0.007853387959468036, 0.003926693979734018, 0.007853387959468036, 0.003926693979734018, 0.003926693979734018, 0.003926693979734018, 0.011780081939202054, 0.003926693979734018, 0.003926693979734018, 0.003926693979734018, 0.011780081939202054, 0.003926693979734018, 0.003926693979734018, 0.007853387959468036, 0.003926693979734018, 0.007853387959468036, 0.003926693979734018, 0.003926693979734018, 0.177566730592448, 0.177566730592448, 0.12216857353702248, 0.36650572061106745, 0.5466911246530287, 0.16526847984756315, 0.08329481463653704, 0.5830637024557593, 0.04164740731826852, 0.04164740731826852, 0.04164740731826852, 0.520946016887222, 0.4100944605776799, 0.4572485804408983, 0.17569007831396136, 0.050969783903465196, 0.025484891951732598, 0.764546758551978, 0.025484891951732598, 0.28586848072829957, 0.16067958423910392, 0.16067958423910392, 0.17801238008890097, 0.5645692037906209, 0.11968491521383215, 0.3590547456414965, 0.43892830373139086, 0.17911966688430947, 0.17911966688430947, 0.17937449455008447, 0.35427393570029797, 0.11809131190009932, 0.16461043281419974, 0.16461043281419974, 0.5430022943121737, 0.10641186993720764, 0.42564747974883055, 0.03547062331240254, 0.2482943631868178, 0.03547062331240254, 0.07335171495669135, 0.07335171495669135, 0.4401102897401481, 0.07335171495669135, 0.11615102285786975, 0.16261143200101766, 0.2787624548588874, 0.0929208182862958, 0.11615102285786975, 0.02323020457157395, 0.02323020457157395, 0.02323020457157395, 0.02323020457157395, 0.02323020457157395, 0.02323020457157395, 0.49244422615714095, 0.19178483172824984, 0.09589241586412492, 0.09589241586412492, 0.19178483172824984, 0.6385952470557685, 0.5313591361734672, 0.1798283825689118, 0.1798283825689118, 0.0607261987562445, 0.6679881863186895, 0.1624759527104874, 0.4061898817762185, 0.0812379763552437, 0.4300021068316946, 0.009090392162364994, 0.6817794121773745, 0.036361568649459976, 0.009090392162364994, 0.009090392162364994, 0.009090392162364994, 0.09090392162364994, 0.02727117648709498, 0.009090392162364994, 0.009090392162364994, 0.018180784324729988, 0.009090392162364994, 0.036361568649459976, 0.009090392162364994, 0.3778679903104264, 0.4093358795557348, 0.3204004708332094, 0.16979985894443062, 0.2872647480640694, 0.056574306073924545, 0.2828715303696227, 0.3960201425174718, 0.1939670931108271, 0.5577581210628665, 0.06197312456254072, 0.12394624912508144, 0.42809314909659335, 0.18461618254895074, 0.2529604154247852, 0.1264802077123926, 0.4080706790197237, 0.04616122309538079, 0.04616122309538079, 0.015387074365126928, 0.12309659492101542, 0.04616122309538079, 0.4462251565886809, 0.015387074365126928, 0.030774148730253855, 0.07693537182563465, 0.015387074365126928, 0.015387074365126928, 0.015387074365126928, 0.015387074365126928, 0.015387074365126928, 0.015387074365126928, 0.015387074365126928, 0.3308385996434318, 0.18641280357374315, 0.20029059951570383, 0.1635153938541087, 0.5995564441317319, 0.17012762647739782, 0.8020028169443291, 0.033416784039347044, 0.3106989044663108, 0.011255302295395364, 0.45021209181581456, 0.04502120918158146, 0.20259544131711654, 0.02251060459079073, 0.04502120918158146, 0.011255302295395364, 0.05627651147697682, 0.06753181377237218, 0.011255302295395364, 0.011255302295395364, 0.011255302295395364, 0.011255302295395364, 0.24583928168767233, 0.12291964084383616, 0.11720125545653448, 0.35160376636960344, 0.19672298270780061, 0.17058109042458583, 0.25357612253035483, 0.12678806126517742, 0.03472281284726804, 0.4513965670144845, 0.06944562569453608, 0.06944562569453608, 0.06944562569453608, 0.03472281284726804, 0.03472281284726804, 0.03472281284726804, 0.03472281284726804, 0.6968339804158584, 0.45860936714954775, 0.3705382935602252, 0.1271011487594584, 0.3813034462783752, 0.3830675856451498, 0.17483437774135646, 0.17483437774135646, 0.18398442038268098, 0.4261363696100518, 0.40733435523060507, 0.058190622175800726, 0.11638124435160145, 0.17457186652740217, 0.3315293508198363, 0.3153184704350889, 0.40972424295158827, 0.20312661163226967, 0.10156330581613483, 0.20312661163226967, 0.4658623844679197, 0.18371194726055998, 0.18000545882386068, 0.25889793811907014, 0.12944896905953507, 0.7488771186335414, 0.10933058398154859, 0.43732233592619435, 0.17871757727384424, 0.4083119048930769, 0.40274308577438966, 0.48817290644171824, 0.09763458128834365, 0.18607330239527878, 0.16655742013246733, 0.16655742013246733, 0.16655742013246733, 0.32558241191319587, 0.4069780148914949, 0.040697801489149484, 0.16592086292911512, 0.4375094788469541, 0.17500379153878165, 0.36185088486647043, 0.4808510521132134, 0.06010638151415167, 0.06010638151415167, 0.06010638151415167, 0.12021276302830335, 0.6368336804422711, 0.4722676607338606, 0.1537878919138352, 0.4613636757415056, 0.17065510144293028, 0.13247786080326857, 0.26495572160653713, 0.28629997857581285, 0.28629997857581285, 0.06362221746129175, 0.06362221746129175, 0.031811108730645875, 0.09543332619193762, 0.031811108730645875, 0.19975728404505716, 0.17008900455179718, 0.13485154991166215, 0.2697030998233243, 0.07532177150153707, 0.45193062900922243, 0.18485624779350443, 0.5163708737841121, 0.08606181229735202, 0.2798358398371444, 0.17368936490318, 0.29369235777912156, 0.07342308944478039, 0.22026926833434118, 0.07342308944478039, 0.3342987772774041, 0.06685975545548081, 0.06685975545548081, 0.20057926636644244, 0.172406683304855, 0.32254706790932564, 0.38101249806868565, 0.2812545958483072, 0.10576006861053013, 0.3172802058315904, 0.3479622490167121, 0.06959244980334242, 0.13918489960668484, 0.13679853621983148, 0.27359707243966297, 0.17557666612900008, 0.17557666612900008, 0.09228750393970904, 0.27686251181912713, 0.13843125590956357, 0.02307187598492726, 0.16150313189449084, 0.09228750393970904, 0.02307187598492726, 0.02307187598492726, 0.09228750393970904, 0.02307187598492726, 0.049698121771707036, 0.2981887306302422, 0.049698121771707036, 0.3478868524019492, 0.32236671252982313, 0.2999615290061522, 0.6303807115369559, 0.42313240974960176, 0.05289155121870022, 0.15867465365610064, 0.05289155121870022, 0.172701706186557, 0.1872427648673604, 0.12044427545149432, 0.3011106886287358, 0.06022213772574716, 0.06022213772574716, 0.17094683534982477, 0.17536063653215933, 0.32848488982803886, 0.07638099981077524, 0.012730166635129206, 0.16549216625667967, 0.012730166635129206, 0.012730166635129206, 0.012730166635129206, 0.369174832418747, 0.11457149971616286, 0.012730166635129206, 0.012730166635129206, 0.02546033327025841, 0.012730166635129206, 0.012730166635129206, 0.012730166635129206, 0.012730166635129206, 0.012730166635129206, 0.02546033327025841, 0.012730166635129206, 0.012730166635129206, 0.02546033327025841, 0.012730166635129206, 0.02977610142833173, 0.6252981299949664, 0.02977610142833173, 0.02977610142833173, 0.02977610142833173, 0.02977610142833173, 0.05955220285666346, 0.02977610142833173, 0.02977610142833173, 0.047403022325316596, 0.37922417860253277, 0.047403022325316596, 0.047403022325316596, 0.047403022325316596, 0.18961208930126638, 0.047403022325316596, 0.2972586197190125, 0.24177896411723943, 0.12088948205861971, 0.4772206894388685, 0.11923723512180366, 0.35771170536541097, 0.5359397452600977, 0.03062512830057701, 0.03062512830057701, 0.21437589810403906, 0.015312564150288505, 0.07656282075144252, 0.7179980436951917, 0.05128557454965656, 0.3820921789255543, 0.2292553073553326, 0.07641843578511087, 0.3104913666170768, 0.18807640492139854, 0.3122170790774117, 0.09811490310018789, 0.49057451550093945, 0.12201485432553685, 0.3660445629766106, 0.19777846464810506, 0.12125379102045607, 0.24250758204091213, 0.12125379102045607, 0.18164357683129587, 0.18947994968447285, 0.45475187924273486, 0.037895989936894574, 0.037895989936894574, 0.037895989936894574, 0.07579197987378915, 0.310953840685144, 0.18199528848178934, 0.16225520483802203, 0.20339688183572122, 0.1772591614676835, 0.4352878540997589, 0.21764392704987945, 0.16961205238906882, 0.16554557664523883, 0.14197008878200423, 0.28394017756400847, 0.1737110814656487, 0.18020146870274598, 0.39100937427123, 0.3103993050617948, 0.16462641029538636, 0.49387923088615904, 0.49361225368688977, 0.35840856946997174, 0.11946952315665725, 0.19360114090381228, 0.3131888836286668, 0.2587731700658759, 0.2587731700658759, 0.06974890484630789, 0.7323635008862328, 0.2999615144847781, 0.30611240532861284, 0.08746068723674652, 0.04373034361837326, 0.17492137447349304, 0.04373034361837326, 0.04373034361837326, 0.04373034361837326, 0.04373034361837326, 0.3790646303298743, 0.2067625256344769, 0.03446042093907948, 0.03446042093907948, 0.2412229465735564, 0.14721909109446288, 0.14721909109446288, 0.3155041182017407, 0.41130515614224433, 0.4037284403821868, 0.11156878022976996, 0.22313756045953992, 0.11156878022976996, 0.18350227264054877, 0.1439483635998781, 0.11501837647627064, 0.11501837647627064, 0.11501837647627064, 0.11501837647627064, 0.3335619756435336, 0.3653716582853074, 0.07307433165706147, 0.14614866331412293, 0.14614866331412293, 0.17927591363532017, 0.11945549901501845, 0.35836649704505535, 0.3158911665033292, 0.4361509830165466, 0.054518872877068324, 0.2180754915082733, 0.054518872877068324, 0.2466017165387904, 0.1233008582693952, 0.3957256510270825, 0.07914513020541651, 0.15829026041083302, 0.18311147897851723, 0.29148871141621746, 0.30221275841629147, 0.0995451339270886, 0.497725669635443, 0.0476991046475815, 0.0476991046475815, 0.6200883604185595, 0.0476991046475815, 0.1798283825689118, 0.1798283825689118, 0.1729258646010638, 0.303730303536842, 0.3147279881816281, 0.42759598239701946, 0.11834278482885627, 0.35502835448656883, 0.26493322591770835, 0.26493322591770835, 0.08831107530590278, 0.13983451766436258, 0.27966903532872517, 0.18749647074115286, 0.18749647074115286, 0.6283302773618153, 0.16741617276680984, 0.18617126531855166, 0.16330682938318133, 0.14850225619809412, 0.14850225619809412, 0.2835250545135535, 0.4085326702740577, 0.17137883324503705, 0.1778236406147474, 0.5049400422452778, 0.4206494541079429, 0.09116865647737757, 0.7293492518190205, 0.1775345829149872, 0.5080895075347043, 0.12929120452687595, 0.12929120452687595, 0.2585824090537519, 0.3580781074021799, 0.30082209197863435, 0.3343489532914213, 0.28568183046029544, 0.14284091523014772, 0.14051963809092316, 0.2810392761818463, 0.1634573453895967, 0.18214919026738693, 0.16456152423010145, 0.16456152423010145, 0.052869237595111605, 0.12336155438859375, 0.14098463358696428, 0.03524615839674107, 0.017623079198370535, 0.017623079198370535, 0.017623079198370535, 0.03524615839674107, 0.017623079198370535, 0.07049231679348214, 0.21147695038044642, 0.017623079198370535, 0.017623079198370535, 0.12336155438859375, 0.03524615839674107, 0.017623079198370535, 0.1744238963240663, 0.3728489894327889, 0.3066009314573277, 0.1022003104857759, 0.2044006209715518, 0.14397864718150727, 0.14397864718150727, 0.14397864718150727, 0.4049880164065955, 0.7027367868726972, 0.1978823169907893, 0.15587447435178478, 0.18238928005142804, 0.16953682835692305, 0.22275914072108532, 0.334138711081628, 0.11137957036054266, 0.05568978518027133, 0.05568978518027133, 0.05568978518027133, 0.17795673047164268, 0.1799002344125452, 0.11496651605377878, 0.11496651605377878, 0.34489954816133633, 0.11395090558898396, 0.45580362235593586, 0.12564599949753638, 0.25129199899507276, 0.37744083271580947, 0.16542842108757655, 0.16245297675671883, 0.3806471167120731, 0.13918184030779363, 0.04395216009719798, 0.02197608004859899, 0.014650720032399329, 0.007325360016199664, 0.014650720032399329, 0.5713780812635738, 0.007325360016199664, 0.014650720032399329, 0.007325360016199664, 0.007325360016199664, 0.007325360016199664, 0.007325360016199664, 0.02197608004859899, 0.007325360016199664, 0.014650720032399329, 0.007325360016199664, 0.014650720032399329, 0.007325360016199664, 0.007325360016199664, 0.007325360016199664, 0.007325360016199664, 0.014650720032399329, 0.33461673330608954, 0.38964528709925145, 0.31069438955890205, 0.29660757338404686, 0.17536063653215933, 0.1636885407766331, 0.1636885407766331, 0.1636885407766331, 0.09984501969588919, 0.04992250984794459, 0.39938007878355675, 0.09984501969588919, 0.09984501969588919, 0.04992250984794459, 0.5521140681093044, 0.16864388125145827, 0.3696613700121044, 0.3144672644546705, 0.18646558626967966, 0.48634861829952364, 0.3176643375613154, 0.4489648483495602, 0.03453575756535078, 0.34535757565350783, 0.17252798075657536, 0.12934086169377043, 0.3880225850813113, 0.1717598562320163, 0.3177623812523592, 0.17334931215892052, 0.17223930492968909, 0.18837051236914268, 0.30039664023214496, 0.30758720572330056, 0.07498450207357558, 0.14996900414715117, 0.07498450207357558, 0.3749225103678779, 0.10412322337940912, 0.41649289351763646, 0.10412322337940912, 0.25957533767501534, 0.12978766883750767, 0.2772273342733397, 0.17350552453559526, 0.17579154376189923, 0.17388487370813283, 0.13438104659125638, 0.26876209318251276, 0.4264066122912814, 0.17798641535324722, 0.17049425151792655, 0.17049425151792655, 0.6412151617722174, 0.5872128378089494, 0.1701921449259414, 0.18701979429220597, 0.34599371209206325, 0.2594952840690474, 0.17583718755274416, 0.053110831028751436, 0.053110831028751436, 0.053110831028751436, 0.5311083102875144, 0.053110831028751436, 0.31650162532660364, 0.025090027246241108, 0.006272506811560277, 0.006272506811560277, 0.006272506811560277, 0.407712942751418, 0.06272506811560277, 0.01881752043468083, 0.05645256130404249, 0.05645256130404249, 0.12545013623120554, 0.006272506811560277, 0.03763504086936166, 0.025090027246241108, 0.006272506811560277, 0.006272506811560277, 0.03763504086936166, 0.006272506811560277, 0.03763504086936166, 0.006272506811560277, 0.006272506811560277, 0.006272506811560277, 0.012545013623120554, 0.006272506811560277, 0.006272506811560277, 0.006272506811560277, 0.13624758823788144, 0.2724951764757629, 0.10174902757220586, 0.10174902757220586, 0.10174902757220586, 0.3052470827166176, 0.16867469077268474, 0.16867469077268474, 0.17085291708158865, 0.40152559934263793, 0.1957642896820476, 0.10693673525280072, 0.05346836762640036, 0.5346836762640036, 0.05346836762640036, 0.30859574480109614, 0.6264377088245977, 0.048187516063430594, 0.048187516063430594, 0.048187516063430594, 0.15919803562155424, 0.40464963196615483, 0.16185985278646195, 0.08092992639323097, 0.08092992639323097, 0.29378095192209275, 0.5026283861269, 0.160614029414481, 0.160614029414481, 0.3163423326394235, 0.1781971110416757, 0.36774015050897696, 0.06129002508482949, 0.06129002508482949, 0.06129002508482949, 0.12258005016965898, 0.12258005016965898, 0.14969394521324517, 0.47332969769413863, 0.3280778696524487, 0.31816963358642963, 0.2694774345204411, 0.13473871726022055, 0.1848239005532945, 0.07686992385034792, 0.03843496192517396, 0.07686992385034792, 0.03843496192517396, 0.3074796954013917, 0.03843496192517396, 0.11530488577552188, 0.07686992385034792, 0.03843496192517396, 0.03843496192517396, 0.04232626926117571, 0.04232626926117571, 0.04232626926117571, 0.5079152311341085, 0.12697880778352713, 0.04232626926117571, 0.1817364821363418, 0.3076766694818079, 0.308973757239022, 0.2827345953439681, 0.06772210828282019, 0.6094989745453817, 0.06772210828282019, 0.11695135976834019, 0.11695135976834019, 0.23390271953668038, 0.2843536804107222, 0.5599613284241288, 0.19407055842237314, 0.045622007198248486, 0.6101943462765735, 0.08554126349671591, 0.005702750899781061, 0.022811003599124243, 0.005702750899781061, 0.045622007198248486, 0.005702750899781061, 0.005702750899781061, 0.005702750899781061, 0.01710825269934318, 0.05702750899781061, 0.005702750899781061, 0.005702750899781061, 0.011405501799562122, 0.01710825269934318, 0.005702750899781061, 0.005702750899781061, 0.005702750899781061, 0.005702750899781061, 0.17439453276914352, 0.35280455704389363, 0.26460341778292024, 0.19813915674235952, 0.2707572768391614, 0.1353786384195807, 0.1353786384195807, 0.1436939982013623, 0.1436939982013623, 0.1436939982013623, 0.1630809365335289, 0.45244004825066825, 0.06463429260723833, 0.19390287782171495, 0.32050681698485506, 0.25590472241038303, 0.08530157413679434, 0.08530157413679434, 0.1706031482735887, 0.15918771475806306, 0.334268988275808, 0.5255056225258504, 0.703701233551966, 0.42064942901677665, 0.17411655462565073, 0.16357371799190706, 0.16357371799190706, 0.1728128431930578, 0.07026411657342867, 0.632377049160858, 0.1704846486527444, 0.1704846486527444, 0.28912077963161426, 0.12454639052326903, 0.24909278104653806, 0.12454639052326903, 0.19773492017539407, 0.1926045475947553, 0.3066617626105296, 0.2045245575865347, 0.2045245575865347, 0.051131139396633676, 0.2045245575865347, 0.051131139396633676, 0.051131139396633676, 0.18390335098728355, 0.13753534732448555, 0.2750706946489711, 0.18263489236387104, 0.1699211456268553, 0.684966820015049, 0.07480099718918232, 0.14960199437836463, 0.44880598313509384, 0.17550989441245646, 0.4279845158039146, 0.17149416056284572, 0.17149416056284572, 0.6123091907897517, 0.295931459279451, 0.24939431803459114, 0.24939431803459114, 0.17248822237200162, 0.1217801842138791, 0.3653405526416373, 0.19810845936341356, 0.3100077138804632, 0.3895379470909633, 0.31960206040540723, 0.1380438637437387, 0.2760877274874774, 0.1614102841822377, 0.1811299440402734, 0.18732854582946443, 0.4702843027848852, 0.1719371794567984, 0.049124908416228116, 0.07368736262434217, 0.024562454208114058, 0.024562454208114058, 0.49124908416228114, 0.024562454208114058, 0.024562454208114058, 0.6205649492516495, 0.17852554764575185, 0.17088218953961198, 0.4737517158642584, 0.08492398250520679, 0.6227758717048498, 0.11323197667360906, 0.05661598833680453, 0.028307994168402264, 0.303319284043643, 0.17317215700168945, 0.40571328058179856, 0.3130443553844343, 0.22259817769576293, 0.22259817769576293, 0.4660446621732112, 0.1165111655433028, 0.1999416781042607, 0.19090753321814116, 0.31896102907087653, 0.19203812003370993, 0.44007304731510327, 0.2172199439867611, 0.4344398879735222, 0.027152492998345136, 0.10860997199338054, 0.027152492998345136, 0.05430498599669027, 0.17839146129240704, 0.15822499517656236, 0.1836836040951075, 0.5578488168056073, 0.08710963689564881, 0.5226578213738928, 0.18963862994199573, 0.32804817130644104, 0.14810662005546535, 0.2962132401109307, 0.3241334496564018, 0.12242123258660609, 0.20403538764434348, 0.08161415505773739, 0.32645662023094957, 0.040807077528868696, 0.6725670045629488, 0.30368298420523565, 0.178518464438369, 0.2228736366504909, 0.2228736366504909, 0.16290526787591705, 0.16290526787591705, 0.4243866058301214, 0.5057807815794297, 0.08429679692990495, 0.08429679692990495, 0.15820349617653148, 0.4746104885295945, 0.3161214725803445, 0.16848104399331607, 0.6668568694167879, 0.09806718667893939, 0.058840312007363636, 0.019613437335787878, 0.019613437335787878, 0.019613437335787878, 0.019613437335787878, 0.019613437335787878, 0.158803803403647, 0.0794019017018235, 0.0794019017018235, 0.476411410210941, 0.18641280357374315, 0.6836778551686568, 0.03695555973884631, 0.03695555973884631, 0.07391111947769262, 0.018477779869423155, 0.018477779869423155, 0.018477779869423155, 0.018477779869423155, 0.018477779869423155, 0.018477779869423155, 0.5685639667787729, 0.15601988707110157, 0.31203977414220313, 0.17192270207492424, 0.06266978614114958, 0.6580327544820707, 0.09400467921172438, 0.03133489307057479, 0.03133489307057479, 0.30501025896194733, 0.17655797721209038, 0.10593478632725423, 0.17655797721209038, 0.38842754986659883, 0.2686950906853358, 0.05373901813706716, 0.37617312695947014, 0.4491906709548243, 0.29284572856380037, 0.16189282145260395, 0.16189282145260395, 0.10331440156484495, 0.4132576062593798, 0.17716176027475417, 0.16835118071022176, 0.30150302324280154, 0.1872427648673604, 0.4529266684533101, 0.07548777807555168, 0.07548777807555168, 0.07844634931930224, 0.03922317465965112, 0.5099012705754645, 0.07844634931930224, 0.03922317465965112, 0.03922317465965112, 0.03922317465965112, 0.4932253673269854, 0.2918390129661746, 0.1539665069644944, 0.3079330139289888, 0.10787851018419817, 0.59333180601309, 0.053939255092099084, 0.08848374507902063, 0.3244403986230756, 0.029494581693006873, 0.029494581693006873, 0.11797832677202749, 0.029494581693006873, 0.14747290846503436, 0.029494581693006873, 0.058989163386013746, 0.16716254762835478, 0.18471230183082957, 0.15107801257259337, 0.30215602514518675, 0.17162624436799626, 0.10915699273437603, 0.4366279709375041, 0.10915699273437603, 0.18003932696757985, 0.5417644973477034, 0.06772056216846292, 0.018058816578256778, 0.03160292901194936, 0.04966174559020614, 0.045147041445641946, 0.009029408289128389, 0.036117633156513555, 0.004514704144564194, 0.013544112433692584, 0.004514704144564194, 0.013544112433692584, 0.004514704144564194, 0.004514704144564194, 0.022573520722820973, 0.004514704144564194, 0.009029408289128389, 0.004514704144564194, 0.018058816578256778, 0.004514704144564194, 0.004514704144564194, 0.022573520722820973, 0.004514704144564194, 0.004514704144564194, 0.004514704144564194, 0.018058816578256778, 0.004514704144564194, 0.004514704144564194, 0.004514704144564194, 0.004514704144564194, 0.004514704144564194, 0.004514704144564194, 0.17432328152606885, 0.17432328152606885, 0.41945108367879547, 0.0561651467428714, 0.7863120544001997, 0.01404128668571785, 0.0280825733714357, 0.01404128668571785, 0.007020643342858925, 0.007020643342858925, 0.01404128668571785, 0.007020643342858925, 0.007020643342858925, 0.007020643342858925, 0.007020643342858925, 0.007020643342858925, 0.007020643342858925, 0.007020643342858925, 0.17779407625124807, 0.16165185689329992, 0.16165185689329992, 0.1429182110414907, 0.2858364220829814, 0.17744601954789022, 0.35489203909578043, 0.31542278279300956, 0.15771139139650478, 0.18541128898467363, 0.19523343168517535, 0.032538905280862555, 0.032538905280862555, 0.5531613897746634, 0.032538905280862555, 0.17395797287726306, 0.17395797287726306, 0.3134063782619464, 0.01651796602606546, 0.03303593205213092, 0.049553898078196386, 0.3964311846255711, 0.16517966026065461, 0.01651796602606546, 0.19821559231278554, 0.01651796602606546, 0.01651796602606546, 0.01651796602606546, 0.32572008885001624, 0.19402709800547738, 0.17991762758892682, 0.4141631072952548, 0.29592791315599676, 0.19908354932751013, 0.17346690061853964, 0.18134358401951434, 0.5834664981288726, 0.17757676030009167, 0.025368108614298814, 0.05073621722859763, 0.025368108614298814, 0.025368108614298814, 0.42504693812369576, 0.17673569077489334, 0.4254568349011681, 0.12637617404717116, 0.2527523480943423, 0.16493757378949306, 0.2709590689934348, 0.1354795344967174, 0.09681586651654873, 0.48407933258274366, 0.7203441636143858, 0.8043343088192904, 0.033513929534137094, 0.48276250612604077, 0.5779415467025941, 0.19264718223419805, 0.03852943644683961, 0.112450561322271, 0.33735168396681303, 0.2999615144847781, 0.22295874579323172, 0.07431958193107724, 0.07431958193107724, 0.07431958193107724, 0.22295874579323172, 0.17593256443866384, 0.19152234598440648, 0.28889173512929206, 0.14444586756464603, 0.1651903364452936, 0.1651903364452936, 0.2366898748344232, 0.1183449374172116, 0.2973368417504754, 0.16240627351468065, 0.16240627351468065, 0.31279678794236654, 0.6418574963586146, 0.06418574963586145, 0.06418574963586145, 0.08072627508005276, 0.24217882524015827, 0.08072627508005276, 0.1614525501601055, 0.08373294856174951, 0.33493179424699804, 0.25119884568524853, 0.17050829215676738, 0.07337452597710546, 0.22012357793131637, 0.14674905195421092, 0.07337452597710546, 0.07337452597710546, 0.06260303237645735, 0.06260303237645735, 0.06260303237645735, 0.5008242590116588, 0.12333363918230325, 0.2466672783646065, 0.12333363918230325, 0.3841193704781872, 0.017408617882075206, 0.05222585364622562, 0.17408617882075206, 0.5396671543443313, 0.03481723576415041, 0.017408617882075206, 0.017408617882075206, 0.03481723576415041, 0.017408617882075206, 0.017408617882075206, 0.39569570532129866, 0.07913914106425973, 0.15827828212851947, 0.5643729519009573, 0.1746582510413246, 0.6367809872970914, 0.09096871247101307, 0.045484356235506535, 0.045484356235506535, 0.10938227404382553, 0.0703171761710307, 0.35158588085515347, 0.11719529361838449, 0.10156925446926657, 0.007813019574558966, 0.0703171761710307, 0.007813019574558966, 0.007813019574558966, 0.007813019574558966, 0.03125207829823586, 0.007813019574558966, 0.007813019574558966, 0.03125207829823586, 0.007813019574558966, 0.0234390587236769, 0.19232083242985337, 0.2927797799245391, 0.30796457387179554, 0.32304282390367234, 0.181997925922243, 0.6310250594322985, 0.1720726773226086, 0.1720726773226086, 0.39351728108974116, 0.049189660136217644, 0.19675864054487058, 0.049189660136217644, 0.049189660136217644, 0.5565860545778445, 0.18535207897627362, 0.1883332780462948, 0.08033933562132216, 0.5623753493492551, 0.2887938620782475, 0.25038434668568416, 0.25038434668568416, 0.17163704305736882, 0.3898738096044808, 0.18709195363796494, 0.1202963261086381, 0.3608889783259143, 0.19488406791996518, 0.1854446093711056, 0.8184473754626895, 0.05644464658363376, 0.01411116164590844, 0.01411116164590844, 0.01411116164590844, 0.3917140768531762, 0.2794453041186794, 0.40515201605080464, 0.1894776044115629, 0.16736851981842732, 0.1411986069889736, 0.1411986069889736, 0.1411986069889736, 0.7526588765209846, 0.310755014255706, 0.41972505858685155, 0.1969942844598548, 0.1705763456565457, 0.3411526913130914, 0.08528817282827285, 0.2578272584296396, 0.08594241947654654, 0.4297120973827327, 0.3158092465445595, 0.4043345042505599, 0.17306347593238103, 0.5345612810328836, 0.08909354683881393, 0.17536063653215933, 0.17043218106371227, 0.17043218106371227, 0.05673248574217678, 0.6807898289061213, 0.15177083098236124, 0.18382290443723465, 0.6373320366235813, 0.10861393223346924, 0.43445572893387696, 0.61802090457336, 0.17755309923019297, 0.44388274807548245, 0.3307496351642363, 0.6229532327773909, 0.09165270634129809, 0.09165270634129809, 0.36661082536519235, 0.3122841204785757, 0.320962184007078, 0.0709807594393757, 0.21294227831812712, 0.42588455663625424, 0.14339465310653388, 0.14339465310653388, 0.28678930621306775, 0.12457854870423604, 0.24915709740847208, 0.3114463717605901, 0.06228927435211802, 0.4008384099455621, 0.06680640165759368, 0.06680640165759368, 0.06680640165759368, 0.13361280331518735, 0.11867143190099688, 0.23734286380199376, 0.1478536883943569, 0.1478536883943569, 0.6476882216390938, 0.0588807474217358, 0.17277361881463418, 0.3283583218998813, 0.33968102265504957, 0.14719510981718817, 0.01132270075516832, 0.02264540151033664, 0.01132270075516832, 0.01132270075516832, 0.01132270075516832, 0.01132270075516832, 0.03396810226550496, 0.01132270075516832, 0.01132270075516832, 0.17558378312583414, 0.17558378312583414, 0.32510491181172124, 0.15257367889836965, 0.15257367889836965, 0.19653021373334129, 0.2882975578869935, 0.17774208184579185, 0.17579807783830834, 0.46624683753841123, 0.3201624974436224, 0.19804228553122488, 0.16138980748614504, 0.16138980748614504, 0.1696024732697653, 0.17942106767398755, 0.18270402403268463, 0.25226007282262297, 0.33634676376349726, 0.08408669094087431, 0.3043284730079525, 0.40034105908033907, 0.17413900178047623, 0.10298023862376948, 0.10298023862376948, 0.41192095449507793, 0.15447035793565422, 0.33231177322458083, 0.492342626172805, 0.10699991504160433, 0.10699991504160433, 0.10699991504160433, 0.10699991504160433, 0.10699991504160433, 0.2934521143739158, 0.1108629923005798, 0.4434519692023192, 0.4035139113652453, 0.17530375605934415, 0.17764078068861397, 0.17764078068861397, 0.3006384223401434, 0.1891540723777614, 0.2677907163806429, 0.01275193887526871, 0.2422868386301055, 0.21678296087956808, 0.01275193887526871, 0.01275193887526871, 0.03825581662580613, 0.01275193887526871, 0.02550387775053742, 0.01275193887526871, 0.02550387775053742, 0.01275193887526871, 0.01275193887526871, 0.01275193887526871, 0.01275193887526871, 0.10252160561247685, 0.4100864224499074, 0.19471892129675794, 0.4491178223160771, 0.11227945557901928, 0.15682577572757642, 0.07841288786378821, 0.3920644393189411, 0.03193313900031865, 0.0638662780006373, 0.0638662780006373, 0.3193313900031865, 0.03193313900031865, 0.1277325560012746, 0.0638662780006373, 0.1277325560012746, 0.03193313900031865, 0.10451907483988757, 0.10451907483988757, 0.10451907483988757, 0.31355722451966267, 0.199925466344746, 0.2984521940593724, 0.04219527090481216, 0.02109763545240608, 0.04219527090481216, 0.16878108361924865, 0.10548817726203041, 0.06329290635721825, 0.02109763545240608, 0.02109763545240608, 0.21097635452406083, 0.02109763545240608, 0.04219527090481216, 0.04219527090481216, 0.02109763545240608, 0.02109763545240608, 0.04219527090481216, 0.04219527090481216, 0.02109763545240608, 0.1781971110416757, 0.16985045529446838, 0.6414771712501612, 0.2014557404154911, 0.4509532498166561, 0.1882007118470201, 0.18944125005764534, 0.5801942360484404, 0.5863446987249922, 0.7170533916731368, 0.0843592225497808, 0.10506925957029246, 0.05253462978514623, 0.05253462978514623, 0.2626731489257311, 0.21013851914058493, 0.05253462978514623, 0.1668208287294564, 0.1668208287294564, 0.02229655159429982, 0.11148275797149909, 0.6465999962346948, 0.02229655159429982, 0.06688965478289946, 0.02229655159429982, 0.02229655159429982, 0.18003932696757985, 0.2870742009626117, 0.5290987956184232, 0.07191224383436838, 0.07191224383436838, 0.07191224383436838, 0.07191224383436838, 0.21573673150310513, 0.07191224383436838, 0.14382448766873676, 0.14176440987590302, 0.28352881975180605, 0.22759913340420468, 0.05689978335105117, 0.05689978335105117, 0.45519826680840936, 0.16962113605326906, 0.17440959765317554, 0.1588638876567576, 0.1743605772079842, 0.1713683172389666, 0.30918273371434957, 0.3735295983736956, 0.0933823995934239, 0.1867647991868478, 0.191054419349871, 0.3346167235872063, 0.2910119748900352, 0.33284066673468055, 0.03698229630385339, 0.22189377782312036, 0.03698229630385339, 0.18491148151926698, 0.32662663070824083, 0.7182129702766793, 0.18383177347871224, 0.4093003231968556, 0.14330691433866605, 0.10748018575399954, 0.05374009287699977, 0.03582672858466651, 0.017913364292333256, 0.017913364292333256, 0.017913364292333256, 0.017913364292333256, 0.3582672858466651, 0.03582672858466651, 0.017913364292333256, 0.017913364292333256, 0.017913364292333256, 0.017913364292333256, 0.18717956964800278, 0.2807693544720042, 0.09358978482400139, 0.35641943931641273, 0.11339552533595014, 0.01619936076227859, 0.631775069728865, 0.03239872152455718, 0.01619936076227859, 0.008099680381139295, 0.01619936076227859, 0.08909648419253224, 0.008099680381139295, 0.008099680381139295, 0.01619936076227859, 0.28803123305193734, 0.47277124940329013, 0.16189760237080755, 0.16189760237080755, 0.16600387728818947, 0.1668734532159577, 0.174964450028149, 0.18003932025486152, 0.14387326712769993, 0.14387326712769993, 0.1748329692858811, 0.41031191038180787, 0.14555127083596794, 0.2287234255993782, 0.08317215476341025, 0.020793038690852562, 0.041586077381705125, 0.020793038690852562, 0.020793038690852562, 0.041586077381705125, 0.020793038690852562, 0.020793038690852562, 0.2287234255993782, 0.020793038690852562, 0.32597035081207837, 0.17725370593904446, 0.15747835638873484, 0.15747835638873484, 0.32540305341480635, 0.4683908352490227, 0.18419962637547407, 0.17053677063550915, 0.1666798435353519, 0.1666798435353519, 0.3939500159778215, 0.1991306824223235, 0.1769137373514486, 0.0331234122678069, 0.1324936490712276, 0.5962214208205242, 0.0662468245356138, 0.0331234122678069, 0.17249909145426331, 0.12730768326746128, 0.5728845747035758, 0.09169410080197908, 0.09169410080197908, 0.3667764032079163, 0.3736557605420101, 0.18682788027100505, 0.09516188218632149, 0.23790470546580372, 0.38064752874528596, 0.047580941093160745, 0.047580941093160745, 0.10688239555992742, 0.21376479111985483, 0.21376479111985483, 0.3703114910576434, 0.30265242087342104, 0.16289185151889193, 0.18318239364488156, 0.24254570386168345, 0.06063642596542086, 0.12127285193084172, 0.06063642596542086, 0.12127285193084172, 0.06063642596542086, 0.12127285193084172, 0.13973653536898686, 0.489077873791454, 0.06986826768449343, 0.18405845002615337, 0.18405845002615337, 0.32470535793793476, 0.2888642907845515, 0.531449657625945, 0.1720726773226086, 0.1720726773226086, 0.0895811854490323, 0.3583247417961292, 0.1791623708980646, 0.0895811854490323, 0.17095008366750927, 0.06235462087211537, 0.43648234610480763, 0.06235462087211537, 0.06235462087211537, 0.031177310436057686, 0.06235462087211537, 0.06235462087211537, 0.031177310436057686, 0.031177310436057686, 0.17558378312583414, 0.17558378312583414, 0.24331464767181363, 0.03475923538168766, 0.10427770614506299, 0.3475923538168766, 0.06951847076337532, 0.03475923538168766, 0.03475923538168766, 0.18391337903852178, 0.17863909023983612, 0.17353212719768837, 0.17353212719768837, 0.17724497205459433, 0.22997481459010088, 0.5979345179342623, 0.022997481459010087, 0.022997481459010087, 0.18794409086522762, 0.1487022525591329, 0.07435112627956646, 0.4461067576773987, 0.17635733428583936, 0.1068290164171779, 0.6409740985030674, 0.16695963648997814, 0.16695963648997814, 0.40882530404212025, 0.14262536859134609, 0.28525073718269217, 0.40398592823614304, 0.13102149136269542, 0.26204298272539084, 0.16570992975042456, 0.11047328650028304, 0.05523664325014152, 0.05523664325014152, 0.05523664325014152, 0.27618321625070763, 0.05523664325014152, 0.11731490620976025, 0.35194471862928073, 0.11731490620976025, 0.11986071848123346, 0.11986071848123346, 0.23972143696246692, 0.33790559720350233, 0.3028613900673553, 0.3989474903342929, 0.1444179676503679, 0.1444179676503679, 0.1444179676503679, 0.41693910835233355, 0.175402497146415, 0.5655045209805779, 0.08078636014008256, 0.29814439468591997, 0.31418806031697827, 0.027019815399845198, 0.054039630799690395, 0.2296684308986842, 0.040529723099767795, 0.1486089846991486, 0.040529723099767795, 0.12158916929930338, 0.013509907699922599, 0.013509907699922599, 0.013509907699922599, 0.013509907699922599, 0.013509907699922599, 0.013509907699922599, 0.013509907699922599, 0.013509907699922599, 0.013509907699922599, 0.027019815399845198, 0.013509907699922599, 0.013509907699922599, 0.027019815399845198, 0.013509907699922599, 0.013509907699922599, 0.054039630799690395, 0.3300314123046595, 0.17654210980315957, 0.17148529756882044, 0.1508794848805121, 0.1508794848805121, 0.18597951301385443, 0.15775469494670574, 0.15775469494670574, 0.40512703298464037, 0.37358814533199153, 0.33388904173556244, 0.26403087339239995, 0.13201543669619997, 0.06600771834809999, 0.06600771834809999, 0.26403087339239995, 0.29273270444569705, 0.17027798330697363, 0.09891007412892859, 0.39564029651571436, 0.048622326410317676, 0.048622326410317676, 0.4862232641031768, 0.09724465282063535, 0.09724465282063535, 0.048622326410317676, 0.17040422617097992, 0.16757076232479703, 0.16757076232479703, 0.16757076232479703, 0.5889368749311583, 0.07361710936639479, 0.07361710936639479, 0.4670006048733618, 0.07683152789475209, 0.15366305578950418, 0.07683152789475209, 0.07683152789475209, 0.07683152789475209, 0.15366305578950418, 0.15366305578950418, 0.07515020005978258, 0.07515020005978258, 0.37575100029891295, 0.15030040011956516, 0.30404608003642786, 0.47824707005257394, 0.7993907997902575, 0.34017543911815235, 0.11339181303938412, 0.1702959774305516, 0.3126891137161041, 0.16419970517269492, 0.611867163607507, 0.19182102279138502, 0.5092584795978113, 0.1683966064327983, 0.1877029063535259, 0.1495197931450749, 0.2990395862901498, 0.540214585088454, 0.19792434910887416, 0.4122781424695507, 0.43225596024272556, 0.08645119204854512, 0.08645119204854512, 0.4447647488081279, 0.42868243879624923, 0.1201950308584097, 0.3605850925752291, 0.28994580316179025, 0.09767319553769095, 0.09767319553769095, 0.3906927821507638, 0.16799364265969194, 0.17558378312583414, 0.17558378312583414, 0.17558378312583414, 0.17558378312583414, 0.1862681263207807, 0.5456670402848298, 0.18169610086885754, 0.02571707185742114, 0.6429267964355285, 0.02571707185742114, 0.02571707185742114, 0.05143414371484228, 0.05143414371484228, 0.02571707185742114, 0.02571707185742114, 0.02571707185742114, 0.4037852481052924, 0.18770004285187292, 0.20280397395100924, 0.05070099348775231, 0.15210298046325693, 0.15210298046325693, 0.10140198697550462, 0.10140198697550462, 0.1789189916665215, 0.1789189916665215, 0.2856168426203002, 0.3570210532753752, 0.16046626760064284, 0.16046626760064284, 0.14135484663917397, 0.14135484663917397, 0.18769160335789262, 0.258304770345395, 0.2841352473799345, 0.154982862207237, 0.0258304770345395, 0.0258304770345395, 0.0258304770345395, 0.051660954069079, 0.051660954069079, 0.19732234962150885, 0.17137894210593863, 0.49345013739179383, 0.16107974341255651, 0.14382616915413976, 0.2876523383082795, 0.1597169459540048, 0.1597169459540048, 0.3030482362632563, 0.307873362141294, 0.17027051284966782, 0.17027051284966782, 0.23244705572347896, 0.3874117595391316, 0.16650777198032302, 0.16650777198032302, 0.17648154339716576, 0.2998088398471242, 0.17136420910918668, 0.10479389298225783, 0.10479389298225783, 0.09897201003879906, 0.029109414717293843, 0.06404071237804645, 0.075684478264964, 0.08150636120842275, 0.052396946491128915, 0.023287531773835073, 0.029109414717293843, 0.029109414717293843, 0.011643765886917536, 0.03493129766075261, 0.040753180604211375, 0.005821882943458768, 0.005821882943458768, 0.011643765886917536, 0.017465648830376306, 0.011643765886917536, 0.011643765886917536, 0.052396946491128915, 0.011643765886917536, 0.005821882943458768, 0.017465648830376306, 0.005821882943458768, 0.011643765886917536, 0.005821882943458768, 0.011643765886917536, 0.1935654233749347, 0.14135433602614417, 0.14135433602614417, 0.42064942901677665, 0.7071602320487318, 0.14143204640974635, 0.02020457805853519, 0.02020457805853519, 0.3262284172843779, 0.1373559892476254, 0.2747119784952508, 0.019050624161462765, 0.019050624161462765, 0.13335436913023935, 0.019050624161462765, 0.09525312080731382, 0.41911373155218085, 0.05715187248438829, 0.03810124832292553, 0.019050624161462765, 0.019050624161462765, 0.019050624161462765, 0.019050624161462765, 0.28884124920220794, 0.07471908201721104, 0.7098312791635049, 0.03735954100860552, 0.03735954100860552, 0.06550060286172023, 0.5895054257554821, 0.06550060286172023, 0.1765648330078876, 0.13244570846383902, 0.17659427795178537, 0.04414856948794634, 0.04414856948794634, 0.3090399864156244, 0.04414856948794634, 0.04414856948794634, 0.1820836747697776, 0.1820836747697776, 0.17083797502315115, 0.17419256236340405, 0.29453205837354934, 0.5106834340738481, 0.08511390567897467, 0.1016881810414455, 0.3050645431243365, 0.1016881810414455, 0.19417373075017402, 0.1872427648673604, 0.1361146001713578, 0.1361146001713578, 0.2800345478874243, 0.2994871904171193, 0.30845295179760623, 0.07995222417268813, 0.5596655692088169, 0.632592633280677, 0.18939802445384715, 0.1854872863123921, 0.6113211094139424, 0.04075474062759615, 0.04075474062759615, 0.04075474062759615, 0.04075474062759615, 0.04075474062759615, 0.16888373803855822, 0.5798614740513827, 0.17189608342683435, 0.2984521940593724, 0.3987948235215704, 0.10634528627241878, 0.05317264313620939, 0.05317264313620939, 0.0797589647043141, 0.026586321568104695, 0.05317264313620939, 0.026586321568104695, 0.026586321568104695, 0.026586321568104695, 0.026586321568104695, 0.15910098586364688, 0.10505732940646102, 0.10505732940646102, 0.21011465881292204, 0.18096417925205446, 0.1690539259674952, 0.1842475578982891, 0.3147212487646493, 0.4932536307190964, 0.3348640330627008, 0.2883259143062666, 0.16956520734107605, 0.16956520734107605, 0.1730716451055452, 0.1742441303496579, 0.1742441303496579, 0.5525215981136071, 0.41428517119419045, 0.04509990777400945, 0.0901998155480189, 0.04509990777400945, 0.22549953887004726, 0.0901998155480189, 0.2705994466440567, 0.04509990777400945, 0.20171228467591915, 0.2020981584971393, 0.5219860711378137, 0.42064942901677665, 0.07122776831844986, 0.14245553663689972, 0.07122776831844986, 0.3561388415922493, 0.07122776831844986, 0.15627776173225866, 0.15627776173225866, 0.16412722373781072, 0.29595105289967605, 0.04032980170302332, 0.16131920681209327, 0.04032980170302332, 0.16131920681209327, 0.12098940510906996, 0.12098940510906996, 0.08065960340604664, 0.04032980170302332, 0.04032980170302332, 0.04032980170302332, 0.6805200980067904, 0.14326738905406114, 0.017908423631757642, 0.017908423631757642, 0.035816847263515285, 0.017908423631757642, 0.15816979004383755, 0.15816979004383755, 0.17761696830312496, 0.17761696830312496, 0.16796497674356176, 0.16893660355919485, 0.16893660355919485, 0.10227708488474654, 0.10227708488474654, 0.3068312546542396, 0.32370667441755985, 0.31675173199713214, 0.16962010253200427, 0.17649930808595338, 0.27641198013580526, 0.13820599006790263, 0.3090986785505865, 0.10875136395386886, 0.1631270459308033, 0.10875136395386886, 0.027187840988467216, 0.027187840988467216, 0.08156352296540165, 0.027187840988467216, 0.24469056889620494, 0.027187840988467216, 0.027187840988467216, 0.027187840988467216, 0.32519145169826363, 0.17839852679351156, 0.286945244407191, 0.4012892909541359, 0.7039558160912301, 0.1849103767287189, 0.4728532869677932, 0.4117564960894042, 0.15843411013590142, 0.15843411013590142, 0.1877301091527529, 0.3269657151528932, 0.1381048358922771, 0.1381048358922771, 0.1381048358922771, 0.1798289194962517, 0.3228807882355649, 0.20292420398881528, 0.6119213330958561, 0.06119213330958561, 0.06119213330958561, 0.026878935489567067, 0.779489129197445, 0.026878935489567067, 0.026878935489567067, 0.026878935489567067, 0.1472421256114034, 0.1472421256114034, 0.14559188316031535, 0.2911837663206307, 0.484049267552621, 0.08067487792543683, 0.08067487792543683, 0.1577486407756271, 0.22248552676367062, 0.14832368450911373, 0.07416184225455687, 0.07416184225455687, 0.07416184225455687, 0.18021979837934446, 0.32134429243593887, 0.5017944963978994, 0.18986180828225657, 0.04746545207056414, 0.09493090414112829, 0.4746545207056414, 0.19784102468785658, 0.23362312459792045, 0.23362312459792045, 0.2398628624926395, 0.0799542874975465, 0.159908574995093, 0.0799542874975465, 0.159908574995093, 0.38155437826755056, 0.5506966367886044, 0.09178277279810072, 0.2912164183815785, 0.10883442086556376, 0.43533768346225504, 0.36933328252239306, 0.26547755500044706, 0.13273877750022353, 0.05670768594993971, 0.5670768594993971, 0.028353842974969855, 0.17012305784981913, 0.028353842974969855, 0.028353842974969855, 0.3717396140101066, 0.1858698070050533, 0.1853681251076918, 0.3346167235872063, 0.7150297131685783, 0.09396192403950575, 0.09396192403950575, 0.1879238480790115, 0.1879238480790115, 0.3331287066186717, 0.32919748258298837, 0.18686525545951135, 0.18299485221721667, 0.191155641260641, 0.300025602450185, 0.17395797287726306, 0.1763531422691574, 0.32765497024985996, 0.1924942122751532, 0.4786581408839045, 0.07977635681398408, 0.19402300029292127, 0.2878899358779142, 0.18233335895794459, 0.5161433440835936, 0.08602389068059894, 0.32042861950350454, 0.45622465822989594, 0.40016057625688084, 0.18610384612827952, 0.17631107899396795, 0.3104718135472364, 0.3345250584438688, 0.2729475572832512, 0.1364737786416256, 0.0682368893208128, 0.2047106679624384, 0.0682368893208128, 0.1866520155341784, 0.3860706801370042, 0.08824161584601914, 0.08824161584601914, 0.08824161584601914, 0.2647248475380574, 0.31655672721147515, 0.5035836747983865, 0.05373140889588211, 0.05373140889588211, 0.05373140889588211, 0.10746281779176423, 0.5373140889588212, 0.4965710264534175, 0.3922273556415186, 0.318283884616321, 0.32961683040796497, 0.2806548838913054, 0.1403274419456527, 0.28069034393161973, 0.3931851373023003, 0.40622759474665504, 0.4096555550745708, 0.08193111101491415, 0.08193111101491415, 0.08193111101491415, 0.20008496611079363, 0.07984358702422223, 0.39921793512111114, 0.07984358702422223, 0.07984358702422223, 0.07984358702422223, 0.05700332319591781, 0.6840398783510138, 0.3829552263616648, 0.07659104527233296, 0.15318209054466592, 0.38232912090382704, 0.028409957549607127, 0.028409957549607127, 0.7102489387401781, 0.028409957549607127, 0.056819915099214253, 0.028409957549607127, 0.028409957549607127, 0.18169481238975949, 0.1807880849407041, 0.10913713067297873, 0.32741139201893615, 0.45516623998110345, 0.09103324799622069, 0.11095456973009926, 0.6102501335155459, 0.18393752368053023, 0.1588638876567576, 0.04042493910284132, 0.04042493910284132, 0.02021246955142066, 0.6872239647483025, 0.02021246955142066, 0.02021246955142066, 0.02021246955142066, 0.04042493910284132, 0.02021246955142066, 0.02021246955142066, 0.02021246955142066, 0.5166870482099791, 0.290275542388408, 0.4044825926208732, 0.39049335369622606, 0.1651168651661514, 0.45159157589405685, 0.19708818162113442, 0.2808675852866326, 0.09362252842887753, 0.18724505685775505, 0.3274659263529729, 0.3225749903198633, 0.17754738909484863, 0.09584569686322454, 0.38338278745289817, 0.09584569686322454, 0.12091433711652436, 0.2418286742330487, 0.12091433711652436, 0.09468514096873241, 0.09468514096873241, 0.04734257048436621, 0.09468514096873241, 0.18937028193746483, 0.23671285242183102, 0.04734257048436621, 0.16377166547471955, 0.05459055515823986, 0.43672444126591886, 0.05459055515823986, 0.27986124544089086, 0.11008399055325943, 0.22016798110651886, 0.11008399055325943, 0.11008399055325943, 0.1938041075850064, 0.13705449713856635, 0.2741089942771327, 0.2908412430654142, 0.19389416204360949, 0.4024296565820636, 0.18078886898551072, 0.13797879078080352, 0.13797879078080352, 0.2770856043799451, 0.18426758156415649, 0.07393999625277906, 0.22181998875833717, 0.07393999625277906, 0.2957599850111162, 0.07393999625277906, 0.16822526841018942, 0.14501301156227953, 0.030529055065743056, 0.14501301156227953, 0.17554206662802257, 0.04579358259861458, 0.09158716519722916, 0.06105811013148611, 0.12974848402940797, 0.007632263766435764, 0.02289679129930729, 0.02289679129930729, 0.03816131883217882, 0.007632263766435764, 0.007632263766435764, 0.007632263766435764, 0.007632263766435764, 0.007632263766435764, 0.007632263766435764, 0.007632263766435764, 0.007632263766435764, 0.007632263766435764, 0.320962184007078, 0.520866355807088, 0.07908755903216905, 0.6327004722573524, 0.495268311112635, 0.2476341555563175, 0.07936349903766104, 0.23809049711298313, 0.07936349903766104, 0.23809049711298313, 0.07936349903766104, 0.18365585340054996, 0.3197705313747787, 0.39212606892265933, 0.17609686264291166, 0.15189878071437754, 0.3037975614287551, 0.17448964298874528, 0.18503931088237374, 0.40345196000644784, 0.298686240370734, 0.17255188577653835, 0.16778290153004205, 0.19637283783515316, 0.5776917348717329, 0.3902088466520357, 0.1872427648673604, 0.3240299897500958, 0.1634573453895967, 0.10906901215360447, 0.23631619299947634, 0.1272471808458719, 0.09089084346133705, 0.054534506076802235, 0.10906901215360447, 0.03635633738453482, 0.01817816869226741, 0.09089084346133705, 0.01817816869226741, 0.01817816869226741, 0.01817816869226741, 0.17932104621354153, 0.16716858457345699, 0.10653287873886727, 0.10653287873886727, 0.3195986362166018, 0.17282978659097895, 0.06821262993671914, 0.7503389293039107, 0.03410631496835957, 0.40881443212662716, 0.19121645169292725, 0.0530981429692051, 0.5840795726612561, 0.1061962859384102, 0.18115078428273657, 0.4528769607068414, 0.02082054499434548, 0.08328217997738192, 0.4788725348699461, 0.02082054499434548, 0.02082054499434548, 0.10410272497172741, 0.10410272497172741, 0.062461634983036446, 0.02082054499434548, 0.4180042142974277, 0.17986292521275907, 0.04545515675289501, 0.4090964107760551, 0.27273094051737, 0.04545515675289501, 0.4998542748056928, 0.11208568777840452, 0.11208568777840452, 0.3362570633352136, 0.19022322901561192, 0.06384624316211436, 0.5107699452969149, 0.12769248632422872, 0.47314918482205026, 0.2889554911614319, 0.15978273755380273, 0.15471903041509136, 0.15471903041509136, 0.6940023967310858, 0.13856228000101742, 0.09897305714358386, 0.13856228000101742, 0.01979461142871677, 0.07917844571486708, 0.27712456000203484, 0.01979461142871677, 0.01979461142871677, 0.01979461142871677, 0.059383834286150315, 0.01979461142871677, 0.01979461142871677, 0.29190222718131886, 0.184479409787925, 0.19027767660090028, 0.19096039642277457, 0.5904130677263686, 0.7202836311937417, 0.06859844106607065, 0.03429922053303532, 0.03429922053303532, 0.03429922053303532, 0.5394090231319715, 0.17428797527582673, 0.17986292521275907, 0.1683049475037484, 0.1683049475037484, 0.34686896256780875, 0.12242433972981485, 0.02040405662163581, 0.12242433972981485, 0.06121216986490743, 0.02040405662163581, 0.04080811324327162, 0.02040405662163581, 0.08161622648654324, 0.02040405662163581, 0.02040405662163581, 0.04080811324327162, 0.3416994671738522, 0.3986493783694942, 0.13923677901751647, 0.27847355803503293, 0.45242938385197634, 0.16829782658678857, 0.17986292521275907, 0.17714289970796782, 0.11717769152712877, 0.23435538305425754, 0.4199079860303826, 0.10497699650759565, 0.31069597297239576, 0.20713064864826383, 0.17276272707475257, 0.1720303576353712, 0.29108092734649343, 0.16170402566551953, 0.15395258358849648, 0.15395258358849648, 0.2856837795727934, 0.11522347237967065, 0.11522347237967065, 0.2304469447593413, 0.45009381131840737, 0.17805782624561442, 0.4088344283513153, 0.31997825457483564, 0.023132458016180045, 0.09252983206472018, 0.023132458016180045, 0.023132458016180045, 0.6939737404854014, 0.023132458016180045, 0.023132458016180045, 0.023132458016180045, 0.4843507462444789, 0.1248993331242735, 0.1605848568740659, 0.017842761874896213, 0.053528285624688636, 0.249798666248547, 0.053528285624688636, 0.017842761874896213, 0.017842761874896213, 0.053528285624688636, 0.035685523749792426, 0.017842761874896213, 0.017842761874896213, 0.017842761874896213, 0.035685523749792426, 0.017842761874896213, 0.017842761874896213, 0.017842761874896213, 0.017842761874896213, 0.1836836040951075, 0.1716972213375431, 0.38463170660893586, 0.1654707583245231, 0.1654707583245231, 0.3185308401312604, 0.21235389342084024, 0.2941723192005759, 0.1241125537607924, 0.1241125537607924, 0.3346167235872063, 0.32384276527838535, 0.18344181742747057, 0.18715608554493, 0.32618091647872116, 0.1087269721595737, 0.05436348607978685, 0.05436348607978685, 0.05436348607978685, 0.05436348607978685, 0.1087269721595737, 0.05436348607978685, 0.3809260830767275, 0.17913077833619778, 0.10181643608634867, 0.30544930825904604, 0.05090821804317434, 0.05090821804317434, 0.05090821804317434, 0.05090821804317434, 0.20363287217269735, 0.05090821804317434, 0.4002044466704188, 0.2670332123034167, 0.42078621299677266, 0.15580526900246844, 0.07790263450123422, 0.38951317250617107, 0.07790263450123422, 0.4399027347726633, 0.12927047944814862, 0.12927047944814862, 0.12927047944814862, 0.543196827092895, 0.09243147973479235, 0.09243147973479235, 0.09243147973479235, 0.3697259189391694, 0.09243147973479235, 0.44784720008392387, 0.08824616211515468, 0.4412308105757734, 0.08824616211515468, 0.16967938550385367, 0.16967938550385367, 0.1581108729103148, 0.1581108729103148, 0.1553177282206123, 0.1553177282206123, 0.5838679816117739, 0.3077348689267623, 0.41031315856901635, 0.16059637867021642, 0.16059637867021642, 0.3335619756435336, 0.21383503273754034, 0.04276700654750807, 0.4704370720225887, 0.04276700654750807, 0.14867212506691269, 0.14867212506691269, 0.06348225787630898, 0.19044677362892695, 0.09522338681446348, 0.12696451575261797, 0.06348225787630898, 0.06348225787630898, 0.06348225787630898, 0.06348225787630898, 0.03174112893815449, 0.03174112893815449, 0.2188191772182583, 0.13924856732070984, 0.4177457019621295, 0.05967795742316136, 0.01989265247438712, 0.01989265247438712, 0.01989265247438712, 0.16587748972308042, 0.16587748972308042, 0.1986681652820379, 0.40647986343633014, 0.45940695344011506, 0.5133529143897042, 0.17086043955828997, 0.3247363591486172, 0.24355226936146288, 0.0811840897871543, 0.10530665263693192, 0.05014602506520568, 0.6669421333672355, 0.0050146025065205685, 0.010029205013041137, 0.0050146025065205685, 0.010029205013041137, 0.03510221754564398, 0.0050146025065205685, 0.02507301253260284, 0.015043807519561704, 0.020058410026082274, 0.010029205013041137, 0.010029205013041137, 0.0050146025065205685, 0.19787994938002623, 0.17235593970097335, 0.038301319933549634, 0.14362994975081114, 0.04787664991693705, 0.019150659966774817, 0.07660263986709927, 0.038301319933549634, 0.18193126968436077, 0.019150659966774817, 0.009575329983387408, 0.028725989950162227, 0.057451979900324454, 0.009575329983387408, 0.028725989950162227, 0.019150659966774817, 0.009575329983387408, 0.019150659966774817, 0.009575329983387408, 0.009575329983387408, 0.1554690661243746, 0.45613495006664373, 0.6947409446576591, 0.08173422878325401, 0.040867114391627005, 0.1634573453895967, 0.08712135614535464, 0.6969708491628371, 0.30371801145303573, 0.146601496913212, 0.146601496913212, 0.146601496913212, 0.29570509897068165, 0.3942734652942422, 0.11916482055746638, 0.11916482055746638, 0.23832964111493277, 0.6680658572881978, 0.030366629876736266, 0.030366629876736266, 0.09109988963020879, 0.06073325975347253, 0.41604029591263364, 0.17207264158554342, 0.17207264158554342, 0.18131776050041254, 0.5204314877885977, 0.2710926198311448, 0.32803737631236324, 0.34666195636549924, 0.1155539854551664, 0.175419483856953, 0.175419483856953, 0.5929048518347031, 0.08470069311924329, 0.1715052060859981, 0.1715052060859981, 0.14782836245969205, 0.14782836245969205, 0.14782836245969205, 0.32992569243947706, 0.1950598824896304, 0.17558378312583414, 0.17558378312583414, 0.5218515420901374, 0.38391306872851627, 0.6984397422212187, 0.07351997286539146, 0.018379993216347864, 0.03675998643269573, 0.018379993216347864, 0.018379993216347864, 0.018379993216347864, 0.018379993216347864, 0.018379993216347864, 0.19653161670678634, 0.09826580835339317, 0.09826580835339317, 0.09826580835339317, 0.09826580835339317, 0.1654599331376279, 0.17764078068861397, 0.17764078068861397, 0.17234211095431848, 0.1619141207754312, 0.11323923871129098, 0.11323923871129098, 0.11323923871129098, 0.22647847742258195, 0.47285704520646726, 0.3077131870252411, 0.32856618999137993, 0.533207337528302, 0.18388435989990295, 0.19797209805216312, 0.46793240921642837, 0.5150856658057895, 0.10301713316115789, 0.6696939896516526, 0.18951791117197317, 0.06334496984915103, 0.06334496984915103, 0.19003490954745308, 0.031672484924575514, 0.06334496984915103, 0.031672484924575514, 0.06334496984915103, 0.2533798793966041, 0.06334496984915103, 0.031672484924575514, 0.16816830461587, 0.1885986617773208, 0.29030285056547794, 0.11612114022619117, 0.05806057011309559, 0.11612114022619117, 0.17418171033928678, 0.2116322187745111, 0.37035638285539446, 0.03527203646241852, 0.10581610938725555, 0.03527203646241852, 0.01763601823120926, 0.01763601823120926, 0.01763601823120926, 0.03527203646241852, 0.01763601823120926, 0.03527203646241852, 0.01763601823120926, 0.15772790517048726, 0.27229043066328884, 0.13614521533164442, 0.09432957965852706, 0.04716478982926353, 0.09432957965852706, 0.5188126881218988, 0.17274140280756015, 0.17274140280756015, 0.03722168662560492, 0.37221686625604916, 0.29777349300483935, 0.07444337325120984, 0.03722168662560492, 0.5671581805350197, 0.14451163039619216, 0.14451163039619216, 0.17761696830312496, 0.17761696830312496, 0.18151059803839512, 0.36302119607679023, 0.16886068056458697, 0.35013915283292135, 0.048850790639216934, 0.048850790639216934, 0.6839110689490371, 0.29346329643746194, 0.4162014668265478, 0.477432802257579, 0.0954865604515158, 0.17437030282499308, 0.4359257570624827, 0.3107276489603135, 0.19482135386307894, 0.17085291708158865, 0.1952264752992975, 0.1021100429654533, 0.4084401718618132, 0.18807640492139854, 0.2885851864497605, 0.3042909829454496, 0.16746540998978057, 0.16746540998978057, 0.28575096472489686], \"Term\": [\"able\", \"absolute\", \"accelerated\", \"accent\", \"access\", \"access\", \"access\", \"access\", \"access\", \"access\", \"access\", \"access\", \"access\", \"account\", \"action\", \"action\", \"action\", \"actionsheet\", \"activity\", \"activity\", \"activity\", \"activity\", \"actual\", \"adb\", \"add\", \"address\", \"admin\", \"admin\", \"aggregate\", \"ajax\", \"ajax\", \"ajax\", \"alert\", \"algorithm\", \"algorithm\", \"alias\", \"align\", \"align\", \"allow\", \"alternative\", \"amazonhttpclient\", \"amazonhttpclient\", \"amount\", \"ampersand\", \"anaconda\", \"anchor\", \"android\", \"android\", \"android\", \"android\", \"android\", \"android\", \"android\", \"android\", \"android\", \"android\", \"android\", \"android\", \"android\", \"angular\", \"angular\", \"angular\", \"angular\", \"angularjs\", \"angularjs\", \"animated\", \"animation\", \"animation\", \"annotation\", \"another\", \"another\", \"another\", \"another\", \"another\", \"anyone\", \"apache\", \"apache\", \"api\", \"api\", \"api\", \"api\", \"api\", \"api\", \"api\", \"apk\", \"app\", \"app\", \"app\", \"app\", \"app\", \"app\", \"app\", \"app\", \"appcompat\", \"append\", \"application\", \"application\", \"application\", \"application\", \"approach\", \"apps\", \"apps\", \"architecture\", \"architecture\", \"arduino\", \"area\", \"area\", \"argparse\", \"argument\", \"argument\", \"argument\", \"argument\", \"argument\", \"argument\", \"argument\", \"array\", \"array\", \"array\", \"array\", \"array\", \"array\", \"array\", \"array\", \"array\", \"array\", \"array\", \"array\", \"array\", \"array\", \"array\", \"array\", \"array\", \"array\", \"array\", \"array\", \"arraylist\", \"arraylist\", \"arraylists\", \"arraylists\", \"arrow\", \"ascii\", \"asp\", \"asp\", \"asp\", \"asp\", \"assembly\", \"asset\", \"assign\", \"assignment\", \"attached\", \"attempt\", \"attribute\", \"attribute\", \"attribute\", \"attributeerror\", \"attributeerror\", \"audio\", \"audio\", \"authentication\", \"authentication\", \"auto\", \"auto\", \"autocomplete\", \"automatic\", \"available\", \"available\", \"average\", \"awk\", \"aws\", \"ax\", \"axis\", \"axis\", \"azure\", \"azure\", \"backbone\", \"backbone\", \"background\", \"background\", \"background\", \"background\", \"background\", \"backreference\", \"backslash\", \"backtracking\", \"bad\", \"bar\", \"bar\", \"bar\", \"base\", \"base\", \"base\", \"base\", \"bash\", \"bash\", \"bash\", \"batch\", \"bdist\", \"bean\", \"beginner\", \"beginning\", \"behavior\", \"behind\", \"best\", \"best\", \"better\", \"better\", \"big\", \"big\", \"billion\", \"binary\", \"bind\", \"binding\", \"binding\", \"bit\", \"bitwise\", \"block\", \"block\", \"blog\", \"blue\", \"bluetooth\", \"body\", \"bokeh\", \"bool\", \"boolean\", \"boolean\", \"boost\", \"boot\", \"bootstrap\", \"bootstrap\", \"border\", \"bot\", \"bottom\", \"bound\", \"box\", \"box\", \"box\", \"boxplot\", \"bracket\", \"branchless\", \"branchless\", \"break\", \"break\", \"break\", \"breaking\", \"breaking\", \"breaking\", \"browser\", \"browser\", \"bson\", \"bson\", \"bubble\", \"buffer\", \"bug\", \"bug\", \"build\", \"build\", \"bundle\", \"buton\", \"button\", \"button\", \"button\", \"button\", \"button\", \"button\", \"button\", \"button\", \"byte\", \"byte\", \"byte\", \"c\", \"c\", \"c\", \"c\", \"c\", \"c\", \"c\", \"c\", \"c\", \"c\", \"c\", \"c\", \"c\", \"c\", \"c\", \"c\", \"c\", \"c\", \"c\", \"c\", \"c\", \"c\", \"c\", \"c\", \"c\", \"c\", \"c\", \"c\", \"c\", \"c\", \"c\", \"cache\", \"cache\", \"calculate\", \"calculate\", \"calculation\", \"calendar\", \"call\", \"call\", \"call\", \"call\", \"call\", \"callback\", \"called\", \"camera\", \"candlestick\", \"cant\", \"cant\", \"cant\", \"cant\", \"canvas\", \"capital\", \"capital\", \"carriage\", \"case\", \"cast\", \"cast\", \"category\", \"cchmaccontext\", \"cchmaccontext\", \"cd\", \"cell\", \"cell\", \"center\", \"center\", \"certain\", \"change\", \"change\", \"change\", \"change\", \"change\", \"char\", \"char\", \"char\", \"char\", \"character\", \"character\", \"character\", \"character\", \"character\", \"character\", \"character\", \"character\", \"character\", \"character\", \"character\", \"chart\", \"check\", \"check\", \"check\", \"check\", \"checkbox\", \"checkboxes\", \"chef\", \"chef\", \"child\", \"child\", \"chrome\", \"chrome\", \"chrome\", \"cin\", \"class\", \"class\", \"class\", \"class\", \"class\", \"class\", \"class\", \"class\", \"class\", \"class\", \"class\", \"class\", \"class\", \"class\", \"classcastexception\", \"classname\", \"classnotfoundexception\", \"classpath\", \"clause\", \"click\", \"click\", \"click\", \"clicked\", \"client\", \"client\", \"client\", \"closure\", \"cloud\", \"cmake\", \"cmake\", \"cmd\", \"code\", \"code\", \"code\", \"code\", \"code\", \"code\", \"code\", \"code\", \"code\", \"code\", \"code\", \"code\", \"code\", \"code\", \"code\", \"code\", \"codeblocks\", \"codelite\", \"coding\", \"collection\", \"collection\", \"collector\", \"color\", \"color\", \"colour\", \"column\", \"column\", \"column\", \"column\", \"column\", \"column\", \"column\", \"column\", \"column\", \"column\", \"column\", \"column\", \"column\", \"com\", \"com\", \"combination\", \"combination\", \"combine\", \"combobox\", \"comma\", \"comma\", \"command\", \"command\", \"command\", \"command\", \"command\", \"command\", \"command\", \"command\", \"command\", \"common\", \"compare\", \"comparison\", \"compile\", \"compile\", \"compiler\", \"completion\", \"completion\", \"complex\", \"complexity\", \"component\", \"component\", \"component\", \"component\", \"concatenate\", \"concurrent\", \"concurrentmodificationexception\", \"condition\", \"condition\", \"condition\", \"conditional\", \"confidence\", \"config\", \"configuration\", \"configuration\", \"connect\", \"connection\", \"connection\", \"consecutive\", \"console\", \"const\", \"constant\", \"constant\", \"constraint\", \"construction\", \"construction\", \"construction\", \"constructor\", \"constructor\", \"constructor\", \"consumption\", \"container\", \"container\", \"contains\", \"content\", \"content\", \"content\", \"content\", \"content\", \"context\", \"control\", \"controller\", \"controller\", \"convention\", \"conversion\", \"conversion\", \"convert\", \"convert\", \"convert\", \"convert\", \"convert\", \"convert\", \"convert\", \"cooky\", \"coordinate\", \"copy\", \"copy\", \"core\", \"core\", \"corner\", \"correct\", \"correct\", \"correlation\", \"cors\", \"could\", \"could\", \"could\", \"could\", \"count\", \"count\", \"count\", \"count\", \"country\", \"cover\", \"cpp\", \"cpu\", \"crash\", \"crash\", \"create\", \"create\", \"create\", \"cross\", \"cross\", \"cryptocompare\", \"cryptocompare\", \"cs\", \"cs\", \"cs\", \"cs\", \"cs\", \"cs\", \"cs\", \"cs\", \"cs\", \"cs\", \"csv\", \"csv\", \"csv\", \"csv\", \"ctrl\", \"cumsum\", \"curl\", \"current\", \"current\", \"current\", \"current\", \"cursor\", \"curve\", \"custom\", \"custom\", \"custom\", \"custom\", \"customization\", \"cyordereddict\", \"dash\", \"data\", \"data\", \"data\", \"data\", \"data\", \"data\", \"data\", \"data\", \"data\", \"data\", \"data\", \"data\", \"data\", \"data\", \"data\", \"data\", \"data\", \"data\", \"data\", \"data\", \"data\", \"database\", \"database\", \"database\", \"database\", \"database\", \"database\", \"database\", \"database\", \"database\", \"dataframe\", \"dataframe\", \"dataframe\", \"dataframe\", \"dataframe\", \"dataframe\", \"dataframe\", \"dataframes\", \"dataset\", \"dataset\", \"datatable\", \"datatype\", \"datatype\", \"date\", \"date\", \"date\", \"date\", \"date\", \"date\", \"datetime\", \"datetime\", \"day\", \"day\", \"day\", \"db\", \"dd\", \"debug\", \"decimal\", \"decimal\", \"declaration\", \"declaration\", \"decode\", \"decoder\", \"decoder\", \"decoder\", \"def\", \"default\", \"default\", \"default\", \"default\", \"default\", \"default\", \"define\", \"defined\", \"definition\", \"del\", \"delay\", \"delete\", \"delete\", \"delimiter\", \"delphi\", \"dependency\", \"dependency\", \"descriptor\", \"deserialize\", \"design\", \"detection\", \"device\", \"device\", \"df\", \"diagram\", \"diagram\", \"dialog\", \"dice\", \"dict\", \"dict\", \"dictionary\", \"dictionary\", \"dictionnary\", \"difference\", \"difference\", \"difference\", \"difference\", \"difference\", \"difference\", \"difference\", \"difference\", \"different\", \"different\", \"different\", \"different\", \"different\", \"digit\", \"digit\", \"dimension\", \"dimensional\", \"directive\", \"directory\", \"directory\", \"directory\", \"dirname\", \"disable\", \"discord\", \"discord\", \"discord\", \"discord\", \"dispatcherservlet\", \"display\", \"display\", \"display\", \"display\", \"distance\", \"distinct\", \"distinct\", \"distribution\", \"div\", \"div\", \"div\", \"div\", \"divs\", \"divs\", \"django\", \"django\", \"django\", \"dll\", \"doc\", \"docker\", \"document\", \"document\", \"doesnt\", \"doesnt\", \"doesnt\", \"doesnt\", \"dog\", \"dog\", \"dollar\", \"dom\", \"domain\", \"dont\", \"dot\", \"dot\", \"double\", \"double\", \"double\", \"download\", \"download\", \"downloaded\", \"downloaded\", \"dplyr\", \"drag\", \"draw\", \"drawable\", \"driver\", \"driver\", \"drop\", \"dropdown\", \"dummy\", \"dumped\", \"duplicate\", \"dusk\", \"dynamic\", \"dynamic\", \"dynamically\", \"eclipse\", \"edge\", \"edge\", \"edge\", \"edit\", \"editor\", \"ef\", \"effect\", \"effect\", \"efficient\", \"efficient\", \"egl\", \"egrep\", \"electron\", \"electron\", \"element\", \"element\", \"element\", \"element\", \"element\", \"element\", \"element\", \"element\", \"element\", \"element\", \"element\", \"element\", \"element\", \"element\", \"element\", \"element\", \"elementnotinteractableexception\", \"else\", \"email\", \"email\", \"email\", \"emoji\", \"emoji\", \"emoji\", \"emojis\", \"empty\", \"emulator\", \"enable\", \"encode\", \"encoding\", \"end\", \"end\", \"end\", \"end\", \"end\", \"end\", \"energy\", \"engine\", \"entity\", \"entity\", \"entity\", \"entry\", \"entry\", \"enum\", \"enum\", \"environment\", \"epoch\", \"equal\", \"equivalent\", \"error\", \"error\", \"error\", \"error\", \"error\", \"error\", \"error\", \"error\", \"error\", \"error\", \"error\", \"error\", \"error\", \"error\", \"error\", \"error\", \"error\", \"error\", \"error\", \"error\", \"error\", \"error\", \"error\", \"errorbars\", \"escape\", \"escaped\", \"etc\", \"european\", \"eval\", \"eval\", \"eval\", \"event\", \"event\", \"event\", \"event\", \"event\", \"event\", \"every\", \"everything\", \"exact\", \"example\", \"exceeded\", \"excel\", \"except\", \"exception\", \"exception\", \"exception\", \"exclude\", \"exe\", \"exe\", \"executable\", \"executes\", \"execution\", \"executor\", \"executorservice\", \"exists\", \"exit\", \"expression\", \"expression\", \"expression\", \"expression\", \"external\", \"external\", \"external\", \"extract\", \"extract\", \"facebook\", \"facet\", \"factor\", \"fade\", \"failed\", \"failed\", \"fails\", \"false\", \"fastlane\", \"fastlane\", \"fatal\", \"fault\", \"fcm\", \"feature\", \"fetch\", \"fetch\", \"fgets\", \"field\", \"field\", \"field\", \"field\", \"field\", \"figure\", \"file\", \"file\", \"file\", \"file\", \"file\", \"file\", \"file\", \"file\", \"file\", \"file\", \"file\", \"file\", \"file\", \"file\", \"file\", \"file\", \"file\", \"file\", \"file\", \"file\", \"file\", \"file\", \"file\", \"file\", \"file\", \"filesystem\", \"filesystem\", \"filter\", \"filter\", \"filter\", \"filter\", \"final\", \"final\", \"financial\", \"find\", \"findall\", \"firebase\", \"firebase\", \"firebase\", \"firebase\", \"firefox\", \"first\", \"first\", \"first\", \"first\", \"five\", \"flask\", \"flask\", \"flask\", \"flask\", \"flexbox\", \"float\", \"flutter\", \"flutter\", \"focus\", \"focusable\", \"folder\", \"folder\", \"folder\", \"folder\", \"folder\", \"folder\", \"following\", \"foo\", \"footer\", \"force\", \"foreach\", \"foreach\", \"foreign\", \"form\", \"form\", \"form\", \"form\", \"form\", \"form\", \"form\", \"form\", \"form\", \"form\", \"format\", \"format\", \"format\", \"format\", \"format\", \"format\", \"formatting\", \"fortran\", \"four\", \"fragment\", \"frame\", \"frame\", \"frame\", \"framework\", \"framework\", \"framework\", \"free\", \"full\", \"func\", \"function\", \"function\", \"function\", \"function\", \"function\", \"function\", \"function\", \"function\", \"function\", \"function\", \"function\", \"function\", \"function\", \"function\", \"function\", \"function\", \"function\", \"function\", \"function\", \"function\", \"furniture\", \"game\", \"game\", \"gameobject\", \"gc\", \"gc\", \"gc\", \"generates\", \"generates\", \"generates\", \"generator\", \"generic\", \"generic\", \"generic\", \"geom\", \"get\", \"get\", \"get\", \"get\", \"getelementbyid\", \"getfiles\", \"ggplot\", \"global\", \"glow\", \"gmapplot\", \"gnu\", \"gnu\", \"golang\", \"google\", \"google\", \"gpu\", \"gpu\", \"gradle\", \"graph\", \"graph\", \"graph\", \"graphic\", \"grep\", \"grid\", \"group\", \"group\", \"group\", \"group\", \"group\", \"group\", \"groupby\", \"gui\", \"gui\", \"handler\", \"handling\", \"hashmap\", \"header\", \"header\", \"header\", \"headless\", \"heap\", \"hebrew\", \"hebrew\", \"height\", \"helloweb\", \"help\", \"help\", \"heroku\", \"hex\", \"hex\", \"hh\", \"hierarchical\", \"high\", \"horizontal\", \"host\", \"host\", \"hour\", \"hql\", \"href\", \"htdocs\", \"html\", \"html\", \"html\", \"html\", \"html\", \"html\", \"html\", \"html\", \"http\", \"hy\", \"hyperlink\", \"icon\", \"id\", \"id\", \"id\", \"id\", \"id\", \"ide\", \"idea\", \"identifier\", \"identity\", \"ie\", \"ie\", \"ienumerable\", \"ienumerable\", \"ignore\", \"ii\", \"illegal\", \"illegalstateexception\", \"im\", \"image\", \"image\", \"image\", \"image\", \"image\", \"image\", \"implement\", \"implementation\", \"implicitly\", \"import\", \"include\", \"include\", \"incompatible\", \"incomplete\", \"incorrect\", \"incorrect\", \"increment\", \"index\", \"index\", \"index\", \"index\", \"index\", \"infinite\", \"info\", \"inherited\", \"init\", \"init\", \"initialization\", \"initialization\", \"initialized\", \"initializer\", \"initializer\", \"initializer\", \"inline\", \"inline\", \"inner\", \"innerhtml\", \"input\", \"input\", \"input\", \"input\", \"input\", \"input\", \"input\", \"input\", \"insert\", \"insert\", \"insert\", \"insert\", \"insertionsort\", \"inside\", \"inside\", \"inside\", \"inside\", \"inside\", \"inside\", \"inside\", \"inside\", \"inside\", \"inside\", \"install\", \"installation\", \"installation\", \"installer\", \"instance\", \"instance\", \"instance\", \"instance\", \"instance\", \"instantiate\", \"int\", \"int\", \"int\", \"int\", \"integer\", \"integer\", \"integer\", \"integration\", \"intellij\", \"intended\", \"intended\", \"interface\", \"interface\", \"internal\", \"internet\", \"interpolation\", \"interval\", \"invalid\", \"invalid\", \"invalid\", \"io\", \"io\", \"io\", \"io\", \"io\", \"io\", \"io\", \"ionic\", \"ip\", \"isnt\", \"isnt\", \"issue\", \"issue\", \"issue\", \"item\", \"item\", \"item\", \"item\", \"item\", \"item\", \"item\", \"item\", \"item\", \"iterate\", \"iteration\", \"iterator\", \"iterator\", \"itextsharp\", \"jar\", \"jar\", \"jar\", \"jasper\", \"java\", \"java\", \"java\", \"java\", \"java\", \"java\", \"java\", \"java\", \"java\", \"java\", \"java\", \"java\", \"java\", \"java\", \"java\", \"java\", \"java\", \"java\", \"java\", \"java\", \"java\", \"java\", \"java\", \"java\", \"java\", \"java\", \"java\", \"java\", \"java\", \"java\", \"java\", \"java\", \"javadoc\", \"javadoc\", \"javafx\", \"javascript\", \"javascript\", \"javascript\", \"javascript\", \"javascript\", \"javascript\", \"javascript\", \"javascript\", \"javascript\", \"javascript\", \"javascript\", \"javascript\", \"javascript\", \"javascript\", \"javascript\", \"jersey\", \"jinja\", \"jinja\", \"job\", \"job\", \"join\", \"join\", \"joining\", \"joining\", \"jops\", \"jquery\", \"jquery\", \"jquery\", \"jquery\", \"jquery\", \"jrexception\", \"jrruntimeexception\", \"jsf\", \"json\", \"json\", \"json\", \"json\", \"json\", \"json\", \"json\", \"json\", \"json\", \"json\", \"jsonarray\", \"jsoup\", \"jsp\", \"junit\", \"jupyter\", \"jvm\", \"kafka\", \"kera\", \"key\", \"key\", \"key\", \"key\", \"key\", \"key\", \"keyboard\", \"keyerror\", \"keypress\", \"keyword\", \"keyword\", \"keywords\", \"kotlin\", \"kotlin\", \"label\", \"label\", \"lambda\", \"lang\", \"lang\", \"language\", \"laravel\", \"laravel\", \"laravel\", \"large\", \"large\", \"largest\", \"last\", \"last\", \"last\", \"last\", \"last\", \"launchscreen\", \"layer\", \"layout\", \"layout\", \"ldap\", \"ldap\", \"le\", \"le\", \"least\", \"left\", \"left\", \"legend\", \"length\", \"length\", \"length\", \"letter\", \"letter\", \"letter\", \"letter\", \"level\", \"level\", \"level\", \"li\", \"library\", \"library\", \"library\", \"library\", \"library\", \"like\", \"like\", \"like\", \"like\", \"limit\", \"limit\", \"limit\", \"limitation\", \"line\", \"line\", \"line\", \"line\", \"line\", \"line\", \"line\", \"line\", \"line\", \"line\", \"link\", \"link\", \"link\", \"linq\", \"linspace\", \"linux\", \"linux\", \"linux\", \"linux\", \"list\", \"list\", \"list\", \"list\", \"list\", \"list\", \"list\", \"list\", \"list\", \"list\", \"list\", \"list\", \"list\", \"list\", \"list\", \"list\", \"listbox\", \"listener\", \"listview\", \"literal\", \"livecharts\", \"load\", \"loadnibnamed\", \"loadnibnamed\", \"local\", \"local\", \"local\", \"local\", \"local\", \"localdatetime\", \"locale\", \"localhost\", \"location\", \"location\", \"lock\", \"log\", \"log\", \"logical\", \"login\", \"logo\", \"long\", \"long\", \"longest\", \"longpressgesturerecognizer\", \"loop\", \"loop\", \"loop\", \"loop\", \"loop\", \"lower\", \"mac\", \"machine\", \"macos\", \"macro\", \"mail\", \"mail\", \"mail\", \"main\", \"make\", \"manager\", \"manual\", \"many\", \"many\", \"many\", \"map\", \"map\", \"map\", \"mapbox\", \"mapping\", \"margin\", \"marker\", \"marker\", \"market\", \"massive\", \"massive\", \"match\", \"match\", \"matching\", \"material\", \"math\", \"matlab\", \"matlab\", \"matplotlib\", \"matrix\", \"matrix\", \"maven\", \"max\", \"maximum\", \"maximum\", \"maximum\", \"mb\", \"mbstring\", \"mean\", \"mean\", \"mean\", \"medium\", \"medium\", \"medium\", \"member\", \"member\", \"member\", \"member\", \"memory\", \"memory\", \"memory\", \"memory\", \"memory\", \"menu\", \"menu\", \"merge\", \"merge\", \"message\", \"message\", \"meta\", \"method\", \"method\", \"method\", \"method\", \"method\", \"method\", \"method\", \"method\", \"method\", \"method\", \"method\", \"method\", \"metric\", \"metric\", \"microservices\", \"microsoft\", \"microsoft\", \"migration\", \"min\", \"minimum\", \"minmaxscaler\", \"minus\", \"minute\", \"mismatch\", \"mlines\", \"mlines\", \"mm\", \"mobile\", \"mode\", \"model\", \"model\", \"model\", \"modern\", \"modifier\", \"modularity\", \"module\", \"module\", \"module\", \"module\", \"modulenotfounderror\", \"mongo\", \"mongodb\", \"mongodb\", \"mongodb\", \"mongodb\", \"mongodb\", \"mongoose\", \"month\", \"month\", \"mouse\", \"movement\", \"msbuild\", \"msbuild\", \"multi\", \"multidimensional\", \"multiple\", \"multiple\", \"multiple\", \"multiple\", \"multiple\", \"multiple\", \"multiple\", \"multiple\", \"multiple\", \"multiple\", \"multiple\", \"multiple\", \"multiple\", \"multiple\", \"multiple\", \"must\", \"must\", \"mutable\", \"mutate\", \"mutate\", \"mvc\", \"mvc\", \"mvc\", \"mysql\", \"mysql\", \"mysql\", \"mysql\", \"mysql\", \"mysql\", \"mysql\", \"mysql\", \"mysql\", \"mysqli\", \"mysqli\", \"mysqli\", \"mysqli\", \"na\", \"naked\", \"name\", \"name\", \"name\", \"name\", \"name\", \"name\", \"name\", \"name\", \"name\", \"name\", \"name\", \"name\", \"name\", \"name\", \"name\", \"name\", \"name\", \"namedtuples\", \"nan\", \"native\", \"navbar\", \"navigation\", \"near\", \"necessary\", \"need\", \"negative\", \"nested\", \"nested\", \"net\", \"net\", \"net\", \"net\", \"net\", \"net\", \"network\", \"network\", \"new\", \"new\", \"new\", \"new\", \"new\", \"new\", \"new\", \"newsinglethreadscheduledexecutor\", \"next\", \"ng\", \"node\", \"node\", \"node\", \"node\", \"node\", \"node\", \"node\", \"nodejs\", \"nodejs\", \"non\", \"non\", \"non\", \"non\", \"nonetype\", \"normal\", \"nosuchbeandefinitionexception\", \"nosuchmethoderror\", \"notation\", \"notebook\", \"notification\", \"notification\", \"notification\", \"np\", \"nsphotolibraryusagedescription\", \"nth\", \"null\", \"null\", \"null\", \"null\", \"null\", \"nullpointer\", \"nullpointerexception\", \"nullreferenceexception\", \"num\", \"number\", \"number\", \"number\", \"number\", \"number\", \"number\", \"number\", \"number\", \"number\", \"number\", \"number\", \"number\", \"number\", \"number\", \"numeric\", \"numeric\", \"numeric\", \"numpy\", \"object\", \"object\", \"object\", \"object\", \"object\", \"object\", \"object\", \"object\", \"object\", \"object\", \"object\", \"objective\", \"occurrence\", \"official\", \"official\", \"offline\", \"offset\", \"offsetof\", \"ol\", \"old\", \"old\", \"onchange\", \"onclick\", \"one\", \"one\", \"one\", \"one\", \"one\", \"one\", \"one\", \"one\", \"one\", \"one\", \"one\", \"one\", \"onto\", \"oop\", \"opacity\", \"opacity\", \"open\", \"opencv\", \"opengl\", \"openjdk\", \"openmp\", \"openmp\", \"openqa\", \"openssl\", \"operation\", \"operator\", \"operator\", \"operator\", \"operator\", \"operator\", \"optimization\", \"option\", \"option\", \"optional\", \"optional\", \"optional\", \"oracle\", \"oracle\", \"order\", \"order\", \"order\", \"order\", \"order\", \"org\", \"org\", \"org\", \"origin\", \"original\", \"os\", \"outlook\", \"output\", \"output\", \"output\", \"output\", \"output\", \"output\", \"output\", \"outside\", \"outside\", \"outside\", \"overlap\", \"overlap\", \"overload\", \"overloading\", \"override\", \"owner\", \"owner\", \"package\", \"package\", \"package\", \"package\", \"padding\", \"page\", \"page\", \"page\", \"page\", \"page\", \"page\", \"page\", \"page\", \"page\", \"pagesize\", \"pagesize\", \"panda\", \"panda\", \"panda\", \"panda\", \"panda\", \"panda\", \"panda\", \"panel\", \"panorama\", \"parallel\", \"parallel\", \"param\", \"parameter\", \"parameter\", \"parameter\", \"parameter\", \"params\", \"parent\", \"parent\", \"parent\", \"parenthesis\", \"parse\", \"parse\", \"parseexact\", \"parseexact\", \"partial\", \"particular\", \"particular\", \"pas\", \"password\", \"password\", \"path\", \"path\", \"path\", \"path\", \"path\", \"path\", \"path\", \"pattern\", \"pattern\", \"pattern\", \"pdf\", \"pdf\", \"pdf\", \"pdo\", \"peek\", \"percentage\", \"performance\", \"performance\", \"performance\", \"period\", \"perl\", \"permission\", \"permission\", \"permutation\", \"phone\", \"php\", \"php\", \"php\", \"php\", \"php\", \"php\", \"php\", \"php\", \"php\", \"php\", \"php\", \"php\", \"php\", \"php\", \"php\", \"php\", \"php\", \"php\", \"php\", \"php\", \"php\", \"php\", \"php\", \"picture\", \"pip\", \"pivot\", \"place\", \"place\", \"placeholder\", \"placement\", \"placement\", \"platform\", \"play\", \"player\", \"plot\", \"plot\", \"plot\", \"plot\", \"plot\", \"plugin\", \"plus\", \"point\", \"point\", \"pointer\", \"pointer\", \"pointer\", \"pointer\", \"pointer\", \"pointer\", \"popup\", \"portrait\", \"portrait\", \"portrait\", \"position\", \"position\", \"position\", \"positive\", \"possible\", \"possible\", \"possible\", \"possible\", \"possible\", \"possible\", \"possible\", \"post\", \"post\", \"post\", \"post\", \"postgres\", \"powershell\", \"practice\", \"pre\", \"pre\", \"precision\", \"prefix\", \"preg\", \"present\", \"press\", \"prevent\", \"preventdefault\", \"previous\", \"price\", \"price\", \"primary\", \"prime\", \"primitive\", \"print\", \"print\", \"print\", \"printf\", \"priority\", \"private\", \"private\", \"procedure\", \"process\", \"process\", \"process\", \"processing\", \"processtree\", \"processtree\", \"procfsmetricsgetter\", \"procfsmetricsgetter\", \"producer\", \"product\", \"profile\", \"program\", \"program\", \"program\", \"program\", \"program\", \"program\", \"program\", \"program\", \"program\", \"programming\", \"progress\", \"project\", \"project\", \"project\", \"project\", \"project\", \"project\", \"prominent\", \"prominent\", \"promise\", \"promise\", \"prompt\", \"prompt\", \"proper\", \"proper\", \"properly\", \"property\", \"property\", \"property\", \"property\", \"property\", \"property\", \"property\", \"property\", \"proxy\", \"ptr\", \"punctuation\", \"pure\", \"purpose\", \"purpose\", \"push\", \"push\", \"py\", \"pycharm\", \"pycurl\", \"pycurl\", \"pygame\", \"pygame\", \"pymongo\", \"pymongo\", \"pypi\", \"pyqt\", \"pyspark\", \"python\", \"python\", \"python\", \"python\", \"python\", \"python\", \"python\", \"python\", \"python\", \"python\", \"python\", \"python\", \"python\", \"python\", \"python\", \"python\", \"python\", \"python\", \"python\", \"python\", \"python\", \"python\", \"python\", \"python\", \"python\", \"python\", \"python\", \"python\", \"qr\", \"qt\", \"qt\", \"qtablewidget\", \"query\", \"query\", \"query\", \"query\", \"queue\", \"quote\", \"quote\", \"r\", \"r\", \"r\", \"r\", \"r\", \"r\", \"r\", \"r\", \"r\", \"r\", \"r\", \"r\", \"radio\", \"random\", \"random\", \"random\", \"random\", \"range\", \"range\", \"range\", \"raw\", \"react\", \"react\", \"react\", \"react\", \"react\", \"react\", \"react\", \"reaction\", \"reaction\", \"reactive\", \"reactiveui\", \"reactjs\", \"read\", \"read\", \"real\", \"real\", \"real\", \"realtime\", \"recall\", \"recognition\", \"recognition\", \"record\", \"rectangle\", \"recursion\", \"recyclerview\", \"recyclerview\", \"redirect\", \"reentrant\", \"ref\", \"reference\", \"reference\", \"reference\", \"reference\", \"reference\", \"reference\", \"referenceerror\", \"reflection\", \"refreshes\", \"regcopytree\", \"regex\", \"regex\", \"regex\", \"regex\", \"regex\", \"regex\", \"regex\", \"regex\", \"regex\", \"regex\", \"regex\", \"regexp\", \"regular\", \"regular\", \"regular\", \"relationship\", \"relevant\", \"reload\", \"remote\", \"remove\", \"render\", \"repeat\", \"replace\", \"replace\", \"report\", \"reporting\", \"reporting\", \"repository\", \"representation\", \"request\", \"request\", \"request\", \"request\", \"request\", \"request\", \"request\", \"require\", \"required\", \"resource\", \"respect\", \"response\", \"response\", \"response\", \"response\", \"response\", \"responsive\", \"responsive\", \"responsiveness\", \"rest\", \"result\", \"result\", \"result\", \"result\", \"result\", \"result\", \"result\", \"result\", \"result\", \"result\", \"return\", \"return\", \"return\", \"return\", \"return\", \"return\", \"reverse\", \"reverse\", \"revert\", \"revert\", \"rgb\", \"richtextbox\", \"richtextbox\", \"right\", \"right\", \"right\", \"rmarkdown\", \"rmd\", \"root\", \"rootlocalhost\", \"route\", \"route\", \"router\", \"row\", \"row\", \"row\", \"row\", \"row\", \"row\", \"row\", \"row\", \"row\", \"row\", \"row\", \"rubbish\", \"ruby\", \"rule\", \"run\", \"rust\", \"rxjava\", \"safe\", \"save\", \"scala\", \"scala\", \"scanf\", \"scanner\", \"scatter\", \"scatter\", \"scatter\", \"scene\", \"schema\", \"scipy\", \"screen\", \"screen\", \"screen\", \"script\", \"script\", \"script\", \"script\", \"script\", \"scroll\", \"scroll\", \"sdk\", \"sdk\", \"search\", \"search\", \"search\", \"sec\", \"second\", \"second\", \"second\", \"second\", \"second\", \"security\", \"segment\", \"segmentation\", \"select\", \"select\", \"select\", \"select\", \"selection\", \"selector\", \"selector\", \"selenium\", \"selenium\", \"selenium\", \"selenium\", \"selenium\", \"self\", \"send\", \"send\", \"sentence\", \"separate\", \"separate\", \"sequence\", \"series\", \"series\", \"server\", \"server\", \"server\", \"server\", \"server\", \"server\", \"service\", \"service\", \"servlet\", \"servletresponse\", \"session\", \"set\", \"set\", \"set\", \"set\", \"setimageuri\", \"setstate\", \"setting\", \"setup\", \"setuptools\", \"several\", \"sf\", \"shape\", \"share\", \"sheet\", \"shell\", \"shell\", \"shift\", \"shiny\", \"shortest\", \"show\", \"show\", \"sibling\", \"side\", \"sign\", \"signature\", \"signify\", \"similar\", \"similarity\", \"simple\", \"simple\", \"simple\", \"simple\", \"simple\", \"simpledateformat\", \"since\", \"single\", \"single\", \"single\", \"single\", \"singleton\", \"site\", \"size\", \"size\", \"size\", \"size\", \"size\", \"slow\", \"slower\", \"smart\", \"social\", \"socket\", \"socket\", \"software\", \"solution\", \"someone\", \"sort\", \"sort\", \"sort\", \"sort\", \"sound\", \"source\", \"source\", \"source\", \"source\", \"source\", \"space\", \"space\", \"spark\", \"spark\", \"spark\", \"special\", \"specific\", \"specific\", \"specific\", \"specific\", \"specific\", \"specific\", \"specific\", \"speech\", \"speed\", \"spinner\", \"spinner\", \"split\", \"split\", \"spring\", \"spring\", \"springboot\", \"springframework\", \"sql\", \"sql\", \"sql\", \"sql\", \"sql\", \"sql\", \"sql\", \"sql\", \"sql\", \"sql\", \"sql\", \"sqlalchemy\", \"sqlite\", \"sqlstate\", \"square\", \"ssa\", \"ssh\", \"ssl\", \"stack\", \"stack\", \"stack\", \"standalone\", \"standard\", \"star\", \"start\", \"start\", \"start\", \"state\", \"state\", \"state\", \"statement\", \"statement\", \"statement\", \"statement\", \"statement\", \"statement\", \"statement\", \"static\", \"static\", \"static\", \"static\", \"status\", \"std\", \"std\", \"std\", \"std\", \"step\", \"storage\", \"storage\", \"store\", \"store\", \"stored\", \"str\", \"strange\", \"strange\", \"strcmp\", \"strcpy\", \"stream\", \"stream\", \"stream\", \"stream\", \"stream\", \"street\", \"string\", \"string\", \"string\", \"string\", \"string\", \"string\", \"string\", \"string\", \"string\", \"string\", \"string\", \"string\", \"string\", \"string\", \"string\", \"string\", \"string\", \"string\", \"string\", \"string\", \"string\", \"strtolower\", \"struct\", \"structure\", \"structure\", \"studio\", \"studio\", \"style\", \"style\", \"style\", \"style\", \"style\", \"stylecop\", \"stylesheet\", \"sub\", \"sublime\", \"submit\", \"submit\", \"subset\", \"substitute\", \"substring\", \"subtracting\", \"subtraction\", \"success\", \"sudo\", \"sum\", \"support\", \"suspicious\", \"svg\", \"swapinterval\", \"swift\", \"swift\", \"swift\", \"swift\", \"swift\", \"swift\", \"swift\", \"swift\", \"swift\", \"swift\", \"swift\", \"swift\", \"swipe\", \"switch\", \"symbol\", \"symbol\", \"symbol\", \"synonym\", \"syntax\", \"syntax\", \"syntax\", \"syntaxerror\", \"sys\", \"system\", \"system\", \"system\", \"tab\", \"tab\", \"table\", \"table\", \"table\", \"table\", \"table\", \"table\", \"table\", \"table\", \"table\", \"tableview\", \"tac\", \"tag\", \"tag\", \"tag\", \"tag\", \"target\", \"task\", \"task\", \"task\", \"telegram\", \"template\", \"template\", \"template\", \"tensorflow\", \"term\", \"terminal\", \"terminator\", \"terminator\", \"test\", \"text\", \"text\", \"text\", \"text\", \"text\", \"text\", \"text\", \"text\", \"text\", \"text\", \"text\", \"text\", \"textbox\", \"textfield\", \"th\", \"thing\", \"though\", \"thread\", \"thread\", \"thread\", \"thread\", \"thread\", \"three\", \"throw\", \"tic\", \"tick\", \"tick\", \"time\", \"time\", \"time\", \"time\", \"time\", \"time\", \"time\", \"time\", \"time\", \"time\", \"time\", \"time\", \"timestamp\", \"timestamp\", \"title\", \"title\", \"tkinter\", \"today\", \"toe\", \"toggle\", \"token\", \"token\", \"tool\", \"tool\", \"top\", \"top\", \"transaction\", \"transform\", \"tree\", \"triangle\", \"trigger\", \"trigger\", \"trouble\", \"true\", \"true\", \"true\", \"try\", \"tuples\", \"turn\", \"tutorial\", \"two\", \"two\", \"two\", \"two\", \"two\", \"two\", \"two\", \"two\", \"txt\", \"type\", \"type\", \"type\", \"type\", \"type\", \"type\", \"type\", \"type\", \"type\", \"type\", \"type\", \"type\", \"type\", \"type\", \"type\", \"type\", \"type\", \"type\", \"typed\", \"typedef\", \"typeerror\", \"typeorm\", \"typeorm\", \"typescript\", \"typescript\", \"ubuntu\", \"ui\", \"ui\", \"uialertcontroller\", \"uilabel\", \"uitableview\", \"uiview\", \"unable\", \"unable\", \"unable\", \"unable\", \"unable\", \"unable\", \"unable\", \"unable\", \"uncaught\", \"undeclared\", \"undefined\", \"undefined\", \"undefined\", \"undefined\", \"undefined\", \"undefined\", \"undefined\", \"undefined\", \"underline\", \"underscore\", \"understanding\", \"unexpected\", \"unexpected\", \"unexpected\", \"unexpected\", \"unicode\", \"unique\", \"unique\", \"unique\", \"unit\", \"unity\", \"unity\", \"unity\", \"unity\", \"unity\", \"unix\", \"unknown\", \"unknown\", \"unknown\", \"unmodifiable\", \"unmodifiable\", \"unrecognized\", \"unrecognized\", \"unresolved\", \"unresolved\", \"unsigned\", \"update\", \"update\", \"upload\", \"upload\", \"uri\", \"url\", \"url\", \"url\", \"url\", \"usage\", \"usage\", \"use\", \"use\", \"use\", \"use\", \"use\", \"use\", \"use\", \"use\", \"use\", \"use\", \"user\", \"user\", \"user\", \"user\", \"user\", \"user\", \"user\", \"username\", \"username\", \"utc\", \"utf\", \"util\", \"valid\", \"validate\", \"validation\", \"validation\", \"validation\", \"value\", \"value\", \"value\", \"value\", \"value\", \"value\", \"value\", \"value\", \"value\", \"value\", \"value\", \"value\", \"value\", \"value\", \"value\", \"vanilla\", \"variable\", \"variable\", \"variable\", \"variable\", \"variable\", \"variable\", \"variable\", \"variable\", \"variable\", \"variable\", \"variable\", \"variable\", \"variable\", \"variable\", \"variable\", \"variable\", \"variable\", \"variable\", \"variable\", \"variant\", \"vba\", \"vector\", \"vector\", \"vector\", \"vendor\", \"version\", \"version\", \"versus\", \"vertical\", \"vertical\", \"vertical\", \"via\", \"via\", \"video\", \"video\", \"video\", \"view\", \"view\", \"view\", \"view\", \"view\", \"viewcontroller\", \"viewpager\", \"viewpager\", \"violation\", \"virtual\", \"virtualbox\", \"visible\", \"visual\", \"visual\", \"vm\", \"vm\", \"void\", \"void\", \"volume\", \"volume\", \"vue\", \"vue\", \"vue\", \"vuejs\", \"wait\", \"warn\", \"warn\", \"warning\", \"wav\", \"way\", \"way\", \"way\", \"way\", \"way\", \"way\", \"way\", \"way\", \"way\", \"web\", \"web\", \"web\", \"web\", \"web\", \"webapp\", \"webapplication\", \"webapplication\", \"webdriver\", \"webpage\", \"website\", \"website\", \"website\", \"website\", \"websocket\", \"webview\", \"weird\", \"whats\", \"wheel\", \"whether\", \"white\", \"widget\", \"widget\", \"width\", \"win\", \"window\", \"window\", \"window\", \"window\", \"window\", \"window\", \"window\", \"window\", \"window\", \"window\", \"winform\", \"wise\", \"within\", \"within\", \"within\", \"within\", \"within\", \"without\", \"without\", \"without\", \"without\", \"without\", \"without\", \"without\", \"without\", \"without\", \"without\", \"without\", \"without\", \"wont\", \"woocommerce\", \"woocommerce\", \"word\", \"word\", \"word\", \"word\", \"wordlist\", \"wordlist\", \"work\", \"work\", \"work\", \"work\", \"work\", \"working\", \"would\", \"would\", \"wow\", \"wow\", \"wpf\", \"wpf\", \"wrap\", \"write\", \"wrong\", \"wrong\", \"wrong\", \"xamarin\", \"xampp\", \"xcode\", \"xcode\", \"xml\", \"xml\", \"xmlhttprequest\", \"xmlunit\", \"yahoo\", \"yaml\", \"year\", \"year\", \"yyyy\", \"zero\", \"zip\", \"zipfile\", \"zipfile\", \"zoom\"]}, \"R\": 30, \"lambda.step\": 0.01, \"plot.opts\": {\"xlab\": \"PC1\", \"ylab\": \"PC2\"}, \"topic.order\": [6, 28, 20, 50, 41, 46, 22, 7, 39, 10, 35, 11, 40, 15, 29, 24, 33, 3, 30, 13, 4, 36, 2, 19, 17, 26, 8, 43, 21, 34, 32, 9, 31, 44, 14, 18, 48, 38, 1, 37, 42, 47, 45, 16, 12, 23, 25, 27, 5, 49]};\n",
              "\n",
              "function LDAvis_load_lib(url, callback){\n",
              "  var s = document.createElement('script');\n",
              "  s.src = url;\n",
              "  s.async = true;\n",
              "  s.onreadystatechange = s.onload = callback;\n",
              "  s.onerror = function(){console.warn(\"failed to load library \" + url);};\n",
              "  document.getElementsByTagName(\"head\")[0].appendChild(s);\n",
              "}\n",
              "\n",
              "if(typeof(LDAvis) !== \"undefined\"){\n",
              "   // already loaded: just create the visualization\n",
              "   !function(LDAvis){\n",
              "       new LDAvis(\"#\" + \"ldavis_el601399886665218088437794469\", ldavis_el601399886665218088437794469_data);\n",
              "   }(LDAvis);\n",
              "}else if(typeof define === \"function\" && define.amd){\n",
              "   // require.js is available: use it to load d3/LDAvis\n",
              "   require.config({paths: {d3: \"https://d3js.org/d3.v5\"}});\n",
              "   require([\"d3\"], function(d3){\n",
              "      window.d3 = d3;\n",
              "      LDAvis_load_lib(\"https://cdn.jsdelivr.net/gh/bmabey/pyLDAvis@3.3.1/pyLDAvis/js/ldavis.v3.0.0.js\", function(){\n",
              "        new LDAvis(\"#\" + \"ldavis_el601399886665218088437794469\", ldavis_el601399886665218088437794469_data);\n",
              "      });\n",
              "    });\n",
              "}else{\n",
              "    // require.js not available: dynamically load d3 & LDAvis\n",
              "    LDAvis_load_lib(\"https://d3js.org/d3.v5.js\", function(){\n",
              "         LDAvis_load_lib(\"https://cdn.jsdelivr.net/gh/bmabey/pyLDAvis@3.3.1/pyLDAvis/js/ldavis.v3.0.0.js\", function(){\n",
              "                 new LDAvis(\"#\" + \"ldavis_el601399886665218088437794469\", ldavis_el601399886665218088437794469_data);\n",
              "            })\n",
              "         });\n",
              "}\n",
              "</script>"
            ],
            "text/plain": [
              "PreparedData(topic_coordinates=              x         y  topics  cluster      Freq\n",
              "topic                                               \n",
              "5      0.072228 -0.165035       1        1  6.345638\n",
              "27     0.146874  0.035157       2        1  5.984333\n",
              "19     0.123485  0.015319       3        1  5.846707\n",
              "49     0.090234  0.041521       4        1  4.436255\n",
              "40     0.041610  0.018007       5        1  4.254793\n",
              "45     0.030030  0.003162       6        1  4.126424\n",
              "21     0.012602 -0.032437       7        1  3.377381\n",
              "6      0.007271 -0.018006       8        1  2.674243\n",
              "38    -0.025578 -0.010662       9        1  2.597923\n",
              "9      0.003140  0.014407      10        1  2.567082\n",
              "34     0.002261  0.028995      11        1  2.481296\n",
              "10    -0.000551 -0.019153      12        1  2.385948\n",
              "39    -0.000875  0.051757      13        1  2.325241\n",
              "14    -0.020609 -0.000106      14        1  2.169584\n",
              "28     0.007734  0.005956      15        1  2.008008\n",
              "23     0.001389 -0.006072      16        1  1.912490\n",
              "32     0.007711  0.001913      17        1  1.874007\n",
              "2     -0.004510  0.035188      18        1  1.869880\n",
              "29    -0.026424 -0.014227      19        1  1.789443\n",
              "12    -0.022206  0.008927      20        1  1.683538\n",
              "3     -0.002775 -0.005080      21        1  1.593380\n",
              "35    -0.003934  0.000024      22        1  1.569221\n",
              "1     -0.020713  0.011174      23        1  1.556968\n",
              "18    -0.033773 -0.004410      24        1  1.549352\n",
              "16     0.004581  0.002580      25        1  1.546091\n",
              "25    -0.013010  0.005062      26        1  1.527905\n",
              "7     -0.023794 -0.002872      27        1  1.472269\n",
              "42    -0.014790  0.036989      28        1  1.462471\n",
              "20    -0.025524  0.006094      29        1  1.454622\n",
              "33    -0.012096  0.001884      30        1  1.450825\n",
              "31    -0.008930 -0.019075      31        1  1.423127\n",
              "8     -0.017804 -0.016536      32        1  1.380335\n",
              "30    -0.007910  0.000343      33        1  1.354846\n",
              "43    -0.013915  0.000824      34        1  1.310070\n",
              "13    -0.016111 -0.011957      35        1  1.254114\n",
              "17     0.000584  0.010101      36        1  1.247252\n",
              "47    -0.023618 -0.003655      37        1  1.212108\n",
              "37    -0.012592 -0.005064      38        1  1.191998\n",
              "0     -0.005322  0.002390      39        1  1.175969\n",
              "36    -0.029737 -0.009574      40        1  1.167847\n",
              "41    -0.012861  0.002951      41        1  1.060016\n",
              "46    -0.026441  0.006568      42        1  1.028041\n",
              "44    -0.003842  0.014938      43        1  1.026271\n",
              "15    -0.008279 -0.004580      44        1  0.988321\n",
              "11    -0.016546 -0.005651      45        1  0.976454\n",
              "22    -0.020699  0.000147      46        1  0.971946\n",
              "24    -0.015491 -0.002549      47        1  0.963054\n",
              "26    -0.028438 -0.009140      48        1  0.896380\n",
              "4     -0.016905  0.003723      49        1  0.839544\n",
              "48    -0.015132 -0.000260      50        1  0.638990, topic_info=           Term        Freq       Total Category  logprob  loglift\n",
              "24            c  254.000000  254.000000  Default  30.0000  30.0000\n",
              "16        value  199.000000  199.000000  Default  29.0000  29.0000\n",
              "65   javascript  142.000000  142.000000  Default  28.0000  28.0000\n",
              "9         error  136.000000  136.000000  Default  27.0000  27.0000\n",
              "21        array  171.000000  171.000000  Default  26.0000  26.0000\n",
              "..          ...         ...         ...      ...      ...      ...\n",
              "11       python    0.333548  171.765735  Topic50  -6.3947  -1.1911\n",
              "120        code    0.282533   64.989612  Topic50  -6.5607  -0.3851\n",
              "826      thread    0.224668   29.155182  Topic50  -6.7899   0.1873\n",
              "16        value    0.235963  199.417601  Topic50  -6.7408  -1.6864\n",
              "152    variable    0.207240  104.435043  Topic50  -6.8706  -1.1694\n",
              "\n",
              "[2063 rows x 6 columns], token_table=      Topic      Freq         Term\n",
              "term                              \n",
              "274      50  0.181824         able\n",
              "1582     19  0.167012     absolute\n",
              "4285      6  0.309935  accelerated\n",
              "1424     11  0.312849       accent\n",
              "389       4  0.427331       access\n",
              "...     ...       ...          ...\n",
              "761      43  0.288585         zero\n",
              "52       31  0.304291          zip\n",
              "4401      5  0.167465      zipfile\n",
              "4401     12  0.167465      zipfile\n",
              "2689     29  0.285751         zoom\n",
              "\n",
              "[2963 rows x 3 columns], R=30, lambda_step=0.01, plot_opts={'xlab': 'PC1', 'ylab': 'PC2'}, topic_order=[6, 28, 20, 50, 41, 46, 22, 7, 39, 10, 35, 11, 40, 15, 29, 24, 33, 3, 30, 13, 4, 36, 2, 19, 17, 26, 8, 43, 21, 34, 32, 9, 31, 44, 14, 18, 48, 38, 1, 37, 42, 47, 45, 16, 12, 23, 25, 27, 5, 49])"
            ]
          },
          "metadata": {
            "tags": []
          },
          "execution_count": 112
        }
      ]
    },
    {
      "cell_type": "markdown",
      "metadata": {
        "id": "8X2ggKRExRzP"
      },
      "source": [
        "#2/ Approche supervisée :"
      ]
    },
    {
      "cell_type": "markdown",
      "metadata": {
        "id": "oYzm2fWX2-hG"
      },
      "source": [
        "#-Préparation des données"
      ]
    },
    {
      "cell_type": "code",
      "metadata": {
        "id": "fsrxcCDW5guu"
      },
      "source": [
        "df['Body_Title'] = df['Body_2'] + df['Title_2']"
      ],
      "execution_count": null,
      "outputs": []
    },
    {
      "cell_type": "code",
      "metadata": {
        "id": "9qVZndac2zwW"
      },
      "source": [
        "X = df[['Body_Title']]"
      ],
      "execution_count": null,
      "outputs": []
    },
    {
      "cell_type": "code",
      "metadata": {
        "id": "2yXLewKY2zwY"
      },
      "source": [
        "y = df['Tags_2']\n",
        "y = y.str.replace(\"[\", \"\")\n",
        "y = y.str.replace(\"]\", \"\")\n",
        "y = y.str.replace(\"'\", \"\")"
      ],
      "execution_count": null,
      "outputs": []
    },
    {
      "cell_type": "code",
      "metadata": {
        "id": "BDxWU6F41ykT"
      },
      "source": [
        "mlb = MultiLabelBinarizer()\n",
        "y_bin = mlb.fit_transform(y.str.split(', '))"
      ],
      "execution_count": null,
      "outputs": []
    },
    {
      "cell_type": "code",
      "metadata": {
        "id": "ewvSCs4MMjTV"
      },
      "source": [
        "##Sauvegarde du multilabelbinarizer\n",
        "with open('/content/drive/MyDrive/Colab Notebooks/Projet 6/files/Supervised/mlb.pkl','wb') as f:\n",
        "    pickle.dump(mlb, f)"
      ],
      "execution_count": null,
      "outputs": []
    },
    {
      "cell_type": "code",
      "metadata": {
        "colab": {
          "base_uri": "https://localhost:8080/"
        },
        "id": "SlbsYP2fi34_",
        "outputId": "a2d0414e-915e-444c-b77f-3dbe51bcea7d"
      },
      "source": [
        "list(mlb.classes_)"
      ],
      "execution_count": null,
      "outputs": [
        {
          "output_type": "execute_result",
          "data": {
            "text/plain": [
              "['.net',\n",
              " 'algorithm',\n",
              " 'android',\n",
              " 'angular',\n",
              " 'angularjs',\n",
              " 'apache-spark',\n",
              " 'arrays',\n",
              " 'asp.net',\n",
              " 'asp.net-mvc',\n",
              " 'bash',\n",
              " 'c',\n",
              " 'c#',\n",
              " 'c++',\n",
              " 'css',\n",
              " 'dataframe',\n",
              " 'date',\n",
              " 'excel',\n",
              " 'firebase',\n",
              " 'flask',\n",
              " 'html',\n",
              " 'ios',\n",
              " 'java',\n",
              " 'javascript',\n",
              " 'jquery',\n",
              " 'json',\n",
              " 'laravel',\n",
              " 'linux',\n",
              " 'list',\n",
              " 'mongodb',\n",
              " 'mysql',\n",
              " 'node.js',\n",
              " 'numpy',\n",
              " 'pandas',\n",
              " 'php',\n",
              " 'python',\n",
              " 'python-2.7',\n",
              " 'python-3.x',\n",
              " 'r',\n",
              " 'reactjs',\n",
              " 'regex',\n",
              " 'rust',\n",
              " 'selenium',\n",
              " 'shell',\n",
              " 'spring',\n",
              " 'sql',\n",
              " 'sql-server',\n",
              " 'string',\n",
              " 'swift',\n",
              " 'typescript',\n",
              " 'windows']"
            ]
          },
          "metadata": {
            "tags": []
          },
          "execution_count": 13
        }
      ]
    },
    {
      "cell_type": "code",
      "metadata": {
        "colab": {
          "base_uri": "https://localhost:8080/"
        },
        "id": "TRWjaxp5cQk1",
        "outputId": "fb674af3-093c-4981-e0a5-c6a561d78e4e"
      },
      "source": [
        "y_bin.shape"
      ],
      "execution_count": null,
      "outputs": [
        {
          "output_type": "execute_result",
          "data": {
            "text/plain": [
              "(168931, 50)"
            ]
          },
          "metadata": {
            "tags": []
          },
          "execution_count": 57
        }
      ]
    },
    {
      "cell_type": "markdown",
      "metadata": {
        "id": "1_9tT2frEyO0"
      },
      "source": [
        "##Train Test Split"
      ]
    },
    {
      "cell_type": "code",
      "metadata": {
        "id": "8BvTvIdB3qnc"
      },
      "source": [
        "X_train, X_test, y_train, y_test = train_test_split(X, y_bin, test_size = 0.2, train_size = 0.8, random_state = 42)"
      ],
      "execution_count": null,
      "outputs": []
    },
    {
      "cell_type": "code",
      "metadata": {
        "colab": {
          "base_uri": "https://localhost:8080/"
        },
        "id": "yUrSG7zD3qng",
        "outputId": "a60f9a91-7a89-42d9-9734-3548ea19af09"
      },
      "source": [
        "X_train.shape, X_test.shape, y_train.shape, y_test.shape"
      ],
      "execution_count": null,
      "outputs": [
        {
          "output_type": "execute_result",
          "data": {
            "text/plain": [
              "((135144, 1), (33787, 1), (135144, 50), (33787, 50))"
            ]
          },
          "metadata": {
            "tags": []
          },
          "execution_count": 15
        }
      ]
    },
    {
      "cell_type": "code",
      "metadata": {
        "id": "1pp0hUcy3-vE"
      },
      "source": [
        "X_train_5, X_test_5, y_train_5, y_test_5 = train_test_split(X_train, y_train, test_size = 0.95, random_state = 42)"
      ],
      "execution_count": null,
      "outputs": []
    },
    {
      "cell_type": "code",
      "metadata": {
        "colab": {
          "base_uri": "https://localhost:8080/"
        },
        "id": "OD5cupo33-vG",
        "outputId": "f8c3d68b-97f5-4056-8dd2-53d374937512"
      },
      "source": [
        "X_train_5.shape, y_train_5.shape"
      ],
      "execution_count": null,
      "outputs": [
        {
          "output_type": "execute_result",
          "data": {
            "text/plain": [
              "((6757, 1), (6757, 50))"
            ]
          },
          "metadata": {
            "tags": []
          },
          "execution_count": 17
        }
      ]
    },
    {
      "cell_type": "markdown",
      "metadata": {
        "id": "6j1apCG7Z0cE"
      },
      "source": [
        "Sauvegarde des Split"
      ]
    },
    {
      "cell_type": "code",
      "metadata": {
        "id": "M5zf86lGZyWr"
      },
      "source": [
        "with open('/content/drive/MyDrive/Colab Notebooks/Projet 6/files/Supervised/X_train.pkl','wb') as f:\n",
        "    pickle.dump(X_train, f)"
      ],
      "execution_count": null,
      "outputs": []
    },
    {
      "cell_type": "code",
      "metadata": {
        "id": "Y6MEcO8laXS4"
      },
      "source": [
        "with open('/content/drive/MyDrive/Colab Notebooks/Projet 6/files/Supervised/X_test.pkl','wb') as f:\n",
        "    pickle.dump(X_test, f)"
      ],
      "execution_count": null,
      "outputs": []
    },
    {
      "cell_type": "code",
      "metadata": {
        "id": "2URFRTMcadnN"
      },
      "source": [
        "with open('/content/drive/MyDrive/Colab Notebooks/Projet 6/files/Supervised/y_train.pkl','wb') as f:\n",
        "    pickle.dump(y_train, f)"
      ],
      "execution_count": null,
      "outputs": []
    },
    {
      "cell_type": "code",
      "metadata": {
        "id": "JQSynfYRadrb"
      },
      "source": [
        "with open('/content/drive/MyDrive/Colab Notebooks/Projet 6/files/Supervised/y_test.pkl','wb') as f:\n",
        "    pickle.dump(y_test, f)"
      ],
      "execution_count": null,
      "outputs": []
    },
    {
      "cell_type": "code",
      "metadata": {
        "id": "1TUbe47Ia7wg"
      },
      "source": [
        "with open('/content/drive/MyDrive/Colab Notebooks/Projet 6/files/Supervised/Train_5/X_train_5.pkl','wb') as f:\n",
        "    pickle.dump(X_train_5, f)"
      ],
      "execution_count": null,
      "outputs": []
    },
    {
      "cell_type": "code",
      "metadata": {
        "id": "FuuwndWZa-8-"
      },
      "source": [
        "with open('/content/drive/MyDrive/Colab Notebooks/Projet 6/files/Supervised/Train_5/y_train_5.pkl','wb') as f:\n",
        "    pickle.dump(y_train_5, f)"
      ],
      "execution_count": null,
      "outputs": []
    },
    {
      "cell_type": "markdown",
      "metadata": {
        "id": "GBQu7-32E6gZ"
      },
      "source": [
        "## TF-IDF sur la variable 'Body_Title'\n",
        "\n",
        "\n",
        "\n",
        "\n",
        "\n",
        "\n",
        "\n",
        "\n",
        "\n",
        "\n",
        "\n",
        "\n",
        "\n",
        "\n"
      ]
    },
    {
      "cell_type": "code",
      "metadata": {
        "id": "fndusGuoxuJd"
      },
      "source": [
        "vectorizer = TfidfVectorizer(analyzer = 'word',\n",
        "                                       min_df = 10,\n",
        "                                       max_df = 0.3,\n",
        "                                       strip_accents = None,\n",
        "                                       encoding = 'utf-8', \n",
        "                                       preprocessor = None,\n",
        "                                       token_pattern = r\"(?u)\\S\\S+\")\n",
        "train_tf = vectorizer.fit_transform(X_train_5['Body_Title'])\n",
        "test_tf = vectorizer.transform(X_test['Body_Title'].values.astype('U'))"
      ],
      "execution_count": null,
      "outputs": []
    },
    {
      "cell_type": "code",
      "metadata": {
        "id": "LgytIthsWtXS"
      },
      "source": [
        "##Sauvegarde du Tf-IDF\n",
        "with open('/content/drive/MyDrive/Colab Notebooks/Projet 6/files/Supervised/Train_5/TF-IDF.pkl','wb') as f:\n",
        "    pickle.dump(vectorizer, f)"
      ],
      "execution_count": null,
      "outputs": []
    },
    {
      "cell_type": "code",
      "metadata": {
        "colab": {
          "base_uri": "https://localhost:8080/"
        },
        "id": "iqpPr1hlcfcz",
        "outputId": "d7b63a7c-b1f5-4391-c26d-a62343be7b1c"
      },
      "source": [
        "train_tf.shape"
      ],
      "execution_count": null,
      "outputs": [
        {
          "output_type": "execute_result",
          "data": {
            "text/plain": [
              "(6757, 1510)"
            ]
          },
          "metadata": {
            "tags": []
          },
          "execution_count": 70
        }
      ]
    },
    {
      "cell_type": "code",
      "metadata": {
        "id": "987n6hs6m5I8"
      },
      "source": [
        "body_title_5_train_df = pd.DataFrame(train_tf.todense(), columns = vectorizer.get_feature_names())"
      ],
      "execution_count": null,
      "outputs": []
    },
    {
      "cell_type": "markdown",
      "metadata": {
        "id": "E13lckoiXPrq"
      },
      "source": [
        "##PCA : Principal Component Analysis"
      ]
    },
    {
      "cell_type": "code",
      "metadata": {
        "colab": {
          "base_uri": "https://localhost:8080/"
        },
        "id": "hlBwgjV3uqWw",
        "outputId": "a1cc9e72-e4d1-4dfe-eef7-c5515114327c"
      },
      "source": [
        "pca = PCA(.80)\n",
        "pca.fit(body_title_5_train_df)"
      ],
      "execution_count": null,
      "outputs": [
        {
          "output_type": "execute_result",
          "data": {
            "text/plain": [
              "PCA(copy=True, iterated_power='auto', n_components=0.8, random_state=None,\n",
              "    svd_solver='auto', tol=0.0, whiten=False)"
            ]
          },
          "metadata": {
            "tags": []
          },
          "execution_count": 73
        }
      ]
    },
    {
      "cell_type": "code",
      "metadata": {
        "id": "B2JQAsMzXJe2"
      },
      "source": [
        "##Sauvegarde du PCA\n",
        "with open('/content/drive/MyDrive/Colab Notebooks/Projet 6/files/Supervised/Train_5/PCA_5.pkl','wb') as f:\n",
        "    pickle.dump(pca, f)"
      ],
      "execution_count": null,
      "outputs": []
    },
    {
      "cell_type": "code",
      "metadata": {
        "colab": {
          "base_uri": "https://localhost:8080/"
        },
        "id": "WZPxB9ihwKHh",
        "outputId": "f8f58295-3f63-4df2-cda4-cea7cf710091"
      },
      "source": [
        "body_title_train_5_PCA = pca.transform(body_title_5_train_df)\n",
        "body_title_train_5_PCA.shape"
      ],
      "execution_count": null,
      "outputs": [
        {
          "output_type": "execute_result",
          "data": {
            "text/plain": [
              "(6757, 586)"
            ]
          },
          "metadata": {
            "tags": []
          },
          "execution_count": 76
        }
      ]
    },
    {
      "cell_type": "code",
      "metadata": {
        "id": "rs1-mvx6bJSv"
      },
      "source": [
        "with open('/content/drive/MyDrive/Colab Notebooks/Projet 6/files/Supervised/Train_5/train_PCA_5.pkl','wb') as f:\n",
        "    pickle.dump(body_title_train_5_PCA, f)"
      ],
      "execution_count": null,
      "outputs": []
    },
    {
      "cell_type": "markdown",
      "metadata": {
        "id": "kWjZKKc6FJDR"
      },
      "source": [
        "#-Modélisation"
      ]
    },
    {
      "cell_type": "code",
      "metadata": {
        "id": "mBJY0bX_xhcx"
      },
      "source": [
        "LR_model = LogisticRegression()\n",
        "RFC_model = RandomForestClassifier()\n",
        "XGB_model = xgb.XGBClassifier()"
      ],
      "execution_count": null,
      "outputs": []
    },
    {
      "cell_type": "markdown",
      "metadata": {
        "id": "m1K6cGZEGoWf"
      },
      "source": [
        "##Optimisation des hyperparamètres"
      ]
    },
    {
      "cell_type": "markdown",
      "metadata": {
        "id": "Le6qSGtqJcCy"
      },
      "source": [
        "###XGBOOST"
      ]
    },
    {
      "cell_type": "code",
      "metadata": {
        "id": "mj30acxJJ5Zk",
        "colab": {
          "base_uri": "https://localhost:8080/"
        },
        "outputId": "6d78c9bd-6fa0-49aa-914d-4b349981d9e5"
      },
      "source": [
        "%%time\n",
        "params = {'estimator__min_child_weight': [2, 4],\n",
        "        'estimator__gamma': [0.5, 1],\n",
        "        'estimator__max_depth': [2, 4]\n",
        "        }\n",
        "\n",
        "xgb_2 = OneVsRestClassifier(xgb.XGBClassifier())\n",
        "grid_xgb = GridSearchCV(estimator = xgb_2, param_grid = params, cv = 3)\n",
        "grid_xgb.fit(title_train_PCA, y_train_5)"
      ],
      "execution_count": null,
      "outputs": [
        {
          "output_type": "stream",
          "text": [
            "CPU times: user 4h 35min 59s, sys: 21.8 s, total: 4h 36min 21s\n",
            "Wall time: 4h 35min 3s\n"
          ],
          "name": "stdout"
        }
      ]
    },
    {
      "cell_type": "code",
      "metadata": {
        "id": "_EShXRI7RDIw",
        "colab": {
          "base_uri": "https://localhost:8080/"
        },
        "outputId": "fe178eec-c079-4d3d-d69a-e1644853d718"
      },
      "source": [
        "grid_xgb.best_score_"
      ],
      "execution_count": null,
      "outputs": [
        {
          "output_type": "execute_result",
          "data": {
            "text/plain": [
              "0.1667891925955183"
            ]
          },
          "metadata": {
            "tags": []
          },
          "execution_count": 33
        }
      ]
    },
    {
      "cell_type": "code",
      "metadata": {
        "id": "HCxMVKE9K2KY",
        "colab": {
          "base_uri": "https://localhost:8080/"
        },
        "outputId": "b8a989c9-ed0e-45db-917d-69cbb05d38e5"
      },
      "source": [
        "grid_xgb.best_estimator_"
      ],
      "execution_count": null,
      "outputs": [
        {
          "output_type": "execute_result",
          "data": {
            "text/plain": [
              "OneVsRestClassifier(estimator=XGBClassifier(base_score=0.5, booster='gbtree',\n",
              "                                            colsample_bylevel=1,\n",
              "                                            colsample_bynode=1,\n",
              "                                            colsample_bytree=1, gamma=0.5,\n",
              "                                            learning_rate=0.1, max_delta_step=0,\n",
              "                                            max_depth=4, min_child_weight=4,\n",
              "                                            missing=None, n_estimators=100,\n",
              "                                            n_jobs=1, nthread=None,\n",
              "                                            objective='binary:logistic',\n",
              "                                            random_state=0, reg_alpha=0,\n",
              "                                            reg_lambda=1, scale_pos_weight=1,\n",
              "                                            seed=None, silent=None, subsample=1,\n",
              "                                            verbosity=1),\n",
              "                    n_jobs=None)"
            ]
          },
          "metadata": {
            "tags": []
          },
          "execution_count": 34
        }
      ]
    },
    {
      "cell_type": "markdown",
      "metadata": {
        "id": "5h0fH9a-LdPA"
      },
      "source": [
        "###RandomForestClassifier"
      ]
    },
    {
      "cell_type": "code",
      "metadata": {
        "id": "HiIh8HqtIWXn",
        "colab": {
          "base_uri": "https://localhost:8080/"
        },
        "outputId": "fac05729-e078-406f-ab89-d3b24455d50e"
      },
      "source": [
        "%%time\n",
        "rfc_params = {'estimator__n_estimators' : [200],\n",
        "          'estimator__min_samples_leaf' : [1, 2, 4],\n",
        "          'estimator__min_samples_split': [2, 4],\n",
        "          'estimator__max_depth': [2, 5]\n",
        "          }\n",
        "\n",
        "rfc_2 = OneVsRestClassifier(RandomForestClassifier())\n",
        "\n",
        "rfc_clf = RandomizedSearchCV(rfc_2, rfc_params, n_iter = 10, cv = 3, random_state = 1, n_jobs = -1)\n",
        "\n",
        "randomized_rfc = rfc_clf.fit(title_train_PCA, y_train_5)"
      ],
      "execution_count": null,
      "outputs": [
        {
          "output_type": "stream",
          "text": [
            "CPU times: user 11min 51s, sys: 4.64 s, total: 11min 55s\n",
            "Wall time: 2h 6min 32s\n"
          ],
          "name": "stdout"
        }
      ]
    },
    {
      "cell_type": "code",
      "metadata": {
        "id": "y3Rdh7Ziv6b1",
        "colab": {
          "base_uri": "https://localhost:8080/"
        },
        "outputId": "6094617c-0cfe-43f6-b3ad-58ad28c8135e"
      },
      "source": [
        "randomized_rfc.best_score_"
      ],
      "execution_count": null,
      "outputs": [
        {
          "output_type": "execute_result",
          "data": {
            "text/plain": [
              "0.012579438191351733"
            ]
          },
          "metadata": {
            "tags": []
          },
          "execution_count": 36
        }
      ]
    },
    {
      "cell_type": "code",
      "metadata": {
        "id": "dLZlXYYtivtl",
        "colab": {
          "base_uri": "https://localhost:8080/"
        },
        "outputId": "7846442e-3528-450a-f368-0fc2df6a7248"
      },
      "source": [
        "randomized_rfc.best_estimator_"
      ],
      "execution_count": null,
      "outputs": [
        {
          "output_type": "execute_result",
          "data": {
            "text/plain": [
              "OneVsRestClassifier(estimator=RandomForestClassifier(bootstrap=True,\n",
              "                                                     ccp_alpha=0.0,\n",
              "                                                     class_weight=None,\n",
              "                                                     criterion='gini',\n",
              "                                                     max_depth=5,\n",
              "                                                     max_features='auto',\n",
              "                                                     max_leaf_nodes=None,\n",
              "                                                     max_samples=None,\n",
              "                                                     min_impurity_decrease=0.0,\n",
              "                                                     min_impurity_split=None,\n",
              "                                                     min_samples_leaf=1,\n",
              "                                                     min_samples_split=4,\n",
              "                                                     min_weight_fraction_leaf=0.0,\n",
              "                                                     n_estimators=200,\n",
              "                                                     n_jobs=None,\n",
              "                                                     oob_score=False,\n",
              "                                                     random_state=None,\n",
              "                                                     verbose=0,\n",
              "                                                     warm_start=False),\n",
              "                    n_jobs=None)"
            ]
          },
          "metadata": {
            "tags": []
          },
          "execution_count": 37
        }
      ]
    },
    {
      "cell_type": "markdown",
      "metadata": {
        "id": "qP4OvLanI-L-"
      },
      "source": [
        "###Logistic Regression"
      ]
    },
    {
      "cell_type": "code",
      "metadata": {
        "id": "qu34pocQJCnZ",
        "colab": {
          "base_uri": "https://localhost:8080/"
        },
        "outputId": "a6388242-8bf8-4cfd-b360-6e3e2454427f"
      },
      "source": [
        "%%time\n",
        "lr_params = {'estimator__C' : [150, 100, 10],\n",
        "          'estimator__penalty' : ['l1', 'l2']\n",
        "          }\n",
        "\n",
        "lr_2 = OneVsRestClassifier(LogisticRegression())\n",
        "\n",
        "lr_clf = GridSearchCV(estimator = lr_2, param_grid = lr_params, cv = 3, n_jobs = -1)\n",
        "\n",
        "grid_lr = lr_clf.fit(title_train_PCA, y_train_5)          "
      ],
      "execution_count": null,
      "outputs": [
        {
          "output_type": "stream",
          "text": [
            "CPU times: user 33 s, sys: 4.67 s, total: 37.6 s\n",
            "Wall time: 2min 29s\n"
          ],
          "name": "stdout"
        }
      ]
    },
    {
      "cell_type": "code",
      "metadata": {
        "id": "Xg-N6dpyMETE",
        "colab": {
          "base_uri": "https://localhost:8080/"
        },
        "outputId": "747c2e23-1a3e-47c3-bc99-de0cc8d9012c"
      },
      "source": [
        "grid_lr.best_score_"
      ],
      "execution_count": null,
      "outputs": [
        {
          "output_type": "execute_result",
          "data": {
            "text/plain": [
              "0.2634298929629253"
            ]
          },
          "metadata": {
            "tags": []
          },
          "execution_count": 39
        }
      ]
    },
    {
      "cell_type": "code",
      "metadata": {
        "id": "6xTxG-pELfdW",
        "colab": {
          "base_uri": "https://localhost:8080/"
        },
        "outputId": "155cae67-2b63-434d-88ba-7aa5d74ea88d"
      },
      "source": [
        "grid_lr.best_estimator_"
      ],
      "execution_count": null,
      "outputs": [
        {
          "output_type": "execute_result",
          "data": {
            "text/plain": [
              "OneVsRestClassifier(estimator=LogisticRegression(C=10, class_weight=None,\n",
              "                                                 dual=False, fit_intercept=True,\n",
              "                                                 intercept_scaling=1,\n",
              "                                                 l1_ratio=None, max_iter=100,\n",
              "                                                 multi_class='auto',\n",
              "                                                 n_jobs=None, penalty='l2',\n",
              "                                                 random_state=None,\n",
              "                                                 solver='lbfgs', tol=0.0001,\n",
              "                                                 verbose=0, warm_start=False),\n",
              "                    n_jobs=None)"
            ]
          },
          "metadata": {
            "tags": []
          },
          "execution_count": 40
        }
      ]
    },
    {
      "cell_type": "markdown",
      "metadata": {
        "id": "3ljCpc6IJGRJ"
      },
      "source": [
        "## Cross-Validation"
      ]
    },
    {
      "cell_type": "code",
      "metadata": {
        "id": "nQx54zXhC__P"
      },
      "source": [
        "XGB_model = xgb.XGBClassifier(base_score=0.5, booster='gbtree',\n",
        "                                            colsample_bylevel=1,\n",
        "                                            colsample_bynode=1,\n",
        "                                            colsample_bytree=1, gamma=0.5,\n",
        "                                            learning_rate=0.1, max_delta_step=0,\n",
        "                                            max_depth=4, min_child_weight=4,\n",
        "                                            missing=None, n_estimators=100,\n",
        "                                            n_jobs=1, nthread=None,\n",
        "                                            objective='binary:logistic',\n",
        "                                            random_state=0, reg_alpha=0,\n",
        "                                            reg_lambda=1, scale_pos_weight=1,\n",
        "                                            seed=None, silent=None, subsample=1,\n",
        "                                            verbosity=1)\n",
        "\n",
        "RFC_model = RandomForestClassifier(bootstrap=True,\n",
        "                                                     ccp_alpha=0.0,\n",
        "                                                     class_weight=None,\n",
        "                                                     criterion='gini',\n",
        "                                                     max_depth=5,\n",
        "                                                     max_features='auto',\n",
        "                                                     max_leaf_nodes=None,\n",
        "                                                     max_samples=None,\n",
        "                                                     min_impurity_decrease=0.0,\n",
        "                                                     min_impurity_split=None,\n",
        "                                                     min_samples_leaf=1,\n",
        "                                                     min_samples_split=4,\n",
        "                                                     min_weight_fraction_leaf=0.0,\n",
        "                                                     n_estimators=200,\n",
        "                                                     n_jobs=None,\n",
        "                                                     oob_score=False,\n",
        "                                                     random_state=None,\n",
        "                                                     verbose=0,\n",
        "                                                     warm_start=False)\n",
        "\n",
        "LR_model = LogisticRegression(C=10, class_weight=None,\n",
        "                                                 dual=False, fit_intercept=True,\n",
        "                                                 intercept_scaling=1,\n",
        "                                                 l1_ratio=None, max_iter=100,\n",
        "                                                 multi_class='auto',\n",
        "                                                 n_jobs=None, penalty='l2',\n",
        "                                                 random_state=None,\n",
        "                                                 solver='lbfgs', tol=0.0001,\n",
        "                                                 verbose=0, warm_start=False)"
      ],
      "execution_count": null,
      "outputs": []
    },
    {
      "cell_type": "code",
      "metadata": {
        "colab": {
          "base_uri": "https://localhost:8080/"
        },
        "id": "hOaD1Zw4ErNO",
        "outputId": "b1479afe-ee44-49c3-a789-4ed724ccf6c7"
      },
      "source": [
        "%%time\n",
        "results = []\n",
        "names = []\n",
        "models = []\n",
        "models.append(('XGB', OneVsRestClassifier(XGB_model)))\n",
        "models.append(('RFC', OneVsRestClassifier(RFC_model)))\n",
        "models.append(('LR', OneVsRestClassifier(LR_model)))\n",
        "scoring = ['jaccard_weighted', 'f1_weighted']\n",
        "for name, model in models:\n",
        "    cv_results = cross_validate(model, body_title_train_PCA, y_train_5, cv = 3,\n",
        "                           scoring = scoring,\n",
        "                           return_train_score = True)\n",
        "    results.append(cv_results)\n",
        "    names.append(name)\n",
        "    result_df = pd.DataFrame(results, names)\n",
        "    for i in result_df.columns :\n",
        "        if i != 'model':\n",
        "            result_df[i] = result_df[i].map(lambda x: x.mean())"
      ],
      "execution_count": null,
      "outputs": [
        {
          "output_type": "stream",
          "text": [
            "CPU times: user 1h 2min 26s, sys: 16.4 s, total: 1h 2min 43s\n",
            "Wall time: 1h 1min 54s\n"
          ],
          "name": "stdout"
        }
      ]
    },
    {
      "cell_type": "code",
      "metadata": {
        "colab": {
          "base_uri": "https://localhost:8080/",
          "height": 142
        },
        "id": "ZtpEuKbWGM1L",
        "outputId": "d2485833-a548-4a31-92b0-320d2d4eb9f4"
      },
      "source": [
        "result_df"
      ],
      "execution_count": null,
      "outputs": [
        {
          "output_type": "execute_result",
          "data": {
            "text/html": [
              "<div>\n",
              "<style scoped>\n",
              "    .dataframe tbody tr th:only-of-type {\n",
              "        vertical-align: middle;\n",
              "    }\n",
              "\n",
              "    .dataframe tbody tr th {\n",
              "        vertical-align: top;\n",
              "    }\n",
              "\n",
              "    .dataframe thead th {\n",
              "        text-align: right;\n",
              "    }\n",
              "</style>\n",
              "<table border=\"1\" class=\"dataframe\">\n",
              "  <thead>\n",
              "    <tr style=\"text-align: right;\">\n",
              "      <th></th>\n",
              "      <th>fit_time</th>\n",
              "      <th>score_time</th>\n",
              "      <th>test_jaccard_weighted</th>\n",
              "      <th>train_jaccard_weighted</th>\n",
              "      <th>test_f1_weighted</th>\n",
              "      <th>train_f1_weighted</th>\n",
              "    </tr>\n",
              "  </thead>\n",
              "  <tbody>\n",
              "    <tr>\n",
              "      <th>XGB</th>\n",
              "      <td>778.011412</td>\n",
              "      <td>0.955601</td>\n",
              "      <td>0.235320</td>\n",
              "      <td>0.903163</td>\n",
              "      <td>0.359466</td>\n",
              "      <td>0.946813</td>\n",
              "    </tr>\n",
              "    <tr>\n",
              "      <th>RFC</th>\n",
              "      <td>437.786223</td>\n",
              "      <td>2.916130</td>\n",
              "      <td>0.010418</td>\n",
              "      <td>0.040578</td>\n",
              "      <td>0.020071</td>\n",
              "      <td>0.074278</td>\n",
              "    </tr>\n",
              "    <tr>\n",
              "      <th>LR</th>\n",
              "      <td>10.483652</td>\n",
              "      <td>0.132749</td>\n",
              "      <td>0.360643</td>\n",
              "      <td>0.536727</td>\n",
              "      <td>0.509109</td>\n",
              "      <td>0.685492</td>\n",
              "    </tr>\n",
              "  </tbody>\n",
              "</table>\n",
              "</div>"
            ],
            "text/plain": [
              "       fit_time  score_time  ...  test_f1_weighted  train_f1_weighted\n",
              "XGB  778.011412    0.955601  ...          0.359466           0.946813\n",
              "RFC  437.786223    2.916130  ...          0.020071           0.074278\n",
              "LR    10.483652    0.132749  ...          0.509109           0.685492\n",
              "\n",
              "[3 rows x 6 columns]"
            ]
          },
          "metadata": {
            "tags": []
          },
          "execution_count": 58
        }
      ]
    },
    {
      "cell_type": "code",
      "metadata": {
        "id": "H2Qvd3DBLr5T"
      },
      "source": [
        "with open('/content/drive/MyDrive/Colab Notebooks/Projet 6/files/Supervised/Train_5/cv_df.pkl','wb') as f:\n",
        "    pickle.dump(result_df, f)"
      ],
      "execution_count": null,
      "outputs": []
    },
    {
      "cell_type": "code",
      "metadata": {
        "id": "8Gd8IreUWHeg"
      },
      "source": [
        "result = '/content/drive/MyDrive/Colab Notebooks/Projet 6/files/Supervised/Train_5/cv_df.pkl'\n",
        "with open(result, 'rb') as f :\n",
        "    result_df = pickle.load(f)"
      ],
      "execution_count": 21,
      "outputs": []
    },
    {
      "cell_type": "code",
      "metadata": {
        "id": "8OPKtC4-Ws2a"
      },
      "source": [
        "result_df.reset_index(inplace = True)"
      ],
      "execution_count": 22,
      "outputs": []
    },
    {
      "cell_type": "code",
      "metadata": {
        "id": "sEG7Pq4BXNLM"
      },
      "source": [
        "jaccard_df = result_df[['index','test_jaccard_weighted']]\n",
        "jaccard_df = jaccard_df.rename(columns={'test_jaccard_weighted': 'score'})\n",
        "jaccard_df['score_name'] = 'Jaccard_Score'"
      ],
      "execution_count": 23,
      "outputs": []
    },
    {
      "cell_type": "code",
      "metadata": {
        "id": "r_tp7aA8y1Ac"
      },
      "source": [
        "f1_df = result_df[['index','test_f1_weighted']]\n",
        "f1_df = f1_df.rename(columns={'test_f1_weighted': 'score'})\n",
        "f1_df['score_name'] = 'F1_score'"
      ],
      "execution_count": 26,
      "outputs": []
    },
    {
      "cell_type": "code",
      "metadata": {
        "id": "SsQRAJQOzJo5"
      },
      "source": [
        " concat_cv = pd.concat([f1_df, jaccard_df])"
      ],
      "execution_count": 28,
      "outputs": []
    },
    {
      "cell_type": "code",
      "metadata": {
        "colab": {
          "base_uri": "https://localhost:8080/",
          "height": 442
        },
        "id": "wbUPRxugXX88",
        "outputId": "b37c95b5-6fcc-4f66-a368-669ec5829eb0"
      },
      "source": [
        "fig = plt.figure(figsize = (7, 7))\n",
        "ax1 = fig.add_subplot(111)\n",
        "ax = sns.barplot(y=concat_cv['score'], x=concat_cv['index'], hue=concat_cv['score_name'], palette=['tab:orange','tab:blue'])\n",
        "plt.xlabel('Models')\n",
        "plt.ylabel('Score')\n",
        "plt.legend(loc = 'upper left')\n",
        "ax = plt.xticks()"
      ],
      "execution_count": 66,
      "outputs": [
        {
          "output_type": "display_data",
          "data": {
            "image/png": "[encoded data removed]",
            "text/plain": [
              "<Figure size 504x504 with 1 Axes>"
            ]
          },
          "metadata": {
            "tags": [],
            "needs_background": "light"
          }
        }
      ]
    },
    {
      "cell_type": "markdown",
      "metadata": {
        "id": "NNmwKCx9Dp5_"
      },
      "source": [
        "#-Selection du meilleur modèle : Logistic Regression"
      ]
    },
    {
      "cell_type": "markdown",
      "metadata": {
        "id": "_asJMxPbGIUF"
      },
      "source": [
        "##Préparation des données"
      ]
    },
    {
      "cell_type": "code",
      "metadata": {
        "id": "QwGgzUvXSsH5"
      },
      "source": [
        "X_train = '/content/drive/MyDrive/Colab Notebooks/Projet 6/files/Supervised/X_train.pkl'\n",
        "with open(X_train, 'rb') as f :\n",
        "    X_train = pickle.load(f)"
      ],
      "execution_count": null,
      "outputs": []
    },
    {
      "cell_type": "code",
      "metadata": {
        "id": "EWlZfviITIQ4"
      },
      "source": [
        "X_test = '/content/drive/MyDrive/Colab Notebooks/Projet 6/files/Supervised/X_test.pkl'\n",
        "with open(X_test, 'rb') as f :\n",
        "    X_test = pickle.load(f)"
      ],
      "execution_count": null,
      "outputs": []
    },
    {
      "cell_type": "code",
      "metadata": {
        "id": "IM2DVoFsTIUC"
      },
      "source": [
        "y_train = '/content/drive/MyDrive/Colab Notebooks/Projet 6/files/Supervised/y_train.pkl'\n",
        "with open(y_train, 'rb') as f :\n",
        "    y_train = pickle.load(f)"
      ],
      "execution_count": null,
      "outputs": []
    },
    {
      "cell_type": "code",
      "metadata": {
        "id": "X6oMber-TIW2"
      },
      "source": [
        "y_test = '/content/drive/MyDrive/Colab Notebooks/Projet 6/files/Supervised/y_test.pkl'\n",
        "with open(y_test, 'rb') as f :\n",
        "    y_test = pickle.load(f)"
      ],
      "execution_count": null,
      "outputs": []
    },
    {
      "cell_type": "code",
      "metadata": {
        "colab": {
          "base_uri": "https://localhost:8080/"
        },
        "id": "uxrefr9lTlF6",
        "outputId": "17dc483b-a102-4107-b27b-94169a71ddaf"
      },
      "source": [
        "X_train.shape, X_test.shape, y_train.shape, y_test.shape"
      ],
      "execution_count": null,
      "outputs": [
        {
          "output_type": "execute_result",
          "data": {
            "text/plain": [
              "((135144, 1), (33787, 1), (135144, 50), (33787, 50))"
            ]
          },
          "metadata": {
            "tags": []
          },
          "execution_count": 8
        }
      ]
    },
    {
      "cell_type": "code",
      "metadata": {
        "id": "2LFynf2INL5a"
      },
      "source": [
        "X_train_25, X_test_25, y_train_25, y_test_25 = train_test_split(X_train, y_train, test_size = 0.75, random_state = 42)"
      ],
      "execution_count": null,
      "outputs": []
    },
    {
      "cell_type": "code",
      "metadata": {
        "id": "3lzH3Z9ybGBl"
      },
      "source": [
        "with open('/content/drive/MyDrive/Colab Notebooks/Projet 6/files/Supervised/X_train_25.pkl','wb') as f:\n",
        "    pickle.dump(X_train_25, f)"
      ],
      "execution_count": null,
      "outputs": []
    },
    {
      "cell_type": "code",
      "metadata": {
        "id": "A0IxQCgXbGD7"
      },
      "source": [
        "with open('/content/drive/MyDrive/Colab Notebooks/Projet 6/files/Supervised/y_train_25.pkl','wb') as f:\n",
        "    pickle.dump(y_train_25, f)"
      ],
      "execution_count": null,
      "outputs": []
    },
    {
      "cell_type": "code",
      "metadata": {
        "colab": {
          "base_uri": "https://localhost:8080/"
        },
        "id": "O_f-kdxPNL5k",
        "outputId": "c7930128-830f-4db4-95f8-8b325b458f74"
      },
      "source": [
        "X_train_25.shape, y_train_25.shape"
      ],
      "execution_count": null,
      "outputs": [
        {
          "output_type": "execute_result",
          "data": {
            "text/plain": [
              "((33786, 1), (33786, 50))"
            ]
          },
          "metadata": {
            "tags": []
          },
          "execution_count": 12
        }
      ]
    },
    {
      "cell_type": "markdown",
      "metadata": {
        "id": "rOUu1SZoGSuS"
      },
      "source": [
        "##TF-IDF"
      ]
    },
    {
      "cell_type": "code",
      "metadata": {
        "id": "AR6PG-1YGbWt"
      },
      "source": [
        "vectorizer = TfidfVectorizer(analyzer = 'word',\n",
        "                                       min_df = 10,\n",
        "                                       max_df = 0.3,\n",
        "                                       strip_accents = None,\n",
        "                                       encoding = 'utf-8', \n",
        "                                       preprocessor = None,\n",
        "                                       token_pattern = r\"(?u)\\S\\S+\")\n",
        "train_tf = vectorizer.fit_transform(X_train_25['Body_Title'].values.astype('U'))\n",
        "test_tf = vectorizer.transform(X_test['Body_Title'].values.astype('U'))"
      ],
      "execution_count": null,
      "outputs": []
    },
    {
      "cell_type": "code",
      "metadata": {
        "id": "B4KA3h78VxWn"
      },
      "source": [
        "##Sauvegarde du Tf-IDF\n",
        "with open('/content/drive/MyDrive/Colab Notebooks/Projet 6/files/Supervised/TF-IDF_25.pkl','wb') as f:\n",
        "    pickle.dump(vectorizer, f)"
      ],
      "execution_count": null,
      "outputs": []
    },
    {
      "cell_type": "code",
      "metadata": {
        "colab": {
          "base_uri": "https://localhost:8080/"
        },
        "id": "gui-IbllLpAk",
        "outputId": "bc97f7d2-13ab-40af-9d39-8a178a44acdc"
      },
      "source": [
        "train_tf.shape, test_tf.shape"
      ],
      "execution_count": null,
      "outputs": [
        {
          "output_type": "execute_result",
          "data": {
            "text/plain": [
              "((33786, 3999), (33787, 3999))"
            ]
          },
          "metadata": {
            "tags": []
          },
          "execution_count": 14
        }
      ]
    },
    {
      "cell_type": "code",
      "metadata": {
        "id": "Vz3gU12hLpAn"
      },
      "source": [
        "body_title_train_df = pd.DataFrame(train_tf.todense(), columns = vectorizer.get_feature_names())"
      ],
      "execution_count": null,
      "outputs": []
    },
    {
      "cell_type": "code",
      "metadata": {
        "id": "22M9xVtUaFcf"
      },
      "source": [
        "body_title_test_df = pd.DataFrame(test_tf.todense(), columns = vectorizer.get_feature_names())"
      ],
      "execution_count": null,
      "outputs": []
    },
    {
      "cell_type": "markdown",
      "metadata": {
        "id": "o15-gaMpU6A0"
      },
      "source": [
        "##PCA"
      ]
    },
    {
      "cell_type": "code",
      "metadata": {
        "id": "ZYPk9r_hLpAo",
        "colab": {
          "base_uri": "https://localhost:8080/"
        },
        "outputId": "954edc87-7fd8-478d-ea57-86051a6faf49"
      },
      "source": [
        "%%time\n",
        "pca = PCA(.80)\n",
        "pca.fit(body_title_train_df)"
      ],
      "execution_count": null,
      "outputs": [
        {
          "output_type": "stream",
          "text": [
            "CPU times: user 9min 25s, sys: 3min 58s, total: 13min 24s\n",
            "Wall time: 24 s\n"
          ],
          "name": "stdout"
        }
      ]
    },
    {
      "cell_type": "code",
      "metadata": {
        "id": "9X50xAlfVxWq"
      },
      "source": [
        "##Sauvegarde du PCA\n",
        "with open('/content/drive/MyDrive/Colab Notebooks/Projet 6/files/Supervised/PCA_25.pkl','wb') as f:\n",
        "    pickle.dump(pca, f)"
      ],
      "execution_count": null,
      "outputs": []
    },
    {
      "cell_type": "code",
      "metadata": {
        "id": "5r1veoI7LpAo",
        "colab": {
          "base_uri": "https://localhost:8080/"
        },
        "outputId": "a15147d8-b03f-4a7a-f124-1e3cdf346206"
      },
      "source": [
        "body_title_train_PCA = pca.transform(body_title_train_df)\n",
        "body_title_train_PCA.shape"
      ],
      "execution_count": null,
      "outputs": [
        {
          "output_type": "execute_result",
          "data": {
            "text/plain": [
              "(33786, 1125)"
            ]
          },
          "metadata": {
            "tags": []
          },
          "execution_count": 18
        }
      ]
    },
    {
      "cell_type": "code",
      "metadata": {
        "colab": {
          "base_uri": "https://localhost:8080/"
        },
        "id": "6SCYChDEZ5s8",
        "outputId": "f1a2fccd-18d7-4d7b-e7d9-750991395956"
      },
      "source": [
        "body_title_test_PCA = pca.transform(body_title_test_df)\n",
        "body_title_test_PCA.shape"
      ],
      "execution_count": null,
      "outputs": [
        {
          "output_type": "execute_result",
          "data": {
            "text/plain": [
              "(33787, 1125)"
            ]
          },
          "metadata": {
            "tags": []
          },
          "execution_count": 19
        }
      ]
    },
    {
      "cell_type": "markdown",
      "metadata": {
        "id": "qXoVdLQIGLsE"
      },
      "source": [
        "##Optimisation du modèle final"
      ]
    },
    {
      "cell_type": "code",
      "metadata": {
        "id": "sqsMQgZlFtVc"
      },
      "source": [
        "LR_model = LogisticRegression()"
      ],
      "execution_count": null,
      "outputs": []
    },
    {
      "cell_type": "code",
      "metadata": {
        "id": "90pLMV64MLpX",
        "colab": {
          "base_uri": "https://localhost:8080/"
        },
        "outputId": "52c77935-2b19-473e-c281-7bedeb0e84eb"
      },
      "source": [
        "%%time\n",
        "lr_params = {'estimator__C' : [100, 10, 1.0],\n",
        "          'estimator__penalty' : ['l1', 'l2']\n",
        "          }\n",
        "\n",
        "lr_2 = OneVsRestClassifier(LogisticRegression())\n",
        "\n",
        "lr_clf = GridSearchCV(estimator = lr_2, param_grid = lr_params, cv = 3, n_jobs = -1)\n",
        "\n",
        "grid_lr = lr_clf.fit(body_title_train_PCA, y_train_25)          "
      ],
      "execution_count": null,
      "outputs": [
        {
          "output_type": "stream",
          "text": [
            "CPU times: user 30min 54s, sys: 18min 22s, total: 49min 17s\n",
            "Wall time: 5min 18s\n"
          ],
          "name": "stdout"
        }
      ]
    },
    {
      "cell_type": "code",
      "metadata": {
        "id": "5P-xArgaMLpX",
        "colab": {
          "base_uri": "https://localhost:8080/"
        },
        "outputId": "6e3c4b0d-cae8-490d-fa2e-821c4d00ee45"
      },
      "source": [
        "grid_lr.best_score_"
      ],
      "execution_count": null,
      "outputs": [
        {
          "output_type": "execute_result",
          "data": {
            "text/plain": [
              "0.3328893624578228"
            ]
          },
          "metadata": {
            "tags": []
          },
          "execution_count": 22
        }
      ]
    },
    {
      "cell_type": "code",
      "metadata": {
        "id": "XOrcp507MLpY",
        "colab": {
          "base_uri": "https://localhost:8080/"
        },
        "outputId": "04fe8569-dfd9-4888-9c35-bb9b6c970ef8"
      },
      "source": [
        "grid_lr.best_estimator_"
      ],
      "execution_count": null,
      "outputs": [
        {
          "output_type": "execute_result",
          "data": {
            "text/plain": [
              "OneVsRestClassifier(estimator=LogisticRegression(C=10, class_weight=None,\n",
              "                                                 dual=False, fit_intercept=True,\n",
              "                                                 intercept_scaling=1,\n",
              "                                                 l1_ratio=None, max_iter=100,\n",
              "                                                 multi_class='auto',\n",
              "                                                 n_jobs=None, penalty='l2',\n",
              "                                                 random_state=None,\n",
              "                                                 solver='lbfgs', tol=0.0001,\n",
              "                                                 verbose=0, warm_start=False),\n",
              "                    n_jobs=None)"
            ]
          },
          "metadata": {
            "tags": []
          },
          "execution_count": 23
        }
      ]
    },
    {
      "cell_type": "markdown",
      "metadata": {
        "id": "ZXjM1bupb5q-"
      },
      "source": [
        "##Test du modèle sur le jeu de test"
      ]
    },
    {
      "cell_type": "code",
      "metadata": {
        "id": "-fr7hxVBXbPE"
      },
      "source": [
        "LR_model = LogisticRegression(C=10, class_weight=None,\n",
        "                                                 dual=False, fit_intercept=True,\n",
        "                                                 intercept_scaling=1,\n",
        "                                                 l1_ratio=None, max_iter=100,\n",
        "                                                 multi_class='auto',\n",
        "                                                 n_jobs=None, penalty='l2',\n",
        "                                                 random_state=None,\n",
        "                                                 solver='lbfgs', tol=0.0001,\n",
        "                                                 verbose=0, warm_start=False)"
      ],
      "execution_count": null,
      "outputs": []
    },
    {
      "cell_type": "code",
      "metadata": {
        "id": "MyzuVRNoYS6B"
      },
      "source": [
        "lr = OneVsRestClassifier(LR_model)"
      ],
      "execution_count": null,
      "outputs": []
    },
    {
      "cell_type": "code",
      "metadata": {
        "colab": {
          "base_uri": "https://localhost:8080/"
        },
        "id": "apln6SAbYQ2-",
        "outputId": "c8e47f1e-61c0-4c07-d598-c6de43971f5b"
      },
      "source": [
        "%%time\n",
        "lr.fit(body_title_train_PCA, y_train_25)"
      ],
      "execution_count": null,
      "outputs": [
        {
          "output_type": "stream",
          "text": [
            "CPU times: user 30min 37s, sys: 17min 39s, total: 48min 16s\n",
            "Wall time: 1min 12s\n"
          ],
          "name": "stdout"
        },
        {
          "output_type": "execute_result",
          "data": {
            "text/plain": [
              "OneVsRestClassifier(estimator=LogisticRegression(C=10, class_weight=None,\n",
              "                                                 dual=False, fit_intercept=True,\n",
              "                                                 intercept_scaling=1,\n",
              "                                                 l1_ratio=None, max_iter=100,\n",
              "                                                 multi_class='auto',\n",
              "                                                 n_jobs=None, penalty='l2',\n",
              "                                                 random_state=None,\n",
              "                                                 solver='lbfgs', tol=0.0001,\n",
              "                                                 verbose=0, warm_start=False),\n",
              "                    n_jobs=None)"
            ]
          },
          "metadata": {
            "tags": []
          },
          "execution_count": 26
        }
      ]
    },
    {
      "cell_type": "code",
      "metadata": {
        "id": "AIG5oe35bXtF"
      },
      "source": [
        "##Sauvegarde du modèle\n",
        "with open('/content/drive/MyDrive/Colab Notebooks/Projet 6/files/Supervised/lr_opti.pkl','wb') as f:\n",
        "    pickle.dump(lr, f)"
      ],
      "execution_count": null,
      "outputs": []
    },
    {
      "cell_type": "code",
      "metadata": {
        "id": "sWFL_XwLXpPf"
      },
      "source": [
        "y_pred = lr.predict(body_title_test_PCA)"
      ],
      "execution_count": null,
      "outputs": []
    },
    {
      "cell_type": "code",
      "metadata": {
        "id": "nfA0Z-X6ZTLQ"
      },
      "source": [
        "def print_score(y_pred, clf):\n",
        "    print(\"Clf: \", clf.__class__.__name__)\n",
        "    print(\"Jacard score: {}\".format(jaccard_score(y_test, y_pred, average = 'weighted')))\n",
        "    print(\"Hamming loss: {}\".format(hamming_loss(y_pred, y_test)))\n",
        "    print(\"F1 score : {}\".format(f1_score(y_pred, y_test, average = 'weighted')))"
      ],
      "execution_count": null,
      "outputs": []
    },
    {
      "cell_type": "code",
      "metadata": {
        "colab": {
          "base_uri": "https://localhost:8080/"
        },
        "id": "mpVF44-8augc",
        "outputId": "eae59c26-5f28-4472-b6cf-ec4783380389"
      },
      "source": [
        "print_score(y_pred, lr)"
      ],
      "execution_count": null,
      "outputs": [
        {
          "output_type": "stream",
          "text": [
            "Clf:  OneVsRestClassifier\n",
            "Jacard score: 0.44544021614283724\n",
            "Hamming loss: 0.01941397578950484\n",
            "F1 score : 0.6336012493390826\n"
          ],
          "name": "stdout"
        }
      ]
    },
    {
      "cell_type": "code",
      "metadata": {
        "id": "sb_uH_Xk-Ccz"
      },
      "source": [
        "# mlb = '/content/drive/MyDrive/Colab Notebooks/Projet 6/files/Supervised/mlb.pkl'\n",
        "# with open(mlb, 'rb') as f :\n",
        "#     mlb = pickle.load(f)"
      ],
      "execution_count": null,
      "outputs": []
    },
    {
      "cell_type": "code",
      "metadata": {
        "colab": {
          "base_uri": "https://localhost:8080/"
        },
        "id": "MkocFn0Bbm0y",
        "outputId": "5e4a4116-2bc2-45a4-c4e2-8b19e2da4a9f"
      },
      "source": [
        "mlb.inverse_transform(y_pred)"
      ],
      "execution_count": null,
      "outputs": [
        {
          "output_type": "execute_result",
          "data": {
            "text/plain": [
              "[('bash', 'linux', 'shell'),\n",
              " ('c++',),\n",
              " ('java',),\n",
              " (),\n",
              " ('arrays',),\n",
              " ('java',),\n",
              " (),\n",
              " (),\n",
              " ('android', 'firebase', 'ios'),\n",
              " ('r',),\n",
              " ('java',),\n",
              " (),\n",
              " (),\n",
              " ('java',),\n",
              " ('python',),\n",
              " ('python',),\n",
              " ('c++',),\n",
              " ('java',),\n",
              " (),\n",
              " ('html',),\n",
              " ('r',),\n",
              " ('java',),\n",
              " ('python',),\n",
              " (),\n",
              " ('html', 'javascript'),\n",
              " (),\n",
              " (),\n",
              " ('c#',),\n",
              " ('python',),\n",
              " ('bash',),\n",
              " ('numpy', 'python'),\n",
              " ('java',),\n",
              " ('pandas', 'python'),\n",
              " ('python',),\n",
              " ('python',),\n",
              " ('java',),\n",
              " ('css', 'html'),\n",
              " ('java',),\n",
              " ('html',),\n",
              " (),\n",
              " ('php',),\n",
              " ('python',),\n",
              " ('android', 'java'),\n",
              " ('python',),\n",
              " ('css', 'html', 'javascript'),\n",
              " (),\n",
              " ('python',),\n",
              " ('arrays', 'numpy', 'python'),\n",
              " (),\n",
              " (),\n",
              " ('pandas', 'python'),\n",
              " ('c++',),\n",
              " ('javascript',),\n",
              " ('javascript', 'jquery'),\n",
              " ('r',),\n",
              " ('linux',),\n",
              " (),\n",
              " (),\n",
              " (),\n",
              " ('android',),\n",
              " ('c#',),\n",
              " ('css', 'html'),\n",
              " ('android', 'java'),\n",
              " ('javascript', 'mysql', 'node.js'),\n",
              " (),\n",
              " (),\n",
              " ('mongodb',),\n",
              " ('mysql', 'php'),\n",
              " ('c++',),\n",
              " ('swift',),\n",
              " ('angular', 'asp.net-mvc'),\n",
              " ('arrays',),\n",
              " ('c#',),\n",
              " (),\n",
              " ('python',),\n",
              " ('java',),\n",
              " (),\n",
              " ('c#', 'regex'),\n",
              " (),\n",
              " ('python',),\n",
              " ('c',),\n",
              " ('android', 'java'),\n",
              " ('arrays', 'php'),\n",
              " ('android',),\n",
              " ('bash',),\n",
              " ('java',),\n",
              " (),\n",
              " ('firebase',),\n",
              " (),\n",
              " (),\n",
              " ('android',),\n",
              " (),\n",
              " ('php',),\n",
              " ('android',),\n",
              " ('c#',),\n",
              " ('apache-spark',),\n",
              " ('java',),\n",
              " ('arrays',),\n",
              " ('c++',),\n",
              " (),\n",
              " ('arrays',),\n",
              " ('php',),\n",
              " ('java',),\n",
              " (),\n",
              " ('python',),\n",
              " ('swift',),\n",
              " ('css', 'html'),\n",
              " (),\n",
              " ('sql',),\n",
              " ('ios', 'swift'),\n",
              " ('firebase',),\n",
              " ('python',),\n",
              " ('html', 'javascript'),\n",
              " (),\n",
              " ('c#',),\n",
              " ('javascript',),\n",
              " ('c++',),\n",
              " ('r',),\n",
              " (),\n",
              " ('pandas', 'python'),\n",
              " ('c#',),\n",
              " (),\n",
              " (),\n",
              " ('c++',),\n",
              " (),\n",
              " ('regex',),\n",
              " ('python',),\n",
              " ('c',),\n",
              " ('css', 'html'),\n",
              " (),\n",
              " ('android', 'sql'),\n",
              " ('java', 'linux'),\n",
              " (),\n",
              " (),\n",
              " ('python',),\n",
              " (),\n",
              " ('r',),\n",
              " ('mongodb',),\n",
              " (),\n",
              " (),\n",
              " ('css', 'html'),\n",
              " (),\n",
              " ('python',),\n",
              " ('java', 'mysql'),\n",
              " (),\n",
              " (),\n",
              " (),\n",
              " ('c',),\n",
              " ('sql', 'sql-server'),\n",
              " ('css', 'html'),\n",
              " ('javascript', 'reactjs'),\n",
              " ('android',),\n",
              " ('html', 'javascript', 'jquery'),\n",
              " (),\n",
              " ('mysql', 'php'),\n",
              " ('c#',),\n",
              " ('laravel', 'regex'),\n",
              " (),\n",
              " ('date',),\n",
              " ('r',),\n",
              " ('html', 'javascript', 'jquery'),\n",
              " ('python',),\n",
              " ('regex',),\n",
              " (),\n",
              " ('string',),\n",
              " ('javascript',),\n",
              " (),\n",
              " (),\n",
              " ('mysql',),\n",
              " ('c', 'c++'),\n",
              " (),\n",
              " ('c',),\n",
              " ('css', 'html'),\n",
              " ('css',),\n",
              " (),\n",
              " ('python',),\n",
              " ('arrays',),\n",
              " ('android',),\n",
              " ('c',),\n",
              " ('python',),\n",
              " ('javascript', 'node.js'),\n",
              " ('java',),\n",
              " ('date', 'javascript'),\n",
              " ('c#',),\n",
              " (),\n",
              " (),\n",
              " ('java',),\n",
              " ('android',),\n",
              " ('mysql', 'php'),\n",
              " (),\n",
              " ('css', 'html'),\n",
              " ('ios', 'swift'),\n",
              " (),\n",
              " ('android',),\n",
              " ('php',),\n",
              " (),\n",
              " ('javascript',),\n",
              " ('r',),\n",
              " ('javascript', 'json'),\n",
              " ('r',),\n",
              " ('php',),\n",
              " ('c++',),\n",
              " (),\n",
              " ('c#',),\n",
              " (),\n",
              " ('python',),\n",
              " ('css', 'html', 'javascript'),\n",
              " ('python', 'r'),\n",
              " (),\n",
              " (),\n",
              " (),\n",
              " ('python',),\n",
              " ('css', 'javascript'),\n",
              " ('c#',),\n",
              " ('php',),\n",
              " ('android', 'java'),\n",
              " ('r',),\n",
              " (),\n",
              " (),\n",
              " ('python', 'python-3.x', 'string'),\n",
              " ('mysql', 'sql', 'sql-server'),\n",
              " ('css', 'html'),\n",
              " (),\n",
              " ('html', 'javascript'),\n",
              " ('numpy', 'python'),\n",
              " ('c',),\n",
              " (),\n",
              " ('css', 'html', 'javascript'),\n",
              " ('laravel',),\n",
              " (),\n",
              " ('c++',),\n",
              " ('javascript', 'jquery'),\n",
              " ('android',),\n",
              " (),\n",
              " ('python',),\n",
              " (),\n",
              " ('sql',),\n",
              " ('c++', 'linux'),\n",
              " (),\n",
              " ('arrays', 'javascript'),\n",
              " ('php',),\n",
              " (),\n",
              " ('java',),\n",
              " ('arrays', 'javascript'),\n",
              " (),\n",
              " ('java',),\n",
              " (),\n",
              " ('r',),\n",
              " ('arrays', 'javascript'),\n",
              " (),\n",
              " (),\n",
              " ('python',),\n",
              " (),\n",
              " ('java',),\n",
              " ('javascript',),\n",
              " ('html', 'javascript', 'jquery'),\n",
              " ('node.js', 'r'),\n",
              " ('python',),\n",
              " ('mysql', 'sql'),\n",
              " ('firebase',),\n",
              " (),\n",
              " ('c#',),\n",
              " ('html', 'javascript', 'jquery'),\n",
              " ('mysql', 'php'),\n",
              " ('html', 'javascript'),\n",
              " (),\n",
              " ('java',),\n",
              " ('java',),\n",
              " (),\n",
              " ('python',),\n",
              " ('css', 'html'),\n",
              " (),\n",
              " ('dataframe', 'pandas', 'python'),\n",
              " ('python',),\n",
              " (),\n",
              " ('php',),\n",
              " ('java',),\n",
              " ('firebase',),\n",
              " (),\n",
              " ('java',),\n",
              " (),\n",
              " (),\n",
              " ('mysql', 'python'),\n",
              " (),\n",
              " ('html', 'javascript'),\n",
              " (),\n",
              " ('rust',),\n",
              " ('linux',),\n",
              " (),\n",
              " ('.net', 'asp.net', 'c#'),\n",
              " (),\n",
              " ('bash', 'linux'),\n",
              " (),\n",
              " (),\n",
              " ('asp.net-mvc', 'c#'),\n",
              " (),\n",
              " (),\n",
              " ('javascript',),\n",
              " (),\n",
              " ('css',),\n",
              " (),\n",
              " ('java',),\n",
              " ('linux',),\n",
              " ('c',),\n",
              " ('angular',),\n",
              " (),\n",
              " ('arrays',),\n",
              " (),\n",
              " (),\n",
              " (),\n",
              " (),\n",
              " ('mysql',),\n",
              " ('dataframe', 'pandas', 'python'),\n",
              " ('android',),\n",
              " ('java', 'selenium'),\n",
              " (),\n",
              " ('c#', 'c++'),\n",
              " ('python',),\n",
              " ('asp.net-mvc', 'c#'),\n",
              " ('android', 'java'),\n",
              " ('dataframe', 'python', 'r'),\n",
              " ('python',),\n",
              " ('bash',),\n",
              " ('css', 'javascript'),\n",
              " ('css', 'html', 'javascript', 'jquery'),\n",
              " ('php',),\n",
              " ('c#', 'list'),\n",
              " ('c#',),\n",
              " (),\n",
              " (),\n",
              " ('json',),\n",
              " (),\n",
              " ('android', 'java'),\n",
              " (),\n",
              " ('sql',),\n",
              " ('css',),\n",
              " ('python',),\n",
              " (),\n",
              " (),\n",
              " ('asp.net-mvc', 'c#'),\n",
              " (),\n",
              " ('java',),\n",
              " ('css', 'html'),\n",
              " ('javascript', 'node.js'),\n",
              " (),\n",
              " ('reactjs',),\n",
              " ('android',),\n",
              " (),\n",
              " (),\n",
              " ('php',),\n",
              " ('java',),\n",
              " (),\n",
              " (),\n",
              " (),\n",
              " ('python', 'regex'),\n",
              " (),\n",
              " ('c#',),\n",
              " ('python',),\n",
              " ('html', 'php'),\n",
              " (),\n",
              " ('flask', 'python'),\n",
              " (),\n",
              " (),\n",
              " (),\n",
              " ('java', 'string'),\n",
              " ('flask', 'python'),\n",
              " (),\n",
              " (),\n",
              " ('javascript',),\n",
              " ('javascript',),\n",
              " ('java',),\n",
              " ('python',),\n",
              " ('ios', 'swift'),\n",
              " (),\n",
              " ('typescript',),\n",
              " ('node.js',),\n",
              " ('c#',),\n",
              " ('c', 'c++'),\n",
              " ('python',),\n",
              " ('android',),\n",
              " ('arrays',),\n",
              " ('r',),\n",
              " ('java',),\n",
              " (),\n",
              " ('javascript',),\n",
              " ('javascript',),\n",
              " (),\n",
              " ('c',),\n",
              " ('java',),\n",
              " (),\n",
              " ('python',),\n",
              " (),\n",
              " ('c#',),\n",
              " ('javascript',),\n",
              " ('json', 'mongodb'),\n",
              " ('bash',),\n",
              " ('java',),\n",
              " ('css', 'html'),\n",
              " ('java',),\n",
              " (),\n",
              " ('c++',),\n",
              " (),\n",
              " ('python',),\n",
              " ('python',),\n",
              " ('rust',),\n",
              " (),\n",
              " ('.net', 'asp.net', 'c#'),\n",
              " ('java', 'mysql'),\n",
              " ('c',),\n",
              " ('javascript',),\n",
              " (),\n",
              " ('python',),\n",
              " ('java',),\n",
              " ('php',),\n",
              " (),\n",
              " (),\n",
              " ('python',),\n",
              " ('flask',),\n",
              " ('reactjs',),\n",
              " ('c#',),\n",
              " ('c', 'c++'),\n",
              " ('c#',),\n",
              " ('java',),\n",
              " ('php',),\n",
              " (),\n",
              " ('java',),\n",
              " ('css',),\n",
              " (),\n",
              " (),\n",
              " ('java',),\n",
              " ('reactjs',),\n",
              " ('java',),\n",
              " ('css',),\n",
              " (),\n",
              " (),\n",
              " ('python',),\n",
              " (),\n",
              " (),\n",
              " (),\n",
              " ('javascript',),\n",
              " ('pandas', 'python'),\n",
              " ('algorithm', 'java'),\n",
              " ('algorithm',),\n",
              " ('java',),\n",
              " ('css',),\n",
              " ('r',),\n",
              " ('reactjs',),\n",
              " ('python',),\n",
              " ('html', 'javascript'),\n",
              " ('javascript', 'json'),\n",
              " ('r',),\n",
              " ('flask', 'javascript'),\n",
              " (),\n",
              " ('python',),\n",
              " (),\n",
              " ('numpy', 'python'),\n",
              " ('javascript',),\n",
              " ('php',),\n",
              " ('java',),\n",
              " (),\n",
              " (),\n",
              " ('c++',),\n",
              " ('android',),\n",
              " ('python',),\n",
              " ('c',),\n",
              " ('python',),\n",
              " ('python',),\n",
              " (),\n",
              " ('arrays', 'swift'),\n",
              " ('ios',),\n",
              " ('java', 'spring'),\n",
              " ('java',),\n",
              " ('python',),\n",
              " ('laravel', 'php'),\n",
              " ('json', 'node.js'),\n",
              " ('flask', 'python'),\n",
              " ('c',),\n",
              " (),\n",
              " ('arrays', 'json', 'php'),\n",
              " ('c#', 'node.js'),\n",
              " ('sql',),\n",
              " (),\n",
              " (),\n",
              " ('c#',),\n",
              " ('java',),\n",
              " ('java',),\n",
              " ('c#', 'c++'),\n",
              " (),\n",
              " ('c#',),\n",
              " ('sql', 'sql-server'),\n",
              " ('reactjs',),\n",
              " ('c#',),\n",
              " (),\n",
              " ('bash',),\n",
              " ('java', 'spring'),\n",
              " ('java',),\n",
              " ('css', 'html'),\n",
              " ('arrays', 'javascript'),\n",
              " ('regex',),\n",
              " ('css', 'html', 'jquery'),\n",
              " ('c#',),\n",
              " ('jquery',),\n",
              " ('java',),\n",
              " ('r',),\n",
              " ('flask', 'python'),\n",
              " (),\n",
              " ('android', 'firebase', 'reactjs'),\n",
              " (),\n",
              " (),\n",
              " ('css', 'html'),\n",
              " ('python',),\n",
              " (),\n",
              " ('php',),\n",
              " ('java',),\n",
              " (),\n",
              " (),\n",
              " (),\n",
              " ('pandas', 'python'),\n",
              " (),\n",
              " ('html', 'javascript'),\n",
              " (),\n",
              " ('python',),\n",
              " ('firebase',),\n",
              " ('python',),\n",
              " ('python',),\n",
              " ('python',),\n",
              " (),\n",
              " (),\n",
              " (),\n",
              " ('python',),\n",
              " ('php',),\n",
              " (),\n",
              " ('r',),\n",
              " ('javascript',),\n",
              " ('regex',),\n",
              " ('android',),\n",
              " ('python',),\n",
              " ('mysql',),\n",
              " ('javascript', 'node.js'),\n",
              " (),\n",
              " ('javascript',),\n",
              " ('android',),\n",
              " ('javascript', 'json'),\n",
              " ('python',),\n",
              " (),\n",
              " ('android',),\n",
              " ('date',),\n",
              " (),\n",
              " (),\n",
              " ('javascript', 'node.js'),\n",
              " (),\n",
              " (),\n",
              " ('apache-spark',),\n",
              " ('javascript',),\n",
              " (),\n",
              " ('css',),\n",
              " ('javascript',),\n",
              " ('ios', 'swift'),\n",
              " ('javascript', 'jquery'),\n",
              " (),\n",
              " ('c#',),\n",
              " ('ios',),\n",
              " ('python',),\n",
              " (),\n",
              " ('php',),\n",
              " ('php',),\n",
              " ('arrays', 'php'),\n",
              " (),\n",
              " (),\n",
              " ('bash', 'linux', 'shell', 'windows'),\n",
              " ('arrays', 'php'),\n",
              " ('arrays',),\n",
              " ('python', 'string'),\n",
              " (),\n",
              " (),\n",
              " ('asp.net-mvc', 'c#'),\n",
              " ('css',),\n",
              " (),\n",
              " ('javascript',),\n",
              " ('php',),\n",
              " (),\n",
              " (),\n",
              " ('php',),\n",
              " ('swift',),\n",
              " ('java',),\n",
              " (),\n",
              " ('c++',),\n",
              " (),\n",
              " (),\n",
              " (),\n",
              " ('css', 'html'),\n",
              " ('css', 'html'),\n",
              " ('javascript',),\n",
              " (),\n",
              " ('javascript', 'jquery'),\n",
              " (),\n",
              " ('bash', 'linux'),\n",
              " ('arrays', 'numpy', 'python'),\n",
              " ('linux', 'windows'),\n",
              " ('android',),\n",
              " ('ios', 'swift'),\n",
              " ('python',),\n",
              " (),\n",
              " (),\n",
              " (),\n",
              " ('c',),\n",
              " ('php',),\n",
              " ('php',),\n",
              " ('python',),\n",
              " (),\n",
              " ('c++',),\n",
              " ('python',),\n",
              " ('arrays',),\n",
              " (),\n",
              " ('c++',),\n",
              " (),\n",
              " (),\n",
              " ('c++',),\n",
              " ('algorithm',),\n",
              " ('javascript',),\n",
              " (),\n",
              " ('numpy', 'python'),\n",
              " ('flask', 'python'),\n",
              " ('mongodb',),\n",
              " ('c#', 'java'),\n",
              " (),\n",
              " ('javascript',),\n",
              " ('mysql', 'r'),\n",
              " (),\n",
              " (),\n",
              " ('java',),\n",
              " ('python',),\n",
              " ('dataframe', 'pandas', 'python', 'r'),\n",
              " ('regex',),\n",
              " (),\n",
              " ('selenium',),\n",
              " (),\n",
              " ('java',),\n",
              " (),\n",
              " (),\n",
              " ('c',),\n",
              " ('html', 'selenium'),\n",
              " (),\n",
              " (),\n",
              " ('css', 'html'),\n",
              " (),\n",
              " ('c++',),\n",
              " (),\n",
              " (),\n",
              " ('javascript',),\n",
              " ('html', 'javascript'),\n",
              " ('laravel', 'php'),\n",
              " (),\n",
              " ('dataframe', 'pandas', 'python'),\n",
              " ('python',),\n",
              " (),\n",
              " ('javascript',),\n",
              " ('android',),\n",
              " ('android', 'firebase'),\n",
              " ('angular', 'typescript'),\n",
              " (),\n",
              " ('c#',),\n",
              " (),\n",
              " ('css', 'html'),\n",
              " ('mysql', 'php'),\n",
              " (),\n",
              " (),\n",
              " ('arrays', 'numpy', 'python'),\n",
              " ('python',),\n",
              " ('windows',),\n",
              " ('python',),\n",
              " ('numpy', 'python'),\n",
              " ('bash', 'java'),\n",
              " ('android',),\n",
              " (),\n",
              " ('java',),\n",
              " (),\n",
              " (),\n",
              " ('python',),\n",
              " ('java',),\n",
              " ('selenium',),\n",
              " (),\n",
              " ('linux',),\n",
              " (),\n",
              " ('c',),\n",
              " ('javascript', 'node.js'),\n",
              " ('android', 'firebase'),\n",
              " (),\n",
              " ('python',),\n",
              " ('c#',),\n",
              " (),\n",
              " (),\n",
              " ('python',),\n",
              " ('javascript',),\n",
              " ('c',),\n",
              " (),\n",
              " (),\n",
              " ('angular', 'javascript'),\n",
              " (),\n",
              " ('html', 'javascript'),\n",
              " ('php',),\n",
              " ('r',),\n",
              " ('python', 'string'),\n",
              " ('javascript', 'json'),\n",
              " ('laravel',),\n",
              " (),\n",
              " ('string',),\n",
              " ('mysql', 'php'),\n",
              " ('css', 'html'),\n",
              " ('mysql',),\n",
              " ('java',),\n",
              " ('php',),\n",
              " ('javascript', 'php'),\n",
              " (),\n",
              " ('bash',),\n",
              " ('json',),\n",
              " ('c',),\n",
              " ('r',),\n",
              " ('php',),\n",
              " (),\n",
              " ('android', 'java'),\n",
              " ('python',),\n",
              " ('css', 'html', 'jquery'),\n",
              " (),\n",
              " ('css', 'html'),\n",
              " ('ios', 'swift'),\n",
              " (),\n",
              " ('android',),\n",
              " ('json',),\n",
              " ('php',),\n",
              " ('php',),\n",
              " ('mysql', 'python'),\n",
              " ('java',),\n",
              " (),\n",
              " ('css', 'html'),\n",
              " ('javascript',),\n",
              " ('java',),\n",
              " ('c#', 'windows'),\n",
              " (),\n",
              " (),\n",
              " ('javascript',),\n",
              " ('bash', 'linux'),\n",
              " (),\n",
              " (),\n",
              " (),\n",
              " (),\n",
              " (),\n",
              " (),\n",
              " (),\n",
              " ('sql',),\n",
              " ('mysql',),\n",
              " ('arrays', 'c++'),\n",
              " ('python',),\n",
              " (),\n",
              " ('javascript',),\n",
              " ('java',),\n",
              " ('java',),\n",
              " (),\n",
              " ('python',),\n",
              " ('python',),\n",
              " (),\n",
              " ('python',),\n",
              " ('php',),\n",
              " (),\n",
              " (),\n",
              " ('java',),\n",
              " ('php',),\n",
              " ('java',),\n",
              " ('javascript',),\n",
              " ('html',),\n",
              " (),\n",
              " (),\n",
              " (),\n",
              " ('java', 'spring'),\n",
              " (),\n",
              " (),\n",
              " (),\n",
              " (),\n",
              " ('css', 'html'),\n",
              " ('python',),\n",
              " ('css',),\n",
              " (),\n",
              " ('mysql',),\n",
              " (),\n",
              " ('android', 'firebase'),\n",
              " ('java',),\n",
              " ('swift',),\n",
              " (),\n",
              " ('c', 'linux'),\n",
              " ('css', 'javascript'),\n",
              " (),\n",
              " (),\n",
              " ('excel',),\n",
              " ('css', 'html'),\n",
              " ('string',),\n",
              " ('numpy', 'python'),\n",
              " ('python', 'r'),\n",
              " ('selenium',),\n",
              " (),\n",
              " (),\n",
              " ('java',),\n",
              " ('php',),\n",
              " (),\n",
              " ('javascript',),\n",
              " ('pandas', 'python'),\n",
              " ('javascript',),\n",
              " ('javascript',),\n",
              " ('numpy', 'python'),\n",
              " ('mysql', 'sql'),\n",
              " ('python',),\n",
              " (),\n",
              " ('c#',),\n",
              " (),\n",
              " ('dataframe', 'pandas', 'python'),\n",
              " ('java', 'selenium'),\n",
              " (),\n",
              " ('rust',),\n",
              " (),\n",
              " (),\n",
              " (),\n",
              " ('java',),\n",
              " ('java',),\n",
              " (),\n",
              " ('bash', 'php', 'shell'),\n",
              " ('python',),\n",
              " (),\n",
              " ('c++',),\n",
              " ('python',),\n",
              " (),\n",
              " ('angular', 'javascript', 'typescript'),\n",
              " (),\n",
              " ('javascript', 'reactjs'),\n",
              " ('php',),\n",
              " ('c',),\n",
              " ('java',),\n",
              " (),\n",
              " ('javascript',),\n",
              " ('c#', 'sql', 'sql-server'),\n",
              " (),\n",
              " (),\n",
              " (),\n",
              " ('css',),\n",
              " (),\n",
              " ('regex',),\n",
              " (),\n",
              " ('javascript',),\n",
              " (),\n",
              " (),\n",
              " (),\n",
              " ('bash', 'python'),\n",
              " ('r',),\n",
              " ('android', 'java'),\n",
              " (),\n",
              " ('java',),\n",
              " ('c',),\n",
              " (),\n",
              " (),\n",
              " (),\n",
              " ('css', 'html', 'python'),\n",
              " (),\n",
              " ('arrays',),\n",
              " ('c#',),\n",
              " ('php',),\n",
              " (),\n",
              " (),\n",
              " (),\n",
              " (),\n",
              " (),\n",
              " ('string',),\n",
              " ('php',),\n",
              " ('java',),\n",
              " (),\n",
              " ('javascript',),\n",
              " ('r',),\n",
              " ('php',),\n",
              " ('c++',),\n",
              " ('html',),\n",
              " (),\n",
              " ('javascript',),\n",
              " ('bash', 'linux', 'shell'),\n",
              " ('rust',),\n",
              " ('c#',),\n",
              " (),\n",
              " ('arrays', 'c', 'string'),\n",
              " ('python', 'python-3.x'),\n",
              " ('python',),\n",
              " ('c#', 'c++'),\n",
              " ('python',),\n",
              " (),\n",
              " ('android',),\n",
              " (),\n",
              " ('c#', 'java'),\n",
              " ('java',),\n",
              " (),\n",
              " ('java',),\n",
              " ('python',),\n",
              " ('c',),\n",
              " ('css',),\n",
              " ('java',),\n",
              " ('arrays',),\n",
              " ('regex',),\n",
              " ('html', 'javascript', 'php'),\n",
              " ('c#', 'python'),\n",
              " ('c#',),\n",
              " ('angular',),\n",
              " ('json',),\n",
              " ('css', 'html'),\n",
              " ('python',),\n",
              " (),\n",
              " (),\n",
              " (),\n",
              " ('java', 'spring'),\n",
              " ('mysql', 'php'),\n",
              " (),\n",
              " ('python',),\n",
              " ('laravel', 'php'),\n",
              " ('java',),\n",
              " ('c++',),\n",
              " (),\n",
              " ('json',),\n",
              " (),\n",
              " (),\n",
              " ('arrays',),\n",
              " (),\n",
              " ('c#',),\n",
              " ('c++',),\n",
              " ('java',),\n",
              " (),\n",
              " ('java',),\n",
              " (),\n",
              " (),\n",
              " ('bash', 'linux', 'shell'),\n",
              " ('python',),\n",
              " (),\n",
              " (),\n",
              " ('python',),\n",
              " (),\n",
              " ('excel',),\n",
              " ('r',),\n",
              " ('html', 'jquery'),\n",
              " ('html', 'javascript'),\n",
              " ('javascript',),\n",
              " ('php',),\n",
              " ('python',),\n",
              " (),\n",
              " ('c#',),\n",
              " ('python',),\n",
              " ('numpy', 'python'),\n",
              " ('php',),\n",
              " ('android', 'java'),\n",
              " ('c',),\n",
              " ('css', 'html'),\n",
              " (),\n",
              " (),\n",
              " ('python',),\n",
              " ('c',),\n",
              " ('javascript',),\n",
              " ('android',),\n",
              " ('python',),\n",
              " (),\n",
              " (),\n",
              " (),\n",
              " ('python', 'regex'),\n",
              " (),\n",
              " (),\n",
              " ('android',),\n",
              " (),\n",
              " ('javascript',),\n",
              " ('c',),\n",
              " ('numpy', 'python'),\n",
              " (),\n",
              " ('java',),\n",
              " (),\n",
              " (),\n",
              " (),\n",
              " (),\n",
              " (),\n",
              " ('arrays', 'java'),\n",
              " ('java',),\n",
              " ('arrays',),\n",
              " ('css', 'html'),\n",
              " ('c++',),\n",
              " ('html',),\n",
              " ('mysql', 'php'),\n",
              " ('sql', 'sql-server'),\n",
              " ('android',),\n",
              " ('ios', 'javascript', 'swift'),\n",
              " ('java',),\n",
              " ('c#', 'javascript'),\n",
              " (),\n",
              " ('list', 'python'),\n",
              " ('php',),\n",
              " (),\n",
              " ('css', 'html'),\n",
              " ('css', 'html', 'javascript', 'jquery'),\n",
              " ('python', 'python-3.x'),\n",
              " ('css', 'html'),\n",
              " ('javascript',),\n",
              " ('c#',),\n",
              " ('python',),\n",
              " ...]"
            ]
          },
          "metadata": {
            "tags": []
          },
          "execution_count": 85
        }
      ]
    },
    {
      "cell_type": "markdown",
      "metadata": {
        "id": "e1RZ5gBhoGBy"
      },
      "source": [
        "#3/ Approche semi-supervisée :"
      ]
    },
    {
      "cell_type": "markdown",
      "metadata": {
        "id": "KoFQgvV18iqZ"
      },
      "source": [
        "##Préparation des données"
      ]
    },
    {
      "cell_type": "code",
      "metadata": {
        "id": "EczgNH1yE86k"
      },
      "source": [
        " #train\n",
        "all_topics_train = lda_model.get_document_topics(corpus)\n",
        "all_topics_csr_train = gensim.matutils.corpus2csc(all_topics_train)\n",
        "all_topics_numpy_train = all_topics_csr_train.T.toarray()"
      ],
      "execution_count": null,
      "outputs": []
    },
    {
      "cell_type": "code",
      "metadata": {
        "id": "7FTkQ9DbyqKc"
      },
      "source": [
        "X_train_lda = all_topics_numpy_train"
      ],
      "execution_count": null,
      "outputs": []
    },
    {
      "cell_type": "code",
      "metadata": {
        "id": "UA3hgM9j0MRq"
      },
      "source": [
        " #test\n",
        "data_words_test = X_test['Title_2'].apply(lambda x: x.split())\n",
        "id2word_test = corpora.Dictionary(data_words_test)\n",
        "texts_test = data_words_test\n",
        "corpus_test = [id2word.doc2bow(text) for text in texts_test]\n",
        "all_topics_test = lda_model.get_document_topics(corpus_test)\n",
        "all_topics_csr_test = gensim.matutils.corpus2csc(all_topics_test)\n",
        "all_topics_numpy_test = all_topics_csr_test.T.toarray()"
      ],
      "execution_count": null,
      "outputs": []
    },
    {
      "cell_type": "code",
      "metadata": {
        "id": "TFz7PjLdzL-v"
      },
      "source": [
        "X_test_lda = all_topics_numpy_test"
      ],
      "execution_count": null,
      "outputs": []
    },
    {
      "cell_type": "code",
      "metadata": {
        "id": "UAwI9Efd09xl"
      },
      "source": [
        "y_test_lda = y_test"
      ],
      "execution_count": null,
      "outputs": []
    },
    {
      "cell_type": "markdown",
      "metadata": {
        "id": "jt45ysv88oZE"
      },
      "source": [
        "##Préparation du modèle"
      ]
    },
    {
      "cell_type": "code",
      "metadata": {
        "id": "hlunpslH4ZOa"
      },
      "source": [
        "LR_model = LogisticRegression(C=10, class_weight=None,\n",
        "                                                 dual=False, fit_intercept=True,\n",
        "                                                 intercept_scaling=1,\n",
        "                                                 l1_ratio=None, max_iter=100,\n",
        "                                                 multi_class='auto',\n",
        "                                                 n_jobs=None, penalty='l2',\n",
        "                                                 random_state=None,\n",
        "                                                 solver='lbfgs', tol=0.0001,\n",
        "                                                 verbose=0, warm_start=False)"
      ],
      "execution_count": null,
      "outputs": []
    },
    {
      "cell_type": "code",
      "metadata": {
        "id": "u2ub3zv74ZOj"
      },
      "source": [
        "lr = OneVsRestClassifier(LR_model)"
      ],
      "execution_count": null,
      "outputs": []
    },
    {
      "cell_type": "code",
      "metadata": {
        "colab": {
          "base_uri": "https://localhost:8080/"
        },
        "id": "aA0m2y_f4ZOj",
        "outputId": "f36332a6-ca0d-4918-e930-eb480d4f99a7"
      },
      "source": [
        "%%time\n",
        "lr.fit(X_train_lda, y_train_5)"
      ],
      "execution_count": null,
      "outputs": [
        {
          "output_type": "stream",
          "text": [
            "CPU times: user 2min 13s, sys: 12min 18s, total: 14min 31s\n",
            "Wall time: 21.9 s\n"
          ],
          "name": "stdout"
        },
        {
          "output_type": "execute_result",
          "data": {
            "text/plain": [
              "OneVsRestClassifier(estimator=LogisticRegression(C=10, class_weight=None,\n",
              "                                                 dual=False, fit_intercept=True,\n",
              "                                                 intercept_scaling=1,\n",
              "                                                 l1_ratio=None, max_iter=100,\n",
              "                                                 multi_class='auto',\n",
              "                                                 n_jobs=None, penalty='l2',\n",
              "                                                 random_state=None,\n",
              "                                                 solver='lbfgs', tol=0.0001,\n",
              "                                                 verbose=0, warm_start=False),\n",
              "                    n_jobs=None)"
            ]
          },
          "metadata": {
            "tags": []
          },
          "execution_count": 32
        }
      ]
    },
    {
      "cell_type": "markdown",
      "metadata": {
        "id": "_AAYPJnK8uX8"
      },
      "source": [
        "##Evaluation du modèle"
      ]
    },
    {
      "cell_type": "code",
      "metadata": {
        "id": "ciXjc6zzdaFi"
      },
      "source": [
        "y_pred_lda = lr.predict(X_test_lda)"
      ],
      "execution_count": null,
      "outputs": []
    },
    {
      "cell_type": "code",
      "metadata": {
        "id": "QWVfbuRp0sfX"
      },
      "source": [
        "def print_score(y_pred, clf):\n",
        "    print(\"Clf: \", clf.__class__.__name__)\n",
        "    print(\"Jacard score: {}\".format(jaccard_score(y_test_lda, y_pred_lda, average = 'weighted')))\n",
        "    print(\"Hamming loss: {}\".format(hamming_loss(y_pred_lda, y_test_lda)))\n",
        "    print(\"F1 score : {}\".format(f1_score(y_pred_lda, y_test_lda, average = 'weighted')))"
      ],
      "execution_count": null,
      "outputs": []
    },
    {
      "cell_type": "code",
      "metadata": {
        "colab": {
          "base_uri": "https://localhost:8080/"
        },
        "id": "p500SCQP0sfY",
        "outputId": "fc5f0ad4-8fbf-4c2c-d134-0880703507aa"
      },
      "source": [
        "print_score(y_pred_lda, lr)"
      ],
      "execution_count": null,
      "outputs": [
        {
          "output_type": "stream",
          "text": [
            "Clf:  OneVsRestClassifier\n",
            "Jacard score: 0.04599711422233924\n",
            "Hamming loss: 0.8650664456743719\n",
            "F1 score : 0.18654858472534885\n"
          ],
          "name": "stdout"
        }
      ]
    },
    {
      "cell_type": "markdown",
      "metadata": {
        "id": "3M9n2-cuQCsa"
      },
      "source": [
        "Comparaison entre modèle supervisé et non supervisé"
      ]
    },
    {
      "cell_type": "markdown",
      "metadata": {
        "id": "bUZGHujkQJq0"
      },
      "source": [
        "Modèle supervisé"
      ]
    },
    {
      "cell_type": "code",
      "metadata": {
        "id": "D2mYVCpXECD1"
      },
      "source": [
        "lr_supervised_score = {'Jacard score': 0.44544021614283724,\n",
        "'Hamming loss': 0.01941397578950484,\n",
        "'F1 score' : 0.6336012493390826}"
      ],
      "execution_count": 41,
      "outputs": []
    },
    {
      "cell_type": "code",
      "metadata": {
        "id": "gEAzHib8O3zz"
      },
      "source": [
        "lr_supervised_score_df = pd.DataFrame.from_dict(lr_supervised_score,orient='index')\n",
        "lr_supervised_score_df = lr_supervised_score_df.rename(columns={0: 'score'})\n",
        "lr_supervised_score_df['score_name'] = 'Supervised'"
      ],
      "execution_count": 42,
      "outputs": []
    },
    {
      "cell_type": "markdown",
      "metadata": {
        "id": "WYt68kCyQM-n"
      },
      "source": [
        "Modèle semi-supervisé"
      ]
    },
    {
      "cell_type": "code",
      "metadata": {
        "id": "FAKCvBOKP-oI"
      },
      "source": [
        "lr_semi_score = {'Jacard score': 0.04599711422233924,\n",
        "'Hamming loss': 0.8650664456743719,\n",
        "'F1 score' : 0.18654858472534885}"
      ],
      "execution_count": 47,
      "outputs": []
    },
    {
      "cell_type": "code",
      "metadata": {
        "id": "M3yoLvVuQfTU"
      },
      "source": [
        "lr_semi_score_df = pd.DataFrame.from_dict(lr_semi_score,orient='index')\n",
        "lr_semi_score_df = lr_semi_score_df.rename(columns={0: 'score'})\n",
        "lr_semi_score_df['score_name'] = 'semi-supervised'"
      ],
      "execution_count": 60,
      "outputs": []
    },
    {
      "cell_type": "markdown",
      "metadata": {
        "id": "0CsPb-yZSK1c"
      },
      "source": [
        "Comparaison"
      ]
    },
    {
      "cell_type": "code",
      "metadata": {
        "id": "4d7DSjKHQv8J"
      },
      "source": [
        " concat_test = pd.concat([lr_semi_score_df, lr_supervised_score_df])"
      ],
      "execution_count": 61,
      "outputs": []
    },
    {
      "cell_type": "code",
      "metadata": {
        "id": "mM__uVKwQ4lV"
      },
      "source": [
        "concat_test.reset_index(inplace=True)"
      ],
      "execution_count": 62,
      "outputs": []
    },
    {
      "cell_type": "code",
      "metadata": {
        "colab": {
          "base_uri": "https://localhost:8080/",
          "height": 442
        },
        "id": "S_mWLtjJROYI",
        "outputId": "a4a93515-bce9-4bd5-806d-12e76e40692e"
      },
      "source": [
        "fig = plt.figure(figsize = (7, 7))\n",
        "ax1 = fig.add_subplot(111)\n",
        "ax = sns.barplot(y=concat_test['score'], x=concat_test['index'], hue=concat_test['score_name'], palette=['tab:blue','tab:green'])\n",
        "plt.xlabel('Score')\n",
        "plt.ylabel('Value')\n",
        "plt.legend(loc = 'upper left')\n",
        "ax = plt.xticks()"
      ],
      "execution_count": 64,
      "outputs": [
        {
          "output_type": "display_data",
          "data": {
            "image/png": "[encoded data removed]",
            "text/plain": [
              "<Figure size 504x504 with 1 Axes>"
            ]
          },
          "metadata": {
            "tags": [],
            "needs_background": "light"
          }
        }
      ]
    },
    {
      "cell_type": "code",
      "metadata": {
        "id": "W4CYR3O9R6kW"
      },
      "source": [
        ""
      ],
      "execution_count": null,
      "outputs": []
    }
  ]
}